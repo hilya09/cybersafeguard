{
 "cells": [
  {
   "cell_type": "markdown",
   "id": "d18e160a",
   "metadata": {
    "id": "d18e160a"
   },
   "source": [
    "# Learning-Based Closed Domain Chatbot (Deep Learning)\n",
    "---\n"
   ]
  },
  {
   "cell_type": "markdown",
   "id": "9ZsdBYNrTfgg",
   "metadata": {
    "id": "9ZsdBYNrTfgg"
   },
   "source": [
    "# 01 Import Library"
   ]
  },
  {
   "cell_type": "markdown",
   "id": "MZMVLNyqYTCK",
   "metadata": {
    "id": "MZMVLNyqYTCK"
   },
   "source": [
    "Tahapan pertama sebelum melakukan eksplorasi dan praproses pada data adalah memasukan library yang akan digunakan untuk menganalisa dataset dengan menggunakan metode Deep Learning seperti Neural Network dalam pengolahan teks, Chatbot dll. Library yang saya gunakan yaitu NumPy untuk komputasi matematika, Matplotlib untuk visualisasi model data, Natural Language Toolkit atau NLTK untuk pengolahan teks, Pandas untuk membaca data, serta Tensorflow untuk model pada data menggunakan algoritma LSTM dan Jaringan Syaraf Tiruan (Neural Network)."
   ]
  },
  {
   "cell_type": "code",
   "execution_count": 1,
   "id": "df6e6af3",
   "metadata": {
    "id": "df6e6af3"
   },
   "outputs": [],
   "source": [
    "# Import Libraries\n",
    "import json\n",
    "import nltk\n",
    "import time\n",
    "import random\n",
    "import string\n",
    "import pickle\n",
    "import numpy as np\n",
    "import pandas as pd\n",
    "from gtts import gTTS\n",
    "from io import BytesIO\n",
    "import tensorflow as tf\n",
    "import IPython.display as ipd\n",
    "import speech_recognition as sr \n",
    "import matplotlib.pyplot as plt\n",
    "from nltk.stem import WordNetLemmatizer\n",
    "from tensorflow.keras.models import Model\n",
    "from keras.utils.vis_utils import plot_model\n",
    "from sklearn.preprocessing import LabelEncoder\n",
    "from tensorflow.keras.preprocessing.text import Tokenizer\n",
    "from tensorflow.keras.layers import Input, Embedding, LSTM\n",
    "from tensorflow.keras.preprocessing.sequence import pad_sequences\n",
    "from tensorflow.keras.layers import Flatten, Dense, GlobalMaxPool1D"
   ]
  },
  {
   "cell_type": "markdown",
   "id": "XFqXivzfTGhq",
   "metadata": {
    "id": "XFqXivzfTGhq"
   },
   "source": [
    "Download NLTK Package"
   ]
  },
  {
   "cell_type": "code",
   "execution_count": 2,
   "id": "ZFHfBZ3mO1QE",
   "metadata": {
    "colab": {
     "base_uri": "https://localhost:8080/"
    },
    "id": "ZFHfBZ3mO1QE",
    "outputId": "1a8b138a-6720-480a-f8b7-36de4dbf655a"
   },
   "outputs": [
    {
     "name": "stderr",
     "output_type": "stream",
     "text": [
      "[nltk_data] Downloading package punkt to\n",
      "[nltk_data]     C:\\Users\\hilya\\AppData\\Roaming\\nltk_data...\n",
      "[nltk_data]   Package punkt is already up-to-date!\n",
      "[nltk_data] Downloading package wordnet to\n",
      "[nltk_data]     C:\\Users\\hilya\\AppData\\Roaming\\nltk_data...\n",
      "[nltk_data]   Package wordnet is already up-to-date!\n",
      "[nltk_data] Downloading package omw-1.4 to\n",
      "[nltk_data]     C:\\Users\\hilya\\AppData\\Roaming\\nltk_data...\n",
      "[nltk_data]   Package omw-1.4 is already up-to-date!\n"
     ]
    },
    {
     "data": {
      "text/plain": [
       "True"
      ]
     },
     "execution_count": 2,
     "metadata": {},
     "output_type": "execute_result"
    }
   ],
   "source": [
    "# Package sentence tokenizer\n",
    "nltk.download('punkt') \n",
    "# Package lemmatization\n",
    "nltk.download('wordnet')\n",
    "# Package multilingual wordnet data\n",
    "nltk.download('omw-1.4')"
   ]
  },
  {
   "cell_type": "markdown",
   "id": "xaowz3BO9B8l",
   "metadata": {
    "id": "xaowz3BO9B8l"
   },
   "source": [
    "# 02 Data Acquisition\n",
    "\n",
    "Setelah kita mengetahui apa saja alur yang digunakan untuk membuat proyek AI Chatbot maka tahapan selanjutnya adalah mengunduh atau download dataset dari GitHub milik Fendy Hendriyanto pada bagian repository AI Chatbot. Link: [Chatbot-AI](https://github.com/fendy07/chatbot-AI)"
   ]
  },
  {
   "cell_type": "markdown",
   "id": "gLGpuyY9aMwW",
   "metadata": {
    "id": "gLGpuyY9aMwW"
   },
   "source": [
    "**Load Dataset Json**\n",
    "\n",
    "Setelah import library, tahapan selanjutnya adalah me-load dataset yang telah disediakan. Dataset yang digunakan berupa format **.json** yang sangat cocok untuk membuat model Chatbot. \n",
    "\n",
    "Data Json merupakan data yang termasuk dalam *semi structured* yang dimana data ini menampung beberapa bagian data seperti **tag**, **pattern**, **context**, dan **response**. Data yang dipakai dalam proyek ini menggunakan dataset manual yang diciptakan oleh student Kampus Merdeka Batch 2 tentang <b>Chatbot Sistem Rekomendasi Kampus Merdeka</b>. [Github](https://github.com/mahmudwhd/WebKadekBot)"
   ]
  },
  {
   "cell_type": "code",
   "execution_count": 3,
   "id": "JD4ILKqFZ_hf",
   "metadata": {
    "id": "JD4ILKqFZ_hf"
   },
   "outputs": [],
   "source": [
    "# Importing the dataset\n",
    "with open('safebot.json') as content:\n",
    "  data1 = json.load(content)\n",
    "\n",
    "# Mendapatkan semua data ke dalam list\n",
    "tags = [] # data tag\n",
    "inputs = [] # data input atau pattern\n",
    "responses = {} # data respon\n",
    "words = [] # Data kata \n",
    "classes = [] # Data Kelas atau Tag\n",
    "documents = [] # Data Kalimat Dokumen\n",
    "ignore_words = ['?', '!'] # Mengabaikan tanda spesial karakter\n",
    "\n",
    "for intent in data1['intents']:\n",
    "  responses[intent['tag']]=intent['responses']\n",
    "  for lines in intent['patterns']:\n",
    "    inputs.append(lines)\n",
    "    tags.append(intent['tag'])\n",
    "    for pattern in intent['patterns']:\n",
    "      w = nltk.word_tokenize(pattern)\n",
    "      words.extend(w)\n",
    "      documents.append((w, intent['tag']))\n",
    "      # add to our classes list\n",
    "      if intent['tag'] not in classes:\n",
    "        classes.append(intent['tag'])\n",
    "\n",
    "# Konversi data json ke dalam dataframe\n",
    "data = pd.DataFrame({\"patterns\":inputs, \"tags\":tags})"
   ]
  },
  {
   "cell_type": "code",
   "execution_count": 4,
   "id": "5N0s7BObcv5-",
   "metadata": {
    "colab": {
     "base_uri": "https://localhost:8080/",
     "height": 423
    },
    "id": "5N0s7BObcv5-",
    "outputId": "b068e17c-1af6-410e-b61e-423c7e229b41"
   },
   "outputs": [
    {
     "data": {
      "text/html": [
       "<div>\n",
       "<style scoped>\n",
       "    .dataframe tbody tr th:only-of-type {\n",
       "        vertical-align: middle;\n",
       "    }\n",
       "\n",
       "    .dataframe tbody tr th {\n",
       "        vertical-align: top;\n",
       "    }\n",
       "\n",
       "    .dataframe thead th {\n",
       "        text-align: right;\n",
       "    }\n",
       "</style>\n",
       "<table border=\"1\" class=\"dataframe\">\n",
       "  <thead>\n",
       "    <tr style=\"text-align: right;\">\n",
       "      <th></th>\n",
       "      <th>patterns</th>\n",
       "      <th>tags</th>\n",
       "    </tr>\n",
       "  </thead>\n",
       "  <tbody>\n",
       "    <tr>\n",
       "      <th>0</th>\n",
       "      <td>hallo</td>\n",
       "      <td>greeting</td>\n",
       "    </tr>\n",
       "    <tr>\n",
       "      <th>1</th>\n",
       "      <td>hai</td>\n",
       "      <td>greeting</td>\n",
       "    </tr>\n",
       "    <tr>\n",
       "      <th>2</th>\n",
       "      <td>halo</td>\n",
       "      <td>greeting</td>\n",
       "    </tr>\n",
       "    <tr>\n",
       "      <th>3</th>\n",
       "      <td>hei</td>\n",
       "      <td>greeting</td>\n",
       "    </tr>\n",
       "    <tr>\n",
       "      <th>4</th>\n",
       "      <td>hi</td>\n",
       "      <td>greeting</td>\n",
       "    </tr>\n",
       "    <tr>\n",
       "      <th>...</th>\n",
       "      <td>...</td>\n",
       "      <td>...</td>\n",
       "    </tr>\n",
       "    <tr>\n",
       "      <th>214</th>\n",
       "      <td>Bagaimana mencegah serangan pada WiFi rumah?</td>\n",
       "      <td>jaringan_wifi</td>\n",
       "    </tr>\n",
       "    <tr>\n",
       "      <th>215</th>\n",
       "      <td>Bagaimana cara beraktivitas di dunia maya deng...</td>\n",
       "      <td>safe_online_activities</td>\n",
       "    </tr>\n",
       "    <tr>\n",
       "      <th>216</th>\n",
       "      <td>Bagaimana cara menjaga keamanan saat berintera...</td>\n",
       "      <td>safe_online_activities</td>\n",
       "    </tr>\n",
       "    <tr>\n",
       "      <th>217</th>\n",
       "      <td>Apa tips untuk beraktivitas di dunia maya deng...</td>\n",
       "      <td>safe_online_activities</td>\n",
       "    </tr>\n",
       "    <tr>\n",
       "      <th>218</th>\n",
       "      <td>tolong berikan tips untuk beraktivitas di duni...</td>\n",
       "      <td>safe_online_activities</td>\n",
       "    </tr>\n",
       "  </tbody>\n",
       "</table>\n",
       "<p>219 rows × 2 columns</p>\n",
       "</div>"
      ],
      "text/plain": [
       "                                              patterns                    tags\n",
       "0                                                hallo                greeting\n",
       "1                                                  hai                greeting\n",
       "2                                                 halo                greeting\n",
       "3                                                  hei                greeting\n",
       "4                                                   hi                greeting\n",
       "..                                                 ...                     ...\n",
       "214       Bagaimana mencegah serangan pada WiFi rumah?           jaringan_wifi\n",
       "215  Bagaimana cara beraktivitas di dunia maya deng...  safe_online_activities\n",
       "216  Bagaimana cara menjaga keamanan saat berintera...  safe_online_activities\n",
       "217  Apa tips untuk beraktivitas di dunia maya deng...  safe_online_activities\n",
       "218  tolong berikan tips untuk beraktivitas di duni...  safe_online_activities\n",
       "\n",
       "[219 rows x 2 columns]"
      ]
     },
     "execution_count": 4,
     "metadata": {},
     "output_type": "execute_result"
    }
   ],
   "source": [
    "# Cetak data keseluruhan\n",
    "data "
   ]
  },
  {
   "cell_type": "code",
   "execution_count": 5,
   "id": "5DFoJwcVdP52",
   "metadata": {
    "colab": {
     "base_uri": "https://localhost:8080/",
     "height": 206
    },
    "id": "5DFoJwcVdP52",
    "outputId": "cc878daa-17f7-4b68-abb6-6a3c38bec113"
   },
   "outputs": [
    {
     "data": {
      "text/html": [
       "<div>\n",
       "<style scoped>\n",
       "    .dataframe tbody tr th:only-of-type {\n",
       "        vertical-align: middle;\n",
       "    }\n",
       "\n",
       "    .dataframe tbody tr th {\n",
       "        vertical-align: top;\n",
       "    }\n",
       "\n",
       "    .dataframe thead th {\n",
       "        text-align: right;\n",
       "    }\n",
       "</style>\n",
       "<table border=\"1\" class=\"dataframe\">\n",
       "  <thead>\n",
       "    <tr style=\"text-align: right;\">\n",
       "      <th></th>\n",
       "      <th>patterns</th>\n",
       "      <th>tags</th>\n",
       "    </tr>\n",
       "  </thead>\n",
       "  <tbody>\n",
       "    <tr>\n",
       "      <th>0</th>\n",
       "      <td>hallo</td>\n",
       "      <td>greeting</td>\n",
       "    </tr>\n",
       "    <tr>\n",
       "      <th>1</th>\n",
       "      <td>hai</td>\n",
       "      <td>greeting</td>\n",
       "    </tr>\n",
       "    <tr>\n",
       "      <th>2</th>\n",
       "      <td>halo</td>\n",
       "      <td>greeting</td>\n",
       "    </tr>\n",
       "    <tr>\n",
       "      <th>3</th>\n",
       "      <td>hei</td>\n",
       "      <td>greeting</td>\n",
       "    </tr>\n",
       "    <tr>\n",
       "      <th>4</th>\n",
       "      <td>hi</td>\n",
       "      <td>greeting</td>\n",
       "    </tr>\n",
       "  </tbody>\n",
       "</table>\n",
       "</div>"
      ],
      "text/plain": [
       "  patterns      tags\n",
       "0    hallo  greeting\n",
       "1      hai  greeting\n",
       "2     halo  greeting\n",
       "3      hei  greeting\n",
       "4       hi  greeting"
      ]
     },
     "execution_count": 5,
     "metadata": {},
     "output_type": "execute_result"
    }
   ],
   "source": [
    "# Cetak data baris pertama sampai baris kelima\n",
    "data.head() "
   ]
  },
  {
   "cell_type": "code",
   "execution_count": 6,
   "id": "HksM_GGVdenI",
   "metadata": {
    "colab": {
     "base_uri": "https://localhost:8080/",
     "height": 206
    },
    "id": "HksM_GGVdenI",
    "outputId": "1a2afc53-a4da-4018-ab94-e4834ddc11de"
   },
   "outputs": [
    {
     "data": {
      "text/html": [
       "<div>\n",
       "<style scoped>\n",
       "    .dataframe tbody tr th:only-of-type {\n",
       "        vertical-align: middle;\n",
       "    }\n",
       "\n",
       "    .dataframe tbody tr th {\n",
       "        vertical-align: top;\n",
       "    }\n",
       "\n",
       "    .dataframe thead th {\n",
       "        text-align: right;\n",
       "    }\n",
       "</style>\n",
       "<table border=\"1\" class=\"dataframe\">\n",
       "  <thead>\n",
       "    <tr style=\"text-align: right;\">\n",
       "      <th></th>\n",
       "      <th>patterns</th>\n",
       "      <th>tags</th>\n",
       "    </tr>\n",
       "  </thead>\n",
       "  <tbody>\n",
       "    <tr>\n",
       "      <th>214</th>\n",
       "      <td>Bagaimana mencegah serangan pada WiFi rumah?</td>\n",
       "      <td>jaringan_wifi</td>\n",
       "    </tr>\n",
       "    <tr>\n",
       "      <th>215</th>\n",
       "      <td>Bagaimana cara beraktivitas di dunia maya deng...</td>\n",
       "      <td>safe_online_activities</td>\n",
       "    </tr>\n",
       "    <tr>\n",
       "      <th>216</th>\n",
       "      <td>Bagaimana cara menjaga keamanan saat berintera...</td>\n",
       "      <td>safe_online_activities</td>\n",
       "    </tr>\n",
       "    <tr>\n",
       "      <th>217</th>\n",
       "      <td>Apa tips untuk beraktivitas di dunia maya deng...</td>\n",
       "      <td>safe_online_activities</td>\n",
       "    </tr>\n",
       "    <tr>\n",
       "      <th>218</th>\n",
       "      <td>tolong berikan tips untuk beraktivitas di duni...</td>\n",
       "      <td>safe_online_activities</td>\n",
       "    </tr>\n",
       "  </tbody>\n",
       "</table>\n",
       "</div>"
      ],
      "text/plain": [
       "                                              patterns                    tags\n",
       "214       Bagaimana mencegah serangan pada WiFi rumah?           jaringan_wifi\n",
       "215  Bagaimana cara beraktivitas di dunia maya deng...  safe_online_activities\n",
       "216  Bagaimana cara menjaga keamanan saat berintera...  safe_online_activities\n",
       "217  Apa tips untuk beraktivitas di dunia maya deng...  safe_online_activities\n",
       "218  tolong berikan tips untuk beraktivitas di duni...  safe_online_activities"
      ]
     },
     "execution_count": 6,
     "metadata": {},
     "output_type": "execute_result"
    }
   ],
   "source": [
    "# Cetak data baris ke-70 sampai baris akhir\n",
    "data.tail() "
   ]
  },
  {
   "cell_type": "markdown",
   "id": "vHnr2WFvebeJ",
   "metadata": {
    "id": "vHnr2WFvebeJ"
   },
   "source": [
    "# 03 Preprocessing The Data\n",
    "\n",
    "Setelah kita meload data dan mengonversi data json menjadi dataframe. Tahapan selanjutnya adalah praproses pada dataset yang kita gunakan saat ini yaitu dengan cara:\n",
    "\n",
    "![Praproses.png](data:image/png;base64,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)\n",
    "\n",
    "1.   Remove Punctuations (Menghapus Punktuasi)\n",
    "2.   Lematization (Lematisasi)\n",
    "3.   Tokenization (Tokenisasi)\n",
    "4.   Apply Padding (Padding)\n",
    "5.   Encoding the Outputs (Konversi Keluaran Enkoding)\n",
    "\n",
    "Kelima tahapan pemrosesan teks ini dijelaskan pada bagian langkah selanjutnya."
   ]
  },
  {
   "cell_type": "markdown",
   "id": "u_04NeXTIImg",
   "metadata": {
    "id": "u_04NeXTIImg"
   },
   "source": [
    "## Remove Punctuations\n",
    "\n",
    "Tahapan praproses pada data teks yang pertama adalah menghapus punktuasi atau tanda baca seperti *special character* yaitu **'!'** (**tanda seru**) **','** (**tanda koma**) **'.'** (**tanda titik sebagai berhenti**) '**?**' (**tanda tanya**) dan tanda baca yang lain. Tahapan ini gunanya untuk mempermudah pemrosesan data teks yang akan kita olah."
   ]
  },
  {
   "cell_type": "code",
   "execution_count": 7,
   "id": "Gh-7EtrfhQgY",
   "metadata": {
    "id": "Gh-7EtrfhQgY"
   },
   "outputs": [],
   "source": [
    "# Removing Punctuations (Menghilangkan Punktuasi)\n",
    "data['patterns'] = data['patterns'].apply(lambda wrd:[ltrs.lower() for ltrs in wrd if ltrs not in string.punctuation])\n",
    "data['patterns'] = data['patterns'].apply(lambda wrd: ''.join(wrd))"
   ]
  },
  {
   "cell_type": "markdown",
   "id": "5brR-qBLJDa_",
   "metadata": {
    "id": "5brR-qBLJDa_"
   },
   "source": [
    "## Lemmatization (Lematisasi)\n",
    "\n",
    "Setelah menghapus punktuasi atau tanda baca, tahapan selanjutnya yaitu Lematisasi atau Lemmatization. **Apa itu Lematisasi?**\n",
    "\n",
    "Lematisasi atau Lemmatization adalah proses dimana merujuk pada melakukan sesuatu menggunakan vocabulary atau kosakata dan analisis morfologi kata-kata untuk menghilangkan *inflectional endings only* dan untuk mengembalikan bentuk *dictionary* (kata dalam kamus) dari sebuah kata yang dikenal sebagai ***lemma***. \n",
    "\n",
    "Contoh Lematisasi : **Menggunakan** (Kata Imbuhan) -> **Guna** (Kata Dasar) \n",
    "\n",
    "Dalam contoh berikut proses lematisasi awalnya data teks menggunakan kata imbuhan yaitu **Menggunakan** dimana **meng-** + **guna** (kata dasar yang berawalan vokal g) + **kan** (sebagai akhiran) diubah menjadi kata dasar yaitu '**Guna**'. \n",
    "\n",
    "Proses ini dimana menghilangkan Prefiks pada imbuhan (**Meng-**) dan Suffiks pada (**-kan**)."
   ]
  },
  {
   "cell_type": "code",
   "execution_count": 8,
   "id": "22MVRGBsO9gX",
   "metadata": {
    "colab": {
     "base_uri": "https://localhost:8080/"
    },
    "id": "22MVRGBsO9gX",
    "outputId": "1ccd3caa-1b13-43d0-f97a-0bd37f8606dd"
   },
   "outputs": [
    {
     "name": "stdout",
     "output_type": "stream",
     "text": [
      "139 unique lemmatized words ['(', ')', ',', '.', 'ada', 'afternoon', 'aja', 'aman', 'anak', 'apa', 'atau', 'bagaimana', 'bai', 'banyak', 'bentuk', 'beraktivitas', 'berikan', 'berinteraksi', 'bersifat', 'bikinan', 'bisa', 'bro', 'buat', 'buatan', 'bye', 'byee', 'cara', 'ciri-ciri', 'contoh', 'cyberbullying', 'cybercrime', 'dadah', 'dah', 'dari', 'data', 'ddos', 'dengan', 'denial-of-service', 'di', 'dilakukan', 'diri', 'distributed', 'dunia', 'email', 'emang', 'good', 'hai', 'hallo', 'halo', 'harus', 'hei', 'hi', 'hy', 'identitas', 'ilegal', 'informasi', 'itu', 'jaringan', 'jenis', 'jika', 'jumpa', 'kamu', 'kasih', 'kawan', 'keamanan', 'kejahatan', 'keuangan', 'kita', 'konten', 'lakukan', 'lo', 'makasih', 'malam', 'malware', 'maya', 'melalui', 'melindungi', 'memastikan', 'meminta', 'mencegah', 'menerima', 'mengatasi', 'mengetahui', 'menghentikan', 'menghindari', 'menjaga', 'merima', 'minta', 'morning', 'ok', 'online', 'pada', 'pagi', 'palsu', 'pelanggaran', 'pembuatmu', 'penciptamu', 'pencurian', 'penipuan', 'penyebaran', 'peretasan', 'pesan', 'phishing', 'pribadi', 'privasi', 'ransomware', 'rumah', 'saat', 'safebot', 'saja', 'sampai', 'saya', 'sebutkan', 'secara', 'see', 'seksual', 'selamat', 'sensitif', 'seperti', 'serangan', 'si', 'siang', 'siapa', 'siber', 'sih', 'sore', 'terhindar', 'terima', 'termasuk', 'teroris', 'thank', 'thanks', 'tinggal', 'tip', 'tolong', 'untuk', 'wifi', 'yang', 'you']\n"
     ]
    }
   ],
   "source": [
    "lemmatizer = WordNetLemmatizer()\n",
    "words = [lemmatizer.lemmatize(w.lower()) for w in words if w not in ignore_words]\n",
    "words = sorted(list(set(words)))\n",
    "\n",
    "print (len(words), \"unique lemmatized words\", words)"
   ]
  },
  {
   "cell_type": "markdown",
   "id": "zmZpqovQE1Zb",
   "metadata": {
    "id": "zmZpqovQE1Zb"
   },
   "source": [
    "### Menyortir Data Kelas Tags"
   ]
  },
  {
   "cell_type": "code",
   "execution_count": 9,
   "id": "TK_v4Zw5P8rn",
   "metadata": {
    "colab": {
     "base_uri": "https://localhost:8080/"
    },
    "id": "TK_v4Zw5P8rn",
    "outputId": "739a5170-9d3f-45bf-e19b-a73fe6de5e2d"
   },
   "outputs": [
    {
     "name": "stdout",
     "output_type": "stream",
     "text": [
      "44 classes ['Safebot', 'ciri_ddos', 'ciri_malware', 'ciri_phishing', 'ciri_ransomware', 'contoh_cybercrime', 'cyberbullying', 'cyberbullying_prevention', 'cybercrime', 'data_pribadi', 'ddos', 'ddos_prevented', 'goodbye', 'greeting', 'identitas_palsu', 'identity_theft_prevented', 'illegal_content_prevented', 'jaringan_wifi', 'kejahatan_seks', 'kejahatan_siber_anak_prevention', 'keuangan_online', 'konten_ilegal', 'malware', 'malware_prevented', 'network_hacking_prevention', 'online_financial_fraud_prevention', 'online_scam_prevented', 'online_sexual_crime_prevention', 'online_terrorism_prevention', 'pelanggaran_privacy', 'pencipta', 'pencurian_identitas', 'penipuan_online', 'phishing', 'phishing_case', 'phishing_prevented', 'privacy_breach_prevented', 'ransomware', 'ransomware_prevented', 'retas_jaringan', 'safe_online_activities', 'siber_anak', 'terimakasih', 'teroris_online']\n"
     ]
    }
   ],
   "source": [
    "# sort classes\n",
    "classes = sorted(list(set(classes)))\n",
    "print (len(classes), \"classes\", classes)"
   ]
  },
  {
   "cell_type": "markdown",
   "id": "u8s3ZKI9FCwo",
   "metadata": {
    "id": "u8s3ZKI9FCwo"
   },
   "source": [
    "### Mencari Jumlah Keseluruhan Data Teks"
   ]
  },
  {
   "cell_type": "code",
   "execution_count": 10,
   "id": "Tv5lLFn1QCDP",
   "metadata": {
    "colab": {
     "base_uri": "https://localhost:8080/"
    },
    "id": "Tv5lLFn1QCDP",
    "outputId": "6b2ed1d9-c4f8-42f9-a0bb-acae5db50f7b"
   },
   "outputs": [
    {
     "name": "stdout",
     "output_type": "stream",
     "text": [
      "1441 documents\n"
     ]
    }
   ],
   "source": [
    "# documents = combination between patterns and intents\n",
    "print (len(documents), \"documents\")"
   ]
  },
  {
   "cell_type": "markdown",
   "id": "sVdv1gW5N7a6",
   "metadata": {
    "id": "sVdv1gW5N7a6"
   },
   "source": [
    "## Tokenization (Tokenisasi)\n",
    "\n",
    "Setelah proses lematisasi dan mencari tahu data classes dan jumlah keseluruhan data patterns dengan intents-nya. Maka, tahapan selanjutnya proses tokenisasi. **Apa itu Tokenisasi?**\n",
    "\n",
    "Tokenisasi adalah suatu proses memberikan urutan karakter dan sebuah unit dokumen terdefinisi. Tokenisasi juga merupakan tugas untuk memecah kalimat menjadi bagian-bagian yang disebut dengan '**Token**' dan menghilangkan bagian tertentu seperti tanda baca.\n",
    "\n",
    "Contohnya: **Aku Pergi Ke Makassar** -> '**Aku**' '**Pergi**' '**Ke**' '**Makassar**'"
   ]
  },
  {
   "cell_type": "code",
   "execution_count": 11,
   "id": "Xr5aehymeQdi",
   "metadata": {
    "colab": {
     "base_uri": "https://localhost:8080/"
    },
    "id": "Xr5aehymeQdi",
    "outputId": "de5aa76e-f55d-487f-e3b2-0773eccf9190"
   },
   "outputs": [
    {
     "data": {
      "text/plain": [
       "[[84],\n",
       " [85],\n",
       " [86],\n",
       " [87],\n",
       " [88],\n",
       " [89],\n",
       " [90],\n",
       " [91],\n",
       " [92],\n",
       " [93],\n",
       " [94],\n",
       " [95],\n",
       " [96],\n",
       " [97],\n",
       " [98],\n",
       " [99],\n",
       " [100],\n",
       " [60],\n",
       " [101],\n",
       " [102, 60],\n",
       " [103, 104],\n",
       " [105, 106],\n",
       " [107],\n",
       " [108, 71],\n",
       " [109, 60],\n",
       " [110],\n",
       " [111, 71],\n",
       " [72, 73],\n",
       " [112],\n",
       " [72, 73, 113],\n",
       " [1, 2, 74],\n",
       " [49, 74],\n",
       " [49, 114],\n",
       " [49, 3, 9, 115, 75],\n",
       " [75, 116, 49],\n",
       " [117, 118, 49],\n",
       " [49, 119],\n",
       " [29, 2, 1],\n",
       " [4, 10, 2, 1, 3],\n",
       " [5, 29, 2, 1, 3],\n",
       " [1, 2, 29],\n",
       " [4, 10, 5, 1],\n",
       " [4, 25, 26, 5, 1],\n",
       " [1, 2, 4, 25, 26],\n",
       " [29, 2, 1, 3],\n",
       " [4, 10, 2, 1, 3],\n",
       " [12, 50, 2, 1],\n",
       " [12, 50, 2, 1, 3],\n",
       " [5, 12, 50, 2, 1, 3],\n",
       " [12, 50, 5, 1],\n",
       " [12, 50, 5, 1, 3],\n",
       " [1, 2, 12, 50],\n",
       " [1, 30, 9, 61, 53, 43, 9, 54, 55],\n",
       " [1, 30, 3, 9, 61, 53, 43, 9, 54, 55],\n",
       " [53, 43, 9, 54, 55, 2, 1, 30],\n",
       " [31, 44, 1, 30, 9, 61, 53, 43, 9, 54, 55],\n",
       " [53, 43, 9, 54, 55, 2, 1, 30, 3],\n",
       " [1, 32, 3, 62, 8, 29],\n",
       " [1, 32, 3, 62, 8, 4, 25, 26],\n",
       " [1, 32, 3, 62, 8, 4, 10],\n",
       " [1, 32, 3, 63, 8, 29],\n",
       " [1, 32, 3, 63, 8, 4, 25, 26],\n",
       " [1, 32, 3, 63, 8, 4, 10],\n",
       " [29, 2, 64, 1],\n",
       " [4, 10, 2, 64, 1],\n",
       " [4, 25, 26, 2, 64, 1],\n",
       " [1, 32, 3, 51, 8, 29],\n",
       " [31, 44, 51, 8, 29],\n",
       " [1, 32, 3, 51, 8, 4, 25, 26],\n",
       " [31, 44, 51, 8, 4, 25, 26],\n",
       " [1, 32, 3, 51, 8, 4, 10],\n",
       " [31, 44, 51, 8, 4, 10],\n",
       " [16, 7, 2, 1],\n",
       " [16, 7, 2, 1, 3],\n",
       " [5, 16, 7, 2, 1, 3],\n",
       " [16, 7, 5, 1],\n",
       " [16, 7, 5, 1, 3],\n",
       " [1, 2, 16, 7],\n",
       " [6, 11, 76, 16, 7],\n",
       " [6, 14, 16, 7],\n",
       " [6, 17, 8, 16, 7],\n",
       " [33, 12, 2, 1],\n",
       " [33, 12, 2, 1, 3],\n",
       " [5, 33, 12, 2, 1, 3],\n",
       " [33, 12, 5, 1],\n",
       " [33, 12, 5, 1, 3],\n",
       " [1, 2, 33, 12],\n",
       " [6, 11, 15, 24, 8, 33, 12],\n",
       " [6, 17, 8, 33, 12],\n",
       " [6, 14, 33, 12],\n",
       " [34, 2, 1],\n",
       " [34, 2, 1, 3],\n",
       " [5, 34, 2, 1, 3],\n",
       " [34, 5, 1],\n",
       " [34, 5, 1, 3],\n",
       " [1, 2, 34],\n",
       " [6, 11, 120, 34],\n",
       " [6, 15, 24, 8, 34],\n",
       " [1, 9, 56, 52, 45, 121, 34],\n",
       " [46, 35, 2, 1],\n",
       " [46, 35, 2, 1, 3],\n",
       " [5, 46, 35, 2, 1, 3],\n",
       " [46, 35, 5, 1],\n",
       " [46, 35, 5, 1, 3],\n",
       " [1, 2, 46, 35],\n",
       " [6, 11, 15, 35, 47],\n",
       " [6, 17, 8, 46, 35],\n",
       " [6, 14, 46, 35],\n",
       " [36, 37, 38, 2, 1],\n",
       " [36, 37, 38, 2, 1, 3],\n",
       " [5, 36, 37, 38, 2, 1, 3],\n",
       " [36, 37, 38, 5, 1],\n",
       " [36, 37, 38, 5, 1, 3],\n",
       " [1, 2, 36, 37, 38],\n",
       " [6, 11, 14, 36, 37, 38],\n",
       " [6, 15, 24, 8, 36, 37, 38],\n",
       " [6, 17, 8, 36, 37, 38],\n",
       " [39, 27, 2, 1],\n",
       " [39, 27, 2, 1, 3],\n",
       " [5, 39, 27, 2, 1, 3],\n",
       " [39, 27, 5, 1],\n",
       " [39, 27, 5, 1, 3],\n",
       " [1, 2, 39, 27],\n",
       " [6, 11, 15, 24, 8, 39, 27],\n",
       " [6, 17, 8, 13, 39, 27],\n",
       " [1, 9, 56, 52, 45, 14, 39, 27],\n",
       " [4, 40, 7, 2, 1],\n",
       " [4, 40, 7, 2, 1, 3],\n",
       " [5, 4, 40, 7, 2, 1, 3],\n",
       " [4, 40, 7, 5, 1],\n",
       " [4, 40, 7, 5, 1, 3],\n",
       " [1, 2, 4, 40, 7],\n",
       " [6, 11, 15, 24, 8, 16, 40, 7],\n",
       " [6, 17, 8, 16, 40, 7],\n",
       " [1, 9, 56, 52, 45, 14, 16, 40, 7],\n",
       " [4, 10, 28, 2, 1],\n",
       " [4, 10, 28, 2, 1, 3],\n",
       " [5, 4, 10, 28, 2, 1, 3],\n",
       " [4, 10, 28, 5, 1],\n",
       " [4, 10, 28, 5, 1, 3],\n",
       " [1, 2, 4, 10, 28],\n",
       " [6, 11, 15, 28, 8, 4, 10, 28],\n",
       " [6, 14, 4, 10, 28],\n",
       " [1, 9, 56, 52, 45, 76, 4, 10, 28],\n",
       " [4, 41, 7, 2, 1],\n",
       " [4, 41, 7, 2, 1, 3],\n",
       " [5, 4, 41, 7, 2, 1, 3],\n",
       " [4, 41, 7, 5, 1],\n",
       " [4, 41, 7, 5, 1, 3],\n",
       " [1, 2, 4, 41, 7],\n",
       " [6, 11, 15, 24, 8, 4, 41, 7],\n",
       " [6, 17, 8, 4, 41, 7],\n",
       " [1, 9, 57, 52, 45, 14, 4, 41, 7],\n",
       " [4, 42, 7, 2, 1],\n",
       " [4, 42, 7, 2, 1, 3],\n",
       " [5, 4, 42, 7, 2, 1, 3],\n",
       " [4, 42, 7, 5, 1],\n",
       " [4, 42, 7, 5, 1, 3],\n",
       " [1, 2, 4, 42, 7],\n",
       " [6, 11, 15, 24, 8, 4, 42, 7],\n",
       " [6, 17, 8, 4, 42, 7],\n",
       " [1, 9, 57, 52, 45, 14, 4, 42, 7],\n",
       " [18, 2, 1],\n",
       " [18, 2, 1, 3],\n",
       " [5, 18, 2, 1, 3],\n",
       " [18, 5, 1],\n",
       " [18, 5, 1, 3],\n",
       " [1, 2, 18],\n",
       " [6, 58, 59, 18],\n",
       " [1, 30, 48, 18],\n",
       " [31, 44, 48, 18],\n",
       " [6, 11, 15, 24, 8, 13, 18],\n",
       " [6, 17, 8, 13, 18],\n",
       " [6, 14, 13, 18],\n",
       " [47, 122, 65, 9, 77, 66, 43, 47, 1, 9, 57, 47, 78],\n",
       " [79, 47, 123, 65, 9, 124, 66, 43, 47, 1, 9, 57, 47, 78],\n",
       " [6, 79, 125, 9, 77, 66, 43, 47, 126, 127, 128, 65],\n",
       " [19, 2, 1],\n",
       " [19, 2, 1, 3],\n",
       " [5, 19, 2, 1, 3],\n",
       " [19, 5, 1],\n",
       " [19, 5, 1, 3],\n",
       " [1, 2, 19],\n",
       " [6, 58, 59, 13, 19],\n",
       " [1, 30, 48, 19],\n",
       " [31, 44, 48, 19],\n",
       " [6, 11, 15, 24, 8, 13, 19],\n",
       " [6, 17, 8, 13, 19],\n",
       " [6, 14, 13, 19],\n",
       " [20, 21, 22, 2, 1],\n",
       " [20, 21, 22, 2, 1, 3],\n",
       " [5, 20, 21, 22, 2, 1, 3],\n",
       " [20, 21, 22, 5, 1],\n",
       " [20, 21, 22, 5, 1, 3],\n",
       " [1, 2, 20, 21, 22],\n",
       " [6, 11, 15, 24, 8, 13, 20, 21, 22],\n",
       " [6, 17, 8, 13, 20, 21, 22],\n",
       " [6, 14, 13, 20, 21, 22],\n",
       " [6, 58, 59, 4, 20, 21, 22],\n",
       " [1, 30, 48, 20, 21, 22],\n",
       " [31, 44, 48, 20, 21, 22],\n",
       " [23, 2, 1],\n",
       " [23, 2, 1, 3],\n",
       " [5, 23, 2, 1, 3],\n",
       " [23, 5, 1],\n",
       " [23, 5, 1, 3],\n",
       " [1, 2, 23],\n",
       " [6, 11, 15, 24, 8, 13, 23],\n",
       " [6, 17, 8, 13, 23],\n",
       " [6, 14, 13, 23],\n",
       " [6, 58, 59, 4, 23],\n",
       " [1, 30, 48, 23],\n",
       " [31, 44, 48, 23],\n",
       " [6, 11, 129, 80, 27, 81, 82],\n",
       " [6, 14, 13, 130, 81, 82],\n",
       " [6, 11, 67, 68, 25, 26, 69, 70],\n",
       " [6, 11, 131, 80, 132, 133, 134, 7],\n",
       " [1, 83, 45, 67, 68, 25, 26, 69, 70],\n",
       " [31, 135, 83, 45, 67, 68, 25, 26, 69, 70]]"
      ]
     },
     "execution_count": 11,
     "metadata": {},
     "output_type": "execute_result"
    }
   ],
   "source": [
    "# Tokenize the data (Tokenisasi Data)\n",
    "tokenizer = Tokenizer(num_words=2000)\n",
    "tokenizer.fit_on_texts(data['patterns'])\n",
    "train = tokenizer.texts_to_sequences(data['patterns'])\n",
    "train"
   ]
  },
  {
   "cell_type": "markdown",
   "id": "LfEpFf0hPOUZ",
   "metadata": {
    "id": "LfEpFf0hPOUZ"
   },
   "source": [
    "## Add Padding\n",
    "\n",
    "Setelah memproses tokenisasi yang dimana memecah kalimat menajdi bagian-bagian yang disebut token yang digunakan untuk mengolah data teks pada AI Chatbot maka tahapan selanjutnya adalah Padding.\n",
    "**Apa itu Padding?**\n",
    "\n",
    "**Padding** adalah Suatu proses untuk mengubah setiap sequence agar memiliki panjang yang sama. Pada padding, setiap sequence dibuat sama panjang dengan menambahkan nilai 0 secara suffiks atau prefiks hingga mencapai panjang maksimum sequence. Selain itu padding juga dapat memotong sequence hingga panjangnya sesuai dengan panjang maksimum sequence. \n",
    "\n",
    "Padding juga adalah proses untuk membuat setiap kalimat pada teks memiliki panjang yang seragam. Sama seperti melakukan resize gambar, agar resolusi setiap gambar sama besar. Untuk menggunakan padding bisa impor library **pad_sequence**. Kemudian buat panggil fungsi pad_sequence() dan masukkan sequence hasil tokenisasi sebagai parameternya.\n",
    "\n",
    "Contohnya: `sequences_samapanjang = pad_sequences(sequences)`\n",
    "\n",
    "Yang nantinya akan dikeluarkan menjadi angka dengan awalan 0 seperti gambar dibawah ini.\n",
    "\n",
    "![Padding.jpeg](data:image/jpeg;base64,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)"
   ]
  },
  {
   "cell_type": "code",
   "execution_count": 12,
   "id": "5BQdPUTNvS1t",
   "metadata": {
    "colab": {
     "base_uri": "https://localhost:8080/"
    },
    "id": "5BQdPUTNvS1t",
    "outputId": "3bc9e985-590e-44d4-e034-1af96b3a56e8"
   },
   "outputs": [
    {
     "name": "stdout",
     "output_type": "stream",
     "text": [
      "[[  0   0   0 ...   0   0  84]\n",
      " [  0   0   0 ...   0   0  85]\n",
      " [  0   0   0 ...   0   0  86]\n",
      " ...\n",
      " [  0   0   0 ... 133 134   7]\n",
      " [  0   0   0 ...  26  69  70]\n",
      " [  0   0   0 ...  26  69  70]]\n"
     ]
    }
   ],
   "source": [
    "# Apply padding \n",
    "x_train = pad_sequences(train)\n",
    "print(x_train) # Padding Sequences"
   ]
  },
  {
   "cell_type": "markdown",
   "id": "1Khg-ygkb0nD",
   "metadata": {
    "id": "1Khg-ygkb0nD"
   },
   "source": [
    "Hasil setelah padding adalah setiap sequence memiliki panjang yang sama. Padding dapat melakukan ini dengan menambahkan 0 secara default pada awal sequence yang lebih pendek."
   ]
  },
  {
   "cell_type": "markdown",
   "id": "qY0vxxwBPeJC",
   "metadata": {
    "id": "qY0vxxwBPeJC"
   },
   "source": [
    "## Encoding Text\n",
    "\n",
    "Setelah tahapan proses Padding pada suatu teks maka proses terakhir dalam pemrosesan teks adalah tahapan Encoding. **Apa itu Encoding?**\n",
    "\n",
    "Encoding merupakan suatu konversi atau pengkodean yang dimana data kategorik seperti huruf atau data teks menjadi data numerik atau angka menyesuaikan dengan data label yang digunakan. Pada proses tahapan ini, encoding mengubah data teks pada kolom data tags menjadi data numerik dengan bahasa biner komputer yaitu 0 dan 1. \n",
    "\n",
    "Tujuan dari encoding ini adalah mempermudah saat proses komputasi data teks dan modelling."
   ]
  },
  {
   "cell_type": "code",
   "execution_count": 13,
   "id": "sczq--IpTYWa",
   "metadata": {
    "colab": {
     "base_uri": "https://localhost:8080/"
    },
    "id": "sczq--IpTYWa",
    "outputId": "1d580bd4-927d-4690-c8af-eb31020d1687"
   },
   "outputs": [
    {
     "name": "stdout",
     "output_type": "stream",
     "text": [
      "[13 13 13 13 13 13 13 13 13 13 13 13 13 13 13 12 12 12 12 12 12 12 12 12\n",
      " 12 42 42 42 42 42  0  0 30 30 30 30 30  8  8  8  8  8  8  8  8  8 14 14\n",
      " 14 14 14 14  9  9  9  9  9  5  5  5  5  5  5  5  5  5  5  5  5  5  5  5\n",
      " 32 32 32 32 32 32 26 26 26 31 31 31 31 31 31 15 15 15  6  6  6  6  6  6\n",
      "  7  7  7 29 29 29 29 29 29 36 36 36 21 21 21 21 21 21 16 16 16 39 39 39\n",
      " 39 39 39 24 24 24 20 20 20 20 20 20 25 25 25 41 41 41 41 41 41 19 19 19\n",
      " 18 18 18 18 18 18 27 27 27 43 43 43 43 43 43 28 28 28 33 33 33 33 33 33\n",
      "  3  3  3 35 35 35 34 34 34 22 22 22 22 22 22  2  2  2 23 23 23 10 10 10\n",
      " 10 10 10 11 11 11  1  1  1 37 37 37 37 37 37 38 38 38  4  4  4 17 17 40\n",
      " 40 40 40]\n"
     ]
    }
   ],
   "source": [
    "# Encoding the outputs \n",
    "le = LabelEncoder()\n",
    "y_train = le.fit_transform(data['tags'])\n",
    "print(y_train) #Label Encodings"
   ]
  },
  {
   "cell_type": "markdown",
   "id": "D9rKggGCgnjT",
   "metadata": {
    "id": "D9rKggGCgnjT"
   },
   "source": [
    "Tokenizer pada Tensorflow memberikan token unik untuk setiap kata yang berbeda. Dan juga padding dilakukan untuk mendapatkan semua data dengan panjang yang sama sehingga dapat mengirimkannya ke lapisan atau layer RNN. variabel target juga dikodekan menjadi nilai desimal."
   ]
  },
  {
   "cell_type": "markdown",
   "id": "_hE21zfRhiNS",
   "metadata": {
    "id": "_hE21zfRhiNS"
   },
   "source": [
    "# 04 Input Length, Output Length and Vocabulary\n",
    "\n"
   ]
  },
  {
   "cell_type": "code",
   "execution_count": 14,
   "id": "dbtBZXFvgvCB",
   "metadata": {
    "colab": {
     "base_uri": "https://localhost:8080/"
    },
    "id": "dbtBZXFvgvCB",
    "outputId": "45fcb544-0e8e-43a0-f2b5-46ec2c54d22d"
   },
   "outputs": [
    {
     "name": "stdout",
     "output_type": "stream",
     "text": [
      "14\n"
     ]
    }
   ],
   "source": [
    "# input length\n",
    "input_shape = x_train.shape[1]\n",
    "print(input_shape)"
   ]
  },
  {
   "cell_type": "code",
   "execution_count": 15,
   "id": "310y6oNLhuzv",
   "metadata": {
    "colab": {
     "base_uri": "https://localhost:8080/"
    },
    "id": "310y6oNLhuzv",
    "outputId": "8359d50e-0610-452e-8cb0-faff24962fbd"
   },
   "outputs": [
    {
     "name": "stdout",
     "output_type": "stream",
     "text": [
      "number of unique words :  135\n",
      "output length:  44\n"
     ]
    }
   ],
   "source": [
    "# define vocabulary\n",
    "vocabulary = len(tokenizer.word_index)\n",
    "print(\"number of unique words : \", vocabulary)\n",
    "\n",
    "# output length\n",
    "output_length = le.classes_.shape[0]\n",
    "print(\"output length: \", output_length)"
   ]
  },
  {
   "cell_type": "markdown",
   "id": "AInHhmVGict2",
   "metadata": {
    "id": "AInHhmVGict2"
   },
   "source": [
    "**Input length** dan **output length** terlihat sangat jelas hasilnya. Mereka adalah untuk bentuk input dan bentuk output dari data train atau latih yang akan diproses pada algoritma Neural Network atau Jaringan Syaraf Tiruan.\n",
    "\n",
    "**Vocabulary Size** adalah untuk lapisan penyematan untuk membuat representasi vektor unik untuk setiap kata."
   ]
  },
  {
   "cell_type": "markdown",
   "id": "1LxIElYjQbB7",
   "metadata": {
    "id": "1LxIElYjQbB7"
   },
   "source": [
    "## Save Model Words & Classes\n",
    "\n",
    "Setelah dilakukan pemrosesan teks yang dilakukan lima tahap maka kita bisa simpan model pemrosesan teks tersebut dengan menggunakan format pickle. \n",
    "\n",
    "Hal ini biasanya digunakan untuk membuat hubungan model yang telah dilatih dengan model pemrosesan teks. "
   ]
  },
  {
   "cell_type": "code",
   "execution_count": 16,
   "id": "wYV77QFbQVLP",
   "metadata": {
    "id": "wYV77QFbQVLP"
   },
   "outputs": [],
   "source": [
    "pickle.dump(words, open('words.pkl','wb'))\n",
    "pickle.dump(classes, open('classes.pkl','wb'))"
   ]
  },
  {
   "cell_type": "markdown",
   "id": "dY9COWCwexgZ",
   "metadata": {
    "id": "dY9COWCwexgZ"
   },
   "source": [
    "## Save Label Encoder & Tokenizer"
   ]
  },
  {
   "cell_type": "code",
   "execution_count": 17,
   "id": "saM3QTSjewR4",
   "metadata": {
    "id": "saM3QTSjewR4"
   },
   "outputs": [],
   "source": [
    "pickle.dump(le, open('le.pkl','wb'))\n",
    "pickle.dump(tokenizer, open('tokenizers.pkl','wb'))"
   ]
  },
  {
   "cell_type": "markdown",
   "id": "BI7OvNariInQ",
   "metadata": {
    "id": "BI7OvNariInQ"
   },
   "source": [
    "# 05 Neural Network Model (LSTM)\n",
    "\n",
    "Setelah menyimpan model untuk pemrosesan teks, tahapan selanjutnya adalah melakukan modelling untuk Chatbot dengan menggunakan algoritma Neural Network atau Jaringan Syaraf Tiruan dengan algoritma LSTM (Long Short Term Memory). **Apa itu Algoritma LSTM?**\n",
    "\n",
    "**LSTM (Long Short Term Memory)** merupakan algoritma Deep Learning yang populer dan cocok digunakan untuk membuat prediksi dan klasifikasi yang berhubungan dengan waktu dan data teks. \n",
    "\n",
    "Algoritma ini bisa dikatakan pengembangan atau salah satu jenis dari algoritma RNN (Recurrent Neural Network). Dalam algoritma RNN, output dari langkah terakhir diumpankan kembali sebagai input pada langkah yang sedang aktif. Namun, algoritma RNN memiliki kekurangan yaitu tidak dapat memprediksi kata yang disimpan dalam memori jangka panjang.\n",
    "\n",
    "Nah, algoritma LSTM dirancang untuk mengatasi kelemahan tersebut, namun tetap mempertahankan kelebihan yang ada pada algoritma RNN dimana RNN mampu memberikan prediksi yang lebih akurat dari informasi terbaru.\n",
    "\n",
    "Algoritma LSTM pertama kali dikembangkan oleh Hochreiter dan Schmidhuber.  Algoritma ini mampu menyimpan informasi untuk jangka waktu yang lama. Hal ini kemudian dapat digunakan untuk memproses, memprediksi, dan mengklasifikasikan informasi berdasarkan data deret waktu.\n",
    "\n",
    "Struktur algoritma LSTM terdiri atas neural network dan beberapa blok memori yang berbeda. Blok memori ini disebut sebagai cell.  State dari cell dan hidden state akan diteruskan ke cell berikutnya.\n",
    "\n",
    "Seperti yang ditunjukkan pada gambar di bawah, bangun berbentuk persegi panjang berwarna biru adalah **ilustrasi cell** pada LSTM.\n",
    "\n",
    "![LSTM_deep_learning_algorithms.webp](data:image/webp;base64,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)\n",
    "\n",
    "Informasi yang dikumpulkan oleh algoritma LSTM kemudian akan disimpan oleh cell dan manipulasi memori dilakukan oleh komponen yang disebut dengan gate. Ada tiga jenis gate pada algoritma LSTM, di antaranya  Forget gate, Input gate, dan  Output gate. Sumber : [Trivusi](https://www.trivusi.web.id/2022/07/algoritma-lstm.html)\n",
    "\n",
    "Jaringan syaraf dalam kasus chatbot ini yang terdiri dari lapisan atau *layer* embedding yang merupakan salah satu hal yang paling kuat di bidang pemrosesan bahasa alami atau NLP. output atau keluaran dari lapisan (*layer*) embedding adalah input (masukan) data teks dari lapisan berulang (*recurrent*) dengan layer LSTM gate (Lapisan Gerbang **Long Shot Term Memory)**. Kemudian, output atau keluaran diratakan dan lapisan Dense digunakan dengan fungsi aktivasi **Softmax** yang dimana implementasi chatbot ini memiliki data label lebih dari dua kelas.\n",
    "\n",
    "Bagian utama dalam pemodelan chatbot ini adalah lapisan embedding yang memberikan nilai vektor yang sesuai untuk setiap kata dalam data teks yang telah dimasukkan."
   ]
  },
  {
   "cell_type": "code",
   "execution_count": 18,
   "id": "2XBG3_reh2KY",
   "metadata": {
    "id": "2XBG3_reh2KY"
   },
   "outputs": [],
   "source": [
    "# Creating the model (Membuat Modeling)\n",
    "i = Input(shape=(input_shape,))\n",
    "x = Embedding(vocabulary+1,10)(i) # Layer Embedding\n",
    "x = LSTM(10, return_sequences=True)(x) # Layer Long Short Term Memory\n",
    "x = Flatten()(x) # Layer Flatten\n",
    "x = Dense(output_length, activation=\"softmax\")(x) # Layer Dense\n",
    "model  = Model(i,x)\n",
    "\n",
    "# Compiling the model (Kompilasi Model)\n",
    "model.compile(loss=\"sparse_categorical_crossentropy\", optimizer='adam', metrics=['accuracy'])"
   ]
  },
  {
   "cell_type": "code",
   "execution_count": 19,
   "id": "SO1blkS7ZzuH",
   "metadata": {
    "colab": {
     "base_uri": "https://localhost:8080/",
     "height": 533
    },
    "id": "SO1blkS7ZzuH",
    "outputId": "4abb8624-1d6b-4cfa-f2fb-047153b1d904"
   },
   "outputs": [
    {
     "name": "stdout",
     "output_type": "stream",
     "text": [
      "You must install pydot (`pip install pydot`) and install graphviz (see instructions at https://graphviz.gitlab.io/download/) for plot_model to work.\n"
     ]
    }
   ],
   "source": [
    "# Visualization Plot Architecture Model (Visualisasi Plot Arsitektur Model)\n",
    "plot_model(model, to_file='model_plot.png', show_shapes=True, show_layer_names=True)"
   ]
  },
  {
   "cell_type": "code",
   "execution_count": 20,
   "id": "4hab_JHoopQI",
   "metadata": {
    "colab": {
     "base_uri": "https://localhost:8080/"
    },
    "id": "4hab_JHoopQI",
    "outputId": "c2e95e71-0cb5-4bfc-c96f-1724b0cdb857"
   },
   "outputs": [
    {
     "name": "stdout",
     "output_type": "stream",
     "text": [
      "Model: \"model\"\n",
      "_________________________________________________________________\n",
      " Layer (type)                Output Shape              Param #   \n",
      "=================================================================\n",
      " input_1 (InputLayer)        [(None, 14)]              0         \n",
      "                                                                 \n",
      " embedding (Embedding)       (None, 14, 10)            1360      \n",
      "                                                                 \n",
      " lstm (LSTM)                 (None, 14, 10)            840       \n",
      "                                                                 \n",
      " flatten (Flatten)           (None, 140)               0         \n",
      "                                                                 \n",
      " dense (Dense)               (None, 44)                6204      \n",
      "                                                                 \n",
      "=================================================================\n",
      "Total params: 8,404\n",
      "Trainable params: 8,404\n",
      "Non-trainable params: 0\n",
      "_________________________________________________________________\n"
     ]
    }
   ],
   "source": [
    "# Menampilkan Parameter Model\n",
    "model.summary() "
   ]
  },
  {
   "cell_type": "code",
   "execution_count": 21,
   "id": "AHtOlCb8kGgZ",
   "metadata": {
    "colab": {
     "base_uri": "https://localhost:8080/"
    },
    "id": "AHtOlCb8kGgZ",
    "outputId": "ee1389fb-cb3c-4673-826c-93e55d1a86a5"
   },
   "outputs": [
    {
     "name": "stdout",
     "output_type": "stream",
     "text": [
      "Epoch 1/400\n",
      "7/7 [==============================] - 3s 7ms/step - loss: 3.7799 - accuracy: 0.0411 \n",
      "Epoch 2/400\n",
      "7/7 [==============================] - 0s 7ms/step - loss: 3.7682 - accuracy: 0.0685\n",
      "Epoch 3/400\n",
      "7/7 [==============================] - 0s 8ms/step - loss: 3.7547 - accuracy: 0.0685\n",
      "Epoch 4/400\n",
      "7/7 [==============================] - 0s 9ms/step - loss: 3.7375 - accuracy: 0.0685\n",
      "Epoch 5/400\n",
      "7/7 [==============================] - 0s 10ms/step - loss: 3.7120 - accuracy: 0.0685\n",
      "Epoch 6/400\n",
      "7/7 [==============================] - 0s 14ms/step - loss: 3.6813 - accuracy: 0.0685\n",
      "Epoch 7/400\n",
      "7/7 [==============================] - 0s 8ms/step - loss: 3.6434 - accuracy: 0.0685\n",
      "Epoch 8/400\n",
      "7/7 [==============================] - 0s 8ms/step - loss: 3.6092 - accuracy: 0.1142\n",
      "Epoch 9/400\n",
      "7/7 [==============================] - 0s 13ms/step - loss: 3.5775 - accuracy: 0.1279\n",
      "Epoch 10/400\n",
      "7/7 [==============================] - 0s 7ms/step - loss: 3.5619 - accuracy: 0.1233\n",
      "Epoch 11/400\n",
      "7/7 [==============================] - 0s 8ms/step - loss: 3.5358 - accuracy: 0.1233\n",
      "Epoch 12/400\n",
      "7/7 [==============================] - 0s 8ms/step - loss: 3.5082 - accuracy: 0.1279\n",
      "Epoch 13/400\n",
      "7/7 [==============================] - 0s 7ms/step - loss: 3.4817 - accuracy: 0.1279\n",
      "Epoch 14/400\n",
      "7/7 [==============================] - 0s 8ms/step - loss: 3.4507 - accuracy: 0.1324\n",
      "Epoch 15/400\n",
      "7/7 [==============================] - 0s 7ms/step - loss: 3.4144 - accuracy: 0.1324\n",
      "Epoch 16/400\n",
      "7/7 [==============================] - 0s 6ms/step - loss: 3.3760 - accuracy: 0.1370\n",
      "Epoch 17/400\n",
      "7/7 [==============================] - 0s 7ms/step - loss: 3.3341 - accuracy: 0.1416\n",
      "Epoch 18/400\n",
      "7/7 [==============================] - 0s 8ms/step - loss: 3.2861 - accuracy: 0.1507\n",
      "Epoch 19/400\n",
      "7/7 [==============================] - 0s 8ms/step - loss: 3.2313 - accuracy: 0.1553\n",
      "Epoch 20/400\n",
      "7/7 [==============================] - 0s 7ms/step - loss: 3.1758 - accuracy: 0.1644\n",
      "Epoch 21/400\n",
      "7/7 [==============================] - 0s 7ms/step - loss: 3.1188 - accuracy: 0.1689\n",
      "Epoch 22/400\n",
      "7/7 [==============================] - 0s 7ms/step - loss: 3.0552 - accuracy: 0.1735\n",
      "Epoch 23/400\n",
      "7/7 [==============================] - 0s 10ms/step - loss: 2.9922 - accuracy: 0.1826\n",
      "Epoch 24/400\n",
      "7/7 [==============================] - 0s 9ms/step - loss: 2.9263 - accuracy: 0.1918\n",
      "Epoch 25/400\n",
      "7/7 [==============================] - 0s 8ms/step - loss: 2.8678 - accuracy: 0.2055\n",
      "Epoch 26/400\n",
      "7/7 [==============================] - 0s 8ms/step - loss: 2.8069 - accuracy: 0.2146\n",
      "Epoch 27/400\n",
      "7/7 [==============================] - 0s 7ms/step - loss: 2.7514 - accuracy: 0.2283\n",
      "Epoch 28/400\n",
      "7/7 [==============================] - 0s 8ms/step - loss: 2.6936 - accuracy: 0.2374\n",
      "Epoch 29/400\n",
      "7/7 [==============================] - 0s 10ms/step - loss: 2.6432 - accuracy: 0.2374\n",
      "Epoch 30/400\n",
      "7/7 [==============================] - 0s 10ms/step - loss: 2.5907 - accuracy: 0.2329\n",
      "Epoch 31/400\n",
      "7/7 [==============================] - 0s 9ms/step - loss: 2.5476 - accuracy: 0.2420\n",
      "Epoch 32/400\n",
      "7/7 [==============================] - 0s 8ms/step - loss: 2.4963 - accuracy: 0.2694\n",
      "Epoch 33/400\n",
      "7/7 [==============================] - 0s 8ms/step - loss: 2.4587 - accuracy: 0.2831\n",
      "Epoch 34/400\n",
      "7/7 [==============================] - 0s 8ms/step - loss: 2.4139 - accuracy: 0.2831\n",
      "Epoch 35/400\n",
      "7/7 [==============================] - 0s 7ms/step - loss: 2.3750 - accuracy: 0.2877\n",
      "Epoch 36/400\n",
      "7/7 [==============================] - 0s 7ms/step - loss: 2.3319 - accuracy: 0.2968\n",
      "Epoch 37/400\n",
      "7/7 [==============================] - 0s 7ms/step - loss: 2.2952 - accuracy: 0.3242\n",
      "Epoch 38/400\n",
      "7/7 [==============================] - 0s 8ms/step - loss: 2.2587 - accuracy: 0.3288\n",
      "Epoch 39/400\n",
      "7/7 [==============================] - 0s 8ms/step - loss: 2.2245 - accuracy: 0.3425\n",
      "Epoch 40/400\n",
      "7/7 [==============================] - 0s 7ms/step - loss: 2.1921 - accuracy: 0.3379\n",
      "Epoch 41/400\n",
      "7/7 [==============================] - 0s 7ms/step - loss: 2.1595 - accuracy: 0.3470\n",
      "Epoch 42/400\n",
      "7/7 [==============================] - 0s 8ms/step - loss: 2.1262 - accuracy: 0.3516\n",
      "Epoch 43/400\n",
      "7/7 [==============================] - 0s 9ms/step - loss: 2.0925 - accuracy: 0.3699\n",
      "Epoch 44/400\n",
      "7/7 [==============================] - 0s 37ms/step - loss: 2.0621 - accuracy: 0.3744\n",
      "Epoch 45/400\n",
      "7/7 [==============================] - 0s 19ms/step - loss: 2.0345 - accuracy: 0.3927\n",
      "Epoch 46/400\n",
      "7/7 [==============================] - 0s 10ms/step - loss: 2.0027 - accuracy: 0.3973\n",
      "Epoch 47/400\n",
      "7/7 [==============================] - 0s 10ms/step - loss: 1.9763 - accuracy: 0.4064\n",
      "Epoch 48/400\n",
      "7/7 [==============================] - 0s 14ms/step - loss: 1.9449 - accuracy: 0.4292\n",
      "Epoch 49/400\n",
      "7/7 [==============================] - 0s 12ms/step - loss: 1.9140 - accuracy: 0.4475\n",
      "Epoch 50/400\n",
      "7/7 [==============================] - 0s 13ms/step - loss: 1.8828 - accuracy: 0.4521\n",
      "Epoch 51/400\n",
      "7/7 [==============================] - 0s 11ms/step - loss: 1.8529 - accuracy: 0.4521\n",
      "Epoch 52/400\n",
      "7/7 [==============================] - 0s 11ms/step - loss: 1.8257 - accuracy: 0.4795\n",
      "Epoch 53/400\n",
      "7/7 [==============================] - 0s 11ms/step - loss: 1.7943 - accuracy: 0.5023\n",
      "Epoch 54/400\n",
      "7/7 [==============================] - 0s 11ms/step - loss: 1.7667 - accuracy: 0.5068\n",
      "Epoch 55/400\n",
      "7/7 [==============================] - 0s 12ms/step - loss: 1.7359 - accuracy: 0.5251\n",
      "Epoch 56/400\n",
      "7/7 [==============================] - 0s 8ms/step - loss: 1.7127 - accuracy: 0.5479\n",
      "Epoch 57/400\n",
      "7/7 [==============================] - 0s 10ms/step - loss: 1.6800 - accuracy: 0.5982\n",
      "Epoch 58/400\n",
      "7/7 [==============================] - 0s 14ms/step - loss: 1.6518 - accuracy: 0.5708\n",
      "Epoch 59/400\n",
      "7/7 [==============================] - 0s 10ms/step - loss: 1.6270 - accuracy: 0.5845\n",
      "Epoch 60/400\n",
      "7/7 [==============================] - 0s 10ms/step - loss: 1.5962 - accuracy: 0.6164\n",
      "Epoch 61/400\n",
      "7/7 [==============================] - 0s 12ms/step - loss: 1.5726 - accuracy: 0.6119\n",
      "Epoch 62/400\n",
      "7/7 [==============================] - 0s 9ms/step - loss: 1.5449 - accuracy: 0.6301\n",
      "Epoch 63/400\n",
      "7/7 [==============================] - 0s 8ms/step - loss: 1.5186 - accuracy: 0.6575\n",
      "Epoch 64/400\n",
      "7/7 [==============================] - 0s 8ms/step - loss: 1.4924 - accuracy: 0.7032\n",
      "Epoch 65/400\n",
      "7/7 [==============================] - 0s 10ms/step - loss: 1.4690 - accuracy: 0.7032\n",
      "Epoch 66/400\n",
      "7/7 [==============================] - 0s 10ms/step - loss: 1.4444 - accuracy: 0.6667\n",
      "Epoch 67/400\n",
      "7/7 [==============================] - 0s 8ms/step - loss: 1.4206 - accuracy: 0.6849\n",
      "Epoch 68/400\n",
      "7/7 [==============================] - 0s 8ms/step - loss: 1.4000 - accuracy: 0.6986\n",
      "Epoch 69/400\n",
      "7/7 [==============================] - 0s 8ms/step - loss: 1.3764 - accuracy: 0.6986\n",
      "Epoch 70/400\n",
      "7/7 [==============================] - 0s 8ms/step - loss: 1.3515 - accuracy: 0.7169\n",
      "Epoch 71/400\n",
      "7/7 [==============================] - 0s 8ms/step - loss: 1.3300 - accuracy: 0.7123\n",
      "Epoch 72/400\n",
      "7/7 [==============================] - 0s 8ms/step - loss: 1.3121 - accuracy: 0.7352\n",
      "Epoch 73/400\n",
      "7/7 [==============================] - 0s 13ms/step - loss: 1.2856 - accuracy: 0.7397\n",
      "Epoch 74/400\n",
      "7/7 [==============================] - 0s 13ms/step - loss: 1.2702 - accuracy: 0.7306\n",
      "Epoch 75/400\n",
      "7/7 [==============================] - 0s 13ms/step - loss: 1.2471 - accuracy: 0.7397\n",
      "Epoch 76/400\n",
      "7/7 [==============================] - 0s 14ms/step - loss: 1.2267 - accuracy: 0.7534\n",
      "Epoch 77/400\n",
      "7/7 [==============================] - 0s 11ms/step - loss: 1.2082 - accuracy: 0.7534\n",
      "Epoch 78/400\n",
      "7/7 [==============================] - 0s 13ms/step - loss: 1.1894 - accuracy: 0.7900\n",
      "Epoch 79/400\n",
      "7/7 [==============================] - 0s 12ms/step - loss: 1.1670 - accuracy: 0.7717\n",
      "Epoch 80/400\n",
      "7/7 [==============================] - 0s 10ms/step - loss: 1.1544 - accuracy: 0.7808\n",
      "Epoch 81/400\n",
      "7/7 [==============================] - 0s 10ms/step - loss: 1.1345 - accuracy: 0.7763\n",
      "Epoch 82/400\n",
      "7/7 [==============================] - 0s 9ms/step - loss: 1.1189 - accuracy: 0.7626\n",
      "Epoch 83/400\n",
      "7/7 [==============================] - 0s 10ms/step - loss: 1.1000 - accuracy: 0.7900\n",
      "Epoch 84/400\n"
     ]
    },
    {
     "name": "stdout",
     "output_type": "stream",
     "text": [
      "7/7 [==============================] - 0s 10ms/step - loss: 1.0804 - accuracy: 0.8082\n",
      "Epoch 85/400\n",
      "7/7 [==============================] - 0s 9ms/step - loss: 1.0632 - accuracy: 0.7900\n",
      "Epoch 86/400\n",
      "7/7 [==============================] - 0s 9ms/step - loss: 1.0446 - accuracy: 0.8174\n",
      "Epoch 87/400\n",
      "7/7 [==============================] - 0s 15ms/step - loss: 1.0325 - accuracy: 0.8128\n",
      "Epoch 88/400\n",
      "7/7 [==============================] - 0s 26ms/step - loss: 1.0129 - accuracy: 0.8311\n",
      "Epoch 89/400\n",
      "7/7 [==============================] - 0s 23ms/step - loss: 0.9991 - accuracy: 0.8265\n",
      "Epoch 90/400\n",
      "7/7 [==============================] - 0s 17ms/step - loss: 0.9825 - accuracy: 0.8356\n",
      "Epoch 91/400\n",
      "7/7 [==============================] - 0s 20ms/step - loss: 0.9710 - accuracy: 0.8356\n",
      "Epoch 92/400\n",
      "7/7 [==============================] - 0s 16ms/step - loss: 0.9519 - accuracy: 0.8311\n",
      "Epoch 93/400\n",
      "7/7 [==============================] - 0s 12ms/step - loss: 0.9391 - accuracy: 0.8402\n",
      "Epoch 94/400\n",
      "7/7 [==============================] - 0s 12ms/step - loss: 0.9240 - accuracy: 0.8539\n",
      "Epoch 95/400\n",
      "7/7 [==============================] - 0s 13ms/step - loss: 0.9078 - accuracy: 0.8676\n",
      "Epoch 96/400\n",
      "7/7 [==============================] - 0s 18ms/step - loss: 0.8937 - accuracy: 0.8676\n",
      "Epoch 97/400\n",
      "7/7 [==============================] - 0s 17ms/step - loss: 0.8783 - accuracy: 0.8767\n",
      "Epoch 98/400\n",
      "7/7 [==============================] - 0s 13ms/step - loss: 0.8670 - accuracy: 0.8767\n",
      "Epoch 99/400\n",
      "7/7 [==============================] - 0s 15ms/step - loss: 0.8524 - accuracy: 0.8904\n",
      "Epoch 100/400\n",
      "7/7 [==============================] - 0s 13ms/step - loss: 0.8423 - accuracy: 0.9041\n",
      "Epoch 101/400\n",
      "7/7 [==============================] - 0s 20ms/step - loss: 0.8335 - accuracy: 0.8950\n",
      "Epoch 102/400\n",
      "7/7 [==============================] - 0s 11ms/step - loss: 0.8107 - accuracy: 0.8950\n",
      "Epoch 103/400\n",
      "7/7 [==============================] - 0s 10ms/step - loss: 0.8070 - accuracy: 0.9087\n",
      "Epoch 104/400\n",
      "7/7 [==============================] - 0s 10ms/step - loss: 0.7902 - accuracy: 0.8950\n",
      "Epoch 105/400\n",
      "7/7 [==============================] - 0s 11ms/step - loss: 0.7789 - accuracy: 0.9178\n",
      "Epoch 106/400\n",
      "7/7 [==============================] - 0s 12ms/step - loss: 0.7675 - accuracy: 0.8995\n",
      "Epoch 107/400\n",
      "7/7 [==============================] - 0s 8ms/step - loss: 0.7558 - accuracy: 0.9132\n",
      "Epoch 108/400\n",
      "7/7 [==============================] - 0s 8ms/step - loss: 0.7450 - accuracy: 0.9269\n",
      "Epoch 109/400\n",
      "7/7 [==============================] - 0s 9ms/step - loss: 0.7329 - accuracy: 0.9315\n",
      "Epoch 110/400\n",
      "7/7 [==============================] - 0s 11ms/step - loss: 0.7213 - accuracy: 0.9269\n",
      "Epoch 111/400\n",
      "7/7 [==============================] - 0s 8ms/step - loss: 0.7112 - accuracy: 0.9452\n",
      "Epoch 112/400\n",
      "7/7 [==============================] - 0s 8ms/step - loss: 0.7007 - accuracy: 0.9178\n",
      "Epoch 113/400\n",
      "7/7 [==============================] - 0s 11ms/step - loss: 0.6895 - accuracy: 0.9452\n",
      "Epoch 114/400\n",
      "7/7 [==============================] - 0s 8ms/step - loss: 0.6806 - accuracy: 0.9361\n",
      "Epoch 115/400\n",
      "7/7 [==============================] - 0s 8ms/step - loss: 0.6710 - accuracy: 0.9498\n",
      "Epoch 116/400\n",
      "7/7 [==============================] - 0s 10ms/step - loss: 0.6599 - accuracy: 0.9315\n",
      "Epoch 117/400\n",
      "7/7 [==============================] - 0s 11ms/step - loss: 0.6495 - accuracy: 0.9498\n",
      "Epoch 118/400\n",
      "7/7 [==============================] - 0s 9ms/step - loss: 0.6358 - accuracy: 0.9635\n",
      "Epoch 119/400\n",
      "7/7 [==============================] - 0s 10ms/step - loss: 0.6261 - accuracy: 0.9589\n",
      "Epoch 120/400\n",
      "7/7 [==============================] - 0s 11ms/step - loss: 0.6169 - accuracy: 0.9635\n",
      "Epoch 121/400\n",
      "7/7 [==============================] - 0s 7ms/step - loss: 0.6062 - accuracy: 0.9680\n",
      "Epoch 122/400\n",
      "7/7 [==============================] - 0s 8ms/step - loss: 0.5992 - accuracy: 0.9680\n",
      "Epoch 123/400\n",
      "7/7 [==============================] - 0s 7ms/step - loss: 0.5889 - accuracy: 0.9635\n",
      "Epoch 124/400\n",
      "7/7 [==============================] - 0s 11ms/step - loss: 0.5808 - accuracy: 0.9589\n",
      "Epoch 125/400\n",
      "7/7 [==============================] - 0s 8ms/step - loss: 0.5711 - accuracy: 0.9726\n",
      "Epoch 126/400\n",
      "7/7 [==============================] - 0s 9ms/step - loss: 0.5615 - accuracy: 0.9635\n",
      "Epoch 127/400\n",
      "7/7 [==============================] - 0s 14ms/step - loss: 0.5527 - accuracy: 0.9635\n",
      "Epoch 128/400\n",
      "7/7 [==============================] - 0s 16ms/step - loss: 0.5458 - accuracy: 0.9589\n",
      "Epoch 129/400\n",
      "7/7 [==============================] - 0s 11ms/step - loss: 0.5362 - accuracy: 0.9635\n",
      "Epoch 130/400\n",
      "7/7 [==============================] - 0s 17ms/step - loss: 0.5291 - accuracy: 0.9589\n",
      "Epoch 131/400\n",
      "7/7 [==============================] - 0s 10ms/step - loss: 0.5232 - accuracy: 0.9635\n",
      "Epoch 132/400\n",
      "7/7 [==============================] - 0s 12ms/step - loss: 0.5197 - accuracy: 0.9635\n",
      "Epoch 133/400\n",
      "7/7 [==============================] - 0s 8ms/step - loss: 0.5082 - accuracy: 0.9589\n",
      "Epoch 134/400\n",
      "7/7 [==============================] - 0s 8ms/step - loss: 0.4945 - accuracy: 0.9680\n",
      "Epoch 135/400\n",
      "7/7 [==============================] - 0s 9ms/step - loss: 0.4916 - accuracy: 0.9680\n",
      "Epoch 136/400\n",
      "7/7 [==============================] - 0s 10ms/step - loss: 0.4845 - accuracy: 0.9680\n",
      "Epoch 137/400\n",
      "7/7 [==============================] - 0s 7ms/step - loss: 0.4768 - accuracy: 0.9726\n",
      "Epoch 138/400\n",
      "7/7 [==============================] - 0s 6ms/step - loss: 0.4722 - accuracy: 0.9726\n",
      "Epoch 139/400\n",
      "7/7 [==============================] - 0s 8ms/step - loss: 0.4617 - accuracy: 0.9726\n",
      "Epoch 140/400\n",
      "7/7 [==============================] - 0s 9ms/step - loss: 0.4520 - accuracy: 0.9772\n",
      "Epoch 141/400\n",
      "7/7 [==============================] - 0s 8ms/step - loss: 0.4461 - accuracy: 0.9726\n",
      "Epoch 142/400\n",
      "7/7 [==============================] - 0s 9ms/step - loss: 0.4380 - accuracy: 0.9817\n",
      "Epoch 143/400\n",
      "7/7 [==============================] - 0s 8ms/step - loss: 0.4338 - accuracy: 0.9726\n",
      "Epoch 144/400\n",
      "7/7 [==============================] - 0s 8ms/step - loss: 0.4242 - accuracy: 0.9817\n",
      "Epoch 145/400\n",
      "7/7 [==============================] - 0s 10ms/step - loss: 0.4225 - accuracy: 0.9726\n",
      "Epoch 146/400\n",
      "7/7 [==============================] - 0s 10ms/step - loss: 0.4164 - accuracy: 0.9772\n",
      "Epoch 147/400\n",
      "7/7 [==============================] - 0s 9ms/step - loss: 0.4070 - accuracy: 0.9772\n",
      "Epoch 148/400\n",
      "7/7 [==============================] - 0s 9ms/step - loss: 0.3996 - accuracy: 0.9817\n",
      "Epoch 149/400\n",
      "7/7 [==============================] - 0s 7ms/step - loss: 0.3916 - accuracy: 0.9817\n",
      "Epoch 150/400\n",
      "7/7 [==============================] - 0s 7ms/step - loss: 0.3880 - accuracy: 0.9772\n",
      "Epoch 151/400\n",
      "7/7 [==============================] - 0s 8ms/step - loss: 0.3828 - accuracy: 0.9772\n",
      "Epoch 152/400\n",
      "7/7 [==============================] - 0s 7ms/step - loss: 0.3792 - accuracy: 0.9726\n",
      "Epoch 153/400\n",
      "7/7 [==============================] - 0s 6ms/step - loss: 0.3752 - accuracy: 0.9726\n",
      "Epoch 154/400\n",
      "7/7 [==============================] - 0s 6ms/step - loss: 0.3662 - accuracy: 0.9726\n",
      "Epoch 155/400\n",
      "7/7 [==============================] - 0s 6ms/step - loss: 0.3657 - accuracy: 0.9726\n",
      "Epoch 156/400\n",
      "7/7 [==============================] - 0s 9ms/step - loss: 0.3586 - accuracy: 0.9680\n",
      "Epoch 157/400\n",
      "7/7 [==============================] - 0s 7ms/step - loss: 0.3550 - accuracy: 0.9772\n",
      "Epoch 158/400\n",
      "7/7 [==============================] - 0s 7ms/step - loss: 0.3459 - accuracy: 0.9817\n",
      "Epoch 159/400\n",
      "7/7 [==============================] - 0s 7ms/step - loss: 0.3393 - accuracy: 0.9817\n",
      "Epoch 160/400\n",
      "7/7 [==============================] - 0s 7ms/step - loss: 0.3316 - accuracy: 0.9863\n",
      "Epoch 161/400\n",
      "7/7 [==============================] - 0s 7ms/step - loss: 0.3270 - accuracy: 0.9863\n",
      "Epoch 162/400\n",
      "7/7 [==============================] - 0s 8ms/step - loss: 0.3228 - accuracy: 0.9863\n",
      "Epoch 163/400\n",
      "7/7 [==============================] - 0s 8ms/step - loss: 0.3194 - accuracy: 0.9817\n",
      "Epoch 164/400\n",
      "7/7 [==============================] - 0s 8ms/step - loss: 0.3127 - accuracy: 0.9817\n",
      "Epoch 165/400\n",
      "7/7 [==============================] - 0s 9ms/step - loss: 0.3082 - accuracy: 0.9863\n",
      "Epoch 166/400\n"
     ]
    },
    {
     "name": "stdout",
     "output_type": "stream",
     "text": [
      "7/7 [==============================] - 0s 8ms/step - loss: 0.3056 - accuracy: 0.9817\n",
      "Epoch 167/400\n",
      "7/7 [==============================] - 0s 7ms/step - loss: 0.3009 - accuracy: 0.9863\n",
      "Epoch 168/400\n",
      "7/7 [==============================] - 0s 8ms/step - loss: 0.2949 - accuracy: 0.9863\n",
      "Epoch 169/400\n",
      "7/7 [==============================] - 0s 7ms/step - loss: 0.2947 - accuracy: 0.9817\n",
      "Epoch 170/400\n",
      "7/7 [==============================] - 0s 9ms/step - loss: 0.2912 - accuracy: 0.9863\n",
      "Epoch 171/400\n",
      "7/7 [==============================] - 0s 13ms/step - loss: 0.2822 - accuracy: 0.9909\n",
      "Epoch 172/400\n",
      "7/7 [==============================] - 0s 10ms/step - loss: 0.2776 - accuracy: 0.9909\n",
      "Epoch 173/400\n",
      "7/7 [==============================] - 0s 9ms/step - loss: 0.2756 - accuracy: 0.9954\n",
      "Epoch 174/400\n",
      "7/7 [==============================] - 0s 11ms/step - loss: 0.2716 - accuracy: 0.9954\n",
      "Epoch 175/400\n",
      "7/7 [==============================] - 0s 10ms/step - loss: 0.2685 - accuracy: 0.9863\n",
      "Epoch 176/400\n",
      "7/7 [==============================] - 0s 11ms/step - loss: 0.2623 - accuracy: 0.9954\n",
      "Epoch 177/400\n",
      "7/7 [==============================] - 0s 7ms/step - loss: 0.2593 - accuracy: 0.9909\n",
      "Epoch 178/400\n",
      "7/7 [==============================] - 0s 8ms/step - loss: 0.2558 - accuracy: 0.9954\n",
      "Epoch 179/400\n",
      "7/7 [==============================] - 0s 8ms/step - loss: 0.2519 - accuracy: 1.0000\n",
      "Epoch 180/400\n",
      "7/7 [==============================] - 0s 7ms/step - loss: 0.2491 - accuracy: 0.9954\n",
      "Epoch 181/400\n",
      "7/7 [==============================] - 0s 8ms/step - loss: 0.2492 - accuracy: 0.9909\n",
      "Epoch 182/400\n",
      "7/7 [==============================] - 0s 6ms/step - loss: 0.2408 - accuracy: 1.0000\n",
      "Epoch 183/400\n",
      "7/7 [==============================] - 0s 8ms/step - loss: 0.2379 - accuracy: 1.0000\n",
      "Epoch 184/400\n",
      "7/7 [==============================] - 0s 7ms/step - loss: 0.2349 - accuracy: 1.0000\n",
      "Epoch 185/400\n",
      "7/7 [==============================] - 0s 8ms/step - loss: 0.2338 - accuracy: 0.9954\n",
      "Epoch 186/400\n",
      "7/7 [==============================] - 0s 6ms/step - loss: 0.2311 - accuracy: 0.9954\n",
      "Epoch 187/400\n",
      "7/7 [==============================] - 0s 10ms/step - loss: 0.2238 - accuracy: 1.0000\n",
      "Epoch 188/400\n",
      "7/7 [==============================] - 0s 13ms/step - loss: 0.2240 - accuracy: 1.0000\n",
      "Epoch 189/400\n",
      "7/7 [==============================] - 0s 10ms/step - loss: 0.2198 - accuracy: 1.0000\n",
      "Epoch 190/400\n",
      "7/7 [==============================] - 0s 8ms/step - loss: 0.2160 - accuracy: 1.0000\n",
      "Epoch 191/400\n",
      "7/7 [==============================] - 0s 8ms/step - loss: 0.2135 - accuracy: 1.0000\n",
      "Epoch 192/400\n",
      "7/7 [==============================] - 0s 8ms/step - loss: 0.2115 - accuracy: 1.0000\n",
      "Epoch 193/400\n",
      "7/7 [==============================] - 0s 7ms/step - loss: 0.2097 - accuracy: 1.0000\n",
      "Epoch 194/400\n",
      "7/7 [==============================] - 0s 8ms/step - loss: 0.2044 - accuracy: 1.0000\n",
      "Epoch 195/400\n",
      "7/7 [==============================] - 0s 7ms/step - loss: 0.2040 - accuracy: 0.9954\n",
      "Epoch 196/400\n",
      "7/7 [==============================] - 0s 7ms/step - loss: 0.2015 - accuracy: 1.0000\n",
      "Epoch 197/400\n",
      "7/7 [==============================] - 0s 9ms/step - loss: 0.1992 - accuracy: 1.0000\n",
      "Epoch 198/400\n",
      "7/7 [==============================] - 0s 7ms/step - loss: 0.1955 - accuracy: 1.0000\n",
      "Epoch 199/400\n",
      "7/7 [==============================] - 0s 7ms/step - loss: 0.1925 - accuracy: 1.0000\n",
      "Epoch 200/400\n",
      "7/7 [==============================] - 0s 8ms/step - loss: 0.1901 - accuracy: 1.0000\n",
      "Epoch 201/400\n",
      "7/7 [==============================] - 0s 8ms/step - loss: 0.1879 - accuracy: 1.0000\n",
      "Epoch 202/400\n",
      "7/7 [==============================] - 0s 8ms/step - loss: 0.1851 - accuracy: 1.0000\n",
      "Epoch 203/400\n",
      "7/7 [==============================] - 0s 9ms/step - loss: 0.1851 - accuracy: 0.9954\n",
      "Epoch 204/400\n",
      "7/7 [==============================] - 0s 9ms/step - loss: 0.1812 - accuracy: 1.0000\n",
      "Epoch 205/400\n",
      "7/7 [==============================] - 0s 8ms/step - loss: 0.1814 - accuracy: 1.0000\n",
      "Epoch 206/400\n",
      "7/7 [==============================] - 0s 8ms/step - loss: 0.1761 - accuracy: 1.0000\n",
      "Epoch 207/400\n",
      "7/7 [==============================] - 0s 7ms/step - loss: 0.1747 - accuracy: 1.0000\n",
      "Epoch 208/400\n",
      "7/7 [==============================] - 0s 8ms/step - loss: 0.1750 - accuracy: 0.9954\n",
      "Epoch 209/400\n",
      "7/7 [==============================] - 0s 8ms/step - loss: 0.1693 - accuracy: 1.0000\n",
      "Epoch 210/400\n",
      "7/7 [==============================] - 0s 7ms/step - loss: 0.1687 - accuracy: 1.0000\n",
      "Epoch 211/400\n",
      "7/7 [==============================] - 0s 7ms/step - loss: 0.1671 - accuracy: 0.9954\n",
      "Epoch 212/400\n",
      "7/7 [==============================] - 0s 8ms/step - loss: 0.1646 - accuracy: 1.0000\n",
      "Epoch 213/400\n",
      "7/7 [==============================] - 0s 7ms/step - loss: 0.1632 - accuracy: 1.0000\n",
      "Epoch 214/400\n",
      "7/7 [==============================] - 0s 7ms/step - loss: 0.1610 - accuracy: 1.0000\n",
      "Epoch 215/400\n",
      "7/7 [==============================] - 0s 7ms/step - loss: 0.1583 - accuracy: 1.0000\n",
      "Epoch 216/400\n",
      "7/7 [==============================] - 0s 7ms/step - loss: 0.1564 - accuracy: 1.0000\n",
      "Epoch 217/400\n",
      "7/7 [==============================] - 0s 8ms/step - loss: 0.1542 - accuracy: 1.0000\n",
      "Epoch 218/400\n",
      "7/7 [==============================] - 0s 7ms/step - loss: 0.1535 - accuracy: 1.0000\n",
      "Epoch 219/400\n",
      "7/7 [==============================] - 0s 8ms/step - loss: 0.1507 - accuracy: 1.0000\n",
      "Epoch 220/400\n",
      "7/7 [==============================] - 0s 12ms/step - loss: 0.1490 - accuracy: 1.0000\n",
      "Epoch 221/400\n",
      "7/7 [==============================] - 0s 9ms/step - loss: 0.1473 - accuracy: 1.0000\n",
      "Epoch 222/400\n",
      "7/7 [==============================] - 0s 9ms/step - loss: 0.1457 - accuracy: 1.0000\n",
      "Epoch 223/400\n",
      "7/7 [==============================] - 0s 7ms/step - loss: 0.1459 - accuracy: 1.0000\n",
      "Epoch 224/400\n",
      "7/7 [==============================] - 0s 7ms/step - loss: 0.1422 - accuracy: 1.0000\n",
      "Epoch 225/400\n",
      "7/7 [==============================] - 0s 10ms/step - loss: 0.1429 - accuracy: 1.0000\n",
      "Epoch 226/400\n",
      "7/7 [==============================] - 0s 10ms/step - loss: 0.1409 - accuracy: 1.0000\n",
      "Epoch 227/400\n",
      "7/7 [==============================] - 0s 8ms/step - loss: 0.1376 - accuracy: 1.0000\n",
      "Epoch 228/400\n",
      "7/7 [==============================] - 0s 10ms/step - loss: 0.1372 - accuracy: 1.0000\n",
      "Epoch 229/400\n",
      "7/7 [==============================] - 0s 8ms/step - loss: 0.1372 - accuracy: 1.0000\n",
      "Epoch 230/400\n",
      "7/7 [==============================] - 0s 8ms/step - loss: 0.1331 - accuracy: 1.0000\n",
      "Epoch 231/400\n",
      "7/7 [==============================] - 0s 8ms/step - loss: 0.1345 - accuracy: 1.0000\n",
      "Epoch 232/400\n",
      "7/7 [==============================] - 0s 9ms/step - loss: 0.1306 - accuracy: 1.0000\n",
      "Epoch 233/400\n",
      "7/7 [==============================] - 0s 8ms/step - loss: 0.1290 - accuracy: 1.0000\n",
      "Epoch 234/400\n",
      "7/7 [==============================] - 0s 8ms/step - loss: 0.1299 - accuracy: 1.0000\n",
      "Epoch 235/400\n",
      "7/7 [==============================] - 0s 8ms/step - loss: 0.1265 - accuracy: 1.0000\n",
      "Epoch 236/400\n",
      "7/7 [==============================] - 0s 9ms/step - loss: 0.1260 - accuracy: 1.0000\n",
      "Epoch 237/400\n",
      "7/7 [==============================] - 0s 13ms/step - loss: 0.1250 - accuracy: 1.0000\n",
      "Epoch 238/400\n",
      "7/7 [==============================] - 0s 9ms/step - loss: 0.1226 - accuracy: 1.0000\n",
      "Epoch 239/400\n",
      "7/7 [==============================] - 0s 7ms/step - loss: 0.1212 - accuracy: 1.0000\n",
      "Epoch 240/400\n",
      "7/7 [==============================] - 0s 13ms/step - loss: 0.1200 - accuracy: 1.0000\n",
      "Epoch 241/400\n",
      "7/7 [==============================] - 0s 10ms/step - loss: 0.1188 - accuracy: 1.0000\n",
      "Epoch 242/400\n",
      "7/7 [==============================] - 0s 8ms/step - loss: 0.1179 - accuracy: 1.0000\n",
      "Epoch 243/400\n",
      "7/7 [==============================] - 0s 8ms/step - loss: 0.1182 - accuracy: 0.9954\n",
      "Epoch 244/400\n",
      "7/7 [==============================] - 0s 7ms/step - loss: 0.1145 - accuracy: 1.0000\n",
      "Epoch 245/400\n",
      "7/7 [==============================] - 0s 10ms/step - loss: 0.1143 - accuracy: 1.0000\n",
      "Epoch 246/400\n",
      "7/7 [==============================] - 0s 8ms/step - loss: 0.1134 - accuracy: 1.0000\n",
      "Epoch 247/400\n",
      "7/7 [==============================] - 0s 8ms/step - loss: 0.1121 - accuracy: 1.0000\n",
      "Epoch 248/400\n"
     ]
    },
    {
     "name": "stdout",
     "output_type": "stream",
     "text": [
      "7/7 [==============================] - 0s 8ms/step - loss: 0.1122 - accuracy: 1.0000\n",
      "Epoch 249/400\n",
      "7/7 [==============================] - 0s 8ms/step - loss: 0.1110 - accuracy: 1.0000\n",
      "Epoch 250/400\n",
      "7/7 [==============================] - 0s 9ms/step - loss: 0.1093 - accuracy: 0.9954\n",
      "Epoch 251/400\n",
      "7/7 [==============================] - 0s 9ms/step - loss: 0.1079 - accuracy: 1.0000\n",
      "Epoch 252/400\n",
      "7/7 [==============================] - 0s 8ms/step - loss: 0.1058 - accuracy: 1.0000\n",
      "Epoch 253/400\n",
      "7/7 [==============================] - 0s 10ms/step - loss: 0.1055 - accuracy: 1.0000\n",
      "Epoch 254/400\n",
      "7/7 [==============================] - 0s 10ms/step - loss: 0.1042 - accuracy: 1.0000\n",
      "Epoch 255/400\n",
      "7/7 [==============================] - 0s 9ms/step - loss: 0.1034 - accuracy: 1.0000\n",
      "Epoch 256/400\n",
      "7/7 [==============================] - 0s 9ms/step - loss: 0.1028 - accuracy: 1.0000\n",
      "Epoch 257/400\n",
      "7/7 [==============================] - 0s 10ms/step - loss: 0.1027 - accuracy: 1.0000\n",
      "Epoch 258/400\n",
      "7/7 [==============================] - 0s 8ms/step - loss: 0.1045 - accuracy: 0.9954\n",
      "Epoch 259/400\n",
      "7/7 [==============================] - 0s 8ms/step - loss: 0.0984 - accuracy: 1.0000\n",
      "Epoch 260/400\n",
      "7/7 [==============================] - 0s 8ms/step - loss: 0.1010 - accuracy: 0.9954\n",
      "Epoch 261/400\n",
      "7/7 [==============================] - 0s 8ms/step - loss: 0.0984 - accuracy: 1.0000\n",
      "Epoch 262/400\n",
      "7/7 [==============================] - 0s 8ms/step - loss: 0.0975 - accuracy: 1.0000\n",
      "Epoch 263/400\n",
      "7/7 [==============================] - 0s 8ms/step - loss: 0.0965 - accuracy: 1.0000\n",
      "Epoch 264/400\n",
      "7/7 [==============================] - 0s 7ms/step - loss: 0.0945 - accuracy: 1.0000\n",
      "Epoch 265/400\n",
      "7/7 [==============================] - 0s 8ms/step - loss: 0.0948 - accuracy: 1.0000\n",
      "Epoch 266/400\n",
      "7/7 [==============================] - 0s 9ms/step - loss: 0.0946 - accuracy: 1.0000\n",
      "Epoch 267/400\n",
      "7/7 [==============================] - 0s 10ms/step - loss: 0.0930 - accuracy: 1.0000\n",
      "Epoch 268/400\n",
      "7/7 [==============================] - 0s 10ms/step - loss: 0.0933 - accuracy: 1.0000\n",
      "Epoch 269/400\n",
      "7/7 [==============================] - 0s 10ms/step - loss: 0.0905 - accuracy: 1.0000\n",
      "Epoch 270/400\n",
      "7/7 [==============================] - 0s 10ms/step - loss: 0.0898 - accuracy: 1.0000\n",
      "Epoch 271/400\n",
      "7/7 [==============================] - 0s 8ms/step - loss: 0.0888 - accuracy: 1.0000\n",
      "Epoch 272/400\n",
      "7/7 [==============================] - 0s 10ms/step - loss: 0.0879 - accuracy: 1.0000\n",
      "Epoch 273/400\n",
      "7/7 [==============================] - 0s 10ms/step - loss: 0.0883 - accuracy: 1.0000\n",
      "Epoch 274/400\n",
      "7/7 [==============================] - 0s 8ms/step - loss: 0.0894 - accuracy: 1.0000\n",
      "Epoch 275/400\n",
      "7/7 [==============================] - 0s 7ms/step - loss: 0.0865 - accuracy: 1.0000\n",
      "Epoch 276/400\n",
      "7/7 [==============================] - 0s 8ms/step - loss: 0.0853 - accuracy: 1.0000\n",
      "Epoch 277/400\n",
      "7/7 [==============================] - 0s 8ms/step - loss: 0.0841 - accuracy: 1.0000\n",
      "Epoch 278/400\n",
      "7/7 [==============================] - 0s 8ms/step - loss: 0.0832 - accuracy: 1.0000\n",
      "Epoch 279/400\n",
      "7/7 [==============================] - 0s 8ms/step - loss: 0.0827 - accuracy: 1.0000\n",
      "Epoch 280/400\n",
      "7/7 [==============================] - 0s 8ms/step - loss: 0.0832 - accuracy: 1.0000\n",
      "Epoch 281/400\n",
      "7/7 [==============================] - 0s 8ms/step - loss: 0.0817 - accuracy: 1.0000\n",
      "Epoch 282/400\n",
      "7/7 [==============================] - 0s 10ms/step - loss: 0.0811 - accuracy: 1.0000\n",
      "Epoch 283/400\n",
      "7/7 [==============================] - 0s 11ms/step - loss: 0.0807 - accuracy: 1.0000\n",
      "Epoch 284/400\n",
      "7/7 [==============================] - 0s 12ms/step - loss: 0.0803 - accuracy: 1.0000\n",
      "Epoch 285/400\n",
      "7/7 [==============================] - 0s 11ms/step - loss: 0.0793 - accuracy: 1.0000\n",
      "Epoch 286/400\n",
      "7/7 [==============================] - 0s 11ms/step - loss: 0.0777 - accuracy: 1.0000\n",
      "Epoch 287/400\n",
      "7/7 [==============================] - 0s 9ms/step - loss: 0.0773 - accuracy: 1.0000\n",
      "Epoch 288/400\n",
      "7/7 [==============================] - 0s 10ms/step - loss: 0.0773 - accuracy: 1.0000\n",
      "Epoch 289/400\n",
      "7/7 [==============================] - 0s 7ms/step - loss: 0.0764 - accuracy: 1.0000\n",
      "Epoch 290/400\n",
      "7/7 [==============================] - 0s 7ms/step - loss: 0.0766 - accuracy: 1.0000\n",
      "Epoch 291/400\n",
      "7/7 [==============================] - 0s 7ms/step - loss: 0.0749 - accuracy: 1.0000\n",
      "Epoch 292/400\n",
      "7/7 [==============================] - 0s 7ms/step - loss: 0.0739 - accuracy: 1.0000\n",
      "Epoch 293/400\n",
      "7/7 [==============================] - 0s 8ms/step - loss: 0.0741 - accuracy: 1.0000\n",
      "Epoch 294/400\n",
      "7/7 [==============================] - 0s 7ms/step - loss: 0.0723 - accuracy: 1.0000\n",
      "Epoch 295/400\n",
      "7/7 [==============================] - 0s 8ms/step - loss: 0.0727 - accuracy: 1.0000\n",
      "Epoch 296/400\n",
      "7/7 [==============================] - 0s 9ms/step - loss: 0.0721 - accuracy: 1.0000\n",
      "Epoch 297/400\n",
      "7/7 [==============================] - 0s 9ms/step - loss: 0.0743 - accuracy: 1.0000\n",
      "Epoch 298/400\n",
      "7/7 [==============================] - 0s 9ms/step - loss: 0.0697 - accuracy: 1.0000\n",
      "Epoch 299/400\n",
      "7/7 [==============================] - 0s 10ms/step - loss: 0.0709 - accuracy: 1.0000\n",
      "Epoch 300/400\n",
      "7/7 [==============================] - 0s 10ms/step - loss: 0.0696 - accuracy: 1.0000\n",
      "Epoch 301/400\n",
      "7/7 [==============================] - 0s 12ms/step - loss: 0.0688 - accuracy: 1.0000\n",
      "Epoch 302/400\n",
      "7/7 [==============================] - 0s 10ms/step - loss: 0.0684 - accuracy: 1.0000\n",
      "Epoch 303/400\n",
      "7/7 [==============================] - 0s 9ms/step - loss: 0.0677 - accuracy: 1.0000\n",
      "Epoch 304/400\n",
      "7/7 [==============================] - 0s 8ms/step - loss: 0.0671 - accuracy: 1.0000\n",
      "Epoch 305/400\n",
      "7/7 [==============================] - 0s 8ms/step - loss: 0.0674 - accuracy: 1.0000\n",
      "Epoch 306/400\n",
      "7/7 [==============================] - 0s 9ms/step - loss: 0.0658 - accuracy: 1.0000\n",
      "Epoch 307/400\n",
      "7/7 [==============================] - 0s 11ms/step - loss: 0.0658 - accuracy: 1.0000\n",
      "Epoch 308/400\n",
      "7/7 [==============================] - 0s 9ms/step - loss: 0.0654 - accuracy: 1.0000\n",
      "Epoch 309/400\n",
      "7/7 [==============================] - 0s 9ms/step - loss: 0.0652 - accuracy: 1.0000\n",
      "Epoch 310/400\n",
      "7/7 [==============================] - 0s 10ms/step - loss: 0.0642 - accuracy: 1.0000\n",
      "Epoch 311/400\n",
      "7/7 [==============================] - 0s 10ms/step - loss: 0.0634 - accuracy: 1.0000\n",
      "Epoch 312/400\n",
      "7/7 [==============================] - 0s 9ms/step - loss: 0.0631 - accuracy: 1.0000\n",
      "Epoch 313/400\n",
      "7/7 [==============================] - 0s 17ms/step - loss: 0.0625 - accuracy: 1.0000\n",
      "Epoch 314/400\n",
      "7/7 [==============================] - 0s 10ms/step - loss: 0.0624 - accuracy: 1.0000\n",
      "Epoch 315/400\n",
      "7/7 [==============================] - 0s 12ms/step - loss: 0.0615 - accuracy: 1.0000\n",
      "Epoch 316/400\n",
      "7/7 [==============================] - 0s 8ms/step - loss: 0.0617 - accuracy: 1.0000\n",
      "Epoch 317/400\n",
      "7/7 [==============================] - 0s 8ms/step - loss: 0.0605 - accuracy: 1.0000\n",
      "Epoch 318/400\n",
      "7/7 [==============================] - 0s 9ms/step - loss: 0.0603 - accuracy: 1.0000\n",
      "Epoch 319/400\n",
      "7/7 [==============================] - 0s 9ms/step - loss: 0.0602 - accuracy: 1.0000\n",
      "Epoch 320/400\n",
      "7/7 [==============================] - 0s 8ms/step - loss: 0.0595 - accuracy: 1.0000\n",
      "Epoch 321/400\n",
      "7/7 [==============================] - 0s 8ms/step - loss: 0.0587 - accuracy: 1.0000\n",
      "Epoch 322/400\n",
      "7/7 [==============================] - 0s 9ms/step - loss: 0.0585 - accuracy: 1.0000\n",
      "Epoch 323/400\n",
      "7/7 [==============================] - 0s 8ms/step - loss: 0.0580 - accuracy: 1.0000\n",
      "Epoch 324/400\n",
      "7/7 [==============================] - 0s 9ms/step - loss: 0.0574 - accuracy: 1.0000\n",
      "Epoch 325/400\n",
      "7/7 [==============================] - 0s 11ms/step - loss: 0.0579 - accuracy: 1.0000\n",
      "Epoch 326/400\n",
      "7/7 [==============================] - 0s 11ms/step - loss: 0.0567 - accuracy: 1.0000\n",
      "Epoch 327/400\n",
      "7/7 [==============================] - 0s 10ms/step - loss: 0.0566 - accuracy: 1.0000\n",
      "Epoch 328/400\n",
      "7/7 [==============================] - 0s 8ms/step - loss: 0.0561 - accuracy: 1.0000\n",
      "Epoch 329/400\n",
      "7/7 [==============================] - 0s 8ms/step - loss: 0.0562 - accuracy: 1.0000\n",
      "Epoch 330/400\n"
     ]
    },
    {
     "name": "stdout",
     "output_type": "stream",
     "text": [
      "7/7 [==============================] - 0s 11ms/step - loss: 0.0548 - accuracy: 1.0000\n",
      "Epoch 331/400\n",
      "7/7 [==============================] - 0s 12ms/step - loss: 0.0546 - accuracy: 1.0000\n",
      "Epoch 332/400\n",
      "7/7 [==============================] - 0s 9ms/step - loss: 0.0542 - accuracy: 1.0000\n",
      "Epoch 333/400\n",
      "7/7 [==============================] - 0s 8ms/step - loss: 0.0536 - accuracy: 1.0000\n",
      "Epoch 334/400\n",
      "7/7 [==============================] - 0s 7ms/step - loss: 0.0534 - accuracy: 1.0000\n",
      "Epoch 335/400\n",
      "7/7 [==============================] - 0s 8ms/step - loss: 0.0529 - accuracy: 1.0000\n",
      "Epoch 336/400\n",
      "7/7 [==============================] - 0s 8ms/step - loss: 0.0525 - accuracy: 1.0000\n",
      "Epoch 337/400\n",
      "7/7 [==============================] - 0s 11ms/step - loss: 0.0521 - accuracy: 1.0000\n",
      "Epoch 338/400\n",
      "7/7 [==============================] - 0s 11ms/step - loss: 0.0521 - accuracy: 1.0000\n",
      "Epoch 339/400\n",
      "7/7 [==============================] - 0s 10ms/step - loss: 0.0516 - accuracy: 1.0000\n",
      "Epoch 340/400\n",
      "7/7 [==============================] - 0s 7ms/step - loss: 0.0518 - accuracy: 1.0000\n",
      "Epoch 341/400\n",
      "7/7 [==============================] - 0s 8ms/step - loss: 0.0514 - accuracy: 1.0000\n",
      "Epoch 342/400\n",
      "7/7 [==============================] - 0s 8ms/step - loss: 0.0504 - accuracy: 1.0000\n",
      "Epoch 343/400\n",
      "7/7 [==============================] - 0s 8ms/step - loss: 0.0505 - accuracy: 1.0000\n",
      "Epoch 344/400\n",
      "7/7 [==============================] - 0s 8ms/step - loss: 0.0501 - accuracy: 1.0000\n",
      "Epoch 345/400\n",
      "7/7 [==============================] - 0s 11ms/step - loss: 0.0493 - accuracy: 1.0000\n",
      "Epoch 346/400\n",
      "7/7 [==============================] - 0s 11ms/step - loss: 0.0494 - accuracy: 1.0000\n",
      "Epoch 347/400\n",
      "7/7 [==============================] - 0s 7ms/step - loss: 0.0488 - accuracy: 1.0000\n",
      "Epoch 348/400\n",
      "7/7 [==============================] - 0s 8ms/step - loss: 0.0488 - accuracy: 1.0000\n",
      "Epoch 349/400\n",
      "7/7 [==============================] - 0s 11ms/step - loss: 0.0489 - accuracy: 1.0000\n",
      "Epoch 350/400\n",
      "7/7 [==============================] - 0s 11ms/step - loss: 0.0494 - accuracy: 1.0000\n",
      "Epoch 351/400\n",
      "7/7 [==============================] - 0s 12ms/step - loss: 0.0476 - accuracy: 1.0000\n",
      "Epoch 352/400\n",
      "7/7 [==============================] - 0s 12ms/step - loss: 0.0485 - accuracy: 1.0000\n",
      "Epoch 353/400\n",
      "7/7 [==============================] - 0s 10ms/step - loss: 0.0484 - accuracy: 1.0000\n",
      "Epoch 354/400\n",
      "7/7 [==============================] - 0s 8ms/step - loss: 0.0474 - accuracy: 1.0000\n",
      "Epoch 355/400\n",
      "7/7 [==============================] - 0s 8ms/step - loss: 0.0464 - accuracy: 1.0000\n",
      "Epoch 356/400\n",
      "7/7 [==============================] - 0s 10ms/step - loss: 0.0461 - accuracy: 1.0000\n",
      "Epoch 357/400\n",
      "7/7 [==============================] - 0s 12ms/step - loss: 0.0475 - accuracy: 1.0000\n",
      "Epoch 358/400\n",
      "7/7 [==============================] - 0s 15ms/step - loss: 0.0468 - accuracy: 1.0000\n",
      "Epoch 359/400\n",
      "7/7 [==============================] - 0s 8ms/step - loss: 0.0450 - accuracy: 1.0000\n",
      "Epoch 360/400\n",
      "7/7 [==============================] - 0s 9ms/step - loss: 0.0454 - accuracy: 1.0000\n",
      "Epoch 361/400\n",
      "7/7 [==============================] - 0s 8ms/step - loss: 0.0443 - accuracy: 1.0000\n",
      "Epoch 362/400\n",
      "7/7 [==============================] - 0s 7ms/step - loss: 0.0444 - accuracy: 1.0000\n",
      "Epoch 363/400\n",
      "7/7 [==============================] - 0s 10ms/step - loss: 0.0432 - accuracy: 1.0000\n",
      "Epoch 364/400\n",
      "7/7 [==============================] - 0s 11ms/step - loss: 0.0433 - accuracy: 1.0000\n",
      "Epoch 365/400\n",
      "7/7 [==============================] - 0s 8ms/step - loss: 0.0430 - accuracy: 1.0000\n",
      "Epoch 366/400\n",
      "7/7 [==============================] - 0s 9ms/step - loss: 0.0424 - accuracy: 1.0000\n",
      "Epoch 367/400\n",
      "7/7 [==============================] - 0s 8ms/step - loss: 0.0428 - accuracy: 1.0000\n",
      "Epoch 368/400\n",
      "7/7 [==============================] - 0s 9ms/step - loss: 0.0423 - accuracy: 1.0000\n",
      "Epoch 369/400\n",
      "7/7 [==============================] - 0s 8ms/step - loss: 0.0423 - accuracy: 1.0000\n",
      "Epoch 370/400\n",
      "7/7 [==============================] - 0s 8ms/step - loss: 0.0418 - accuracy: 1.0000\n",
      "Epoch 371/400\n",
      "7/7 [==============================] - 0s 10ms/step - loss: 0.0416 - accuracy: 1.0000\n",
      "Epoch 372/400\n",
      "7/7 [==============================] - 0s 10ms/step - loss: 0.0408 - accuracy: 1.0000\n",
      "Epoch 373/400\n",
      "7/7 [==============================] - 0s 8ms/step - loss: 0.0414 - accuracy: 1.0000\n",
      "Epoch 374/400\n",
      "7/7 [==============================] - 0s 8ms/step - loss: 0.0402 - accuracy: 1.0000\n",
      "Epoch 375/400\n",
      "7/7 [==============================] - 0s 11ms/step - loss: 0.0401 - accuracy: 1.0000\n",
      "Epoch 376/400\n",
      "7/7 [==============================] - 0s 12ms/step - loss: 0.0399 - accuracy: 1.0000\n",
      "Epoch 377/400\n",
      "7/7 [==============================] - 0s 9ms/step - loss: 0.0401 - accuracy: 1.0000\n",
      "Epoch 378/400\n",
      "7/7 [==============================] - 0s 9ms/step - loss: 0.0395 - accuracy: 1.0000\n",
      "Epoch 379/400\n",
      "7/7 [==============================] - 0s 8ms/step - loss: 0.0390 - accuracy: 1.0000\n",
      "Epoch 380/400\n",
      "7/7 [==============================] - 0s 8ms/step - loss: 0.0392 - accuracy: 1.0000\n",
      "Epoch 381/400\n",
      "7/7 [==============================] - 0s 8ms/step - loss: 0.0387 - accuracy: 1.0000\n",
      "Epoch 382/400\n",
      "7/7 [==============================] - 0s 9ms/step - loss: 0.0384 - accuracy: 1.0000\n",
      "Epoch 383/400\n",
      "7/7 [==============================] - 0s 8ms/step - loss: 0.0380 - accuracy: 1.0000\n",
      "Epoch 384/400\n",
      "7/7 [==============================] - 0s 9ms/step - loss: 0.0379 - accuracy: 1.0000\n",
      "Epoch 385/400\n",
      "7/7 [==============================] - 0s 8ms/step - loss: 0.0377 - accuracy: 1.0000\n",
      "Epoch 386/400\n",
      "7/7 [==============================] - 0s 8ms/step - loss: 0.0375 - accuracy: 1.0000\n",
      "Epoch 387/400\n",
      "7/7 [==============================] - 0s 8ms/step - loss: 0.0371 - accuracy: 1.0000\n",
      "Epoch 388/400\n",
      "7/7 [==============================] - 0s 10ms/step - loss: 0.0375 - accuracy: 1.0000\n",
      "Epoch 389/400\n",
      "7/7 [==============================] - 0s 10ms/step - loss: 0.0360 - accuracy: 1.0000\n",
      "Epoch 390/400\n",
      "7/7 [==============================] - 0s 10ms/step - loss: 0.0375 - accuracy: 1.0000\n",
      "Epoch 391/400\n",
      "7/7 [==============================] - 0s 9ms/step - loss: 0.0363 - accuracy: 1.0000\n",
      "Epoch 392/400\n",
      "7/7 [==============================] - 0s 8ms/step - loss: 0.0361 - accuracy: 1.0000\n",
      "Epoch 393/400\n",
      "7/7 [==============================] - 0s 8ms/step - loss: 0.0356 - accuracy: 1.0000\n",
      "Epoch 394/400\n",
      "7/7 [==============================] - 0s 9ms/step - loss: 0.0365 - accuracy: 1.0000\n",
      "Epoch 395/400\n",
      "7/7 [==============================] - 0s 11ms/step - loss: 0.0355 - accuracy: 1.0000\n",
      "Epoch 396/400\n",
      "7/7 [==============================] - 0s 10ms/step - loss: 0.0349 - accuracy: 1.0000\n",
      "Epoch 397/400\n",
      "7/7 [==============================] - 0s 10ms/step - loss: 0.0351 - accuracy: 1.0000\n",
      "Epoch 398/400\n",
      "7/7 [==============================] - 0s 9ms/step - loss: 0.0347 - accuracy: 1.0000\n",
      "Epoch 399/400\n",
      "7/7 [==============================] - 0s 8ms/step - loss: 0.0343 - accuracy: 1.0000\n",
      "Epoch 400/400\n",
      "7/7 [==============================] - 0s 7ms/step - loss: 0.0343 - accuracy: 1.0000\n"
     ]
    }
   ],
   "source": [
    "# Training the model (Latih model data sampai 400 kali)\n",
    "train = model.fit(x_train, y_train, epochs=400)"
   ]
  },
  {
   "cell_type": "markdown",
   "id": "BfQP5TaPkGzB",
   "metadata": {
    "id": "BfQP5TaPkGzB"
   },
   "source": [
    "# 06 Model Analysis\n",
    "\n",
    "Setelah menjalankan pelatihan model dengan algoritma Neural Neural dan LSTM serta telah mengetahui hasil akurasi pada step terakhir. Maka, tahapan selanjutnya adalah menganalisa model dengan visualisasi plot akurasi dan loss untuk melihat hasil akurasi dari algoritma pelatihan model Neural Network dengan LSTM tersebut."
   ]
  },
  {
   "cell_type": "code",
   "execution_count": 22,
   "id": "FEz3P5djksfa",
   "metadata": {
    "colab": {
     "base_uri": "https://localhost:8080/",
     "height": 459
    },
    "id": "FEz3P5djksfa",
    "outputId": "4e27fba0-9523-4fc2-8e46-350f0c3baae8"
   },
   "outputs": [
    {
     "data": {
      "image/png": "[encoded data removed]",
      "text/plain": [
       "<Figure size 1400x500 with 2 Axes>"
      ]
     },
     "metadata": {},
     "output_type": "display_data"
    }
   ],
   "source": [
    "# Plotting model Accuracy and Loss (Visualisasi Plot Hasil Akurasi dan Loss)\n",
    "# Plot Akurasi\n",
    "plt.figure(figsize=(14, 5))\n",
    "plt.subplot(1, 2, 1)\n",
    "plt.plot(train.history['accuracy'],label='Training Set Accuracy')\n",
    "plt.legend(loc='lower right')\n",
    "plt.title('Accuracy')\n",
    "# Plot Loss\n",
    "plt.subplot(1, 2, 2)\n",
    "plt.plot(train.history['loss'],label='Training Set Loss')\n",
    "plt.legend(loc='upper right')\n",
    "plt.title('Loss')\n",
    "plt.show()"
   ]
  },
  {
   "cell_type": "markdown",
   "id": "odsh6gL8CAfE",
   "metadata": {
    "id": "odsh6gL8CAfE"
   },
   "source": [
    "Terlihat bahwa model pelatihan chatbot dengan algoritma Neural Network + LSTM menghasilkan model yang baik dan tidak terjadi overfitting atau underfitting. Sehingga, model ini layak dilakukan pengujian dan evaluasi model chatbot yang diperoleh."
   ]
  },
  {
   "cell_type": "markdown",
   "id": "WcOYpQfuln4T",
   "metadata": {
    "id": "WcOYpQfuln4T"
   },
   "source": [
    "# 07 Testing Chatbot Dan Tambahkan Suara Pada Chatbot\n",
    "\n",
    "Setelah mengetahui hasil dari akurasi dan loss pada model yang telah ditetapkan dengan algoritma Neural Network dan LSTM. Maka, tahapan selanjutnya adalah menguji atau testing pada chatbot yang telah dilatih sebelumnya dan melihat apakah sesuai atau tidak pada saat kita masukan teks kalimat pertanyaannya. \n",
    "\n",
    "Pada pengujian ini menggunakan metode input atau masukan sesuai dengan kalimat pertanyaan yang dimasukkan."
   ]
  },
  {
   "cell_type": "code",
   "execution_count": null,
   "id": "fao4rG4rlh1D",
   "metadata": {
    "colab": {
     "base_uri": "https://localhost:8080/",
     "height": 753
    },
    "id": "fao4rG4rlh1D",
    "outputId": "b26f1f8f-257f-411d-c21f-e3949d0daf6e"
   },
   "outputs": [
    {
     "name": "stdout",
     "output_type": "stream",
     "text": [
      "👨‍🦰 Kamu : halo\n",
      "1/1 [==============================] - 1s 1s/step\n",
      "🤖 SafeBot :  Halo, selamat datang\n"
     ]
    },
    {
     "data": {
      "text/html": [
       "\n",
       "                <audio  controls=\"controls\" autoplay=\"autoplay\">\n",
       "                    <source src=\"data:audio/wav;base64,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\" type=\"audio/wav\" />\n",
       "                    Your browser does not support the audio element.\n",
       "                </audio>\n",
       "              "
      ],
      "text/plain": [
       "<IPython.lib.display.Audio object>"
      ]
     },
     "metadata": {},
     "output_type": "display_data"
    },
    {
     "name": "stdout",
     "output_type": "stream",
     "text": [
      "============================================================\n",
      "\n",
      "👨‍🦰 Kamu : bagaimana cara menghindari phishing?\n",
      "1/1 [==============================] - 0s 35ms/step\n",
      "🤖 SafeBot :  Serangan phishing dapat dicegah dengan tidak mengklik tautan yang mencurigakan atau mengunduh lampiran dari pengirim yang tidak dikenal, mengaktifkan otentikasi dua faktor, dan menjaga perangkat lunak Anda tetap terbaru.\n"
     ]
    },
    {
     "data": {
      "text/html": [
       "\n",
       "                <audio  controls=\"controls\" autoplay=\"autoplay\">\n",
       "                    <source src=\"data:audio/wav;base64,//NExAAQ2u4gAUkQARQKBQSYRhcEw2KBQKEDEP5whDP/+d//qc5//////nOQjf/9v///////+c5CEIQhCN+c5yEIQhCEIBgYs5zgYeAAAAAKUeGgHGK5vlRKsyc4bOs///NExA8U8yqEAY1QADkLzT35Nycs7/RtlKEY3P/r5ah8///REOof/0/z0MKuhjG///eu8nsULHvJHJDv//+6LmfEASBXBDJxYJFJzyACuAHCnhdH//////+r0bX///////NExA4VgyKgAcI4AF/5/dFfvV+lkTVdz2ZXz1dPc6ce0cLCsvHypJzhHH0YqPjQ4fGgLC0RweDQ0LsKBgoKAgEURwfioDFHwfgMEgRSLjoB4uE5dQBv///+///qp2ud//NExAsUqyKoABAWvNd/PdzF9TT5iHTEU6qq23EHWxMdKwofirla6XONWMLSWe1jTMdrzo+k4wMR2kcuJw0h5FryFYOgnKjIeySI4fQQzAaxCHg4tQJn///////MdeB///NExAsVIyKkABBQvPf//z//8dVz3Xp/f8VN1z3Dd3XyqVHPpdz1yiWPlQ8V7FVFRq2KH8KbA05RRpJJFIJPND4Og/YOxUPh7BURBOEYnB4QBYBMMjz1OGf///9///Ri//NExAkTWyKoABBKvFkAzweX+5ctd6vXS7fXm7Np2d0fPVjbaHsrnrUxhhSOIFUwcfKxiJOpDIKFGh8oiQQGB0OCY8cJgzsIgOKBEpTEGBMeyiNqYQ7Mf/P/IAWv+Oht//NExA4SMxqwABBKvBAY2n61v/p/b+lq7VTT+if1LK/nRO/WiGMchyTu6DCq63ZKoIsSgqVA6YWVhUh5hQ0XGDA8JDzlAoyiq65ymBgFos6gWWw0FAAJDeyeGoDfnnEB//NExBgRwa68AMJElCT/6jGT/Uf57SAkt9Iyd37t1O/v85EIzychP+lvb0CHInC///v7NHSlOy/sFxgcZqzgRoK2M0MIKABpG8n0LA7U6oJ5NqagRTrPVGtaKwwDUm7Y//NExCQSIcbAAJrKlA/gnAzpjvE3flFqPCarYYAAGdoiLl0kfq/kEytQVBxU7uYcmTrDDD6RDk02f1nAbFisVHj9FWa//lRNqf4O5j39wXFGZ3hTGuoK/wZl5/Mv/3zW//NExC4SWcbEAMPMlf6qd/do/YkTAE66LXvmcz/zr27VbO1ErupNmHWFSJpeK0AEEETjeboakoQlaPmbB0QHkdKTiZRoKRDwrmwsGigORAOGxlDpGSQkpaEUyr9pNpNX//NExDcSiU6wAHpGlYEPPoGooDEIJw/lp+athCXzFfQqxs8/4KERZbe3jdICl+nG3edFBo798t4n+b/WUWRUbd6Tg40vTXlX0rNrcJ18Vu9mPJ6Y5MTUSHJTHEeyNn22//NExD8RQYq8AMPOlBzY09A7q6+ZgDRv1CMQ8Z6cQPgyTdamOilQ+5mZsoXpAk0qnCywvNMXFrIbQqcAJXxhk9u6cOK/3HRETIUSMaoqdEVcHv/ktFeNpMsKtXX50ATf//NExE0SGaK8AISQlHOgz93eUKQFrWHbjpDR5Th/I+vWf5/7UOZpUxuZR1xop+wBCvQRASTqCNZFDooz0DwZbMBgIVdnS7xIj8VBhjwG/0L5gAljToDWFk+LeACNKjOP//NExFcRqaLAAG4KlIbxPp6Z1x3F73TWV0E0santhclpW0wDM2iC9PHeg15cBgOc6YRHI1lHIl7ul5xFVp/7+qr6QDtPc+ImOxHGKtYVZi7/tECCuXx9pAsU/x4gDaqZ//NExGMQ0a7AAGvKlLG7tSG63WudzY+LmOnm/NtVlKHuqkIzAtQ880qRTjDkMLX7EzL1/vZ5s3LgibhbTUvIwDBrBvctA0AkFbMHDWKB/r22O4N20+vhzt/8qYhTvW/7//NExHITqg60AJPUmFtl1LrlJpVv/y6VKVHUrwauRYHVqG25z//1ZuDSbqfiwsL9jdaJgj7V5rrzFR6NE7SZZ1ASZ3K0XDaB2Aa21VVj3Lq7rv1ljdQ8KIpTWcXPOo1S//NExHYRAXakAKPElVcxoNywaOnBKdRdecHNGjXdtfT++hqrLTCmPFnlvHtiXiD5oTySiS1VgSsSshF61JiAQCkRY0x8A2iTs8enhLU2L41FkePNb/wgixOIr5MhO+R5//NExIUTcKaQANYeTCEn4QAU0Fu4GYBhBAsWiBxw0yJz5dIPjgwTyAE1hc+n//2dCdWs9Z0gjCO9NX8brZacIx0gWyU2/wgwZGW4ahP2MIZcluTTLvebmn0xqWO6rPjI//NExIoWwX6cAMvGlKN3McuQ628QkEYs0rhPKhMcjZYXnB4cOfCvOFhwVHS6PRdChx0ipnx8XvsLnoXG/UdvOVo4aLGik7Gw0xVzZnf7KXvP1X0YqWdxX6jMN0BHk9bT//NExIIeMhakAM4YmaUSRqv7+eXzLgp8s31/7uyl3NYf+o1D0Vn8P+rKoeeQ+SRwlCpGAhIxGOEJAUQZcuqomxklmlVoasTIpsrKfNl4yhCoy/k6CnCQRYV/GKUOUm9Z//NExFwWaa68AG4SlIFcFyNDTpExAPFi9a7wpgqmj//wldLH/+ISeVdP6diDoG5Ic7d7ErDmTldZWX+ca6tF9/mB52B+/jUxaTIq070oB8yl1e5l3+s9PQFGZTZ/GmKw//NExFURaVbAAJPYlSEOAlD81rMwHJHe66mCUTr/3DyCajXND4KEAqFK3RzTn81DiY445s0lR2zTR6b+a39H51CIar8k5Yv8mxUCeeeDGnmt9U2MWNT1OnxBAJgL6ZrZ//NExGIRKbqsAMLUlTue7XURCOgYqW87xL3Xf/65gRtUCL3ArGO//+ntS1w5hGpDJVstrRi7OBdqcKAvxvO7zuD0C4kAyUcWdg6hEFSCq3Ute9BLRmqKDnVX30/bvZ6P//NExHAPkL6QANPaTP+v//6bMis8c2FQGqQ//9Fp7aWfcxKqOQyL8qdsHc5LwBDRBPPE1FKOFtu3M0xpKVLieMIb4uAXxAzRWE9HniZrXUG81o0SBwLVP/TeyrqNP6jx//NExIQR4dKMANNElFO1WFluO3HaEf///UrJVTSTTmPzSCxCQMuCyRSMMfGkqwoAKhS1mDnCVM76mo7R+AJwQkGiMIkxurOLq2I+eeDQFMkiwF/60qd1P/s///kf/9A1//NExI8SiKKAANPeTDoMQTHVNAL0v4vJq9LymOhoJFRYt0tFLJPb4hvau4mRdUhKEkn7iCOhiEpyhhWkUWyKMTbqvQpqjClqUQVvrpNwODCgxi7HXZ/hCAODBzIlF/sv//NExJcQuIJUANYeSIu0pwuMIMIUCVFmID6ajQeYwwVYewYvoMPQcA8A5gXEKoMoQv6b1IMOYcChOJR/vYe5u6AnhUPg9kEif/0GQ003QYrMEz5coN/+31poIMmYFhsp//NExKcP8DIsAVkYAAOEqkTEzVD//31uaIMtP8vHDNE8bsidOJNO1W6v7DtLHVqiD4EETBCUATlOqnYqrSWu5bbhNy3mWWTuZ1a1mtg3m32kXKta5kWFUwzWwuDNUaNV//NExLogSyqAAZloAM3zK8ORBq1h2XQJ0ba5Qy0MKsK4XsZ/GSYR9pe7zZONGPT3T8CHu221lZnsDv0QmWa28w1fbfzOGD48Yp5WkVNbLtHF5s6KlyqhW7IClq1m5DwM//NExIshsdqcAdp4AEwRbXTSJMXgcE9Kgu+KDX8Tt4+PP0KP/92a3/hq9QuqUgj7D+FijakSAhhkqGaCxCuDFQ5ytFgKyf/5eNsXX8tmG1P8RFEzR9Q3zKlpQ3abl//0//NExFcW6cKsAKHelPpTd/9Cx3+5hKcg0afSVKeHBQBtv5gKeiiK01JvMFn0ICX+Ycm/8MCd1T6VhBx0187yKV6ziBKdZVHrT1YE43xf6QIO/nw52WvpSJLF+NPHZ0ve//NExE4W+cKoAMqelPEzz6Gd39TvYrdvf0fRMGrKQhQArCSymcagpfzq3hYr5Bb0X0/1/yd3GWHTqTbiIAsC53kRwUgpEQSYNxMtXVXMNxPrxP/pcXCDYCht9NtH2u00//NExEUSgcKwAKFQlL9LsnXqkiVxoNWIzbXejeOL/+vzP9///XRjq7dRdaFYmvmayG3ia3z5esh7z/n+IhM/+uYhOTZ6T22w/z12i/bnr+fCHhBV3CfjVE28hjgBnKQj//NExE4ZGwa0AHiMuR0z3My3T0wI7EMMNNC3KIEIQj7yAAAKvYQ///////eD5/mu5aHsaznpxEPQsOiBSv/kn/dvkP/XXpl0jL8oRAtMkUj34DrEYcjicNlDBi6pvjnQ//NExDwRqv7IAAhGuYBCg9MIOKD3SxCFr//+V+dN2RA6H7u+ocDckMjd30RSXQGEQYSO60EpEvQIwe7r13vjtmGonf3BjwumaWSK921AlSwbLHTc21vnib//////8//X//NExEgQAZrMAAgGlTm3WFWkKImhOhAVotkN4jIPTU4FcPuKyBi6ctUhMG7fzJ+d5B5L3fVyHbMD+odkaHAJPZxpjSi8HyP+7Sr///+W/xK2FtpZx1pb86HXdnr54U9f//NExFsRCZLMAAhGlX55l/J3IXdM/Ztm1XffY+78f2/8HimTHreLKkT4E20z74iAgt+c+Srou095t0c+4+ovADL////50+X+L4mpHOaMVrFYbiRFGASFQakEiTZvjr4q//NExGkRkfLIAABMmf6tpm1eFNljTffmP+t/oNlJucGixWwZdD6l6Ipp34BfQnopf+Zc7Tr0jEPaADAopskm61v8HwP5f/n/rtFxcn1j1EODrhn5hANjhoIGBet2aMbv//NExHUSKabAAAhQlf7/3u9n+/qDAwlmprk3bAoWHSRZT/yoTFXG349q+hVDUsjABeAohbmC4tI038Cv8f+KfEU9Wf+ZnGuyd05MDNz00ATAurX/LTY6J70XLjgz/dmr//NExH8Skbq0AIhMlLHf+rWDV+zOexF1WYVkL/q9Cm6joeQGUaMk6iVFlG+KgDz/Uh9D/qaf+5f5mWlTlJnFwSkodHJ0cQ9IxPV80ShGJIjo7atdec6dy18p3znXvuNP//NExIcRWca0AJlYlDq+aOJKZ/GeA5EkzM2edD2Rd/CIGb0Ht8SV/VH/h0/6RsYl91JSNoagHjr2EkqA8LQd2cuyCEAHsvd256F/y1Cr9tKNPjxEJHX////dVWVux8DK//NExJQRYba4AJHYlYVMzJlTORoLBXnRPS59Zdf1JH2+il/3Hr/7oejjeDYxJgGg8cJEpQB0GYgz7jxDDuIYfNkt6PV8OdF1O485NM07+mpKlfu8zuTbcAD4EKOhcv8///NExKESKaq4AJFWlBEWz6lk8FZNm9aH51H8xb81vsPkOrUVQWRNZSh4yFIDw3Yej00elCpKbvOVmOurId6j1k6rqDoSa88BSqjVfd7JIxvsQjSqpaXtW3JCAKcm6GbW//NExKsSUbawAJNWlOzMoOz6yAeC/pRuaDrAXEAPiToPLIucYPrlNH1JoP///ej9EhRLo6qX1TTRNP1Vm0utshFRWRiI11/7d19fdLq+7EnREIc5VEBgPvTbWtWnna2E//NExLQVCbqgAMtUlF0QFVQf1UVhuBW8cNc5MGhN/5kLMBrjcLpVMhzBc5CjMkVNWTqmT003ZJbIbt+r/X0X6OlH//73/v6MuRKuZ0Mj9bXr3+//SqfXZLIUgLgV1lWK//NExLIWqtaQANSEuVFWsw+YSUdTGGNY1ZcJNooYhtJ8e7LuMIeo8kSf49ZIl25VyxuT0aXEKkCYsz//QyW//pQ9ROVPoJHAl//anQUYfGtDwTOGKhYIPzLI2KAYxRGj//NExKoVUs6UANQEuQiCka4pHFtmHkki2NykmYtjU4pyGMyzE8dkctTek9zDX0f9ELSSv/9xYRuDRMOxURFTX//5EcShMNGQqKhBbekmOsONJQ3CwWO2r8eNIKHbWqIk//NExKcSQIaUANYeSACYQAbySKMNgXfFb3YYfdtZibopAQD0J3trSqlULwePJ+/5JlX//6XfT//+K+oq9CVqByAbYyBiQa3AEBKAW8Wo2vlsGNMbTdeqBolJ32a4UkXO//NExLESwJaMAOYeTKKYWlgOAANBLpoO4AbxLgvoMP/xlBcBGENFL//hlgZAvi5CWGb//w9QkSDiyBmCof///LhoXCYIgHzi4zcx////IuVzyaBFxzyfdZPpf////5FD//NExLkRGKJ0AVxIAENSLm4sgcwiBmQMnxmCKGmVF98SqnVKiIsIIAk8RiyHwu4gZOiSL7sGZDHmfHQblCwo+C3vYOlLibnlhzh0s15VjfRXPxRrTdKeqCc8YjZupzWV//NExMcg+yqAAZuYAJpvsuVo7J2iPAtApjfgOMqzfVFzBVlYn1/XdNfP+N6hw/jeJoGW/x+eWwNKFjyfS/0iEVUF6jv6FbOXIi104BkfoGtRIZCA0KPruv7HjQMDoojN//NExJYe0d68AZl4AOA6CrVPazrgP55b/M8vT7y7OV9Pbl3Esy4y0gCQXJVRop3l+OqNGlRUVWvmJdnlG+IKrQ5952RD2V610RFXuqwIuvisj2LryO8/FWdl1bMBri+S//NExG0d0casAdl4AXmPQEbYjBlOj/zVq752UH6DWo+XSU4eo+xnOHrU8Uodi0VIwwCrZwjJUccS9YwUNanv92QqA5utTLXRK+HZTLJ0QB0+dLebjOXtPoJIYd6bRMKL//NExEggKhqgAM5emFgZCpQyBAxIIm5xu1Gfi+KNzHPFxRcyz2zh9q9ehsfebNi3n+skP6xCj2zCww/EXXmnHAA/O7//WolLL1yGCPrT6OvDhAJS2/hACmB2/BeqeuOl//NExBoYCaqsAMYQlClNFhKIALvtQ5uVtLZJe3EGUEAYThbmYoilKbOOp3qoNVnuW78Gte0m9HFhqYthKIteow6aua4mSR3LqMSs7yIMiZwFSgtVOhIvYmQugWUkVFpT//NExAwRMMKcAMYeTEthhzJoaa0FSG0yvoBhLZQQEIK1MRpRiQjhNEbohouJkt08IfQ/mubM0ZhhzWUSlqh7ix6kRTp6SQaYMKfN9HONDIphm1QCZGHKAY8o8YRJdRGo//NExBoRiLpQANYSTNKRWTql7SlTNeh5sKuJlTpAAJoiaImkM8vN9ah0EjvneWPd32f///3q8h/1KgBMmoWfWEbiXOduckkgi1n73MZ3Q1jCQTCbGHjqFdxiMQEsF0uW//NExCYQcEosAVkIABt+1j6NsPIvozo8L+haB1m1et6dyGquSxatVSac8xIkHBwQeJqf/A9w5IseQf7sPwZcyZkDyfTTBawGhwX08mBcg7DcD1YLTQtDBsF/UxgRQqB9//NExDcgQwKIAZqYAcbA/GA4fyLk+bmjSggT5ACVHf/LhcQQvHCOWQ04aGhz/9Wgzm5kXKS1u3/9jdNNBCpBk1IFxFz5gZqdBv//Tt97Jv0UWOEgpE1Frn5gkBBpKJXR//NExAkR6S7AAc9oAGDME4hyiV0ZDhKBlM29SE/Jpt0EB3AYpobF4vKAwQuw8l4zBfDbkw1bzf1Hq+d64/hQCCx7bvyDFgt/treUTbZwSELMI6zYLS0tcBLDu5NgnIfV//NExBQRWUq8AISQlJToChC6k61F8QWPqSTcTeLCkm4dgma86Ch22hF/uWdxxBq1+VjFAlklytaJov9zowPKiXLGF1YMbLzP5QvkJVqmmwRQCy4Wu3jnLw9pjDAr4W2Z//NExCERkUK0AMPWcKFqLbysPy7VVR4ABJJ1S3mbP2PZ+9jv952v2nTrD2r/g0/9QdqqOgpYaYbxQ85sxZ1u0naIWeQWO84W6OiAEpAIUrZZiQhyxIM9C/I7OpoZOLjo//NExC0SIPaQAMvYcMj6ExYOjkAUfRCPzF1kxbdnZa8ZDTIbLSv/+ToztwXTGoWmsdnMjmwTmyYg5ysZPYukuYY1C3HUhTWorJ5rdSxfjGYuMW4ta+VWGoAYNiK3nSuV//NExDcSkMpIANPQcPJf35Cp+hGKL/5Xv/W5JbdsnvrqMjpXjM12P80dVkajVBD0qlzACMNB1hQKi9FxsqglOjkOmh4scLNHBtgycQhriDXIdJmFVIT3WMVQAlLGzFzW//NExD8SUDYoAVkYALA48+Nf2njsbPJqL+AYGASCxmCn5jwFJgT2qw7liSRigBGqI6lAZRfpgIAyvAwRDDgA7wBoBICUAHYBtg7fTc3QB+KA/DjspCTCTEAIw8DAScNs//NExEgfmlZYAZ1oAH0lEL8xPKXmybpG6H9am61ImboO3/T9al3UzI1IJf/rdn1vWtnpTNoAUd/5AEHCpPFVCEiGwtUwAAYzkOowYCgxniwxOCEzvXUHNcYLAuY8BQYH//NExBwYqNJwAZ14AIQCyyGCwHsSFg/QzDAGGADZoniuRbYeShXtp6TcB4y0sqYU/g1yhm/aKh02tyOIaTSnSTOrvtcoJa1f/n/ltC+9zbn6jjNaiIUBaUIjqQq0Q/aZ//NExAwTYWa8AZkoALNMVYgj5yK1Zfgc8SQWnOhMUEVluiuKNWUOrZiCpPiIfO+HhUDBA4796luaCB5v9uXcD//saSqX/+mtKhVqK2OQikUlDqEFgNWdBsdGiYl0GgEL//NExBER4cK0AdRQAOw4kt0esy8SPmeU+QeU9RLHpprC4AqSKacAYc50qIMekKlBBBqbdCT7eSfemIA5lyTb///+qPqf7zVQFqP3Y7mh3sXv+DbhxvHby+/y/Nt//ON+//NExBwSIcK0AMielPdTOX0wOBJs7gUXaqxqicO11Z4/cq/d911/m3+d4hb/zCg7vSj/Uv/v/9v42hwEUZYQQYRkjI8kVt30UT///+v/98b+e8tZwCAS4JHJadRaO5Um//NExCYSoU60AIiMlKWuWZU8RriwGUJAqAh6rhpGKA6ezzyoqyWO9JlGBcyUVM2qvqo4MUDGUkiN4AaDhVBupNZeJbAaBpR7zvrdx4inkWRCkkJTpUjxKROiV6zoKkD0//NExC4SEC6EAMveAOiKRSJVLDXKnZ0NYicWDtXegRgo8OSwd4NFajUwjElQcxQBRpGUtgl2xScWFhy/hlj+VLwKFQ1EpgzFxdlFeswUOzglVR6mqet9dkIelchF2w0o//NExDgQkFIwAVoYAJ+ns4zdt8wncmaqLGKBoBFhydNio31uamXWbuMUfiry0uMaArQzkAev1umnOl4kzht+bmCBotySHmSonpaMJ/mZTGWSBQIAnQTEHcBGBdw5oEt///NExEghKyqMAY1oAOX1dSFgJoI2DsPCZj0Nw5g9//1unagx4zc+dKQ9CIRgkY1CIGOOAqEa//9De3/hbx6EwTAcaKLiMFlE4aVeMl///+3///3qc6i0ujSEIcAY50Ic//NExBYRsjLIAcEQAeVSnrcEkxDiEPkYOcz1RmpLq6u1jLaznRGewd0c9DSB8zy5zbp2b50jiL3+IGC3PCX09V0EYVcW0h+FwDHoT5G///+X84cKFwqYhRAzhn67mRQh//NExCIRmULIAHlGcIeg7AbkWtDSkERCWKhQoof8kpB49SSKiLSsJQ6WwFzIKhqa/SrPH9xsfNFpiy2USWDshXQFE/4fm+hgqvCX//sc9ZL9TGvGcjyFCVbChOKWXHCu//NExC4RCT7AAMIScUtLlk2ZLmjKTUgM6RLv3NK3QpRqTMnVfKt9YYKiluqxkRZPg21ZQig70BUI3jD67Q7/4y/qcf9W2VyKkqGBEdBEKnk1BUKnayWFRMyiLgkJmZJo//NExDwSiT6wAMIScFlglGbRKdqSSSEgMe/MKgg2W5StgERIoF7KkcgAGQKEwcLbUREY06XlqxCGIetfhVrWt5cy7/Hyu5GEnbZ2CWz++TPBUEuyVayTonHgGwkyCpV3//NExEQSESp4AOYMcP120VLqIpqocoYYYIhiLhmLQeYnA6EYyNzBoDa69afpgUGLMlktWCluFbIYEkDBK0fXZnut9jne71v/1dNdBmz9vuru/0UirTIuIioTVaMxwtMm//NExE4QKFpgAVwYAAJebahgy18yUNMcGFVflE+YUBJ8GDtWgKcAAQCQKnd6EG4wsPDpwbafXTwuEDlANpwMow4+3V+BjSBxmAxcGwQLhD1//8ToThoT5w0HP///IObr//NExGAiEypwAZuYACbImKAGYNDT7q7//0EC+X3T3UaF/f////6cwIARAi580E7ls0LwyhUVd4LGTAJCmQbPDjyqQCAQgUxVrPK1EpxNvgFkecIZ40OirRGseJi6GCxV//NExCocsq6sAZlAACALPoUMcf0Lg6EANhBBSDQUOEAaLjHBeUCYgBcXd+7l7/nsTp1/9I8r/M/NdRMCBSX3z//fx///////+929NbFaOb2vWEk2fkG9+MRZSArHatft//NExAoUwUa0AdlIAI2PqX6XldfS9MsdxGXZ93sQhvf+/77PI9yMBWgYtMgX1iAKkxIyqoJhQgXcgJ2pNBoHWScmLTMWj4HKHBbFhAgnC4EIi1t1CJNtZwCIHuLrMBk0//NExAoRCTbEAIPScKZ+Xg71BE+W0/FBN/hV+/uMm/WomZ1FYRlCTvCwf2cWUKl3Ukm6hFDj4NNIm3EwMIxAv+5RJw9n+smqqzEagLkpNWO0cKP3ra5FuHQya01IcZJx//NExBgSSTrAAGvScNdwU6wQ2/6RHvUkQqZQMEoVDJEw3FpFddKUt2GZGMo3lbNKlA0LoOts2VVjRT9UeaXVZtEjgQ0RDRaw5ljdrTG8fLvGpFMOYcDhv0scT384GTMy//NExCEQwUa8AJPMcI6BwBJ6mecS3/Pp7IfN82zf+Mu+loPmCrU1bt4wcj7GgWhb7mAQgaa7mCRiJOImuxwMRCUt2UNJKKU7Q2+LRoMUtmMsKLVQ9SRE770mnxnvP4da//NExDEQQSq4AINMcIkNIhp9c6zWVU86eUj8y+t2XULWBzYkqS0jKAIyqZKViGArdYr7x55db1VtWVSmQmyGY2Q7EYIGYcHckiYTVIqhzD13RZa4Yg5SBpmhS6l20gQU//NExEMSCT6sAJPQcAI6qQsNKnku6qSkwbZVL5ZUoXvElPH7bkif4xdXgOtuH1B/hWnO7a+eu8ywVYBKBlgwCCiSVec9VsyRRz55NdArm2FSzy2pbpKLBokWfOlaEoxA//NExE0SYTagAMvMcGJNFrDRbc0yCDEseEYDuGFDwcJIFOC2G43R6j2XCfH6jWVSJ6LG8tf9tRyyVxTI4kgYiUOHrhoq4CkgasX/u3K/0ww7V6pWGAoHmAMVmEwSgoCF//NExFYRONJwANvGcOzemBQPg4DX0eIUYXFfmfkqwEE0VPNz0Vs4V9ZZftM9mzWcWEgc6v+/f1////9H/NI0gIzAgKMHAoCAkzJnDUY1CoBSLS3KwOyd52qIFqWRvUwy//NExGQQaMZsAO4KcNl3Lstu/lpV2jT5KUYpDASFBrr/Uq15qjb93u6fpw7b60de/f7aKluIrLrWDjINlyyw8qXKJ5qytP2mk8Kkx+GEghyKaEMOw5L3vGgwUNzmd/Zn//NExHUSEMZkAVwYAJhgQZPSJg6AxHmn/WEED5KKYKxBKJpv//0UqSOmh9NyFS1v//7qaboH3m7Zaik9tTf///74J5/hmyWMNWuOnylUth8v/////31oHHvecOMe+PY+//NExH8hOyKsAZpYAXm2XNKwFcN1YZFDRURk0vpoqdwiFU9zGn5/6mL//qgqnPk/lPPLcXGzTRiEClTR6AgNkoKxdEjA+yHh1FkAotr9+vzepRnyjf/////+parnN+I9//NExE0SCb64AdlQAI32w/0KGEDa5Jv+gzj4BT4+JR3Y7Qw3nkeYS7qiZmaiYqkiWc2CMu2gJpQLjQ0aRtoHw2c63f63//P///Hqx2E9ZIf6qoM1lDJDjhzK7zWW3Bp8//NExFcSEbqwAMHSlA4ecHCUrxYrr9okm+oPIxBi4h+fH+tfeH2/8Rtb8rLE35X073UFltvEJXQZsDwDi5pUSUEki4RAHHuluvoc/N+OkWUy2prZlk9FZtev///7/rez//NExGEaiuKQANvOuB6qlh8kxJ1ZBFVpkP1LhDnzXgIdOJqIjJgAxffaz2lIgxe6gJGCJSJokGfAN3Io5NkTDxpoJHDXrNNSz7syCa9m51T3OFVlaBS+iC+8gKV////1//NExEkeSup8AOTQufy/Fwra2PTnenRxemkZStOsdTdRX8/9/FfH9X/KUe5akSTaB6dBqEkDCENDRuux06qra5NCKPJpHc3FhkKJie1Y23RCCd6mJuJFCmFYBPOtaxvf//NExCIY8tKYANtOuVP5p0DdWZn0LTpvkmX3yYaLUYOEXQwFgiGlzAoLSB5w0Mc899PVzDDJg0Y9zgeDQxKPzER1emn/////3t933cqTmufjTCjYSpO95fGj7/NWgDaK//NExBEWQbawAMxYlDqUYjnHnlgWI0UaLLim0Oopp00jjZ0TiY5MmIH1c1WE9/fSpIp05afgaVESOOIxIJvHP8v+ZmlK7NKT/L/2GnMB0yJfe0/CKGTpjsBSKWp4jRCR//NExAsTSba8AKNalHWoAEhCXOhAn7rDHtGhNs4UOiPCqsOPPKBtprdMYiVbGBannSB0SGy6hvsdclD7aDtWpucZJqzbuUAix1WxA02ptVXUdBoAvTBPC6voA7yxOoeg//NExBARIU7EAGtQlN/GKUlIycPN9Iup8r6xPRln24CIWx2UHZ9wUIx99Bzf6HvySycFA+0i62l6wkQBZv6a7tyVQXRHECKGkzqD2lNMwKZk1AvCTdYuE1blbW5PaayA//NExB4Q0Uq8AKQWlL3cY0QTXSGIkr5NF/aoZ8bVr/q/bJ15kFHtIyrnBrJSrPRqSyVV7YuzBJGaKiRNS3wvzTLVo9CMVUVNIJbPckehkp+uNe3opJrdqQ1HooegdJ1D//NExC0RgT6kAMsWcJU7/9/pO++L9zr5RDVf9esJLf4f////+6lrUhjMKBQVOCB9oEWqOgYHCjyZ3Vtp89Og0Hd9Nw7nD59ttqRezlQ0QSaWrOyz5KsN7UHf91ksB2Cw//NExDoRkMaMAOPOcFhEEm32//+v+lgaQlU0QmHkRHJSAWrgGziECdmka+YgDoWrjLERk+mC0oiyPTbFbNoubZpctEFHmoCoC5jhAs0nTsklwEtaXOZ+Vq/UaSRt0f/9//NExEYSqMZ8ANvGcA/94aESOC2zlAEzcmT9M7mDsXAwUPEAIW/LLGCgyTSNQ45kWLimIkNcEKY1lTKKNjf+LVZmuvVUMKWCrO+qJfkWRnq//f/+erf//+gxfCqAZCT4//NExE4RwM5YANvGcLAVXQLJ47DT385/albYkxw5DzshoYnl+lrnuWwRC6NTXzouKRc8BR4nX9GHhdooXJmDxZdbqDrYxb0aWC6GgM6YRQ66xQMwvyDxA6R7rDwMnIhX//NExFoSKEooAVkYAPOZpggomtvALmFvhEf2ilRbg9QCSP1VQ1eVgGsBicZSr1v4WKF8igfQlxmP/rxVESE6B0g5Y7zal/bV1yZHGfMSJixkweLVa+3vV+rnzQeD5OCl//NExGQgEypAAZqYAAh5Pk4R44xp/6v/2/XzUcY72J9RRIOopkTSMSfVafMt41iSodovTJ0K4AGS4uNSKWb9EMEM84fjBUhbe50w45U0PxHBoXZNILSPYatSLzeWeYPl//NExDYeSyKwAZhAAdQ7HgDgTF9Jr4NaE/EUeHY5X6v0j+Yu7497m5aZr+nl7fS74+7kdN3211O7PrVXVxXafL+tXNi7IVTylf06TqVNEyyqTQY4XiODIYE2QcsMqalx//NExA8UybqsAdRoACSH9bakhdIb5kj+W/Wi/zrfRHglRomoXgSpzxsYnQoDyL0FjSJMgg6NEnPVzB/z/0h5nkWfb/RiiW7byqbViNksOJVV1Yc3nhnAAzKajUlqObJu//NExA4VSb6oAMlelPvh8oBDviBvoO/GP/dv1n5pEYHv8CBRhDqjQZrvEQHVuHqjvIkZw3xvFcMv/9dOX//3AjX1qDDqzbdd/87v+lyVrY+/tu61Klu8y3iVCDetOyUv//NExAsUQbKgAMoWlcQJA0zL4ffkZKUMEoCo6e0oWv46KXiYslZlHOudbUkCcUk2LSJxAgDAHG53aoTnEk7onSCASEEjbYk1O1/Dnf8NbX8omo0yIA2BPYQAAwcHDG0m//NExA0SIOJoAVwwAAzdixnWBdOAywATGIAYPKe8gNImK85jdkPdcsv//uJCc7WcS7ws4kS30yRIio8aWWCqHlgLZ//0///cuhZgM+hqgDbQKyITgyE+inSii7S9aTVJ//NExBcXKyJ8AZpoAAfNQfRGq2SXI4lhQ/w3BPx5iV/+TCgMAVjz//HmYNQNP/88X3SPG5v//+qpndaZ////9Ct0EN9X////+iblNTILTN2TN02jlnGwZ06mkPkAdCSu//NExA0U8drIAZhYAFH1clEkPi7aotD1lJZbr62Z6Obq2cLIOpRZJeK7ooOjsP5wDNh7YVrVFXxqnk55zEjPJzZb//9zfec6mbmJPUy1e93/ynhlx1/1aVPGBrW8ar6G//NExAwRaUbEAdhAASOg9Y1jhDcg3//UhgTfG5v+WebPwLiMs9A+AHAiq7oEqNFIHAcp75AqbOhhodGspE3x3f7/rWGfDhJutwcxtqREGLFDm9yYAgYuPDuz6/zdXxf+//NExBkQQTbIAGvScbmzP9IImmtgUFA2JY+smkil6hUqqEF4IshBNb08YFJyHe6xP7M+pterUPAOJHMwm4lKsAcgPwDRStmBgJoWJ987aFFbwIrl4rIhipUT5mhyOCqU//NExCsSga68AGvGlBDuwVmOw1KZHlNlkDB2CyqrA+rKRdLXkI1Ilxj3/UvmH9hgVFUw3gz+JWNabuDnNwiUqpX0UxhN2XVlV3dkN6XXWpw1M5x5r3Ka1l25S6yzV5v///NExDQSeVasAMYElG/SdDAQoeCR7lUFThYSqQQT+scXClePXamx0wBusV3K5ELNZLDMshsCLOB0kaa7FUPmbU087pKpgMO1J5wXokctGAyRc///vBUFRKd9zrkRF+9V//NExD0QAI6YAM4wTEKna7kO08OA0TPxMRoDcSfmAaDJYZ86TQjdI9J4JaRMpFEggFWCrn0D5oKKg7SbXXWf8nr8vr9/f16W9fCIRDEEM/JuSAwTe/T/+zoyavk9V/go//NExFASmZ6IANyElAZ3TorDGqKhEIq2tjnmYqV1j7AXwnzc6aCA4WlFXKQ06819b9RfX7+T0f29v/T0V1cg/+dJDgeBYt/7/6W2Mqqte08ZYGjD5tMJ1aO2FAFA+DKW//NExFgRIaKQANyElND+I2LRECbJsDCS+bEVSBIxtmaFxxeZN1v5vt7+vprr6f/yEDjEMxh2/rxxyj//66k0OqrDOreVWIZkvh2gmETxwA1tzW+D9BrlYyoZcHoZpdj1//NExGYRoZ6UANyElDcO8ANiCBBIOjvJfC1TvNf/X/6p6+u3//1ozqEDiz3MSqyAYsj/KNoGnwtVm1GBFqcPMsIQ4OApKUXQGRMa1B3jdFTogECFzo2S8kL0QETdNyXb//NExHISiZKsANPElJw/6+r+33/6P0C2lBiQxXUCIpEQrDqMJ4ml1l/uZ1sac17awxzuMLAPDr3t5kC4re7uCF7Zcy0xozuRA8DU/7CoGYWm4Cd39J+e9me9ODUXBWtw//NExHoSaaawAKSEleBpzxE+eFmDQ7aZ3u3///01d+1hD4IHDqD1EiV0g/AAQJK6heDSb5LoDlaJOvCOx/vwgEhAdOlaD3vo2+LbXJb/88MPXu6f//1osEY0k0ypcCA4//NExIMQGLasAM4STNMZHXI8ETUyztBagCNFsL60xxedBLj7zHlXg6pt3ywzRyqcd3Y89JXMldNn1fv5I4z//8NEuBzoJEzyjyHsQjWCxxm8LYGAzR46MW7UAa+FxC0p//NExJUPsIKYANzeSFwTLeu9YpkSEPCYyTLqI22bdENB1BKV6djlJ5WnnRKGmff/////lZPJLPAqdqo0fA+bIcTmuAm3zDZY1y8BJUEoBQDpRN/ZDfjLpOUAUDJKkCQm//NExKkQaIaMANxeSFYdXFWQ7Hlr6xp3T7nfdrGGv/sLBr///+m70zi+X0rCmC0dnUvdmcu0mtVbfbISJBs0AhYitxZCWNYXLoraTqlmRs0kfu5COFXB9FVnUqQ9UVKI//NExLoQYIJ8AN4SSDG8Q3uGMCKGc2l7BCp48NImbU5+JEdFM1Z2sKyKhWY/P2EP+eIid/djWX2kep1ZOndEvLO8RIuAOUQ43UOJ8olMzxM73/KrVtXMMbTI4s95t4+r//NExMsP+H5IANYSSP3EZ5la2P30z1rfrt6rMen//+ocPVsY1dcQ4kV3SaDH//////3fHp/ffpiZ/Gtd7Cy+rO8////////p6em9fGfnGf/NfOJ4e4MDcSjcRZTnRZoC//NExN4RQEYoAVkYAPg+pdc4XSMJBXpFT1n/kWyYu3a/md/ciEIpCAGAb0UDiApuKg40OMzOKCjMpC3qyOjcXI7Y6n8t/ogr/6LWffygkR2qtqfl2s1PHrCX4VPXuJif//NExOwkuyqYAY94AHHRFL//6y/9sHS/dqAgAH5xBJBafpRoKQD4kLJlBFtZecfaxEjYX5UXEQSOAtq1OjbDf9xoRTZE+d+bmZpZLUy2agB51sTg7O8VX5pQn0cambad//NExKwQsa64AdEoAE0iicdBvHYoA4M+Uh3EEtwqYGw8ExFA2JKc18XD463S++W897SpYrP2y3Un3asfQGoCyadRIeF/iSLxME+gG9Rhn5xI3iaX/KEK1aJLD8PIeTx9//NExLwRsbqwAMnQlIQgOx0nXvoCAQx0tUo0IQ62vunO/unO/uv7s0ApJFmEVuf1BADrNtj3GJA6QuJ603Hqa61Il300c/+xjn//8f/cc+bFChZ1glSAEAJuCeA8CI6T//NExMgTGb60AMHWlSpYmQocMiUAyHa+sFbgaN/0qjpU1rhgwt2OjjHqDVgGC9jNO6sWhmlLDrBUWDY5RFFtXzn51Zxxz/nN7f1RyUuRYpYKrWsiVBLW3K5pLZw4GQWd//NExM4RsbK0AIlWlVHjvyTFbmnmh0lqf///+vJVOB0DX1M2YCGo80gpMZPg/6uFBnRdWw2iLpYH4JR7KBkDxQGQIOJQZpC4ic51QEjDDHNMJNGFE0KQdQlQ+yhr01TI//NExNoRSUasAMNScKREVlXMr60EzC77lKsUlc8nfSo5QMlheU3hCm4fzAunA3BB+BrxrMjGfoH81/um8ot/dcfae4fZXDSVffiH/6TdR7tfgQ/1T2O4Wcpfn4//qXY7//NExOcUWVp4ANHMlPpmM/dt7xR/glrtbx1dF3Uw0Gd9hzxtZDolUdnjVw6lsyIai2G0tuYkq2vf659O9y5IfvG1+b8dWRNu3Tbxkg9q+LFzqnNo3Xys38HM6ubP4Rn///NExOgVGFYsAN4YJKiupbm+LN+h1HhVKj/D4bIjODV+T1a5gKZ9nAIdiImZy62mUfWHIqgKm0Lkubi16p6OEFzP8OqOH6dop0P+yGAzZ/8SlGOguO7O21zRtv0y7WKn//NExOYTaDYoANvEBTP7Rn3lWsY1JhHjQh7DktwEX/9cCAakP/fWZtv3wxsAEgWD35HBYALHCn9TMtxGAogoQAAAX0/dndTAHnBugAwQDekDXEAM/9n9wPygMBAGGAAE//NExOsUGGokANpGKQNBAscAKf//+LG4ZbDI4nMLQwtHE5gDE////DVApQXOGRxOYoMBIwGHgCjA1tAaWa/////4XTDGY5haHPAzCBscJAMjifxmBpjKDsVsTluyIazy//NExO0TuCokAVoYAQq895MJsRFMqLp5ckgzeyMyNzpoQwgZkGJwfw/rUXYg8hxODkBxw4iWFiUYkcfMiZIuXS/H4NJFrGQIA67GLLMU01MbkUSKhmbInDqTUlTdG1E2//NExPEloypYAZqYACmUDNab9TfaurdTzjX1ItQOlBFAyOpU1LA9ADjoaALBKKgieY1WvyjWWVM9Yb6Br+o6MEhq1lWfcjCumVelqaCPpI6kSIRn5Cgxh2jgTW9IsD4Y//NExK0geg60AZiQAJM7KoTOjCupx8n04wdNzn96hTxNWzaLn1ram8wW7cetlLEd51lux8/Grz6g+lPBxrepK+O8Vzjv/PUtI4L7LeTXm/zGix00UBnLEi5SjpRNi9lQ//NExH4bgbawAdh4AcQEVKjNd+ocEJQLYnaZ6BgEImT4o5idlIKoj8jgUKkCEN/o1GoNSFlFqmzpZnuOWdNnld1aV3Szdbknt3UljbESEqLBcjMBgAQXexOKJmfSFS0e//NExGMh8iacANZSmYkRrKRsxtZqpN7S0rSjOLbRIs+kpoUOvQgoU17+k3vxqv6hHfbDLldmB5sDxEnvXk9jdJea9g+xDETDwXKcGfGfKpy6S8JkhvOAalpp9MkBGxbc//NExC4d2iqcAM5QmcwU050sO/VlNHzv7x7////61/rf+lespSSeYwRiwjBCSeWiFSeaxRZIq8CynNaMjt69WxnZY4VNZJeSxxMi3Fdfas0l++ZKbETVvYbuNVIJblyy//NExAkTaW6kANUKlN3FGwCMl+FOwTGBdcuk8orgoBCgMmC+TAWIgKcScSOoGZWfRW3of/+v//n6jwML0ERcewoOaBQvLrssQUWdHIOteP//Svpe2YaNp4iKlvesMH8G//NExA4SSbakAM4KlPd84QkaFVyqygRycaw8T/PUTyVJhljV5n+tx/P//8//X6//+f4op2cIvRFL9+iD2Wg2yLbnIkTTkf/0VXSdyk6+hq7IidseVBDLZkWfYBhE3mnx//NExBcR+U6kAMvElAT/IZOw0RIAtLjNiqsHytQ1e/Xa1/m8D/sf/38vqTwYgJQHan7Km0ucRMnsDRjTrhg9mGvuqwQKnn96TAL+h1HY76OImdwimlUNO9YprTcRDTJx//NExCIRGMKMAM4eTHlJ8ZT9lhMRzFyb48XEFli/G8Ptlix4r3dRWVhxlbv/+oO1MvSN+hPRvPBbOs9MMSGi40BLZLCgBIOaylMF3XJluPZTZxOAS504kXnbSIoJUHgq//NExDARSI5IANYMTFediL9bjsGqFZH/5Y7lvZ0jv+j/9SoykAUBKfT2Z6y7j6uLG+UmVU9YdMvCqBhBOOeqsGgkTrc9zy6mCFGbxRqkoYFkxznw2ZqrU5h9A1EkOUm8//NExD0SqDooAVoAAIWoQpjHHiDT9aiDhri1H2WSbto9CLMY/z1YD0L//5t3PxZgBgIBoJ+8AKgBizoCicDWmf/C0YBgAGoAHAC7/+GQA7AarJwV8Uv//iEYk4nQXKKM//NExEUhiypQAZigABqgSh//+LkKgYgE4hdWHzi5yJhqv///8coUoQQihOCyCCGgbAFnw6cBgf/////hsggwLYEBHGWRzzcZMoGiBAB2KltWOJ+YCgZcSdq0SyI3p9wO//NExBEWgdrEAY9oAEzs6ImBo4DAPQeRdpJKQYuCSJjvLHTSainLh4mjDA6BtRQM1O1S11TVkjCmiqtBdlun0TqRcr2Uir/+1Cmge8u4DeRQXXX/V+jUkTQRhcSSwyQi//NExAoQSb7EAdFQAMbUYWwFkl1FRTEXviMBe3EcbWwuBaIjkgCgpSFnNEpGbG/lD/NL2qQHPqTGm85Pf1+r+RI9WnTVZVMuAPAKw3UpEUuN5+6QIs/Xdduk1OYfrNC7//NExBsW6ga0AI4QmD1+EE1NY/kwqnqbvUpAVilv695jNvmuOCjhKYLe/ItV0ghO+yCCHkfY2uPq+PZPjKMmpk2br//ip+DQ+AgA5qdCvSLoD7B4n6joYNM1LUmBjmrP//NExBIVogq0AJROmDAFGizyyHg7nRorZJElBhpo1ChQ00wOF83FPHczWAkQvcISeqiK95g26uEqkEQqMM/Lrea3ViFWUcMb76P3cceVK1FZWuVLtaUjs1Du71FhNrkc//NExA4UibKoANQUlKs9WM4BsNk/OEeKopMmmcJ5nZzh9ValESTUxcHLEokphxGAVEKQktC49S5xEPp2RE3j0aoqFBFH+3//qPUGiZtj6Er1Va3K8IWOaZ2T9mK178Eg//NExA4TMe6QANNEmBLvzrrOJKbtTE0ARLPcfCVbqNqltdaJlH0ll7GT+Xr/arUKn//+craqjzKDbkCN2BBb//9AosAOFVKGDFghqcJXNPGMCRo3IZOBQbKCYFPAHhuz//NExBQRwMKQANxgTNRzQRDPBcR9aiHixK/6uowLhPO4GXL1NqErBan/oh86LoGIHPKCYCuFl///5rQ4ODwwGrmeVVhx2ZbENWXrBI1M09NoFvw8BcQPwoTrrn/m/+Wv//NExCAR6UacANLQcN7Xnk26cXHiksCsA9ywCABFmRIAEJdKDsRya3/xqBO8cv////yf71LuW6QQ7PrmTy2fZ4JwhHfrgfoKB5aBz1+X79W+Ki+X8ckswRkEsCciEMsO//NExCsRebKoAMFWlcLFR1OKw9k4mljh3wmtT744rn2XVM4VtI4lTedxyQZB8OUH9A020590JYW9xGJeMC3V/X1fQgb/wJvjTe7+Ll/JP9QWE9nVozMu2nEC+0fXdZpK//NExDgSMbq4AMKelOsYxn/Of/m9f8QHDNc7hj5NvcVwEYTRFEog4JBWlAAqKzo531kse1k/00us21kgjyAaPXINwYtYJCAfKuH4e08nC1q4cg2upEAPV4Imv0/Q39yq//NExEISObrAAJtQlI3Fjredq9TwggcqScfhGu4jAGzjpD+TF/gS15Bk6/laKeSx+ZaAhmsSUDwjfUh6b8Er91P5Jt7iAdyweG9lj+96r+/0X8gSnQs+781TR1BHgPg5//NExEwReabAAILQlMSH0JoksyCER5arBDvaN+kw1N9+Xd9WRkM/2hzEqd/EJim35r5W6erf6t2RpQoz6nGejlsGOjww7pJbuLDCDhAh9KreHZgZfFIi3UyZWs3urKD0//NExFkSCa6wAJvElAlfDY4HHlI+gXKyWpVflfVvWpU/1fPH62Xf+5z/v6t39v//5WoYK6sFIZShVAD55G3ukVkkoT9NvUnYwCUYHqj/0mBYC35l2qFdoC6mmUxdASaM//NExGMR6ZKgANYElEqDqCNnDBZ4Wj0Lc63Sfl9PK/M3Tz/9fe8pDVCmlv6GsBNbX2P/+tvcMSillsmrv4BQof9IVVlAjIR4XyufGle98zDkAZEvmI+wy4CwjV1ivjy2//NExG4RsZKQANtElJsrO+Zv2fq9B+n7+vr6f0mRcSv/++Z1shmKcqV9v7f/+3uqPkszXIPDiVbVqu4ULYzFVENnVrsDf8ECIYnt0XZDLjvA4lO+gopJqR09gq8ciJvJ//NExHoUytqIANzEuHXda5EX7jkmzu3LM/cx1jv8N6y///f/+vn2397/7yKuEKSrf//yinUfiv//teA5JjyKLU2iwrqYmDvYLIX6Z7KQQEmYgSupK0kxYoht/bLSiqFz//NExHkWafaMAN4EmL8H2IDtxir6rFLhNLT5faBnDZIyVdTgomJzvBKbativ45Dg8FilKlIK45krlvKXKhY28oRhC8WgMc2uqEhYY+CubrFbZSG+2onR/WNJ2sLE5Yyn//NExHIhWcaUAN4YlDBxbQyscXHgQThYP/Z/FU7S930qwlNA0UE9wxjcoaUGFkosM9JBlkwgDxn5WAEe9EdLfedryg8em1DVUmlp4B4+/BwMFdC4RD96E/O3a4cGNc+I//NExD8YwcakANLYlD6WTgJDF1lIoem80vbKb2zRmDWHF5ZW2SCSexsMNhEPnuk6Iu3JYzs008z4FxKOuoO0LH475qRQEuoGjptS3/9TehuI0cYAQBC0RAFy3ZMRDz0E//NExC8RscKgANHKlEVNrMZSt/VtUMuHRUyHFUfX////X1OZpotAjgiMGMs/DTwhrtpnABCoV3b4wjmuioQE3UPRZg0h9bdX/+76j7Z326P0R9v/7elaF4dunv9///////NExDsRgs6MANtEuP//0kdEYKSDIApqNKKFSqwpiHVyTBE+4bEJkfXVi994XF1ZUEmBSRMALANgyJTwFS7rATSp4s86WKuY4KuGHmXSvq8Qu/JMrd//0t/adSRBrVUw//NExEgRmGaAAN4SKBJDEwEIGTBFc6ixNaCDORxTYtkhJfi1KpVGoelT7MNhNHDsFONduDxGMCpUWPSskDRI9zt1QVqPYS+p9G/u7JHR/9buW/7yqs4RQNuF3sTgwBzd//NExFQSGGpQAVsYAKia8lCeUzoWkLd49z6Dmw1DjMPqagylmRUSv5ot01IIlEqHgPMOX/Lizc3uXx2BSE4AaBNC6Ccf90KDGiE0HcJeOcOeO8FsEoKJP//Wbl96akEG//NExF4gUyKUAZBoAbEAaB4D4XwtBUSIw4k45zX//19m+/kUSssGIYl0+XET5cLaaiKVyB3Z3n//2+b4xv//+XrwyWe/tXJ+auXabLJPxdPZnEZgG3nxsibhGTLKsCIk//NExC8dww60AcJIATRCRngGXD7JPCM4oLTgiqHa8WU1aaZ/lc/DJbHL8aTkwnkmvmTkfQEqRpqKTCTVoaqm9jKl18lU00m5R8kCi/2MlPa8Ddsom0bSwCaBfHgrn2TF//NExAsRiTLAAICEcKcj6mAG8jf/tsdIzCGJVmAW5aKVBxRjGFDzss8RL3MEy7NNf2WVSwdUGmkbAaezg0sadWGgairnua0NVane8lwCAJ6qTOrEjCqdazlWOc0bSCpu//NExBcUUaqoAMtOlMvCrvzgyFNPDHNSmkgTgxl+cD5QOHmOmiquoRc4VAVRs8aNapZeY/sdbHCWg8Kz8Qso7O7/+ryvd/qV1jrGaKrhNvfw5cEMyrLHPJpCV+NgJ9/I//NExBgRWa6wAMrQlfA/33kGfd2SQJQ3Ti0zD/yU66V/1NPvgHgXluvJou9yqT8RP+09yzd32UOfC2qP4X67+mOAO8q+Q0scaUBojZfCXjH0NBo/P8sGmr+mgw7fXNQq//NExCUQWUKsAMJMcHCgZKMpytv97lv/vbs4MS+O+pSh4YPEQnA/vSKVpdd1dZicnOpVx1WAhE9d5Udj4k0q/hdlfKC937DZutBGBYL3LwW5brwt6Kw4sOCz0GiPI88O//NExDYRqUKwAMLQcN6wC6G8KsaAGts//1fXar9K+NUDj0T66lGxDw3puUBRfcNv7Fvi0v7i5v8yKZLW3/KbJ/PbxLnOOvXhwkQPtSO6w5EMMiP9fFI//+YeP/6Y+vnM//NExEIR0cqwAJnelLGz/vEtqq3f7YFSlrJfY18YbNR48BD/FfVytoUSM/Sv56z3036tWdq++YrlcZIGkOifAJCktmg/FOixp2CDJyuTbN+v2yet02tFdurwU+loE726//NExE0SQb6wAMFYlMYMScWJwzylDr3stgYGRuq2nIY299/1/n5/9s4tj2iwZoMNxuwsw+lSaqFJFWyLmk8PxdjDrSuVTrFmsS6jJyv//9FFHixUiyDAAgyKIFxYIB6S//NExFcR6VakAMielFdIXSc6rko3lVs/rL//WOMrr/8N///3/NfrUNtRQtZQsdKGgOCJSQ9UOQW2SCoSBo8/sdEQGfpqM3gGNiYyM0ALMepJHmYMllaMUgILAKGEQAgI//NExGIRwU6AAVtAAG0xDA1TcwCBAmAMGgM7i12okKbIJB6QzSCU3VdXJBjDoRqa2/L7KN6Zv7CkSX9ZcSesjW3Lfnq6l8vwpxi9XUdudg/8D9gXU39PlhgSzbynfM7c//NExG4fyW5YAZ1IAefl8pFxHVt4MqsHctvvedWQqoFh5wpL4jK2kDrdggS4XMqWHssJAUBIJjXGyZem8PBZMnjFZ8HeD+b2chBFhKYxNE+Osnn3xRSsIMoLySoaQBgg//NExEEhCyqwAZhYAIeEzc+s+5UaSXZqwPhIMnsq3737/fV2clk0z6UpjI37P//1s/em93cz3J1tW1s9/sr+v/+69WXzdU1t/PWrD45s6gtVsZY7pRWaze43HSKkglLB//NExA8VYa68AdhAAPP5Wu+Kc7zck5/cOA9b+B1fAcL8SJRadgUAQOaSgEAUil0SLBGK3jAaA1QyxgSC63LwPn0S/+f/if7s0iD4MsOfJ/////61w7/LYUS1ex3K6LDe//NExAwVGUq8AMPYlaadfxMAYSa3BGG9tbTeecXP8B7r/B+V18N5cGa0wRBm7nYsVf8wvmUcynOvpjJLKyrcokKrwNhN7zuK9wY5HJfm/59/QyF+vmptZYBphWaoUORZ//NExAoS6VbAAJPQlB18QsGi+xQ3Aas/zQkbjnfhuX/wfl/+pDxVu9OHYAY74Dg78gVX5sVr3GrPBguby5xISLiGGA7HPWFaBa7UuGTsza0YwzboK3kNfVwcHIcM66R4//NExBEV8gKwAMYKmXRiursFoPOrax+AHt53+TuX/yUN9n/Zlc0WosMpLTZ/9+/j6xAfq4iVM4ddkEQGDzqIiLdUrL/+peZ0KqMxlZbHJGI9FK5ROAOY0QqQ7kWfIZet//NExAwRaMqcAMPMcCTWlbK9J6EdLy+rsYI4VQtMszFJG3Bi67bQMmjRJYBUcSJLIjSr7TznSyoiUDWDR7/rxEInxKCoiGIGnDJmTjWTsQTQAVUkwi4SKTWUMS7JCUJh//NExBkSEM5MANPMcC6FuWlKfBti2pBPo1XbrCje2fppaCX8suSzAEWE//BUYew19nK///Ks/6vb3f6qqjc+BgjBUADc6z3zdFM3qXoaIigBEcDMaOsY1K9MVaUCZR7X//NExCMQ+DYoAVkYAKS1j1MI2CNhFS2oab2JcM9aXRWUIdZNbp+Ufv7kodMtMSRYlnA9kQS0Dw/hj/QBu8Lm+hhQIWjk97rNzcWQXgbYAtb6kCcM3DaQM4QHzAGcB6V+//NExDIeAyqEAZKYAFdBPYKjGRHeViIDL/234vRhiyBVk4aEA//+5dJ8i5wzJ0vDgKH///5RLZbJwzMz6ZqT5cOf////5qbspA3Jg8Souc+YHTd2v3CcjEwpo4xwcJ7w//NExA0QuTq0AcwwAEgBBEWdxweXumMFFUee/352O4sn8kIQiURJ9qJCIMny/ezCCp2Mc09kIUKq+n/V1Ic63///0sfdQl4zdbuYBXPnhWCFJVSZoHpnUJYm1yslnwYl//NExB0RwTLEAHtScO1xXDfMbQ4mKwLM+9WTjk3oYxgw1/1F1VoMogACAPCAFlGPGNaF7+79KtR0IfKamWGTF7YQGOKY6B2eygVakVlYenyYb6ZFIXEkJZdQQDYxTwui//NExCkRKa7AAJNUlMzxMZpUhM3GrYu3YjJeRXeTtqd76q+xAEbv/028zBLDS2UoZskdYfjTWgCEs8rGhGoijsXlRD1Ijq2JsRlUgbxY2OFq1E986U02yxqjjI5Nqdju//NExDcRmVLAAINalADdLIWKsFWqf+wWS9xvdQrmsZUioUWu39qq81yuwhypSOEaxrDwhNd4gmTjeZFV7/SO3lvclnckENsRKS1CfIKyc7VK6k+o3rdZprOodJ+l6PmN//NExEMR8bK4AMPalUubcWfu1q28Bg5jHJTZkJMDh2Wp0P1ZYp4q5YXHe1GxOW4eZI3si2NDQmmhQiUUmVlg0VDOWyARoaCgdIkWFYlGgqJbv10zwCUXoTW1S2xQAYim//NExE4RmNakANPScFBGLSkVADyWYBPASt9Xb417qcHhN7IPmZLZ6wQpoyiElYYmKCoie6plDdJBDv8UkgkVNDlJeaOtJU///+ZVp49wdaPMxm8RWmBhYG9fAoNZt+A4//NExFoRELaUANPSTNVXIdx+I2Gz6gsYfCvNO2WEMV0J9USRbYVbEAjNaPdOE//FQibEAiA5M6be5i19LAHR+G1jk8iSYuOi22IsySbkmM0yHFSOdH5PImnygePJY7y+//NExGgQsMKMAM4STCA1x51TuElWoPiA0ENrZznqx7Iive2fqjKhyWZFnac1bjXSMe2q3vC+TefTc4x38RPp+KojQVjOjkZiKXFRmoqBipdshlOdAEGgw2yiRxfEUMdO//NExHgSiaaYAGPKlRiTTS/b2esOYEiObZfrPPBdIZKfxPpp93Ee1f/cdiETduTjzWYCfP7GRCJh5A8pL+iKQz4KCKeE8eDhMZL0aT0p+4gD2waCWwjhx8PFPN89Wi7///NExIARyPaoAHvScVE5Fb23CWZrofrVFM6zfewmwKeWs5kJebvMR47OXKwOFjWhCIIsPalUmJ7tPF6FfUqqDNx0pDspAXD/FpYe10yVDvEcxUtXF3MTBKolLLXbaG17//NExIsRwV7AAHsQlRFR3DdDI4EMh2HqhekpE9G4MJAbpBTAsLT8RihQimpFcZOZA8OQjvzUQRBDxZi9SbLJrVq72AusVOHiqniMqeBloKigl1WkeLf/QgcIkDSZkgwI//NExJcRwUrIAGsQlZxIGGY3Fi4IOBabdiTGTAkHJl1t9UERnAhtGp6GWqpgwLS4ZFUMFirhU3B6EacKkTVhUMw3rNai+/8G/0VyLB8bLTgL80weMXBRo0MtODKyIWIm//NExKMR6Oa8AJvYcOTzx5pzskyPsuJzHq0F2OLLCcpcWBaVqJMlqZt4mhhGUrjnQoRUiCwaaInxUFXW+2R6VjB4C5YCUDApYZIwMZXPkkeTKEmBUqo5KSYii4aDhkaL//NExK4SaOqcAM4ScaJJpqVawFbwku9mlSZEd1UEyGensX0rE5GLXPcpze3RtqW/WhkwugHpMoHTFdlk7D5+3f6Fw++BXB0PA816Xagol4AEKmnhcXFAsPeo/h1K7Htq//NExLcQ+NZkANvScELS5enU2p0fuWbi8ccSaiBbpGoBXMY2LLW51NWbYatRHISb9wVBJgBv9TxlWhH5UCYmMBrBG/ySOtA8N6Y+k3/yQcJA+SO8qMzpT/+2zjCsfycc//NExMYRoFYsAMvMJD8wd//03MAgJpPJcQBMZ0PM///mxMUVJ7XMzQ2hzXLnp////9A0yYVj+amY7Cdu3LqkkB60bVq/////x0SdN4PoHDcd677r1CVEtRNETVua66rd//NExNIRyCooAVoYAC0uMRgQpXLqtN0qjCDRdyZ3KmAU21s5dm1gLdKXjYkQdBPNWOmwKwP5RPKFkJAYJEvJMSh9kc86PdvSbrOHno0SGaHmdzqtaCPrVXWm61Xd0egg//NExN0iCyqcAY9YAPq1M9SDmDLW5gktxlu6j9Vk9ArA/z2SCAogAi6SxNgBykUlHR0At0qJoEYFgAq0tF9EuiQBcl1qTOEunrUVvWZepv16Pb4uVGOHgTHDHlCc1akG//NExKcY6h60AdhoAVWxapymmTzvu10lDjyRVnIMDJXK5O5c7gm+Tt0fOdUNIrJzqaQdYCyQhDYxJsZoDRgSibFsnQFygIQZkfUkfN7qeaPasu/W3/r+3r7OFWHrAYUH//NExJYV+hawAJzOmTO4RHqyKVZtb9fo4mQqB4gijnIeLaDf+659VcM/+kGXQ+Z35febuv8zAdaQJghoDimhSYyEgA6yIuXljkjkA28N80tWl5x/v/////5dAICASiSs//NExJEWGiaoAM0KmKjhiiJlv+ZPJPEjxb/q+hXb/5TbYiSKdsczaXTETWKsTOW8uVBxUsu11j5BBkplszc6WCELtTrPv5/Vryr9399OosIgyb/5Jhiz//9yfs9CmYxa//NExIsR0ZKgAMzElL08DCk4xAKBCLzcegVO+X91MS5ww7FfKBOGKBmVLI46qX1V21/SO+TyurFgxW7Nf4jFDiAH/vgm0D///rLmf12MW8bFOyUzmPUDkWNp3m4u1VuX//NExJYP6LKQANYmTDT6jFYVf7adELDBYHHnuatUD92//uVNY//3ld76L0R/RSN0Y/7//RN1Gaz+k4HHdP/+9NXMH4xKwvfWfxGcRVjXyvH4hudnjCMNg5Ri/Ym25mZC//NExKkQqJ6MAN4eTBAie1JYRkjlAxRyobAJ0OJSVO7w//3SWMP/9Hf/////RRYHWFwfN3Ez4RP/+UkK5h/1o2S5e+cuTfHhLpBiZzuOoiKmcajlNLKoCJHK/cmK1coY//NExLkSqZKMAN4ElIBx73ue7WP//5p+v///+5DHVHEMHAbDzAiQFk3aNRk/lSep3DOYUbEFl/zmEzJQvUFZe197k8AeQrYllwchLABUjWK1V2N46ldv0gyRt/Xrr/////NExMESYVagAM4ElP/8qvLBlAQohrBVKQ7HARMVr8eKCi1IiMyqyhczHCoBmiw5mAK/Ebl4wAFkSCf3D45Ased6vPMo81DCfF3GOqDScmvMeLxQgHYtR3U/9cqlYsvQ//NExMoReW6wAMYElC/pyp0anf///ZIhbQzopZiOtyMCHD2hZfbcIyvkw4bWtjUeB3b2omnOnYFc5PHASQ+n0FjV7x8BxMConFQkXDLz7nCouJxQx0Cj1lLVaHK/y40f//NExNcSiaakAMPElGr///k1FAAoUEI0IkEC67V1pK9hpY7OB7iwSCGujokfCrMrWI0njY7KEl16vYx4UECtGAyRMkkVmSRX1n3UJnlQaUms3I0G3MzUOHW9N/uuVaBW//NExN8RwJaUAN4eTDez/9Yo4AHAGDoiQAWtetXcrp2QAiCJvx+3wkIhFD2ZNqhVO5vNxNCfLbMon4DGOnEA5HCNvDyZ8MwR3SP/1hkEDLv636r9P//+yk1QLsBU6OsF//NExOsVWIqQAN4eTE5IKpqddIKA5x6Ob4ErWjAXCzPjcSBaWILIKFmI8j65VLrc6jIYJs2bncUwWHltp9GcXd/T28efvP//WJau2Tolnv/1Y4cUUoMyOU7tZmMzEIMC//NExOgUUKqMAN6iTAjEhQVFLorZqb//2LBlBwVYCQZSgOgUdSrfaFJ4+2dltyOhVCJDqehf8GlVI1KrprW7VdNKpa1uHI4ASMepXjU5ZplUpK3P3rv65v/TX/9/Qisy//NExOkRSI6UAN5eTBDiAgg5SsytukipaRDTgjhMIf3f//2KF3TdsSp9V1HGhSgT2J6GOAcEZPoWUFgrOg9hTbSWWXaEgeyzkA1gdASIpSOyzcuHPdDHf9tKEbdd/Xre//NExPYaQZ6MAN4ElEK5WFQgh3iqlDaXO46Zf////+9xqtWlnrAFQw9eUxdUYECIFlkLbghhxbs36xZG12xldJ7ue9YqxkCIKJGCBlUa9VZ//fm1KUxRUsweMr/3fc2T//NExOAU6aacANYElFf//+t1sIVM0K3X3AlOB/JfsSKiUvR9IeIQp8u/LIttY9jyRgG6UyVWCmDKrN260ZsjUWH6jWtaT1+l0tSLVTP0//16MXbV9XzN2pOrf/9/9//t//NExN8TkU6gANsKlKTurkNsSdw0UOg+4xQstXDpVJGRAQGmJFmeAQmDhwzCJA0J77tg2fmAXG5kBXLUR/C463/RfMjVFMk15hqQ789rPaPgn1///RjYmqGWj1LRzK06//NExOMReT6UANvKcGnf/////SyXDqquijXBCxN4EjgVCB4h4YQHBkqcD3vL9pyGEB6JB15l3gwAQqMbWbYykj9X9TjvZU8pFXXyMkRGu/rcWeWX/+SsvUydXInf//5K//NExPAWKuaEANtKuCG/BoGgKAmKMhGmPgzRMkjLO0zcM7lhMmCSMsRSFgrMaAvBAZmCoVmBITGBwBOYoEyQvm8omgUxTEtGovOWF8dxTMDM+aufc+Ti6mmbIImJY6CZ//NExOoV8tJ8AONEuSxQJQnkua2rZaC0lLIZomtbuzugmg7L7akbpnnofn+x5ZjRd3trzBsZvknbIQD98lg+wOWjZ9AqPkbXEssV/8UzfigVJRRGSwMwFkyAGyxdnbIE//NExOURwHJ8AVwQAG4C0pMxf4RSsU4Rc+aFMipFWPHBzyDuQM1J0irsaHigOeQcnCYJwomopIQWD5iaZZsZDjdi+buQ0Zkc0yNikmyCSSmUzJvIqeIC5wrG7pHzGYv///NExPEjsfJYAZ1oAdbrs9VdW3/+hVbRRU6///3UyegghqVu7rUo6ovI9tT0KmOiEABwUAzoyAHLKjMeZ64GXixhQmYeegp1f2TLXk2rLi/Tu9doW5rqyKYjFUzC8DWE//NExLUgiuqoAZmAAAD0cVo5EMmrVEerlVPd3u6u1tWmtW1i9Y1liylJvL3lDla0+Ypnne3c+m0mm3l1qPzaP//93rtkjLnipsUC+25pmoxgqw9gREhEvGDNswIRa4Yo//NExIUc4aaEAdtgAKB6RegBbECAx5qe8pKzKmGx+DG6rDM/QTg7MqmizBfJtn0u5T1imprOOGs8tYVV79nu7bv//24JEhBwUD8s/Zd999+zs/2m7xFHnDzT2HViv/93//NExGQcKZ58AN4MlEUWbbDZs+QsW6tR0PWIOCVDoy0pXMzEypsCA5mxgtECh1rAWDhYh4vMSFI4m60PRhOR2mvigwFZ1FDFG1+z89ZqWLPMN8/WWX89jTt3T+tlYqEj//NExEYX2ZqAAN4ElJTilk0N1u9LNkFMox2aP//5drWDVDQohr0qlUMiEIJympAw0cYepoAQprRkwsKMlVqEwrBP3YEp4mxNrr0FrAUaozydnozGs8qvAqXsR/9NQkFh//NExDkSmJKIANZwTHGvv+sdvcilzb7P/+8vQYIyFZRt2BtloRsiJZA5IfWGlTAQX6NxtxfcizQNq7x2i3EpPYBIExQkqHKNLrMlVaP/9xcMrLAB1OlEKJrVZbv/6PrM//NExEESGJaIANYeTNhQHBOZBsNKszQAiDyoZMdFIG+vyrWEKLEugYrKpE3DPQ6lUXVhJiSZUQFylHFH03EJuOf//SsBDkxivC6Sf///8fUwgAAw42mdcoguF2omYoS0//NExEsQQI6QAMveTDikvpUhMU2C9wzOGcsE+VjIfC7T46VMc5vIud9SX+XaTH/u/kgkREMVquaIQE0sMjK6LP/1ui61DQVUD4IjaoRLAvMJjDkDIpj2cARQjla49Ljc//NExF0SEJqMANPeTBQ8LC4GiBOY+jQJsd6HMi+3vZN+kMCHFp//+x1tzmETiX+mxdrf//1w0IXBSof4YdQFJUMbDLqamjp17rToez2xOBwyZicKIVQSCGli8K5WLK0s//NExGcQIJqMANMeTGPesYOf7//WMasAioiDwqoVv/qDzLLP/26shVWKstJNAs041qR8twt4hZo8VJOTuL+RgTIn44jZHaCnHMrSCE+bGVdaveKq6Xi0GhcN4yyV/+xg//NExHkQWKKAAMseTOe50eYAJzpmp1DVKFfr/55GwYpkrCxWQtMuyprNXp67ST9yGYk5MCFqN4GaSgmZaI81SbH+chpK9JR21FP2tUvX0z+JLTXsy25v////7foa7IDE//NExIoSWK50AMPeTKK/dcS///66A1hZx4E2MlPKVeb0NIvRGRTNAbByNJMQYnzWsFyGCYZqluU6En8xqliisUdWt0eKDQiBQGf//j0tdSEiLv1Rn///1wH0EJE8HrJY//NExJMR4ZpsAMPElHGlGl1FtWorEI0HxkojYnC6TThPPzv//LJZ9lBAhI+LMpCQuK1iotiwuK4q3WKcWZ1f1C7MVFv/xTULCqpMQU1FMy4xMDCqqqqqqqqqTEFNRTMu//NExJ4QuK44AHseTDEwMKqqqqqqqqqqqqqqqqqqqqqqqqqqqqqqqqqqqqqqqqqqqqqqqqqqqqqqqqqqqqqqqqqqqqqqqqqqqqqqqqqqqqqqqqqqqqqqqqqqTEFNRTMu//NExK4RCN1oAHpGcDEwMKqqqqqqqqqqqqqqqqqqqqqqqqqqqqqqqqqqqqqqqqqqqqqqqqqqqqqqqqqqqqqqqqqqqqqqqqqqqqqqqqqqqqqqqqqqqqqqqqqqTEFNRTMu//NExKwAAANIAAAAADEwMKqqqqqqqqqqqqqqqqqqqqqqqqqqqqqqqqqqqqqqqqqqqqqqqqqqqqqqqqqqqqqqqqqqqqqqqqqqqqqqqqqqqqqqqqqqqqqqqqqqTEFNRTMu//NExKwAAANIAAAAADEwMKqqqqqqqqqqqqqqqqqqqqqqqqqqqqqqqqqqqqqqqqqqqqqqqqqqqqqqqqqqqqqqqqqqqqqqqqqqqqqqqqqqqqqqqqqqqqqqqqqqTEFNRTMu//NExKwAAANIAAAAADEwMKqqqqqqqqqqqqqqqqqqqqqqqqqqqqqqqqqqqqqqqqqqqqqqqqqqqqqqqqqqqqqqqqqqqqqqqqqqqqqqqqqqqqqqqqqqqqqqqqqqTEFNRTMu//NExKwAAANIAAAAADEwMKqqqqqqqqqqqqqqqqqqqqqqqqqqqqqqqqqqqqqqqqqqqqqqqqqqqqqqqqqqqqqqqqqqqqqqqqqqqqqqqqqqqqqqqqqqqqqqqqqqTEFNRTMu//NExKwAAANIAAAAADEwMKqqqqqqqqqqqqqqqqqqqqqqqqqqqqqqqqqqqqqqqqqqqqqqqqqqqqqqqqqqqqqqqqqqqqqqqqqqqqqqqqqqqqqqqqqqqqqqqqqqTEFNRTMu//NExKwAAANIAAAAADEwMKqqqqqqqqqqqqqqqqqqqqqqqqqqqqqqqqqqqqqqqqqqqqqqqqqqqqqqqqqqqqqqqqqqqqqqqqqqqqqqqqqqqqqqqqqqqqqqqqqqTEFNRTMu//NExKwAAANIAAAAADEwMKqqqqqqqqqqqqqqqqqqqqqqqqqqqqqqqqqqqqqqqqqqqqqqqqqqqqqqqqqqqqqqqqqqqqqqqqqqqqqqqqqqqqqqqqqqqqqqqqqqTEFNRTMu//NExKwAAANIAAAAADEwMKqqqqqqqqqqqqqqqqqqqqqqqqqqqqqqqqqqqqqqqqqqqqqqqqqqqqqqqqqqqqqqqqqqqqqqqqqqqqqqqqqqqqqqqqqqqqqqqqqqTEFNRTMu//NExKwAAANIAAAAADEwMKqqqqqqqqqqqqqqqqqqqqqqqqqqqqqqqqqqqqqqqqqqqqqqqqqqqqqqqqqqqqqqqqqqqqqqqqqqqqqqqqqqqqqqqqqqqqqqqqqqTEFNRTMu//NExKwAAANIAAAAADEwMKqqqqqqqqqqqqqqqqqqqqqqqqqqqqqqqqqqqqqqqqqqqqqqqqqqqqqqqqqqqqqqqqqqqqqqqqqqqqqqqqqqqqqqqqqqqqqqqqqqTEFNRTMu//NExKwAAANIAAAAADEwMKqqqqqqqqqqqqqqqqqqqqqqqqqqqqqqqqqqqqqqqqqqqqqqqqqqqqqqqqqqqqqqqqqqqqqqqqqqqqqqqqqqqqqqqqqqqqqqqqqqTEFNRTMu//NExKwAAANIAAAAADEwMKqqqqqqqqqqqqqqqqqqqqqqqqqqqqqqqqqqqqqqqqqqqqqqqqqqqqqqqqqqqqqqqqqqqqqqqqqqqqqqqqqqqqqqqqqqqqqqqqqqTEFNRTMu//NExKwAAANIAAAAADEwMKqqqqqqqqqqqqqqqqqqqqqqqqqqqqqqqqqqqqqqqqqqqqqqqqqqqqqqqqqqqqqqqqqqqqqqqqqqqqqqqqqqqqqqqqqqqqqqqqqqTEFNRTMu//NExKwAAANIAAAAADEwMKqqqqqqqqqqqqqqqqqqqqqqqqqqqqqqqqqqqqqqqqqqqqqqqqqqqqqqqqqqqqqqqqqqqqqqqqqqqqqqqqqqqqqqqqqqqqqqqqqqTEFNRTMu//NExKwAAANIAAAAADEwMKqqqqqqqqqqqqqqqqqqqqqqqqqqqqqqqqqqqqqqqqqqqqqqqqqqqqqqqqqqqqqqqqqqqqqqqqqqqqqqqqqqqqqqqqqqqqqqqqqqTEFNRTMu//NExKwAAANIAAAAADEwMKqqqqqqqqqqqqqqqqqqqqqqqqqqqqqqqqqqqqqqqqqqqqqqqqqqqqqqqqqqqqqqqqqqqqqqqqqqqqqqqqqqqqqqqqqqqqqqqqqqTEFNRTMu//NExKwAAANIAAAAADEwMKqqqqqqqqqqqqqqqqqqqqqqqqqqqqqqqqqqqqqqqqqqqqqqqqqqqqqqqqqqqqqqqqqqqqqqqqqqqqqqqqqqqqqqqqqqqqqqqqqqTEFNRTMu//NExKwAAANIAAAAADEwMKqqqqqqqqqqqqqqqqqqqqqqqqqqqqqqqqqqqqqqqqqqqqqqqqqqqqqqqqqqqqqqqqqqqqqqqqqqqqqqqqqqqqqqqqqqqqqqqqqqTEFNRTMu//NExKwAAANIAAAAADEwMKqqqqqqqqqqqqqqqqqqqqqqqqqqqqqqqqqqqqqqqqqqqqqqqqqqqqqqqqqqqqqqqqqqqqqqqqqqqqqqqqqqqqqqqqqqqqqqqqqqTEFNRTMu//NExKwAAANIAAAAADEwMKqqqqqqqqqqqqqqqqqqqqqqqqqqqqqqqqqqqqqqqqqqqqqqqqqqqqqqqqqqqqqqqqqqqqqqqqqqqqqqqqqqqqqqqqqqqqqqqqqqTEFNRTMu//NExKwAAANIAAAAADEwMKqqqqqqqqqqqqqqqqqqqqqqqqqqqqqqqqqqqqqqqqqqqqqqqqqqqqqqqqqqqqqqqqqqqqqqqqqqqqqqqqqqqqqqqqqqqqqqqqqqTEFNRTMu//NExKwAAANIAAAAADEwMKqqqqqqqqqqqqqqqqqqqqqqqqqqqqqqqqqqqqqqqqqqqqqqqqqqqqqqqqqqqqqqqqqqqqqqqqqqqqqqqqqqqqqqqqqqqqqqqqqqTEFNRTMu//NExKwAAANIAAAAADEwMKqqqqqqqqqqqqqqqqqqqqqqqqqqqqqqqqqqqqqqqqqqqqqqqqqqqqqqqqqqqqqqqqqqqqqqqqqqqqqqqqqqqqqqqqqqqqqqqqqqTEFNRTMu//NExKwAAANIAAAAADEwMKqqqqqqqqqqqqqqqqqqqqqqqqqqqqqqqqqqqqqqqqqqqqqqqqqqqqqqqqqqqqqqqqqqqqqqqqqqqqqqqqqqqqqqqqqqqqqqqqqqTEFNRTMu//NExKwAAANIAAAAADEwMKqqqqqqqqqqqqqqqqqqqqqqqqqqqqqqqqqqqqqqqqqqqqqqqqqqqqqqqqqqqqqqqqqqqqqqqqqqqqqqqqqqqqqqqqqqqqqqqqqqTEFNRTMu//NExKwAAANIAAAAADEwMKqqqqqqqqqqqqqqqqqqqqqqqqqqqqqqqqqqqqqqqqqqqqqqqqqqqqqqqqqqqqqqqqqqqqqqqqqqqqqqqqqqqqqqqqqqqqqqqqqqTEFNRTMu//NExKwAAANIAAAAADEwMKqqqqqqqqqqqqqqqqqqqqqqqqqqqqqqqqqqqqqqqqqqqqqqqqqqqqqqqqqqqqqqqqqqqqqqqqqqqqqqqqqqqqqqqqqqqqqqqqqqqqqqqqqq//NExKwAAANIAAAAAKqqqqqqqqqqqqqqqqqqqqqqqqqqqqqqqqqqqqqqqqqqqqqqqqqqqqqqqqqqqqqqqqqqqqqqqqqqqqqqqqqqqqqqqqqqqqqqqqqqqqqqqqqqqqqq//NExKwAAANIAAAAAKqqqqqqqqqqqqqqqqqqqqqqqqqqqqqqqqqqqqqqqqqqqqqqqqqqqqqqqqqqqqqqqqqqqqqqqqqqqqqqqqqqqqqqqqqqqqqqqqqqqqqqqqqqqqqq//NExAAQMDYcAUYQAPBhAgQQwmAAAQQDEoCGoHwfB8P///+kEP8Mf4IOy/Lgg7Ab6wfBAEAQBAEwfB8HwfBAEAQBAEwfB8HwfBAEAQBBysQElXoQ355rCPURWiJD/aZ1//NExBIV6eaoAZlQABYoeLZGTkwmD/3oYNxQF2W/bj/c//YxswqLAnkX8fk98kEUQDYC8eExX/kBIeeTmuY5GSCQPQpxbOJiL/9BFpxLf//lPHqyJMjmhAjEeFtEpDlA//NExA0UKdK0AdRAAEQADSAdvW/j6JxvhKH/KqCwt7VUv/////l78YHYu1wWCCLuEwTh2+pAL8UahY0UqLMuJeBBIBoOpw8FxQdJY4aduUxN1z+ZDBxKFnPfv8I6qMsM//NExA8WMcq8AMPSlToVjCpIskTOy3udN40SA6Jr0XBPQkZY4/xakTd9373/3v/89urFKWX6Zcj8FyEPMI5qiFAjnsOqox9TZaPxxYugZWXIkZ5G3YqV9M8BdNHemKod//NExAkTObrEAIPQlGMzFgUCggRNbzzdHIsap0UP9xvXDaXEEHanhH8h8T/JNv/Kr/KI/VR1+xQsHieUYC9+Li05jU+5pjle4KHjjFHERn/WbzICbPspZwGoMl6t6jIZ//NExA8UUaK8AI4QlNsZ87VJRvZqxz18o4UvdUE+SsgS9/NUEI1v4D7quA6r+2W/4K+Og6LvqBcKiOxHQq/NPJHU8B1I0MoevvD+Ey0WWir0jwHBB5mc0CEAxHxrSp4h//NExBAWIaawAJ4QlK/PY44XSw3G3epLscAQbe6StHS+5QXWGsb8d/6iRBHf8P/GVf+x/6sA4TuNLIFgDcXfFxF3DS7VINrBkie7oNg20YCZ0cMQQoq9vn2SEQj2nFFd//NExAoRcZakAMYElNE703R91VqalV299yPoyvDTztNOoIgwz3Wd5UKlLTcO/ura/+pW9/mN/zIYz1LK3po/xKTtv8RUB07WNnPyszcOAkZOVVh4Dimo6/CCR1u9y5uE//NExBcSYNKMAN4KcO/52JkonmuxWxKAshJIXaYBw9bUf7iGrlWq0LN+zoyj/WtYaEYBDYKJff//aqTfexZaum4F35duCiFDD0mBZ/L40BrON77gK9Ax7ytY0wXrNFjQ//NExCARAJqIANveTIgg85M/HeuiF1D86XUTzcia66OE3oYj+tz0uYj//Xueve9T6DjB8eagERsMLXGuR5wBa28iQZ7ABSnZV9KHoLkmm1kSyAARGJVWhCGTjaFbQZ9I//NExC8O+I50ANvSTGpLiWip7lnf/8O/6dc0TFDg6CCg3MeEEx8GwqGjCoWEgsYCCaV4KALBYKe5lLyqVIPQh2n+zpTIsAg08612W7zvtx6Hf4a7t92j0Ow7qnUeJazu//NExEYRoF48AVwYAIXvEU3eBIwiRf7BAULOCHBy//YPL0xqTmiCBUO4QLxGxGxgxyD6IkYxh8ehokXGHKMcJIOABwfkoXDQvm7kmMGPc2Jxc/mBcZb5MNSDIh8cf/W6//NExFIg4yaMAZpoAAhT0CeyBPPm5fTN//0GTTf9iTNzNMvMdQOlRod//9boIMtN03/NUy4ZmbMRzQwMy4XFlNnHcpXibIBroGmpHR1XikP//fhzLL/3cNkktaCdT0TD//NExCEWEbqwAdhoAOsuJaqhyF5ZdZSARceyDsiFcBLCYbmKJwScnMZoUSeffmJgyqDnTKuqTS1boIKMGG1v0P///0pVtrLANXQXuZaJ+HXJ124D/oMJ8X/Hhu/irOPj//NExBsT4b6wAKHelO1McHvvVgtDhDiZ66H3AvEs5okQE88R/BqxTff9XX3/WC81n/LDbW8fCemNVO2af//VZ/6l+iBVoG3pSbK6QW1Buwhfg6FO+rhREadRJORueDW///NExB4XUcqsAKKelHMJY16bhi5iYPYUsg+inHXG3rClJyrpsbwbwmxM0HjOor1g1/7Rba39arTf+YLC1RM3oxOT2Oz2EP+3/21f+hW5SYcuOAMcE1wPT5333UrCakub//NExBMVQcqwAMNalLtF0YRb7mQWRpdNNYnJo1ZuO8XLTNwTwHOaL1hyQQlBlKoFwpoWohyTRzFJagxCLdk3mZ5uyJ71u/XTLFbyopOq6G5itbMYt5dkal3jYvl4ByBJ//NExBERSUqsAHsKlA370qeP9l0/M257aunY6V95rWServzoUHit1c67HRy2o6ihY1RhhMTWgmsEx0hHV3C7EqSq/Hn6ru6L0eXDHft2RXPD0x6EAJwoNRNQU6q4f/uf//NExB4SqVK0AMPMlaTMvcnpzdNVD6v9uzgmf/DgcmzfyYQi8xRtu9MaNAYQQ9bgDdp7/eeBqXmv1frOABLLZeesDaFcNV0ECkHaGwm2iJ5Pl/WxZFOHAg+kH+C+hEE2//NExCYScarAAGyQlfUGD565IBuffwUJQ/v5JNEd/yQ6EE+5Som7vrUjr6hh11gUIf0xgQszNf5eguTjvnHlP0Rk48f+U/T8ZDl9ZiDg0OXBKYCoYAmFkwkSi0z3+6Fz//NExC8RMT7IAGvWce9/thc49+1qicB4oJf+ir8hQwemKJH6zhsDKVG6R6gEhwbznwC/AHyAiYz80Zk1vVP10aSZZ74klVrCOEvbHf2gq2KtxPusF7SPT/NKyT6+M6zC//NExD0SiWrAAIveld03/4Nfv4oAPfeGPV4q/k8BdE5Z+iBTAppQKWgsfgV4bHUkvHoE44/i1HmpstwiwlEkfA3XZbHGKJxe+fRRYmNN6A+GhQ5R+5df/J1rKHLVwsYZ//NExEUQWRq8AGtWcXcLrgGPym8JyedKobMB2Qj0pOsxSLxFRvF5+q1Bq2vcWDoizHixzSK3TXJILHowcPyoiPCUJBUNSMSnX7hLtoXd2ZnrsseMZDGMqp1uvU3r3FU7//NExFYQoPKoAMSQcL0SeVCZjapddBB1X3dFaJiieL5m5r+hft9tr//9fX+ju1Ds5x0mzoEZAWr/u/cBWWlnuDAqlSqGMrOqrxAAcbSsa8M8scpdULO4IfrthXBvAbAk//NExGYSSgKYANNEmAEiY1EJCp311as8obs1////p////++6vZtkVX+3/////yu/2deQSysoFcs6yZZiJicSSmbA60n8UCa+TcME4Yt6NkMenT1SubyLjOIWt+tnLqsR//NExG8RAtagANKEuDAzBHp9ihVn/+2sRBXAP////WmoOw5OjwMWAVwFAQcqjBrURA4Us4a4IgQYAAZfmBaWVIAEfrNFqhk1G+ru6CwNSaZpVTjjDpVJhA6CIWQClR6T//NExH4P+MqQANvKcEd///Z1Kk2BoMqiQEy9yWZEMf9FhihGtLU8xh/IBB2IaxxlIgixZpBfE7lsuEHIaR5Ok59JA4OQOBI8ZiCQub8WMmCcJ94IsY9McwkCp/fTTdZP//NExJEQyMpwAVxAABAx6N02b/pprMzc003TSSSNDBTf/ppmmhmBcNDdZdSMlOikktFL//036CCCZfTQQbc4iiYpPMUGguqiltLVkkPhn1XMVrTQXJnliGIEsftZt0Ls//NExKAhkxqgAZqAAUzlz66jEKw5lUaF3//b5Y75q69mX8zgtKLlLUfAcY+Dzdp5azNr1+xelTcG1sd3WdBvp7HmMNpxTNrCvjLL+V7HdvnMudv/+t6s5Z6r0sXs02q1//NExGwgogKkAdrAACSn/z5nlrn8zs6qGVh5Gv//9NQEYQFqncf/sYIzmG6seHHKFkAPNKes+DZJyn/cAjQH54/HhYe1z9V1wd/XzCZnLNfJu4dPW963aC5gKAiusPSe//NExDwhUhagANZemI9EWHPIbw33Ol6HsORYuwuSRJU0Sw3lSl3mvgrXzjG3Kbfz3sb17aqnDVsQnP+m8xc0tBlcrZ3rccCjweOKznGv+MXW1tTK5SMqR6YkAVK1agzk//NExAkSwgK4AJvUmC7FpZsf4EWmcZbCw6/8M/s//Kr3/7If6V1BCMZh1o+HLPiqgy6XODCfOQK5iVUM2OMRhKbyH6t6PbUttt91fYs9yMM884DWGLQyKkoHcGTj1a9P//NExBESkVq0AMLWlAgCpPivIAQUfKoOf5YVX1SZQfzdcCAJrOsknQPEPXFoL19Hm3HQ7Tm9rASUIra461bclUWiIQiIaiqCLU9m0kcW22V/T/eAYw/TT73+ikaLV9PX//NExBkRQT6sAMLMcP9oj+vdy4SxwADahzARD9+2Z+0RjX7rJdYyQu7/Qg1NffT+r0N2y7Kqbn+U1/fro2nIE1a3jylRVn98QGePBI3UXfEUn1NJpWkxxHcpBiBOT+cm//NExCcQ8basAMnWlIeCZ8HxsJlW0ejEEe+m//8M/h7556/5Yw+FwU+mxw3qbQ8MUYczz5TFUUi7wof6DdvFLeeLvmf5hb//foS9mgyH4Uxec7yp08jdSaT4t4tzlvWW//NExDYRybasAMHelUl1/72r/73p9+97f+nbJLXLVY1KOZytZRG9I8+fACjv90ALoQBBaejC3nD3kK3pB1r3iN73OqsaIW4cXUNRC2oTFu1qs8FFmk8i/G/9IcX/++v///NExEESSa6sAMlelemv/6Q2UGajKjgOZy7MrY2BbBaphsnpWyInAqkdvfUyti5cUOvJZ9CfRmKNZpJblV9mUVFVq4ZoO+LJHMtQNBqjWrgpEx1HhEWUHbeM1WEqMshN//NExEoRoTaUAMvQcCQzlPSshAZh0BsUgcPAwkaIA9DBLCxEhFhPQepUsSeVQCiVIVFV2NginHJVJVkRQ2HQkp5WdLLdUPK7pH/rUeTQj+n1//6tdTNTkrmboOStfqnM//NExFYSmKJMANPSTLr0YztUoaBwH9IWKsosFjZdixd8udbNCFwmhd006WYF03E37QKPKCo2F082VQ8sl7SuhOhyiKMSzbwAprkOgdVEm8lD53/afvq2/uThy5uKE//T//NExF4SkDYoAVoQAPTPysmAu63Ay5EFA4XOe6zc3C2QGKLAZoIBpxP0KeHFAKCAMWDBu8ZP/8Gz40yKA3PFvIJ//hiceyCEuKQEABH///5saC5CCFROwy////4zZBxA//NExGYhgypUAZugAARQG2MoRAQXEpjvFKf////5oxBEXIOkw4CmVwufE7kTegVDa6Sz1SrODow4gHJM+Jl3LbKwc8BmFC+JUALIy5Ph2BjwsWDpQyUZsUGMmTBfCJAN//NExDMeqdqsAZmIAAPAyQQ8BUhsiBoYqdJy+5+YHymfQfrs6kkHWt02WmmzVzQ3IuylmiJKk6Q80Q0/3TpNUt1LRMzUwPIgytzySUBMLp4o1/6/WtWuymGSbokaLZbd//NExAsSmVq0AdhQACHLpqu7Z+C1Boze5t6X+ps/gjEKQ8QABYG0amk4MFaoK5xz0Mf2fzfdH1PZc0eMrlx+HSBPIG6D1B55lVJV3TWzNYdg449hs1qxKW7GvAS+xvBB//NExBMW+Z6cANPOlFtjxcL4ujni8M3Etre/XG/CjEpOHFspBZ3hY3LPovs6Z6Vqx01jAhElpI9CrEUd5urPuaRcFnuEQuBKjYqoiCQcAr03///kSFabu2JsqgxykKx2//NExAoUAbaUANtElF9amUAHi6r+zMJ0naCfgeJgfWYAWzapFJtSCPupq1FeduQv/VN52I9BT+//9FZcIBXGzrAkHRMH0Ctd1r//i5VofFS6smu7S08YBoLOYkYWEbyQ//NExA0Vst6MAONEuDxIUHzBqXuL42PsYAFCieOHQrgQSKkzhKodL1/Q/6vr7FdHqBWUxWtX/7+/Ys1LpdRV8jslu/9v//7XNWdERzvMqkGCB4WGNW+m3jjaGAE7oyQs//NExAkQqs6YANtEuJFzAucLCGOH1ZBxUyA7DAHnoiVM6Kkm60Pv1t///ztUqI2z//+37JN7k5PqiIn/////77Wu5zDvFFXHDC2tA641GCT3sW4EQycz9j2zR4DS5rwh//NExBkSkbKkANHQlCHr9v////+Ir+Qb2iUwKA8SSgEwA4fq9XW9zX+nCXLvu4ueN6jmcSzv//mNTikwmvpV/m6kBmRaNB1M+yQtfI+fX4W+a///V/7P+J/uze+USIOg//NExCERgba0AMnWlOMKwISUQiqig3NWbSJo27l03NxbP+Kd2VOCBj9b7Gq//0Wq/+jdiaAowF7lR6YgwQ806P0Cf53z/T8+/3Mv9I0OdKh+HRUsJ4GImySCSA8JhlRs//NExC4RabK0AJnWlB9KjjYc7mf3v+It/qH0IDAMh////+pwsqGgCZgVu7OwjIBrZs2Ji/hEj9RT1HfP6l9/pD/fcEACYgtMBWOh80kB4lXPA7gMHDmdNTlfwz/h//38//NExDsRAba4AJlWlLUTcLSf////kq7oEGB9iuhUK+AqZfYNN1BaX8Tv7t8m/IQvyesRIIZ55AeIERBIsqIkaUlBVFBOceYRCPRtU32+f5tvJwwv/////3cfwt5UjSEG//NExEoQ+b68AJnUlFL5l9y06BUSCu42N90+tj/32AoVzMFJnQ8SUZ0UVE6igFRYSqhyDZ6Kh5yaDY+1AiD2NVQeky3Vvv9F9SJ3HVV80OUAJkPyQJNwyCSHHDZUOtJ7//NExFkRccK0AVg4AQe0UNRtB2GAMh4DDqE/bl83NzpoOVxYHDQwJQ0TYehiXlDMdCjEwUaXZUyMFpSoeZwgIEZadDc8gs+yJwvhxtUzIabppvTZloaJ9TqZI+6X/6Cz//NExGYf8sqkAZloAEvQtSsn93v/e6CDJp8xQRZZkDAAGl+oRVBpUiyiHCOgOcR0lVJMohhEODNuYkoh6BJ1mZxVSZnHlHTPwKbz21DkQFEzND4EB07cfEAmd+HRXHQ8//NExDkRuUKwAdNgAK0SmB2fvUf5z1iBwsfSs/zeD/jcChcUsUNdnpZSEPrA43cPGpkIhSfyIlfoKxv186XMSlftFDJMtblqrjjA+FsQiErxzCZiSHBhyzAUR1q/eqvZ//NExEUXycakAMKelCJTHxBtT+tpd0r6K1uV8ePmCI3///96P//G1bGH/ugC+hQHRcob9LsSELPoLQFjVlBVJ/OFb5EPiTyKNEpr5YnNDGSDiytIEcywzsJfhJg2xyFg//NExDgZqc6kAMqelIytP0cozAryxo9ljYUTi/tNmWNE1uuoMj+JquYrdFZ21n2+g2gU/f//+cmLM39C1//2whOAacD2N1uYofnLzQkio3VihJ0IiQ/mFHJH/jbJ//t+//NExCQUwbaoAMqelKjfzIboak9F+P2tOn6QpUo+0F6qS/LuDekJ9Gg418WtmSu7Utm0HNnzFMDg93/ovW/1/G4mBkNC2V+4bYRXSeuNs+y5CGrc2PCckTF1atNBhyW9//NExCQQMS6cAMvMcOSJHf5mc3/83Dt+t2JU216Blwah3kMsDWDT/9eunLFjOgqqVmKx6rGAJ++oYn48v8+AsAgoMIuGJeSOjPjYb0Dz8TaDP92j/0Wf4BD0delr//6X//NExDYQMJqMANvmTIAhs20YPDAnIxaqqQPfyvICzAsTroFnsZBXMv4Q9IO9eRgFcGiHTR+ztymQ1Wxfe89dBXV///+j/ogA4UG//+rtYgTqFHjyFZR2xRuoYe2dlkRE//NExEgPGJKUANPeTJ7NR9KgOKQNtCSA4h2lAyL5OB7CpBUjyCzIo/etb96t/+S+rtRTwhTznSdG///3Rrf67NHKdZ//6O5uVDYXQsOZ2GHgnWLB2zZ9dMiBvzh9hARz//NExF4SafaUANNEmMIwfEjWzTfX6HdNf3//9Ik02NOHCBZ4hiAKBQQMgiKSpbmuKmK9IMl0sbhZxp393//0VTQ+8fIGirBp7MoJgyJkjoFl4dMupS/6f+z/Z/sZ8PN4//NExGcRibKkANHQlHJJghj8UmxONAcGYeTU4CQg5aysnLNfU/T0164hlqqnDiglGv69hfoVVUsUwBzEiR1UWQNpB6CvAvBiPf39Pz/3f+cqdpQaI5BgSHCzRcTDkyYD//NExHMSEbakAKFWlLyM20zr+OHvn4OR7kGHMqWOO/6en/77P930qusjgIph2aiaAyIcRuXMPi5+BG1E36/Z+hyeyJ8FvfhkF5+gFgMAIosC4sXF9jgagLj0glkva6u///NExH0RCbasAKCWlJfi2RIYaMFCBqlT7crncdQSAeurz9XTEgWVFek8JOCbL7sSYc81ugO/1mfl8pd0TXlY1vXonyDvL78w8VqvgrClm/iSvvDeMCsWtYo8e/eb+2/8//NExIsRIbq4AKFQlWt/0pfPzmSDxoWf1itLq2S1AeYlywG8pMsoACAhyzGH/EOdp0Tq7XRJfqGQQaxMEktOH8UH2aqDpMzszAg4t8kATomGEV3GQRNh0PH8tdMGP/Cv//NExJkVQba4AMNelPCq31CzajN2gvaP/9dLEjFmdVrrTA89NrLSDsvXkTX5qmvovtt/8sphZ46xqQN394M3s/U6wh5sKkZpUkfu7xjkKxusGg+qoMD61xCr6EhaLJIA//NExJcVeb64AJQWlVGfAhmbooxt5k2tpO/kQ6+qXj4j3qIujuU1FG6qx3+TRTQupcubZ/AvP0Wa6zmLIUqC+eYDDFtvDlv57XF+s0Q5XQLVXE8b/sW/WJ6O/K3TyhhR//NExJQXehKwAJ4QmYylAQpCoDC0VUqlt6l9H/urlUc847D1d9HOxzdcRwKrrPNqK42sejpDQWUmWAIwN/PqPDHCfKWTK90TzayizUTIt9SLayvmMqf9tLKqlLbf6t6s//NExIkTuhqsAMvEmNUvyK9kQ9zKygjHwiecRWdqfVs/tXWqYnR/m7BhVkoXezm0y7lF3dAzap3uasw0apd+uzaz3nZuI+OObPy1F5WoskqyOHfThX/yth2Mey4cpSzL//NExI0UCg6cANxEmHWn/v5YeUJwD3U1Aw4DgCieIwA8NYkxYoi8YIGDYPuNF22L8x/mmPsDMEUhaRUceIdPruLrGt0rmLY4NwqIKtEW0bv//1Pxd1n//zW88hAFY4l0//NExI8RmMqUAN4McKo4KpARgBhUwkIMVXjh1oOF0VVbABKGCeC24MaUL0hOox+lxAiFLB8uqtWrVq1a7Na1W8eBoBFQVOnqNr63f///93////0INneMKzJmIOPkgIxY//NExJsSCKaIANveTPCUt1ai7TwwALkJkVAqQDA8HRMFnMLnk8rainufDc2XVc2ftf9ZL+5HK0mRaQ7U/6bFVQPdM0BYe/j7Q7FbnbQnOhqZnGTajEm9qV17HLX1VUki//NExKURgKZsANvYTGmsih5PPAUYtFelSJk2hgyw3IsxzNPQ5ibaS/Jiir3qnXeQkcf/cdljoOj/2ad3Wu8ZBJkuaifDDeOQlGJAkUiSO/HAPATMYceaQ4hGQupZ+HML//NExLIPiFIwANYSJISg5y+mEVE8HGsfU/5fTTHgtMuEgbienUkjH/s6CDKQQTnGqWaMv/96em6CkKB03uxqOYd5eOli///u6mTeXENb7GVTmazFzU8cLhlVksp5vB9h//NExMYPWCosAVoYABgjhEk5oYl1v9TNH//rKIyPfMtIcNE9CAt6kDP548TNOKBfj0fWYSwHBAj5XMIRJE8jOOJHIQv0s85ic99jiQxtFOMZ6HFj6f/b6ud6ebzeabSs//NExNsgSyqYAZhoANRU6t7NNRUJhjasWTf07TvphuAOHHC3s6K8nj6HfqGRI3uS/jFG6HFDG//gwI+/iCrW6u97Uw3h1FhFzOPcqJOk5mE02fTCfyXaEPV8+LPqXpr4//NExKwZ8sqsAdpQAbSwIFKazBgSxryQnwks2Mo1xfY3oJ5jlt/d70J3Odwzlic5nqZ0wK8W42M+VgFCxW5QCxD48Sb1HRh/Y4b7//9Y1P/dyQo/HDXcHzEH8fKMrBrD//NExJcX6cKoAKKelGszkW0x5YV3rc333jeXsWP//CtBtr7gsTM9ncgW09+9/KpIxgGbRTALvT35GlmyH95VSwObdBypIBXstWK14RgFRyxoWDWlrvYlf2kYLN/Lr+1z//NExIoY4cKkANHelOkTU7TnmpwEoPJa7JR7HoBItdctUA8BMZ3ulsHr//5b8ctqW/yidyseTjPlYYDXyYHBRhaIlYpTicFbbquuKCIHAqxUtbm3XZLSWscL4CjRqirm//NExHkTecKgAMoWlEjhhTXPCgJZZYOkiJ2hbhEeDVX1f969///10AioF24dkFIZuiRFgNC6U+dQKpSAmIGCNhoqbbBOjkusmj8TsBgMBYHtwPChAEOXEAO35TJ8LRBW//NExH4ReMpkAVwYAKHL//h1QMoRvgHTG4Oz//GbJocBNB8A0Ath//+Q0cZiRdy+QMiYj////9SYyZgaJGhuViKHhcH//1f/4+xkxcZgxBETdlGho9VyqtWQUkGpqAoe//NExIsgCyZwAZqYAFngE2C8EWQP3TySWQynGUE8eUSWuSBWkiTUG5o1+mc6nOh4N4QOpDozBPBFJSRVeGZm4d7XDpE43ByR7Y557RaQiRsfjeQLhebpOimTFVLndw7e//NExF0gSpK4AZpYAFdzVOc55VHZx0UvW7pzfhse7bPE///lkOl9nT4sYE9vX/cYAypnpTEckBxgOogo4TVFjpGg3AYHTOuYjpHfh/kkUr/hhV5/soP5f9hCABABGqVK//NExC4ROVLAAdJAACgbGdP7FB2f/KjB5DwKLmuJ9KASIm8r+zjMADxIkYvcwIqBnQ7VFBBSykLgEOTTXoOVfWmTY5yT63YHG7nf8R2OwtZjteNhQP1qT97+o++bT8Oz//NExDwSWXK8AJyYlN6s7Owe6oIcCILlBvLKj/ggwAjqB6s4guwVSGJosO4UkfZE16e/PdupM2f/WTZ9z2pYRES0GEawqGQJFLCOTDyI1r6jJlRDjCdMrJhI+ZaKfysy//NExEURsULAAF4ScJSmiQ9/pgQ0uLJAYCQA0ADIDEcSlYELUBzHUqtQHsLUavtmWZb2lZqem7YWmKGBEIAnOqc4YeNSypuXrjOtg4KPc5z/oaKyNUuIBl9sGINXCLDl//NExFERWUKwAHvQcFqAiqU1BPwcSmWlOISkyExLPoMBmlta2//+3bc7z9dvmvlMAkgYKBUXIviRszPlyMMklsKhJcnf/m+7+nZPyR5QAINGCgkYuIBm6QHGIGIAOv6G//NExF4ScSqMAMPMcRCYYMEqdS3paygqA1DZnWGX097vv/a3ff7+Dpb/NeYQCxiXVYmKH0vrd2s/+unq2aLtP91SKxo2WUCEEw61MKATCEgFIC7g4FZqrox0PehjzRn6//NExGcSKNZoAVwwAAcFq/L6ZgXFmoXABaAIAan1xZZeIgJ3ap36Mg5PiyBzCIf/gBsRsHqAD8Tml//hZGDYPDfzUZccYoD//8QoOAcZkaEXSNBx////lAiBFy+fHAQ8//NExHEiKyqEAZuIAImbkMIgXP////8ihogYGikEEC4aFwmCpWBDB0YKslQLjQJUGgEO49gsSerQuo529YYdw7YgZbn0bxffDn941XGJNU1jHx8aeFujp6ExbkYp1S8l//NExDshMq64AZl4ALnu9H12+ZXMNdYbGFkvatFnCBvGzq+bRt/GZP8ViT5z4G49X9MZ9r/+DWTdq4r8Wz9f//Pxbfz/v5+f8/N/vNdwehth1LNplzZFIudZYZMBTYYx//NExAkRsbK4AdNAASIrHwBAQw3vbpn0dAwRv1/6b94b5ha+qb0GoyEDg+ACgwFBBCwLXsULEAGwoSLliKMSWX56a/mF9bG0YqKteWWWqUgwbwPnq+w6FU3d3BqQSdC///NExBUQUVKsAMBQlF//i/P/NcozHLEFoLHMHwqCkUDp1YRg9U2Wppvc1sJLBpbm9TW5r7//j9tSFTktlCuF1joC96F1ZXD0qo8M70hAEIwhDEH///T/egkYxRVHDpUM//NExCYRiUqIAMhKlOJC0xjPAYdBVy4ieR8eo8WK+VfWdbysqd/yz9eGp6dIqjo9DKvzbBgNLBUUypALC0Oyq7K24N/Fc8J6l1y/Z8XI1KPVsrgKRzCvaa7KXJX+tPYO//NExDIPqFo0AVoAAF/vLfpXtPK/HoJ131WQdkN82jSM/8LD0qr//bCyGx80sFrIWjic/7A3YCYQFFg2OfseSJwXCFzYjsBCA9H8uGJPkTY3BHkD3EBBARiEkEBP5uqe//NExEYiKyqAAZiYAHQNAc4PqDY2MAMiCkxBH/23e8XMLAJ8FBjkDqHSSRBv/9v+MgOeTpYMSKkmThsmTBNf////5OJqPORc3NyombxZhLKlt1CrC7XmhPkEFwLgrKru//NExBAQuSq4Ac8YADx82gYt8Po0YKskkzUmnkRTpyTjs1UQJEqHNKhcMK6mMRFHnnNyN77U0NyGjo/2+nqfK9fqSitLr0VbIKgFvWmsr8Nsh18PydvddsWd/DyHX6qP//NExCASWUK4AMvScPSC8xdpms0QZajgLWfKImTxRhJrpRam6K5E1nQTZHGT7V4/el6yLF79aseXXiOg5qkToHoEgWKz0MsAXx5PW4/DKj6bH1t4jRsZxKz+o/84hQsz//NExCkSSSKwAMvScCYQiWLKQWDT7xZq89SjkpS/ihAsFAKCrnWEt5aWNxUNVeXOL7OJE3MyzgoWIcNr4jcXXhxLeGorbwTyFv/FvZH9sRgkaksxH6u15WLS8uy2Ftv8//NExDIQyM6cANvScJsa4efJhYc5pweH6f//6enJqs5TEhQCfZcummlAEOGjGqG2zfW2ybOUWdrBIGb38/ourx0raZKDgXYs8o7ATzVD01s/zAoJQ+ZA4kFBMHEB0Wa7//NExEERgLKcANPWTP//+izp/807AROSY9ac61ncpkM7wkAtCs8A0It2pSOeZC+ON4aMfhOYLosLk4IKjYBwLKHgufzUbcAA/boHx3Ry3wyIcIwgc+z73j3tviupEV4H//NExE4SeOK0AMPScdFtjANpSWogrdA0x0iWWZwOB++wcIdNK5l8lclPScD7tYxYfNuFa0Zs6Kc2Xy6eT39cVTvfVXK21SSZBKaYcKLS4+wfsUwdqnLBWqaylr29Kf4V//NExFcROWLAAJMWlFvd0FbFXC9ZHXrhC4lJToiVlAwLHCgcm3jarIb0aJtfv427b5g2UUewDN4syYSjTJbcqgtLUKwSCCiMeZguWcuD6nNL0cMkg2ucHKnDslOsiWOR//NExGUQsWrAAIvQlWqEgSSzrQiolKCveHbdTjPMN6t/3f/Gd9Z3m2Mse5JEUKtd/9Os4CCCflpiOz1IzyPXb7off5DdnS5FDc2+5Li/y7jels1hJYknqwQBjOJ0QtVN//NExHURuWLAAIMMlJH1Jo1UW7JOVxMChsCkwOTE7jJ93/2IMv9Anlja+d1/Acvhl/FgDo9qWrrx7PdHMeo14rzWCAjOxLKyO5DXXhOhzcMPxvI7rwppS3/MtTPBK9oV//NExIEReVrAAIsKlEIDHgocFOtT+5AB665RmLrKe3hsjdvPueI8QqdvPhmoPtNQX6cclYhCqmbEblkWDqfXezau+jZqpUirT85+UlhnkrgLhxI7C7DQBSdGklsJ/+n8//NExI4QuW68AHsGlWnGvT21Dd8m4TvU/7RZVRjgP2QAZcQxkPzI5jqlaKKh0cxFoHC707FqsWd2X3b7/+2Z68xzhZWcGjIxq4Yo5cFyH//T9XQq8gIcbkFThhRtJ2sR//NExJ4SgXK4AHvGlDjuiIWozAazc2MK4iGiw7IzEiKQ4qIg3bwo7pqexYtNf9/p///VllYjECPVgSMaYOpnCAMKAdI6j///+mrHIsLK0cJAybkdv/ErGolq4H00Y5OY//NExKcRyaawAMMElFI8kEyMdB8sQhLJLRjh8bxZCzNcn9////6tqyqJIHQYGJhxAXJeYytVWql8YON4nGEtQ5M85QUvLimpfGfNQqvLIlF8M2WyzGV3GmK8d0Vf731r//NExLISEZqoAHvElN////9e9ho4hBTOYgylOAhiBhKGAGbIHTn66ptw0MxcWELzZrSVcs60W3Wd7kTnJdhch6/ADDoYEYHoPCwLhGLDw1FwWJOPHm1ZE0////+pppxi//NExLwP4YKkAMMElbDVRSgy5ppkajV1JOCrxazTMaHzvFeBDAQyaoxYigYHBzAe+KASXbLWU/4XNAClwHGCLDGhkVqgCqoCloDDowFwAC4QA4UOIWatsNoKA7xxDfIK//NExM8Q0ZqcAMMElEBMi8XvjoPmh06noqSS/QMiwUhS5ABTVomJk6iZ/iDCoKBNiHEyWC4kTsyNjIxLqKv+cL5YdSCCZgcQMkkqSVSVIy//ooH0C8eOpP/6wVWUUi+C//NExN4SOZ6UAVk4AHbdpuznyq5q9j+eWNnHCEct0t13YchgdCEqMQxd91hs9c+uu2LTHFa1JR9Oh4FWcWBRMbBr0///9yEHRKBpkAKzEXeu6rbXK2m2Dkah8al1QhVZ//NExOgkEoZkAZugAbCyKZkNEJKhpDUFDx8WnkvY3vS6d+gWJIqUKnamfkZaz7Mt9Xp91Sow2KHo+u7BDzTu7PVyt8ri0FRgXCQY9VS1JGqO03Q0+FQqEnkQ2Gg7kgqA//NExKoPcLIcAdlgALI7JLdrUW7BESZUj/yR7GP/yqOpDHdFTEFNRTMuMTAwVVVVVVVVVVVVVVVVVVVVVVVVVVVVVVVVVVVVVVVVVVVVVVVVVVVVVVVVVVVVTEFNRTMu//NExL8QCJoUAMMSTDEwMFVVVVVVVVVVVVVVVVVVVVVVVVVVVVVVVVVVVVVVVVVVVVVVVVVVVVVVVVVVVVVVVVVVVVVVVVVVVVVVVVVVVVVVVVVVVVVVVVVVTEFNRTMu//NExNEQaJXkAMJMTDEwMFVVVVVVVVVVVVVVVVVVVVVVVVVVVVVVVVVVVVVVVVVVVVVVVVVVVVVVVVVVVVVVVVVVVVVVVVVVVVVVVVVVVVVVVVVVVVVVVVVVTEFNRTMu//NExKwAAANIAAAAADEwMFVVVVVVVVVVVVVVVVVVVVVVVVVVVVVVVVVVVVVVVVVVVVVVVVVVVVVVVVVVVVVVVVVVVVVVVVVVVVVVVVVVVVVVVVVVVVVVVVVVTEFNRTMu//NExKwAAANIAAAAADEwMFVVVVVVVVVVVVVVVVVVVVVVVVVVVVVVVVVVVVVVVVVVVVVVVVVVVVVVVVVVVVVVVVVVVVVVVVVVVVVVVVVVVVVVVVVVVVVVVVVVTEFNRTMu//NExKwAAANIAAAAADEwMFVVVVVVVVVVVVVVVVVVVVVVVVVVVVVVVVVVVVVVVVVVVVVVVVVVVVVVVVVVVVVVVVVVVVVVVVVVVVVVVVVVVVVVVVVVVVVVVVVVTEFNRTMu//NExKwAAANIAAAAADEwMFVVVVVVVVVVVVVVVVVVVVVVVVVVVVVVVVVVVVVVVVVVVVVVVVVVVVVVVVVVVVVVVVVVVVVVVVVVVVVVVVVVVVVVVVVVVVVVVVVVTEFNRTMu//NExKwAAANIAAAAADEwMFVVVVVVVVVVVVVVVVVVVVVVVVVVVVVVVVVVVVVVVVVVVVVVVVVVVVVVVVVVVVVVVVVVVVVVVVVVVVVVVVVVVVVVVVVVVVVVVVVVTEFNRTMu//NExKwAAANIAAAAADEwMFVVVVVVVVVVVVVVVVVVVVVVVVVVVVVVVVVVVVVVVVVVVVVVVVVVVVVVVVVVVVVVVVVVVVVVVVVVVVVVVVVVVVVVVVVVVVVVVVVVTEFNRTMu//NExKwAAANIAAAAADEwMFVVVVVVVVVVVVVVVVVVVVVVVVVVVVVVVVVVVVVVVVVVVVVVVVVVVVVVVVVVVVVVVVVVVVVVVVVVVVVVVVVVVVVVVVVVVVVVVVVVTEFNRTMu//NExKwAAANIAAAAADEwMFVVVVVVVVVVVVVVVVVVVVVVVVVVVVVVVVVVVVVVVVVVVVVVVVVVVVVVVVVVVVVVVVVVVVVVVVVVVVVVVVVVVVVVVVVVVVVVVVVVTEFNRTMu//NExKwAAANIAAAAADEwMFVVVVVVVVVVVVVVVVVVVVVVVVVVVVVVVVVVVVVVVVVVVVVVVVVVVVVVVVVVVVVVVVVVVVVVVVVVVVVVVVVVVVVVVVVVVVVVVVVVTEFNRTMu//NExKwAAANIAAAAADEwMFVVVVVVVVVVVVVVVVVVVVVVVVVVVVVVVVVVVVVVVVVVVVVVVVVVVVVVVVVVVVVVVVVVVVVVVVVVVVVVVVVVVVVVVVVVVVVVVVVVTEFNRTMu//NExKwAAANIAAAAADEwMFVVVVVVVVVVVVVVVVVVVVVVVVVVVVVVVVVVVVVVVVVVVVVVVVVVVVVVVVVVVVVVVVVVVVVVVVVVVVVVVVVVVVVVVVVVVVVVVVVVVVVVVVVV//NExKwAAANIAAAAAFVVVVVVVVVVVVVVVVVVVVVVVVVVVVVVVVVVVVVVVVVVVVVVVVVVVVVVVVVVVVVVVVVVVVVVVVVVVVVVVVVVVVVVVVVVVVVVVVVVVVVVVVVVVVVV//NExKwAAANIAAAAAFVVVVVVVVVVVVVVVVVVVVVVVVVVVVVVVVVVVVVVVVVVVVVVVVVVVVVVVVVVVVVVVVVVVVVVVVVVVVVVVVVVVVVVVVVVVVVVVVVVVVVVVVVVVVVV//NExAASUIIsAMYMSGzMvXIluSgLulogyIecDjMhEG1pMFamyx26BJAmCCSQYehF1h4cPsHExqQGEQ4aob/9xz/////5z6xwIBgEBAD4Pg+D4OAgCAYVwmZE/ABPzl80//NExAkQ8JJ8ANveTOpQQICRQzjUCBg04ikbYbtRv5D8EIEMIQcBfxCBMEZn4y/jxA6muX8uH7y6w////3d8n//6z/E+XqclqP5LYAFQs4SADzsiBZmNuyCiFFuc3tqO//NExBgXIZqIANvGlL3aHAN4BoPxSOJ/D7AYEpDiwXSrm+/Bvv/G6HyKffd/Ync5jomW8L5P0lhSEyK9dweYHO7n1RZP//ovwGYJoSfm3OpYtcLEsgt2zCvjrk1GWWP///NExA4ViZ6kANYKlBZRRS9l7oNcdhiCgam9qbh9ynrcty2ILsXIWQMglIRu33lJz//W8+f5CeQno2jIRt0I2c4fD4EU5znPuk5zop3KOg+QxBqBBar967SqzhnpXO/K//NExAoUUbK8AMPOlWWGpapWWsuFMAkmvbeW4ZRcmZ7R8LsAPxYcQsyE7nx/4u//X6N9vq/R2XNB6GT6qKRkgjKaNGPePFiZO5QoLDOtO5q+ti7D6uiZA0SAWwmVZSA9//NExAsVCcqwAJwQlYCSNUkTEGsH2W6ZwRkZOs8xeDLRsdRUZDYFTMWykfq41P+H/+f/i/+R3HA0+KHlDQG3RtPks1qwbEW7UkOdWahi0bdduWU39c7VzsdwlbBDtD2s//NExAkUwYqcANPKlFPdmF9izGvYzRmD+fT/PPgT9nvuFBRuP/ISoY0a3+GL/2EW+n1vzfZEyqyKgeAwkHmKKlyjiZIDCISiUaMF0B0RAYLlXaP//2Wqpbd79kIgD5m9//NExAkUUO6QANZKcJ/LTcAbcCo7mFzKAk85N+tTTWgwuQ2e8iT9AnMYD6KUPN5U+In5IgxQPnlIPnDptYceRQbKiZynnhANrkVJQl3/+j3pfFFN+pXCxyr2hNrcOPqd//NExAoUKcqcAMvGlLdIwo0Qm1VdIbgKejIe87yMB1nETHZX+94pmPffzTNzOdck4QMDf/enO51zOSh3oGOAJaV/cs67nXyS13ggXWphirR///9SVZaI/DHgxTm7EaNU//NExAwTqca4AIMMlBySjmro8gmoN4qwF4lwvRdTKW+b0cTrqdeh45j+Ohefu9Q7ZLtkfzhDCGadwTAj1EXkfcdM+8hrt7XbXZ9MPW2anVX3UHcBhda2THqAoPcWrOnQ//NExBAU6bK8AGvWlBUm+N2ZQBA0WzPNYvckS2I0Ih0FjlxGMA3Z1w42WfzLSptc1qw6etcs9rZVHQxRc9LUKc+OiZu0qgf7NlAbfvvU5pBCb1Afwsl2aIQN3NfvJUE9//NExA8Rya7AAGvOlN59p0UBJ0+6RsjxVGfeBkOWHveqOASLnP3FbO9J7fK05w+MPoPQRzVQwJXZjHUictDjyi8M5Xt0VUzd86CfLjWYwDqDvtZ/lSKKLe1zGzTwwGGv//NExBoSGZK8AI4OlOOudlUaw7l9JNMG7l3fDwHFzGVXZb81m010zWbVWMTQqlFshWgqXCREu9cWv20qYJGM867lgpru4czpYajUa/9CXHUlvqE2jdNJ3FxXMHVvnMJX//NExCQRQW6oAMPElD6N/BmfDhRloZeqGObl7fXX0dShTFpWwsRllP+Anh2BqDgYQc0IAKQghAgYy12wrc8sajUNWq1DYkdvFtFxFtFxLidMBXa9cPrf/80ijnp3mTSJ//NExDIRMNJ0ANPMcEFEoaIhJ+dLf+p//8JAX///xqYd+LBY8yk0kKuwSJHqxSP3TBesuCAqRUoktXMVAqsFUCq3qQvFy9tttrlgSa1r41/QujivaOmmchti2z2RiB8N//NExEAPgFowAMvGJCYFWCA1cVqLLhhDMPSRo8MLBzCptATpauZcxxW9IIl7gWRKHphk7GCV0SVqdCgqxT6HMOGFqng6t7hcm4PPqS8ao5PQ49uPXSkIXmoMES5eFiNh//NExFUSaD4oANsGBFySTAgHk3pUhqC0dXSpcukY3c1RMlSbUWA06LOK0doji5hzirjURLxpY5jnoD8k8dDMNKTPKYUVA+wgUiBYoOMUCTBfJtZ5JVa7uq1DZDld9FZL//NExF4QkB4oANsMAHRHS1EpW7on2KrWbdAWk7OBuqNeQpjkvvUGXTz2hpiZKGZ+Yqc+pLh7Ut3NXqSqvbT7XQmYVA/45cpNkE4hP7G5h1YfvxboPAkBp9UacNCUPz1P//NExG4SSUIoAVQQAOq8Dg9BaCoAjnGhwV/+KhsIBMPoEA6MAgwe/19DRQG40Ggu7gsoRSGL///HHtUNObqiSWUi////jxxJ0iKPFzXd0Y1bODk6xANCX/////IMp0GU//NExHchyyqgAZlAAIkGKeni5Si1CMcNFRkg1gbVzq441aVKk7AkwmsvLDvvgx21lr/5Bmf/v8RI1v/mHFz/8SRbVrXMN3F1/RSHAgk6qYdI5MyxQc1vAcUqzRqVRY3z//NExEIZkbq0Adl4APnsbGKPItt/3hxq6xu9Jo3zSA8ZGCcNHhP3aen/39N1X7C1BpWzvvPqMYCeblh9vyGBHvObRwK9FBYGjvKjYzoJhq1p67hb+dvCeJ+zdBYy/kGA//NExC4ZIc6sAMnelLxYqwXycTQsSKpaU/xvm0xxcwLNj+b/Xfzb19+8TVsY08WqxsSRILE+s8+SakRG8j//7bv/KoWvlr833MGMadtclVHERIqmnnXNinKz8LiZr506//NExBwUobasAMpSlUXua6KLOT9MpS2lFSAMujaaI6CIZmzTtaFTSTi55FdTyMVY+//Hf98pe7rqxx+9YKvGx79++TV7PvNTMF8hrym14nTS9x8f7+zEqxoJnOKUadhH//NExBwXww6kAHmGuAf5NURIVbHKz1dbzbnxuZjRxmOHq1O01NHlyg5Q+7Stz7fhU8u3mV7c8muvT2cr6w+XiHyZmR/y6ykTnJCc+7v/i4gDil2M////XM+MaqQaVNz9//NExBARYxqkACjEvHUqZFYZw1SkTcLn5Wl/kXudfWyV7N/2+naaV+Wq33ezN3lvtSVOVnVFapZnsch2dURHJ6MKdQGBfPer//55DnUQcXR1MYGyct3bl6sj++6LSX2e//NExB0SYr6oAFCEuYdGqioVjK7LZ2vX9n7N9U9FTWtl3lVFaY9COx0VL6FupFY4zzyoRK35flaVhTJVAxm07LpTerdmHv/9YmvSwaRLIkQUnR86d/tdpIxjwmdDolCQ//NExCYQeIqIAMBSTIirgkOPTq+GmS350JI+VZJZUBPDQUe9pYs/O9Q0JDwFZYNFRWB8blSiv0waECSjyxZgNNaIggpBkkpaqSIqbepekVc+90u3oYg7I9DPZ0JMNET0//NExDcQeDIsAVkQAI5pJ29Fb3MXx2WTG3KQfokJO45/711HxXn7/NsCVn4rQSELZp23uDYLDUgsUAPj/VEJzYigtYgGr9VVwRGI8GbPF83t1VfijkQJ8iJAhHgdJe3v//NExEgfeyo8AZmQAFet5DyuJ/JwvlUmhmBkK9u/0NXQzM3J8wNB2F9BJEvk//+v9fVey+YMeSLhgYkTIucJwcBfPlHAhWZDfrVnfClrMfq5rhx2XkjSSpG9YfJFzxMX//NExB0X0VK0AY9IAEJErFn3tEBI+JRQY8p7JZj0owTIy74wijVqWqR2fnkovWiFgCLCNIZn0NYbLjnzIPI+9pd8Ln/6JpHUqHxcU7F1hyr1r6to5QNRDnrjFkfB+gc7//NExBAQoUrEAc9AAHtaMepxueP2cBSv+Q7Lv7scH6v7BKI0j54LDwhP2JPP/JLIM61QXMDFJzFU6q/0iwfYuvuXQgpE2SzIngJIxPumm0bpRIzOPnJ+uWr/yvVcdDJr//NExCASmVbEAIvMlMKEnUwoCCDgoBAjiEZzrUTyG/Sm8ciaRKL1uVRrB9AxB9iSoEMABamfZXX9IHCFuSNeYvQHUm8Of4lToE6OuPfHunS4qKb/xW5nTUfGvVTIwYgm//NExCgTCU7AAGvYlG9qTb1r1P+bPMsOZm1a9y992u+6FoTBUGCEJEGkTonPss7qdCpX1D5AIkVBHroHKGz0V7f91K10r35dq/vN0Wuxfn9/5pwn/7rHM4SkgWm5b6JJ//NExC4S+V64AJYWlCy/rpx5b5r4Sb/DzU1QB12EYwGhI1goKq//////12Uk1ky6EfCFSgZskXWIHyXwhMCWmcPSBC5MsS9a1kPZCq4trcbZlLW1bAOskQgA1ylryMOt//NExDUSoYaoAJvQlKa+Y+o+Fi6rWuG1/tYOVpoSJSQTZpW3ZyxrdkgMYfutOof+3UAoB1utbfA4JDbs5NFnW7vco+SCaSkfx7rorN6OvWm/X///6Va/RjoyIHNBuQGg//NExD0QqcacAMMElBR///6PUtQqjmrEuAhAVZQaMPnLmANBXVpadEFkA8Bk8gtS0pY3UTlGgqAUyysylGq9f7//3t+rfrb//6So11YyqQOISVlkFUFf//6v8lU8hPA8//NExE0SGe6UAMJEmA+4hIii5QrK7R2HAkgHFZAPRLKRQLw2BuXT84ZaqdLD1FCOYExLTGB5woJgi0msd8HyBAe9Z+5xM5yDQgQJ/Uoy25dAuCZkyfBINTBiBgIATocJ//NExFcQ2KqcAEsYTC8EUD8AaCWJIbmxvl7YBgGAVhGyYJjkDVCWRSevDie+M5YlmvRf/9SautmnV18iVtshFcUe5J/Krv6YTYzEzCqcosa1z3H6BDONCmUuJsDvAzjD//NExGYSoaqYAGPElV5CRChMD1QheJ6pGxWQM19L3/9P///+6va6nOhQ4GFx6wfUULrE4e/7fTVKjYh4Eze1YYQPvhk4JJjDmsMiqUidTXLzpLGB64TYu1rbh4fj+pRh//NExG4RWWa0AHvElPv0CJ6P8n2+30AkRmDiDldYR7NCOIhIJkKJ/3Nt0o+9ZoFDAlo+qXRAOWn5qNhcsg5h8wFELetWKtmwLG3rs1BaRWGu/QSnnf6pNvKfVvT8lpik//NExHsReZa4AJYElPnYhM3qR84j6j1qno6FkD6KqOPnjExDUeZdyp76Mg8qxj83JUHseYPB2CWYI/q/EePuLqDoSVKyXrHMJL0SITzlnd2+siksHWrIhqLu8SuWATvq//NExIgRYaq4AH4OlDVR6llVOYNEkxd+DBEFNIdFjMrfpJUICpbBpJ1PTp0TEwTxVz5dC3J9GsTUhRPThYsnDRVohdLRCw9lUUqEwWDp30qeRa6SK1nVP/9CNUzw5uni//NExJURqLawAMYeTEHJjokmRhKMgowOEDCoKEALGSgrLuugzZKlB1gsSdlyX5vMzUMEPCgJMzKR1UZgKAXAzDpErgEY+RKhv5xOy/T033bdi1AzFU+7e2u24s/9NT+I//NExKER6MaEANPScIzIV7AEkSvMINFgLVqeWy2zjUpr+tzX3r/dZYanwpwjpxS9EbK0/vDNDK9E8IoB/T30eSSfzTfK3aI5cpf98u2FSsKFpITkmR5/83N3NM8ymn3P//NExKwVmLo4AOYGTNEc85T3qip2XYhJI5q90DDedNQhb/HfeMFTAzP9ncXV64f9D2P4AAUDu+7Nz42DcJDI0Od/jtLhkQhPNFh7LSV/+XmjCUPjx2B5Yo6P/9dYnkxa//NExKgYgtogAVoYAd3RtM0d///JhutD1kFmMdVw3Nn/////SdmA6GktKSLFstdyBu0Ek1/////8f2b4YnbyWfij/tLdvWdjqTx5u42atkYFCTJc5T+uTETvZCHYKjUu//NExJkg8yqcAZhYAH2RuZbGaXGUuMwXCsGrQjqvdVbj6Vz6PprQhyhQmZJCLnQWJ06J+NcrY0bJ/lzZIu5GBQNcXFm8509Ky0c29C3ODur+BfW9+9N//Nf8/Ffu0DT+//NExGgfwcqoAdl4AG2BASRe6ATSBWxLTpV1jnV38YnU+nJLRNc4H/B0HoAmBC6ouqRk+CMlV1qMQ3lF8zFifpkVatzhBTWkophdikmpMY4DpJEuqMkA5h+7HR5mqmWm//NExDwXwbawAKRalEY2VcuDCDBJPk+voJK6CSu7VO5oODoo7bKviQ0hf//q9X2o/WOUyCbj6ZRzeQwGvvumw+jFtvbGN81cb+nCN/+9tn7hs3vmjYhp3ebgngGm1uYc//NExDATUVqwAMPWlFW+98Or3td8MdW+k0j2v1VjYFBpr3fZ////Urs6VaexN0ih5g0GEDb5SmbuEwtds5QmITZ1b5KEvap+cyvt/+NbXzBYr/yLlxsZBI4AiqHLMZOp//NExDUSWUqcANvKlHXZSq3lEjX/5Kj6f///W6tCmPGiyktk4bWIoFG5dg9BRWmriEVJgAcJ+odbO6hnwzocTKlEcSm2s9A6WsBGWdRjO4iuKS9qv+q6oeMN5m8FrVf///NExD4SOM6IANwKcPSw7pWosFDYJqRXOg6DglI0MwXAx9UuAgPuN3BURINNbjEFxKpbsUytogO1Uw2iyxc29semdb37WfVHFioot1THIdtt/8q6yn/b///BVwa4ib0K//NExEgR2Lp8ANYeTDQH83pRDBww8qNbgje0YQhIwABAMCA0iDUAzTs9ULOZBS0tLefZ3sqbMCFToaCgNA1BoFTIaEruqt2R/1nf/R3f+v/7+VruV6+cIZpOf8siiOoW//NExFMRYHZUAVsQAAf/tIu5VflB0ABqgtweP7gqCmORL930x6BMA8hI/2dBqAEzBuDCiqIom/2s+4koVIFIKAwY5Byf/e73cYccAxB/JhJF0kB3f/3e/ZI0NC6VDKJU//NExGAhMyqEAZloALQrAsBzgZ4KwBNwHL//7oPdP/wTQbgXwFrE8EuGFIZsauWmo54mVLRNQSUFQCUiApmhDxmzR0WdatI0X+Mr+E/+//n+bedYgRDxJJIdgvKWywbi//NExC4RmU64AdNAAPPJAeCI7Zbjonf/UMFnf/Z886m79/rZ8dUr1qHyBqYLy6kFhEhpL0AfIO+pxPm+X1M//ut/6j6u5lzFuoKAZBKRAKDAmZjqQgJEVeE4f+4b/5wj//NExDoRgb60AJCSlP/JxV1i1jcn////m1qNMr+jOchqFNj6BoqdM53AoEKooYU+gUrbKXf/+Luv1q9ZFfYaIIaBUWDUWGwH2NDkPSimG1DLK31F3/yq/XItYK//s/////NExEcScbqkAMiQlLK/oTgXTHAk029MMhHkK+WouM6T9Rq/zImgiYUfhX///9//pMbRoykzNAJxJUSXQRqsDPyvzz+/hqryql/R/9XJMPHVqjT0AaVDqKaSephBZVAK//NExFAQSWJ4ANBGlBbSH0g/kazw7S3sg0Hostzwqh7vp18rUl9Sr8TY9w/TjlbUsi5soVQi2VQ1qxRqWHdwtpRe+Q4LVZDjB3T/VU//YihxSXx/89J/KQ7LcTYDdgpT//NExGERiE4sAVoAAPY0EEgbmCFxCX7oGicWWHzgGqBEAC0/Psbrdgs4BHQJmChhYYLP/mjoGlBg6MMjg2Ph2RW4gmJf/6DW8Yp0jSHDwREQXJMi////5PkUJQZhZmXy//NExG0iGyp8AZiQAHymWDxj////u/lcihePF8qlcigsslxZAwyKE4qbP3MO8AzUSogQRvhHxxu/9U1vWZq61MNH854/f68v+fb5uR675okWc6VEx9yUUTAfzEBC9guL//NExDcRGTq4Ac8wALmJv1Y4I/Lhq4cjQz1VVaojwqMvspMWkHAoo3kgi3Hhn/Q+Tjx79Eqvf/Ow9fh5efnYOBcVzyYLEaOoxFJRifshKQ/6EDs2PVFLzqwX057FWlAq//NExEUSOUa8AJvScParvxj1DOA7CjpF0TmLv4kUoLyJ/h8ECPCBWn0tv8khBXsLB8H75zBgFY9BlsPSesY91sy3KFHWKAUUMwDRb8a9qtoqi8x01VeUQjEr82KFQZ+N//NExE8QyTbAAGvQcMAT9x/jSxQ5aT59ttf7BIRx+ZqpNuKTJgDMqM4qQoP6pElmV61wMsAJcLgYPI9DKUpWIv2SlqaVu1ZNAYoCpNRRKoME1ppagdXP5xFXQcWf7VrN//NExF4QoSa4AJvScI+4Vq3pl69rFYRTJIIAjjXqrEXe7g6U62OlNVJNNHtMiXr9dbmKryOVw7vW5WEeZJ3PWYVwXFJd1BzTdldNaq6u3/drfPRI88brBSTHPDp0Kr59//NExG4RAUqwAJvQlOcaAnT3/67OyvfTuwfePy9WIA+XrSGA/OCCUDAffcCIDRJ5pY5+Qn6+//5fVf///////9v07vS9PIdEV5V6oivedTm0HOzzoSou5GGCijBF0Y6C//NExH0ReN6wAMNMcAYYOZziDDhAQDoOIEYTOPpgf////z//5Gpe////////////////mf/21qOP11i21HXNYtdTWjQxT1bNBT5QtZJJpRJJUjOrioEVQ6BsPGAGFRDF//NExIoRoxrAADhKvQgPxFGPCN///////869zkf9e/09v+tl//+v/XVz1V2f0tVc81/c17uYrlTnPQgKJNDh5nPNKkBLnoPEhws4rJDYfByYMK0qHDf//////88geev5//NExJYR+yKwABBQvHP+j7f7erfd2p7H//U8zmMdMVDzzWRUY0sYtiykDSg0RUNmMe9SA8SLCINRoKFMFAoqLSpiOVNHFJBINy0ObWC+FOAMAsIDXar/qf///88F53Wr//NExKEQSxqkAChOvZzq6X277P/b9v///7/9K3Wz+5Xo5RkKSzl1Mqo/RYUgowM7DBTByiQFDlIhgwEYU7H+c/GZBFlrtdlVvPGnsP2CArph9vk/FP4fPWzU6uayUAgx//NExLIScxqsABBOvSn8I33/9EY+6W+kDsu7TkLmCH///nrNKHyQiyLUC/ap//1nAArktS3nU110e/CNvQz6foR+e3ytH0yEZHnqGIErZlHRJx7G6mYzEkJFt0C469lm//NExLsRexK0AFCEuVtrP11uSA9RtR3Nf/+vWq2S1sefvKInNZEHuc1WuuVf8qEz+KDfkvlCLePt8zS9M86DzAOQSxlM0hoCxHM6lmCQlBRZkFD0TulWbmqPM0EklumP//NExMgQcVK4AMFSlHNDzPExLb44UoFU//S+gUq/02R2J8D9kWNBRmX0RVN3FQ34v8b+Lt6p//pG//w9r9fCIlreS62FJC3FxIbhOYMCWjxSOOd7xpg3v735r7zuzbHe//NExNkRObq0AMnalEmdRHWWWIlyy0vtMo077K1klNuzqEsvkVruXO3ktzjEb7H+VYvIf0EwM/Qc/U7chCt7FbM7b5mb0tN7tun1pXmYnCSNQ61jOCyJSOOM4MTK63fp//NExOcUubqwAMHalAzWlJfrBab5XGmuhZaArqe/+7/94pV7KHV1RwAfQJR+12UM/eW9s4cwZ6K/oX62721yrfGGX8ajkG12DQpBEUiUVJnQChkAoeRilAKkOSjGMYbK//NExOcWacqsAJlelFdTz+Mtv00k1AQi0ActKVPUYDhqC9G7y4PCNVbIeAaizQx+gKACiVSO0xoxmo+y7Vqt1EfVg63ey6nPMt0kSLbMBRy0WmUQY0SotC0UjTijzFop//NExOAT2bq0AMlYlBsG0B1zG0M2qJHev//9NQM7q61eCMZzs8cDCMJmbtwBAMY346gLCTl1W4ASETBltyMxK1awwq/2rh1nifAZZiFBxhZIsC9iLdl5h/wCLoNZK25l//NExOMSOa6sAMCSlI3mv9z323CuKvs8XSK70DM4CigFEZjAYqTkI8DDgBS4zqhcHE1p+hJCjdp6/DSXdzP5I0BgQgyIQnofsWZ24COAA2YV4FjXRZSs2P76W2h1fc+t//NExO0VWUJwAOPMcKO7SNtqP2TC9Sf0tRU2YDFYQsBTDA2M7/0zmBXRZKCJqgbSLOiQgeSkI0GiLrWpT1oZWGAoWQAFMhpWhwq5diV3NFlaqKbZ7QUHGURrLDLJQU6X//NExOoUuM5cAO5GcLDR56UI7brlRlNtSh7gBUMGEBIYCKxriHHawuMglCtHkwSCygEP+9LkI5xjCLUt67d7WpeDDUGwyJyQbAY9UoxE3CeuBXO2zcD0JrFJlSNujpc8//NExOoUGMJcAO4GTKl9GjIbTqrkrRkFW6ZSCqyrxAA7pJFhDgtBDoiVeXnYNvQ9ZNFpj+YhdCQPH1l9zcYUyHkWoJkxF5LnCUKQ4ByBNgtLF4aTYbyUZ2TckS6JgMk3//NExOwUWG5YAOYYKDh02L5kXQvb3T3JArLxaqTBGTZM2JpubIf6zQuMaU8pFE1RXs3/91poK1NUy1H/Wki///oNUggyluhTMNkGUnpEq5PLpRa9bypoCUyMPGByBnEm//NExO0U8GpUAVwYAJm1TN1i+f/qmiMP29f24EYQx6KAwufoo8kGNRr+4d/XzXnPju7JOVabuo2HBEsaMrI1uWuyz////p+L742ksa3lDIjJDh1sFA+bGKOMvjhPuP/a//NExOwjAyqoAZloAOT0H0BoNENjhGABLjgyxBpEAwARjNmhS2N/bzs/1/mVdx+eV1XQol3PUQURYiVPJFywubNkjbv////nHNdpP3KqluG8KeGFhzVezEui1xemOUuH//NExLMSgSqsAdowAFsIEAjg/dPluWQWT5BU4Kcdv3RWK02am897yrZbw/X/+nU77e1W91yuzkGCAwYwkcAIIFigDNvAYPqW7////7AA5KFdOqqW7y/Lb7CITNM8zPAB//NExLwVkT6cANvScApgahjWL6KPG5YiQTDL7bWBkYY+cbNSu2I4XP+vQW8+/rmFa7b1/tRH/qZ+pSltCQwXWVVBUaEiEHvUoYYPsaaaaUDAru/o5D/6sDCvy9jcpeW+//NExLgV0VaYANYElH4XbD5mUQC/XW5vWp12jPEkVbd7KVSuGEXgtgJgee6levnbhXdc/n93l//6t/r+r/zw0QKGSBQ8TEWoFRgOqJCp9P////UUpo/9KqXXOZ5ZxAk0//NExLMXaaaUAN6OlI/LtWud0vsXneCxbxy1kQEGsGt6Mz81O8lclWvK7WHP/C5z+f1X+v+38fKTx8i6EAoMIjsYinmMq1jhCU/dVUXT3sBRwIswRqSyZ6ToRIidHe5v//NExKgTGWagAM6OlAVSEKw4DXK8P5cnGfCy5ZLPr9/OhjGff8lP/+x/lIBs5aMFEiyOz2M4jImFCun6P//to0pE8rUgZiug1hwlzU3tgMIFSM0BDbJsVYrIouIkoSt3//NExK4RqaasAM5OlBJFtIm9hKp0y4cla69mY/s3/7f7FWOKOQWKClEBNLyg0PpeIHPn////6tZdr87/ZEMQSTl+NrtmxG2xF1DeKCozarTstkkPtaS+f2HI1R1ozNX4//NExLoR6aa4AG4ElGoept9ra15kMtaPr/sn3kmQzi5grCTBprHt5Vusr6/aq1wL03mzEO4cTudnAZIkDBxoCHG5NGhJRxIMK3Li5QiNK2nn05fLpk/nRuDYwEiKg5IN//NExMUSQWq8AIPElHK0e7q5f1JsOVj6raEir3wgEBsguh0ZQKHuiBQVIBo0eDQqsVOqLAUwRLHxCEztbQpPB0lNOZ22bDStvllAZiBMhTysmRfY8KRW0GgqGh5Fow8S//NExM8SIWK0AMYElSUSkxGRCUeb9Xb8suvOE1HEQScdiMX6WB6TusLDxFDJElpL1poRUjr2x+ouuz+clLTRp2+TwkhFeHfaZVHBkRvXUI01JhVx9KvXjmpmZViYWDxF//NExNkR4SasAHmGcMi6MtSDEWQNyoHpfxb4qX8/gciBBoibfJBVCsuHmUvACAfJgwobFAjLGG+nNhGsSfyvX940qFT5oNmTB8Y2w0FjJyJzwx4qO9eqUxGggTpdP9+5//NExOQQwAqkABjEALXP2pM3MyzUEyNArY7IdZ1FUQrQSihwvy2JioI9MBmS3TZ2utjQ+EiUAzsrVMck4ZRaoISRNaQxKlBBCGKIzyxRDBOh26CrKIpLKOk5e9ff5jb2//NExPQWQxqMADjGvP/uOzv6TzSGHEWByNEfuMpe8y7u3TP0wwEyzU0HEYnILHIEYAe9VXo/6EoaRGLHn98VCJZnO7zeFAdP4XcndMQ1e1NrBgKY+guNBs60lYJMVUrF//NExO4U6MKoAHsSTG+nO05OZ85U/jgLEn5beuXpeQrYy05m/lvkf9u0e5NN2FuMYxRBM014R9bkI48OgtCNflDrUpY48eGvoqrmP40wWjFf+vAaV09jceCuDiiyTKYB//NExO0dKbqoAM5MlBRMUa1EED2AIQ6XBWDAEJTqhhJwRwv5CVTAZFO5T9NodJy80pdmf9csvJhQiYMEgGohIrwrSxIvFQHKXUW/3Xz3fLWVSznvSfxSK9tu7IpPzJ0D//NExMsYYba0AMYMlOTp1lEEzBOprCfHcLEcqy/RSfPFPPmNXjdWYS7L8hTFPWFvWLb1v72X1f/////knYGFWq1J1KHOM3DUi4fYaCalDCwSIlj7rv/frTiIh5tGAAVJ//NExLwWOaa4AMPGlTDY7MM5dt+dS9/ZwEmlhS6RCcBImnaJoqSxy5K6rHEVwRImfHK9Sv/y///8xa+X7IaX//6aOUKJvnbP//5FSjW+j/sBEDMMNBxFjJjCIcBTlCcI//NExLYWsdqwAMPGmGEBIBQagAgFEkySntcBgEsi8b3hKSoeXRh0VBICu+pQ7h3nXf/eWT69/Ep3//d/8RU+jQePr1EKVgvFFDiBQYwNA24+YHWC4QUJDYr1GXtW1i9Q//NExK4RmfaQAMpEmNOIValzIkLuF70mAI5Z/g+TuJu76WrEKndRR7VNn1BcTmjlwk1rCQwiAFAR7xWJYso4cOFCS2qMp7RlNjDdq49qmqChdhFDAZ3oum3i5S9koXgB//NExLoRKKZIANMMTDcZdKqfZaf6iFeypdWRSqUVI6gKCDQxfWcblPL7TYLgZNZEq80KH3NJrU9iUJZDbyzjMwQSssg+KPdasm42LvXc5C4xp5L3HTDIqOOJAOhiiH1u//NExMgSADooANPGBCRtjL4VWbUeMcKxz5Bi45mL//pyiRjAn//jgMHF/wMqfA1KMCRf/A0pMN+DlAJA/+4CAwDAwDKjQwUAoA/f4GxLhioL6AMByLi4//2hggOjDpw+//NExNMPUCosANvMAOAYIAUIAQAf//gY4oAwUC0ALIBAAG8YtQgAG3////kuaAHCxyhkADh43BkAAmYCwYBoQKG/////wxgOeDdcG249gY8KIeQQPnC38OnBtuGqyJpu//NExOgSICYoAVoYAFlDoNvMGSUZrPUUGITKQikoR8c0YwtExJA4DsHeTgAjhJx0PpLPjKHAbjYBLRLBfDlGzKSKadkll0gD+s2LxtSXW6ut3U5mit1JHTJk0nVUoomB//NExPInaypQAZqgALn02nVanT1VvVpzxoglpvSUgfUoySYysmlQ0q1Jut/XrNVAJgMANiYG+KY+1fiTjH96uZNaS0Dsu7STxQtQVrtgRIBQlrSeDE6Yt2qlWRbLJkDo//NExKcf8nq0AZhoAJZyP5KBqVDNBOdUwdPJI1qS6+qW/xn/+3+NY37PpYsR451rDYaB8OFHChY6DACAAXHzrrVuRQIG3/m7ksbTMcsaBO04Fo310ApUtW/iKhtQsVUt//NExHoZeU6sAdh4AMnCc+s0gwlEgoGxX0bwMEUzWAquJKyxYQCECwV6Num0R+q83Tc1qySrPc/W3vTy2V2zZnYcAyrIDjF6YQyoZ+TreXNvSJUrjKQrYP+m8QNUw589//NExGcdCbagAM5MlSolTew8Qb/598NqY3Uq1zqCAJVkFOo4gLl9HEE4Yrpog8yFV4BSKYLTTLzAZr5T7cTaBPqVIJFK3Vmuw5L/qWcv/8/0u+p+5+F7mGv4WmUmTxUH//NExEUZSaKkAM4QlEgTCNQoOH1Q+ozlpIqFLsGwsads3aHYvXFIxDma30m11eZ6JGEze6UMQix60SK5TCCCFfAaJ7LZ1uZd8vTCGZhwAhzfK2FoERn2jDuTtmnv443d//NExDIUoW6sAMYElH/3q1926//RJ2RnEnQBFAZBI4s4qEw61AoV/+zTR1f+pfaKI2E7GqCyZtNi7msXRjq8CTvLvhZU7FJQAWqY6yfg0sNQkh7xX6f1m2a5/x////+R//NExDIRCVKwAHvElM0hoQGC4RFyYUCR40SBk5/9VSr/6DF0uo4hDeuMgl2c2yZ9gTxRWU4dxJnx4AKx1EoOE0kPHODmQ5nZoUr+BGxW1qXqv/r/+tJGUosBMoVAYUA6//NExEARIV6wAMPElBDRNnaax12AAndULKXbYr8QFh3AJ4Qm0IXVGwCUBKlUrBMn1E6h1E4Plxuv0pE3jGf8tm//9fnBVOzuEMrDGB9r5lrf///+yLX8pSPdopIijV6D//NExE4Q6V6wAHvElIWpID2BIDP2wFHycFidYTIVZVEonFcnKmzctE5hcOD4kp/s0xrQ0MCNzhdQ5rFuR///+lWG6VwSmMMIhTkxMD7DErkOAGCo6HksnI4lmpVPVzr1//NExF0PUKKsAMMYTGiY5HVaSTL0hlaWp3dyzaQ1bY7I/WON5LKtQTqkKBjgPHed3aUmNT+Bol6T7KtvVWrFe1LuUyH1GaFoTTehoXD2Nxp5AM1l8HAeqLxI9rmHIvpT//NExHIQ4V6cAHsGlVLz15b/TjmxhBCQFFQWIYxzPv3WoX2m2llN1BmnORDsmk9brDpmU0NabCNegsubGTbkcKZ9IVJHw1EcklZBGpNWpkOtrf6dcxVNbET9uSSRjbNM//NExIEQsVaUAHsGlDzoq9eudCnPMU9dXcXNHYH+Sv2upytWa9cGomBUuXiKhPkoGyCpAYeFJKzUrZik8KshYjAkBj+STCr0OeCu+xsL+5DYrYqF9BV3G0pJKwEmjck0//NExJESMUaIAMMWcScBAI1JzN9DTot2aKFocE80VLa9K0rGxyAUGRVuonlWURNMhKIWVkQqNWhcEjQNAX0cBN2ixHtPJRzwaZ8lr+Hf1O6tLf/llQCoqFRMV20x338h//NExJsRsMJ4AMMSTbgAHCNA9zSFEVTUunY0UJAzE0F5UnMJA8arMgIJC4ZgIWFcVFBI//MgIWFf1iot///xT2fxZUxBTUUzLjEwMFVVVVVVVVVVVVVVVVVVTEFNRTMu//NExKcSELYMAMsSTDEwMFVVVVVVVVVVVVVVVVVVVVVVVVVVVVVVVVVVVVVVVVVVVVVVVVVVVVVVVVVVVVVVVVVVVVVVVVVVVVVVVVVVVVVVVVVVVVVVVVVVTEFNRTMu//NExLEQIJWoAMJMTDEwMFVVVVVVVVVVVVVVVVVVVVVVVVVVVVVVVVVVVVVVVVVVVVVVVVVVVVVVVVVVVVVVVVVVVVVVVVVVVVVVVVVVVVVVVVVVVVVVVVVVTEFNRTMu//NExKwAAANIAAAAADEwMFVVVVVVVVVVVVVVVVVVVVVVVVVVVVVVVVVVVVVVVVVVVVVVVVVVVVVVVVVVVVVVVVVVVVVVVVVVVVVVVVVVVVVVVVVVVVVVVVVVneKc9DtN//NExKwAAANIAAAAACJqR48CIK81DzSiXQCDMQNgzFg7kw/PFahAQVCty/RxRK1i+Bl6J+Pv61Y4o44n3L5X+783FdndnbdndjkUxRxmdnZ2dmdn///79UKYYcYYdnZ2//NExKwAAANIAAAAAHGGHEA4Lf/+KoNGVQLOAAIQNlgMFQNjIbKBguJyhhGYRvUyewvJ+FziOIDiwggOOEEBCDmEIeJAI8CPHwzSMMtESxYiWIl2mWnf////////vU8C//NExKwAAANIAAAAADzyTyTTyToOQClQCRXA6XAqIJOLo6l4di6GSwmLExVlE+OSrY1K2UmlmlWVmlXETkTQUSGFBRKiYKqxq1XY1JiZlWNRNEiISiINgqIiRFP/zwTC//NExP8ZEk1EAHsEuEFQkBQKAgKEgoPGDxin//cMHjB66kxBTUUzLjEwMKqqqqqqqqqqqqqqqqqqqqqqqqqqqqqqqqqqqqqqqqqqqqqqqqqqqqqqqqqqqqqqqqqqqqqq//NExO0TaM4AAEpGcaqqqqqqqqqqqqqqqqqqqqqqqqqqqqqqqqqqqqqqqqqqqqqqqqqqqqqqqqqqqqqqqqqqqqqqqqqqqqqqqqqqqqqqqqqqqqqqqqqqqqqqqqqqqqqq//NExPIYEU3kAGJGlKqqqqqqqqqqqqqqqqqqqqqqqqqqqqqqqqqqqqqqqqqqqqqqqqqqqqqqqqqqqqqqqqqqqqqqqqqqqqqqqqqqqqqqqqqqqqqqqqqqqqqqqqqqqqqq//NExAASCHokAMYSSGupSCApR4FYM6QpICHHrBozMIvOk4pSr5fjL4gcKj4YBcaJR4SEhGsA5MCBYNhEOgmEQ4BAiUCxMAe9pNdxz///////DG959Ko5gzOVDzWhYMP1//NExAoRSH5UAVsYAAV/CYGBQCCQALgxVAVMGLqWrDMxcBx4U/sSlcgi0ZlU24wpWLFA8BRUyDIjAQSD4LCQ0y/tisey3//01UNQCAQxiGM1uCrqaOeSXa6zgJrAwwH3//NExBcX0NpcAZx4ABGBRXI7ClTeCwHAoJj455qvAhjhi//3f3jWvL/v/2UzjHf4kY5PJJBgABjpMB+cLAR3sIDo5wxP/3PtWxrP97gtrTSkTlAHBxUWiphwGsjFQMZD//NExAoToM5gAdwYAGWdPmRk8BA4JJzJamDyKKgZPq6vAQAAurAERnK8ojNnd2uDVIdUo4QGR8clUPBDGE0vsY6tWc2U/V///2/Y3QUoJ0a+lRaGRyAzAYHMDUc+YgjK//NExA4T8MZcAVwYAIKAEFELEEYgJgQFGCccJEOHqenqthna2Oqa30rzjCFPhHqCDQW5iEsLJK52d7BTqr71rbezK62PVepfJ9X39lqfoRIkw+yIUWxJgDHYV6uVEdpy//NExBEVoyKQAZloAaNY+N/PucvX8egwhQ/w5h5ND/03MycPD/8JAOESse49zf//GDKh4D0NKf//7ob1zf///84aGi3qQNNf////+n6SFNSBpHWGo7jBn2nAixfGUkS6//NExA0VmdLIAZhYAExwfaiSnn3SintMV1dvNVbCP1XyoVzFOrXeP5suTUtjiYgUH12AXuyHkhGHm/tbetH5IpRZzIr+v4ltXu/7Tw7Ltrrd/99IkrMqPdZMhekMZDuR//NExAkUgbLAAdN4AUTUmRnQMFA5R2rLoxho/lTkDX/7FH3/8tzynzlrTkKJXGVKVT7VN7wvM8/xiz9kZ7Y3ChslNU+LxKU+8b19/5z83+qwZOnQz/1D0hQoDCHlMzl0//NExAoUUb68AJRelAJkFyfZ01DXEMTVWxNGKHok03Wo2JBTPpqEWPp1G1TB/HXfft7Hc4U3vPiIXfz38J7XXviFDvv/GIVdf/Oo+d6g4rCodcb6akPWYBfFKfdRmBCx//NExAsRcabAAJNWlIevTJoC4aeoT4lPmIwDesYUlKNNKgCgDCyP0Sos/1CtlzMOJQJ5+eqKi03f+1r//cm+6i5WeH48ZZ5Sb5wAKRQUaagPoHM3skswCRCcb5kOV/Uf//NExBgSma7AAGtalB4M+5JCYkuZLUdURw3CG+tY4SXetljhJA0qzElC+fatAnF9Oq60kLOtkUE3dkpkmflidWV5ZBOR2H0mUoSEBkW9bSGhzTd+oY4ib+sfy42tikIW//NExCASAba8AJQSlR4+4+iIBmZ3f3DTef/Cpj5/SIVIX/1ZCgueZ6le5D5GDcPWypUI/pJi2+eIeDwLmx3lOiRofCBkB8Zyw9JoXj9f+VDqX7+R5H2vtQeQITgtSwkI//NExCsQuV6oAILKlIwW9QFf0zTGM4wPGqXMLPXKuEThLyT8NLM5a32bYGBbgseiMD02ecrCbEM3s6ZLhMjZlspc27ugVkqmmk+VmXXr/m+yGVrvp//b+ZUV7GMQzls0//NExDsSYd6QANNEmDHmwye//+2se9VazoQSmpJnY+pJ2gCmJRo4DcgyQSrGc+t/2szx/Qo2LrgnBkY9MydD3WrY/1LbWe1syB5VT1/0lxInPEVqbgmZp//+n6Aso8Uq//NExEQQ0L6UANPeTMbedvCGxEkNlNGghbB1qvpIPCO/+12BJk63TNmoKggKNxi2YatrX//EE9KHcgmUMxUWPrX9sc5d/iUNQkBnmrk///AIu2Rvkl3LtvO/ZGQwLFr3//NExFMSKLaQANPeTLNPLmkPKYkCEHZ4/YGFYZ8YklcBjJxWMkTLGp3SfNNngQVewODzOFA/Qn8IyaMHe0IMdyNsd/IT4cWNid/5VZf0SZERBRnmKR0BfxOjN/8lG0f///NExF0SgZKgANPElOE+oXr17WraxK1lo+nXa4aWWtIYPiQdfyL1/MKv82LppLi4CZFS5eX/cVa/6LC/CEs8YCOp1/63NFlFnb/HlwMrKWfQC03oKhK3qd8r9BeKm84u//NExGYR8aq8AJPQlAWEJvuCsBa6+BKH19QgOg2FkIFywgBcdPC2b/Enf8KUzdygjZAEG9D7//WfUPWgKr+WCd0NSJksERB6YJfM/Ql7DxLxMATViIoHlEmwGAzoZBgB//NExHEReb64AMKQlAG5xAAiC3M/cxn6vlaVBZaT1y0f///+uoHocL0iCwUEzKON/ONURIOSyjwz8dgFBKLrUPgVQhHUXUOwxb0fWml9Xumao+k+0F85Dvd37yfI3uGp//NExH4QobKoAMnKlEIcE/kMRlODI6Kzaf//+v7UqrmylYxCXDuHKfOUetftQoh2H38QbC6ocyopjQ3TylqZg4S+V/msgaDlOXBHCKSW6SY82tqfzrfV3mK7U3ey3MHZ//NExI4WqtaMANtEuREiq7HZ0fr6LRKK3iSul0FS+OfmL3W////9W7s62RaXRRUowBxBRYYMMIzKReIMGV2Og6DETPuQ508JgZyIYbK5qG1LazfSJy7dTdHTw7hmHRzK//NExIYYKu6IANtKucj0+xWr9HQ2xlqpahWMY1S9W1ayt/1/bp//+pS//////6lUz9HUqgJYaLVUIYJGAKHa8qqPImF+zjqQDljXtxWAuS59AxEyMfSNE4bQfQ5B76bm//NExHgT6t6AAVsQAOpAkyoeg7h6/obJppmhoaEqO7+boMaLNy+IQnkmPMco0GP/SNC4immpBAS4WY/mojAc8Zh9Dg///sheS5KCXiZkuF8THusulMw///7Ju6qF8uIE//NExHshkyqYAZhoALnzUvjkPqNixjMkFUEFpHRrBigWAvsYMmmh7617z3//K/zL+1fn51XpmVOUXTPuVSkgufkxN6SgKogEIUZg9HzyR9XpyRHaMQamhppkSLExZibG//NExEchUxqwAdBIABZGZbOtKSLaqfJGGkA4TuSwwbKq8Vwk1qGqY3btQyl3IchJDFZiPiiaQmkNRLwSanrFwVUn3ySUlDMW1AvqVeb5vUSAU2m2dbuMLUvn2sUZ8TB1//NExBQS6b7AAMFOlOo/4gO9RTzEFlpg+BBr48LH6gXNRFOEcXM6zS7dUMVWnk0ZsVuzuyk6w0Vhp5Y836L8t/XXyGtS5//qhQoxw/KqIUloI3cSCQDD79AEwzn0x3t///NExBsTMbLEAMLQlINJb+ga83IKwTBqbHAKAGgtTggTiq3JYfmrFkBwKm+jnrVS70vwk1+7EkrLlg7UpmmmtuK4F7W1FABtGiRY+5UBRxtfWPMsVVHePL0COrTMx101//NExCESca7EAINalBICgfqdZeNdFRgnqTNzy0VLTIZqhWZm5tagil6FtkGVUjPJMFzTfbcuU+oGgQj3LgX4IKVSwoEzXWJ+PFHlZJP5cGzfBItfwAwOzfQwVX3GTXyP//NExCoQ4TrEAINQcFWpcYMFr0FwSYGDyjhKg8tQlCaAEe0uzLK6eX/uNlKPwTc5KVjImt7a+hsArUdoZFLP9Fg1P/qxvPhETbKljolONopt2KjVtGOfjo1IqyAuB0XN//NExDkR+cKwAMJOlKCKNW/5rf9TTc0eJPiHJRJApUPbRmBUCckMhhACIGJqqlMHAsmBtuW+hzhqe7btw0413GpPFAJLLY5c+W122SUzVc1GtrTjQNBpxZ4lCZ0JM9/9//NExEQSEOZwAVwwABMNsSRVNJBU0LIwU+TQENNHBAxYtgNLQuAzHIRKoKFmeYLBqj7dnRRJRsaCRT5gRXLwmImQKQt7JKXBSBxm44FJvqVrH0OeDnGAHvQa++pwd4ng//NExE4h2xpkAZxoAfBnqfZvXykYjBhfy4yOu23/mRKDwM00kSXKbXrr2d9Sqr+gs3QQQppTd+6vv/Xo11V/etzdjc3Q1gqG7VqO6ZhEICL8QsfY2OWTkCTSV9MSkR7e//NExBkYSZ64AZhIAGjESRhze/bpuXXxRRdTMvYb3VgYnjLcLXZYRsh+pkhxJuajUPjaG/kuTht9Z/V5929bpg8OtkwBnPQhXSr+9QnVqhV6V9NqStVkcpDlAZonUqmR//NExAoQ+Ua8AdFYALGIhCBXC2JaRPlp9RkOWt/mN/7Uqv5SBMWfwYAfP9tNSaQ774SJdd7jYlLTKLShO2qDeZ0anrmbOlDDf/qbRVVHhhd7AIWrDKVlkiBLC51D8HMP//NExBkSUVK8AMNMlD6x6jz8xG03pKkmEgGfTiQogr/mmXvo0iQfd5oKCQ9ckccg0GneuxkQWP7mNUGSI2q3l/7rECEWsfu7lRdRTl5PjFArjU3r3fCnuX1nHRVfNqkI//NExCIRiVK4AMPOlDf1nd6wglmtOUY+cT9BU+9AfFkZ0NFPTlj+XPPjfiJrmlBzRtWKw/hyVqrmXhQrXeTTNDjBb1PSZWJeYmr91dtOm0Quc53KSPsIBxgkJcZM1H4C//NExC4SmTaoAMYacGwby1LdEyNkvW31JN6STqZGYmrpZ+d431/xEeLKOSZzCQUIEg4QCgmZMnmdDZdBgclR5diXQSxqH4i/0dRCMYF5gQR+p0KkUknp4trKN06Bcl+J//NExDYRkLJ0AN4eTCR5v8QnwPA0FXUcc/LEREVqN/5Dtww1ZJMEFDJyADBZigigoWiGkEqOVdFSWgNoywHVCxNTJalotZF4LUDLYKxTr//879v3/6n1u+tf73frUz+m//NExEIQcIo8ANvMTAGgGQSarFXCWm6tLayr7sAoNCx46iFukuWREBkTPS9ruQYlw1y3OMUKoal7GMW1VkuhUVN5uYBBF3um8pAufIIFKoUzgElHLThblFGvqkLSD7gK//NExFMQUDYsAVoQAMeX9ZBAh1yIGSFxCQcipcA/YHLAEQtNOHrmZJC4wKiAwzBs8Ar9rZTKhuYFsXOIJlwZg1T0EJkdmiciZ03LDGaf6BtncZNxzy0XF/+7IuyC9DWt//NExGQhIlaYAZqYAAQWv/9BMxNzdNi46dNdZgahc0Nd/LCV4WGGA01EQBdRGsVvtjFjBatsSdDAFEvj6798XgQ1UxaZdnS9ruzgQpmnfyJQTVwcoTIp2Ryzm8CfWs7p//NExDIRmUrAAc94Aa/+t1/vvVv871B+canmpmYMWuk/tWqTvjdDUiZq6j1Ig5wc5xvoiCA8Bm/APYA5ba6odgPHfPoIgCB/VwqRDA3Hbrnb95BE9ZkS0tPeVzMPiNMc//NExD4RkWqwAHsGlEaTkEI6y/blFdf/zA5SGt61BKHjjZ2dWR5kaz7mxtzuY/NJ0SrP9twjr+1q95W+Gc7O8YEudyC7Lhyug45c83GiRjGhMVKHRzhwGyBu8fUcqeox//NExEoR8Vq4AMYKlAA3ja+XAkKD8FAC1hbvIHAM7V8Rxx41mQwHfhUV4grNmNInCHut5pQf/XJ5+7E/+56D52M3/2Da8wQCfuvC27Qpf8QXF+Hc0vMgou+Pw334JtuG//NExFUSaaLAAGvMlS2WwUUL6yhApV6e5XYp8qUY0aBlrHmtRdWgRD/gV+csq/otfrPmIkeaOeBDC4qjKLmt5Y+tuhGj46mW6qVR0Hm8bg2vABe6+dm4Q6ua5Dmcq/Db//NExF4RkZrAAIPQlRv9SjmtXdS6puurQfeJjupBW5y8ddsqLTFqMOqDwrAqx1iDKhx4uWfIS1kLvnPpHkgxemovm+XARZC09QiBEqlioFOZM6QBMKS0o0Gp6tSVqR0S//NExGoSkb64AJvOlNKKWYsYtRHqyWZPuh/T7+vpdHcBRxrCSmdoi6GmMY1DGf+ZKO1kQa4BArqqWY48QesqiD3k2CX8IIbyNjVhlUEG23w3AC0io0NdjmMnGL6i5F3D//NExHISkgqsAKNKmN0kdET1aj1le3VnsRL715FxF4aa5RqGv//r0t70VTkW1CAgTAwNVG7MIcV+34ao62+xmmdmSPq0Qtks649LLYdvAqLORRdCoalpYKhrJcOxL+sF//NExHoRCIqUANPeTF1QNP//bW6e///qf9QNKmgsyn5ULGNDr3ZzwyB7jrnPIhqaJemBhxYGRGhcv/BEVAz7cDWhwMSD/8DDjwCj4pYTgLL//AOMB0YsZAxm0v/8AImK//NExIgQyIZ0AVowAAg5QBgOPw7Abv///EfmwXDhqsiYj8nzcNUf///jpFxhcwRUcYXUEyT4oAZhhKH////+OBZBDSTIzaQzYy47wbnkSIhVd6YhpLSTFik5bS4dcOyq//NExJchyypcAZigAHl2TL5eW4SvcaO1BAeioJZKkVSh07+DByilhOObi1PGNUU8N6xHPCFgSBNGHO67tRuiYtpPpayzPLuNHgbpjG6799OMlYtr0xvWMY18/f393/1T//NExGIhemKwAZh4ABfwK0hV+tazr41r/Wc/f3/j68msT1nINcNQRDAoDGxpYlAP0M58kYCGdLj/QMllrVtBhm1F1okY6r/yEoPXenTd2swk923+sHt7dgUk6/ddWt6c//NExC8S8UbEAc9gAHLrfmjdGrWOGm1tWInqxAQPHlbtWlqP3Fk3uW+iOr0AAwKVpBcV0XwDSS3tmuSRe+z+raFNF+OEMSLH/lLJN5fMJ2RazjiVw0IyrWQA32OG6tAj//NExDYUCWa0AJ4glI/WgYGtS1ldCtzA+rmOoJHSqYepOx+j6RL01Z7fdxI3rta5HRCNPHPehQyRs5lRyoMAxbmWK24Hs8wute/X421+4b5EGd2cu0gXALJlyTL7Nj86//NExDgUubqwAMYalN0ZrXUbsg8rbWxLJpU0EvX/7Wzi2Of/Oyz3VggCtEqsJumUzZ85SoqCgp0uOzuAFwDEo37iLsHMeVdLkgp1b3zlOl31pBABHXlpeAGD7bcdA2LW//NExDgScOKgAMPYcOacvTBVx0NeItsq7/lqC3//pjiNc2oKGj8OKTGQ4xQ7DDAHCTMDBBkxgBghniGku1Yk0eXEwhDk+dL1Wq3fUqpYrouC3MteEqBhoMFAwUS4annr//NExEEQeMpgANvMcBk15EVzGGdBGl8VVWmRxgKoe/rLlNjVuV7PCwVCxAfUL9p0SoRFVb+R6FLo7I17ErjG38UzCqite/sD99rovOmV6dJftlOGLHWy/P+/DaHbOcxP//NExFIQeF4sAVkYAP25YASiJToIm4DdANIQMBPImgmwAoAbkgKPHX9PuXiKCWA2QFpn61IKuGhgEEDsAHED8xR//fgFDD8gvoFlZJE4Y///hf8T+M2QwxHgc8rl//////NExGMiEypkAZmYAPTJ8ojNnymXiCETHLHGLn////7eTxBCTJgqGJEyKDbKIncYBXQqne4w0QFneS11nUzG8nAu3Mvpvx1nMc/+XAttpnvN1wG2/XrM751fu/lmr/xq//NExC0RaUKgAdkwAG3cwhdxj3CjZ9TWFjhFASe0Cvrpd3f9n13Km3UU7PZMmPoqWhf0rEwz1Qd0FzpYRHnpCDDiud29v+/n9v7E9LHpxbmTIDD9JR5OSKTRhhulzYIv//NExDoScVakAMlSlAaoBlwFc0ZG//////DhxSG9S5VW7CHwWLlFu7mhOAPhOpVEyQTmJMHtyiK4LgPPIWAIzxrFfyydfXyvzTVcaqKpJFByY+Og66jjtX07m+LdrnaI//NExEMPqUKsAMxQcRKQ7It76TteJGS8Dc7+Sy5H/41mtOpl+MSX8EMsOaIwSRAMqav5r+b87zjiro7sKCdSVIaXOzB2lOLO////+vRVs/zOWCMU/ym3scuugK1PJutE//NExFcRCTqkANYUcHkb7csCi7HSqBTIw8fnRCMg6W9/PO+W9CD6F6SEnDYgZJAOmLV1bV1a6ZKRlpvK9T0gN3RDcaBIYj7AgAaRCyelWwSLXbYkHaBbJfLgDoaSdlM1//NExGUPwZaoAMwUlCc0y86u/ac0/P83H/9S2+WJVvoFOSSi2JVOaaUlJWRcuKXC1dgsxXkThMNhh6Ifd0TRAtNu5TWrGssXB2cM3/Pkipd8Fj5VZtZMNsWagIoppd5Y//NExHkRuW6oAMsMlRJgSHrZd9N7lOS3UXHr///3XyyS4wlTzpZZVgAq8TVEIjKMJeqgXXpM7qBarPNBEaxqsvRRZP1HgLBPaozbqY/o/q3z1fV///tWQj1iwZuqjnhO//NExIUSOLKMANYSTCar///s5hi1+9rGNBQMTEm7lyZedL5oLL1wyhxiAK+FWMSgmkOloJK0fE/gaVclcSxkWtKCNBIOJzSoabnXsrp974Ycp+w0X+isd5PcyGIDoOb+//NExI8Q4daQANKEmA/+9M3fFsQOV2xh+1X1qtf+oWsF7jPuHeqaXxzKpb1N/I+v6d19x9F+5491EH5y/+zLbW8c66mbeh6bFgrN/oUOv8XN/g9f7Ex1pYcB2Kr0HA1f//NExJ4WSbqwAMvWlILS+IGSiu4sCo5ANEfecWTqTTzMEpLqGZj87cneIdNjMMgaprbDGY027YYIdM944j+ZsQW85XGtbcU/7Tn76ls/xX/h5/3SLbKZwlTMnFNjG0DE//NExJcVEarAAH4QlD1z3KqHLnfZmOkc7nbjgu7FfD0lJ7oiuPAGn4MervW+y5620CYByqtiqJKqafV3ljzrLYK1O24avEpZQdUDTyoKxK5vslY7mFBYMGAIOZRKcBa4//NExJURYYrAAJPMlA/jL1TMSdGKnWpPJdwXTGHCVpOmNwOZRQXrC9exWJHTlUSXlG0cAtGSZUFXaj1emIudnfp/zo5B7///VTYZwztDNCCA5jMwCTFyIVCyQAUvU7ZQ//NExKIQcNKwAMMYcMfd3Gdd5pMImpcCoaeyCpUyIiT4uZenXY1Yy+y9e5e7vTZkvbCFtr6vPVLEvWmrcj0VKpBg8lKUGTV78Xl6jSS3/r05QU/kQI8iYX+AmEBsfls1//NExLMSKMZ0ANPMcCfJ8BrwWGh6wKL+cNCQNicD4AtfDZQvwFif47Dc0Ki4EAhjwvRqkx/1Mz0C4UCiOSSY55p//tyopZsiiXE0P/9/urL5FJPqSWYEAlQtf//9/ZvK//NExL0SSFIwAVsYAEeOm5cL5E0CWLyJdMjtOD69JTGlaefyX1bJfEszWGZHLhIQBzD+NMnTA4Wzk8c9MnZdrlBKveszW+tHZn3dvu/NycatiFfb06NWjndDDIAlYokL//NExMYgKyp4AZiYAIlEod6Gs9I+nzIUI21anvTv2dSTfqnOqY2Jx91gWXNLqx6VpdCwGeYahJhlzXgvBNBAEvGil8MdkYIh/tLxDDcQs/5FhSGw21BFBBFG3iVqMQns//NExJgV+YqYAcwwABiFxTXb9zmXQIEcaScIyNRmaBAkgu00c4OlHYLow4XD9X2U/9iK3rHsMRUa1BUj/eocVB5eRYSGlzZ4JQhWiggMS6JmPwT8l9GIyy2KRTJJRksR//NExJMZYbqkAEvSlGOg0T2FYPAADAwmdokMwmoxa9akgph6kBRsVyRAiMKI+GMc2wGJN1OyDMXmja2WzSFTh+8/uclLX0X1Aog4OoT49+CTS/9pUHnOWISZK0rSOXaP//NExIAZqa60AHvSlIvAUzS4eSNDPFnt4HDH2ebGejlJ39o29/NIZFHEx8u8ormkZOfMk0z6wM3iyu7DbCoTVREZkRq+Ba2rOtyiSOFs1Xhjz4+YRJqY14JEUx9PibEy//NExGwRWY7IAGvMlXCoGBH/ga9S+EnHGKc5OJ3nJUEVbiRFqrnH6LnhhzU/6UV7UQTsMylrFCkn64xVTum8hxuO/6kE1ivbUIzn4XSd1uuWE4k5sgNAWZifojWWoUIz//NExHkR6YK4AIvQlBQtkkabIlE36Y91dRnip5M4sUMLu31N0KlqIeCHpRppmAegVm9jCNfFNm+iN4x2xhmz8+Dvf68zRt+jDFjLwAQCp5ag5uTmgTj5ehSz/RAPP1dG//NExIQSOWq4AJPalEtT/tJ7p3PCqhJGVamOtyQ7opLYpsFHlaHKtanKTmPFtoQ0ltM5h0t/5X/JNjssWEahg8GoepbMHILTfnKFr5Ve+TYbJqNiCiov/z+f2LFsCk2K//NExI4RiWa4AJvSlFrOtETsUV5ZPrpVChoQpu8kLwPiReZaQWk380828mopMpI3Z+3p6P7fd///rU5+R7UVdAyaRmq//+qhrYZQXFAAIHNWncu0jDzqAIeBqLOhLAYL//NExJoRcUKkAMvQcQLOb19LndQmwApm6k0xUI/nfX8uoVssofb1/f29n//6Ulgm5lTVG5jNuORP/////+nX1V3QYkIydupalL8XUAN/iB48eeivEIADh+xzXyT2WpYS//NExKcROe6MANtEmEKd1j8L/v/7l16mSPen9LqQfuZv//9H6q27jv0LWwXRmE///////ys2l7gwoQBrohYVbZaAIDjIkI971AgWqN56oqBA4qdfHc3IrONTcNsFtd7i//NExLUSEtKMANtEuQcGv+nRWMNG5QISLc5+3/v9H///6ehyna81k/6f///////2nIcSN7VHAyNJbZh3qlQFtsygJ02gsiBIbPJ937DCCw7WLo9xznAvYX1uQCTJclBY//NExL8SMtaMANtEuBDHkXvlxAzHGMGskxki6FJ+HMPJkgPQ0COPISod5SHz+Oc/pvLSXKzyKJl/9ZmbkoaMo/WYGJMMh7J//lw0N03QQZNN5dNUHNEUFtdv//2TdBqD//NExMkSmt6EAVs4AX5sgXUXSRmaNSzyqd3EWkj1KEUuu0yhxpXpWQ/+UsT7lev68lBz+wjwm/8WPj/CxTW+2pSLXMAnqPasRUmIYyT56IV9d+GnHlN3b1ZE8nTDhNf6//NExNEiKyqcAZpoAI02d/G/f5xqn+bU+7wom9/D+jp/ED11x/W48F6GscxsukYKTiXu6nwqJLvLem7KVtPta+08lSx+VBT0nPlUjfyMczlTd4fZ3JmF2ELUasUKyuUI//NExJsXmcqwAdl4APZqUx0qpkmwxL7UyMbe2qhnh7Zn61EpqLW2v643jWPXV8/NIfhakjYk3fr5tjNm0/Iq+/uoKIGe00w2yBQS927H4ZFSPZSY1rbGkh23u/NOVDMP//NExI8bSb6wAM4eldvXasglc/Z5nDMX3hDIERqIIjk8eTIqnDMa46jROVZdOWkO96NK1jaeG1nllo/rk/3UmZ3ZrPV239DnwjGddh8vaqvfefyVDLIxe1vVdP5tK7jH//NExHQZAb60AH4YlPAmggZY7UkfDmG4cGt22xNceu7NyjYHlpWJRISCYnJoqCY0YQSaRJoIa01Nz4MoZIZW3P0uvBJYKhkjUtTd6hT9Eci5NVVjj7/qBuAvxrx4xiNw//NExGMVSVa4AMPSlCWN9VIyTCUQilFwnjgocgiP1i8eRbfasjpDV0+KqIKgwZnZ05t35A7j+U2tdhHHyYeAoGPh5rmfnmkf6dR+YthzlhJw6UnXuyHtBKDfREqW71hI//NExGASeSawAHwYcBx211ZvcxaSy2kt8pZoxgjrMLC5+XoPTgiHp1HrtLrXZBo6SIkS0UeASIdCQw99PPFqv9U9hsMZlo2ZNBEAQx4RTd0oKbu0EuxeyWsihH0VgSJL//NExGkSePacAM4YcJBXTCrZrp5Vb0xRpeOxqUk2ZCIyKgFJDUEUnnUUkcjXw7h3//////0qN9+D9XYEFpkRaZUDmFjhiYUlElTB7DYQSpRkJSAhRJifJ9YQpW6l17br//NExHIR2NZ4ANPScF/z6WvWaKgEKbdpbTe/U8f7raVT3/anb7fZ+71f4Vo8xRM9tRcT9ZHBo/2xM2rNDEkHkkPWvYx+o+wi2sWa5blAeiyhw9EdtWViotFwGjgupD3P//NExH0SIMo8ANvGcDdhdIQfUrcsa0igW0PH1T+BzCDEGJmHc5dbwDANJLhdIgLUmnpirRsV1vD4gWy1159ool7TAIFVDyQvmGcs2fY4djzqNbcUMDbVKIBMVYReD17V//NExIcQiC4oANPSAF7ErCSJEHUX06T0vpqmEMHovuKttC3L7NaE4C42Dps5NAFAkqIjiys8+7q1TYEIRSg0abJHX2xlPJohAlj8OlKz+idRv/7pxw1PnzZkqaMWz//s//NExJcR+CYoAVoYAG9jeHSoe4t7XZrUUybfFV+eNVWpHC5E1Uz01VHTaGEpx5L/7///6OU9ym9b22b+1TvPu1kSSkm23jv9ZSqRGeKRVHGYds5XGjsCjU1l/6oKkhk1//NExKIhsyqkAY9YAH9A4Hs3Js4A4QB6adEuSH5v/u9X/+l8fCQNRmjQUAZmp39KHf////0C9Tdu5MDdAboYFRNSzhdAFEfs+f/DVSExcb9KMk+P/m6vViijagRJgkBa//NExG4RGVrAAdhAAADAuaZmjzf79LWv+Uuf6pRZzKx6RTp4sVmv////Xb10KkcGK5V43Ql8jWlOAdh0HyytFVbgLwDkq7xdtJ0q06Ym4zixKq9N03GUqhYVDFgOSldp//NExHwSSVa8AJvQlBLaC0of6s1zTLDf9crt7cMwsgsP3fUjpBUFSP//7f+S8A5GPjhr8z4SFCUwoABIaYkEmPFosSI/l8pS0kITIggNHoJhJSKiSJIgiKpTCCcE6Nla//NExIUVcVagAMvQlIUMVSVChQskQaFRCAUljTTRC6SZh35ZWHfWp+1jv/Xv//lXFpI4ajBTIrWhMNk6ykESSTZnal8oi1SLTM7jZy+93dxdi3LOnoUDjMKx8c4X2MxW//NExIIVAM5kANsScJlGlg85spqtd3KF60t4tFVo1PH3bx5fu79VJtUFAoDJWvgsNRGfSXx+0tx7M+Y/afg1RdVMbRxBVKa3utQbhJpGVk0FHk2qPG5TKI50a1Ju1Jqh//NExIER6GosAVkQALzRNAxL7JLUm1b0lqlIujzHmTEEDWpFaLpMydkKamWs3ZbJsrbSosh6NSNRiqmkePLPNQYzSLazqmrXOsjTzyjRmay0VppJ8zNzhoaFoXI6p825//NExIwiKwooAZtoAVRxXGzpKKKJ/k8cc4ZlCl6Y5fL6bj2NwGQH4AwPJIvF4zGGCKCUCWZupBBIvEdwugnBAHAaJpv0VGyzB1GaDpIPvoKSUiYo000ygXEDfTf6Lqet//NExFYeckqwAZhoAEupNkFpmbmn+gh7qqTWbFC5g1kTEQxwQ5UbeAQ2D14xZRgJIsY+PRSgPAmShcabfhCxdgkRClbNNGEkHU9o4jgIABCjC7zFDM4Pra3crloybPTE//NExC8SKNrEAc9gAaZ/Q5aJoBaLrYl27dtpgsvYI9/P/n226jldxvfuiBBx+xNRsItsUV9MbCqlyXFOlvJeQAqzrMlCJVHEWeB2sgFl2HBiJE4iNtE2Ccs//XWWHB5F//NExDkQoNbEAHvMcDauEzQSPCvpVrXKxn8GiODjU/4Qaj9GuUktS/YLfoXTa0LFttxgWUtRL5Neh6mhwOVMKRKI4YDtHqgtk55d918zDuSRLuKkgaHckWAuwlWGv9AH//NExEkR+Ma0AMYYcLBeq45QUhOpNskNM/RCDhQXDsqYEXib9lN+CQoM0HFAXovrg3iTHmhKdIKlWb2N4sSJWX0GjNBloSEsn1feelk/s5Y0mmOxajLyozk0MhFDGyYI//NExFQRAL6QAM4eTB4LghhYAQgBzpFahlwUhUiVhVTONLqpRI0AlCh6NbzQk5kjpICiIPHq0f93//9nq//+ujsOgSBEhguTYoSAnBI4iLBgHjY8y5TrAMgVHNvCrRy3//NExGMQoJpMAN4MTEDijy0mxaZI9RmHxIPSTkzq6p+ea2Oj4qKtdUnQdBxF7tzEs1DVrJ0TAC/jMWit1hul3jaGNAyZZR+wyxYx8EUiiSa7hxFJZ6mFbg21he1T5W2K//NExHMR6C4oANPSAAdaQoWyYQhDX3E1XuUbsNHmVgArOP2vF22GSy0jmLqDcEMAsqzj/y69kY1r8I3b1ai0fQud0nUvD2SoVcJe3db1kYTMSseh1lMtaTqdJmdnTKhy//NExH4RsCooAVsYAF6rp9SrjITNGUcNLJvRd6ru7bueKCZoyjQ0/QZkqabKQoGCvUaGh0pkMol8hni+S7KW7r2Q69t1r2Z62zA0LDYuDwPsaNRSLip/5ewrrulgDPPc//NExIofyyowAZpoAMHMM0Hvy+s2JXBugaEsSxkFXBOypIuGjmKMzBOCRKQliBobvY3PmbiYBeAuY9yHy+X03UlSuyZotzRqab9BJTrUXDAvm00u3231OrXQZz6atDoI//NExF0gcx6wAZloASamN1ZxJdFRuiylnrJIpsyLJutN6f/oqs6lM61LVutnVTmTn5L//VaJCMUmzyptO+aVhxZ2zjt03Qi2XfoWdjWTW1oGqRs2kwQwyPkkdpJw+CBN//NExC4SMVLEAdhYAI87tCHX++v/p0fvdbWsWJaqzgOFu+vttHGfopXOBpvRwBqQyO/Pwu48AjTDbUq7FxVNMVYiUmTPjT94zT4rM5H6hLLaJHiH6oaMrUSt/YzL6tS///NExDgRiVK8AHvGlEzJ1QCY/Bhl4D9rrJES1aS/epnRC8K6pmasvAX0CDJXrdBM9+1UofnF7tMA0W5mIaY2PXCoJ5AJqrKbRXfE9vx2V9+Q7Y2HINhSAI9wegxYSNgm//NExEQSWU6wAMsMlFBrEE+5Cnkv/cUMDaulCIbaKXiN2wSts2in9FxtsMFGxcaYFeqbxnBXqFxcX6SO8XFG27bDVsW33X/5+a6z82+N4zF1nMKWLhokw8kNFkY4bNVV//NExE0RwTawAMPecYLQIDc0IBsSBADHDIHEtKZ6yhkwch3GZTdlLsHFBPYlg4iqLEcw60JRSvOE5kUo2hyYcZxBuNO26n6EBUkBSILNIpi1BzRDg4WUIgoZJow+rDBQ//NExFkSaLp0AOaeTEgEEGaQ+NFRglh/xGBSYE1Oe9MO4X73ubp41CyIK9ayacpbWZP2/7mf/+hXrd//q/0epRZBNNVQUaGxDJipQZSzExQsVXJgQIGlBoNzBOLYZ84t//NExGIQYJJoAVx4AGQErsoxHoXDIF8C8BlHyuJ4QSXgUMBZEyAo/0JKIm4XsujBhfR3fvoZSTHgP5Tb+hoLdMS8YM0NSgYJ//qZDQSL5ICMFEvmZmn//sv25NN2NFGy//NExHMhExKIAZtoASxmtzf///1Wv9FI4hKZf4nCFa1/SQWlU1w2iOnUrkOQ4wwpnuaQx9zy53YC3HxGGw2OKiODkwSjhEBEXFFCMPN0HE6N5j6MS0Ghpx9FbMZ+jera//NExEESMaLIAc84AEvhZ8WTl6RVbRIGCqPoSyH7H/4YHcUmJScuoaUf1fqnf1to1zIe/i4jisWHYC4abIDhV4IVfeJr4a/GXV2WUHQueOIHZdJYvGWnqNzqlW1gQ4L1//NExEsRUT7IAIvQcEwswpW+TvOK/lggtnLWGNK63Tahp5LO9w7FH0BoIpNBwAoHZsuKP769cLXvDTLkNCGSDQAF2v84dC4CYUYz7a1nZwnoQx54Ico6gvEelBzgOy1q//NExFgRMUbEAGvQcNAHjF13JCdfEWNvMjDXPb08+rDaw2hdM3Z8vq6hjeeneyj2gw+2Xmliw1yELByXIuCIoFozd9LmG6AYdTb3EGVX/+CHlxK2gPKpms8PVoxmQydY//NExGYSeU7AAGvWlO1b3rLNP9N8X4kWDqc0JAhtMuGibX6lflm4FB/oOKQTiJYersS0adUdSKWd6tlNmpm4ADHhATgngWMRgcBb2ieGfIMZ3qEkktXL9EuN72Zf8vd3//NExG8SqUq8AMPQlIbG67YfhdlV5Ak5fC87MRn7hL/5W+Lz204cmYSKT529nqWeWLkEGYLYdxNgIB2GcbyFqfUMOXFOdT6YtY7axUz75itpAPUqmBQspaRTQXD60am2//NExHcRYVK0AHvMlDZNuzOu3YwYRvFMg98z3iGOy2vDgn3P2eFlWjw56t6kcpLGUOLtIWbWK37SVjNJUiFCYJEI6ybHSG+KUvsRe29OOxksDhmjRRsbQDqRKVTdI/////NExIQQMVKoAHsMlf/+pZZPTKSwV621KzAR0E5zUbDFEDhayqKesCW8XTnfEJFudEhoGECqo8JFUK2M03D74/bzYb6uP6iN1qmz94uPVDVECwJr//////9CqT9IKhTe//NExJYRYUqoAMJGlKBZ8OLLNTfBwJptEQrX9Z3dZtj/vBa7i4cO6vRpiuVsUBsziZcDJmU6azYSl/kf7jlZLauTW4myzEriK2LBexbGngwlgkaBYq+BGjPJUGgitAwA//NExKMSaUakAMPScD0ZqeEELUhVWhddtZ190M39nGdllwhMCz8bBcLnQdNN/+3/znXnsqDxrjr0saWw1Uwl1NCCV2FgFNFozhjMuM1kj0D2zEfW/RdYDaYXEfYRwVsA//NExKwRcT6cANYSccUIKfqtUcCWKGzu79HVLnAmaGM/fdLPr////t0NTTQqno065mS6vNrCDB3hSX9jSqJ8B7LXoaj3j7xuK7jQKCxVgBZgINIYKd3DCnCBENMWhv/9//NExLkP+TqMANYOcUbMob+hiGNqeq3///6wDDympdtTty1qpr7CcUgFZQZVXUksFO4ctfYRBmoT7cENXyfBNgIriXgF8oT+GfWCxzh0CqWj//5ISmv+4g9tvZX/T/7A//NExMwRSIaEAN4eSIicuTMIZrVyGzmFGB/hyPECuzO6MBQK3jEDo91eIisCCAXKWgq3jQnJBQgYlFuIOGOge5BoYNxhRRClEcJFjBEvJm6Z6kit/rqr+116temqsWVS//NExNkRuIaAAN6wSJyM0+996Xc4wrmMaU7kTySEaZvpVfvtyMyIz3a7HQwqSVwYTHKHDsOQajs9eeJpFFqAwKMgtjH00IIwCXmoliirFTLTQmJktRChGNgSaQcGJnPI//NExOURYIJ8ANaeSCgUkkjIHBBi4IzgZCUHkmwKFATKg0qD8aTymyM5tV/1///Y57q7ppPTszvH7crU5ZpxkeU89kY012Sy2f6nbN3RXZ9dWoYOUORgWqQmkhxy29KJ//NExPIfAspoANzKuDULyBsZiFXo4UtCjMcmcopLWghiQkLl7AMAM+YYUAyARCsAoALmAwgF4BnCG2hdSGXxOoow9Gig4MkGLhwgpoXjVPUfQsswZNNNVa6tfZ7amRrp//NExMkdoq5oAVs4ALVOpl9BSlIImh4zUyVaTnKlXTRrZaNZg3WtejZJl/XUu//TNzM31N/uYvnnfBELkK0Aojdyjo1DtyjhtDUnDIiC0RdYCAzDCTDBQMBLwoqoSUAp//NExKUgsspwAZuYAHBL/F3kHkwmJP1arZJ/+qswYCAgICAgJVL2Zgyqqqql////VVVVWZmZmZvZmZmb/////+qqqoUKC3//piIGgaeJQVDXiUFVNCMRFEQyGJfGijNB//NExHUaIfZIAdoYAC6JRbfWxcdLzIQgPCMnMTGh0Yrea+zkFGCtNMaFI5dpfUSiQKHRLdtoCoiJAZKlDgEWPHmHSJ0S+QvZv74SgEad1FVjCIK6nh2FVQCosFRMV20x//NExF8VkPYAAMsEcNd+IflExT3kkTjRQkDMTQWjRpTbnzVDBQcssstQyNZZHIyZQwMGCZkz/ioqJDRoCigs94r/iwrqF+LM/+sUTEFNRTMuMTAwVVVVVVVVTEFNRTMu//NExFsRgQGsAMGGcDEwMFVVVVVVVVVVVVVVVVVVVVVVVVVVVVVVVVVVVVVVVVVVVVVVVVVVVVVVVVVVVVVVVVVVVVVVVVVVVVVVVVVVVVVVVVVVVVVVVVVVTEFNRTMu//NExGgAAANIAAAAADEwMFVVVVVVVVVVVVVVVVVVVVVVVVVVVVVVVVVVVVVVVVVVVVVVVVVVVVVVVVVVVVVVVVVVVVVVVVVVVVVVVVVVVVVVVVVVVVVVVVVVTEFNRTMu//NExKwAAANIAAAAADEwMFVVVVVVVVVVVVVVVVVVVVVVVVVVVVVVVVVVVVVVVVVVVVVVVVVVVVVVVVVVVVVVVVVVVVVVVVVVVVVVVVVVVVVVVVVVVVVVVVVVTEFNRTMu//NExKwAAANIAAAAADEwMFVVVVVVVVVVVVVVVVVVVVVVVVVVVVVVVVVVVVVVVVVVVVVVVVVVVVVVVVVVVVVVVVVVVVVVVVVVVVVVVVVVVVVVVVVVVVVVVVVVTEFNRTMu//NExKwAAANIAAAAADEwMFVVVVVVVVVVVVVVVVVVVVVVVVVVVVVVVVVVVVVVVVVVVVVVVVVVVVVVVVVVVVVVVVVVVVVVVVVVVVVVVVVVVVVVVVVVVVVVVVVVTEFNRTMu//NExKwAAANIAAAAADEwMFVVVVVVVVVVVVVVVVVVVVVVVVVVVVVVVVVVVVVVVVVVVVVVVVVVVVVVVVVVVVVVVVVVVVVVVVVVVVVVVVVVVVVVVVVVVVVVVVVVTEFNRTMu//NExKwAAANIAAAAADEwMFVVVVVVVVVVVVVVVVVVVVVVVVVVVVVVVVVVVVVVVVVVVVVVVVVVVVVVVVVVVVVVVVVVVVVVVVVVVVVVVVVVVVVVVVVVVVVVVVVVTEFNRTMu//NExKwAAANIAAAAADEwMFVVVVVVVVVVVVVVVVVVVVVVVVVVVVVVVVVVVVVVVVVVVVVVVVVVVVVVVVVVVVVVVVVVVVVVVVVVVVVVVVVVVVVVVVVVVVVVVVVVTEFNRTMu//NExKwAAANIAAAAADEwMFVVVVVVVVVVVVVVVVVVVVVVVVVVVVVVVVVVVVVVVVVVVVVVVVVVVVVVVVVVVVVVVVVVVVVVVVVVVVVVVVVVVVVVVVVVVVVVVVVVU2Wa1J3V//NExKwAAANIAAAAAJSAkHCHsh4xLYdAHHLYCMKLyCUvUUEIiCQy7CJ6hi2VzK5VcoUnApexB24YjcYldf9buVbVinu5Y5VZVLZFAkUi8YicciMPQLC4XAkPxiboKtNL//NExKwAAANIAAAAAGKyeQT9m1OyeKCQnJEaiayE0aFjbD2TR4TmzDbC8LlFzcF0oyc23CdXUZY5tAulGTnvYnD/YT/////9yjua5z4Tzc3M3P/m5m5/v/zfVyZegIpa//NExKwAAANIAAAAAAYDBxFpuU2imbjLoZg6qg77NMiZSIglnKswIZRAQUBLeaJic3JCk/acYqvaWNn8EXHcYIiTrNtiBa4fYbCdIH0QLGHrh9h0z6ISmZhOr96QUToh//NExP8qqxlYAMYSvVh4RuzsM2kDMAeYR1HwYIpI8hg+AjHD//48CP/4Mv9oRHPA0iNIrRPSJAnglTCikPFxUisJ0f4uKocqHMhTJjE2CJEAUFTy1g+SuGUbtoDKOqY+//NExKceqZoEAMMMlYT2rUZzEujW1W/XHmemtctd3NkoKKSNzZapcjiT4dZHZkjBJZHPTzFf1//XnK9b62cZq7a8sdLU+a+VlPMsdT1X//868tTz/5xteZzz6rZmXNka//NExH8gKwHwAHsMuShqTEFNRTMuMTAwqqqqqqqqqqqqqqqqqqqqqqqqqqqqqqqqqqqqqqqqqqqqqqqqqqqqqqqqqqqqqqqqqqqqqqqqqqqqqqqqqqqqqqqqqqqqqqqq//NExFEAAANIAAAAAKqqqqqqqqqqqqqqqqqqqqqqqqqqqqqqqqqqqqqqqqqqqqqqqqqqqqqqqqqqqqqqqqqqqqqqqqqqqqqqqqqqqqqqqqqqqqqqqqqqqqqqqqqqqqqq//NExKQAAANIAAAAAKqqqqqqqqqqqqqqqqqqqqqqqqqqqqqqqqqqqqqqqqqqqqqqqqqqqqqqqqqqqqqqqqqqqqqqqqqqqqqqqqqqqqqqqqqqqqqqqqqqqqqqqqqqqqqq\" type=\"audio/wav\" />\n",
       "                    Your browser does not support the audio element.\n",
       "                </audio>\n",
       "              "
      ],
      "text/plain": [
       "<IPython.lib.display.Audio object>"
      ]
     },
     "metadata": {},
     "output_type": "display_data"
    },
    {
     "name": "stdout",
     "output_type": "stream",
     "text": [
      "============================================================\n",
      "\n",
      "👨‍🦰 Kamu : apa itu cybercrime\n",
      "1/1 [==============================] - 0s 32ms/step\n",
      "🤖 SafeBot :  Cybercrime (kejahatan dunia maya) adalah kejahatan yang dilakukan di dunia maya (internet) dan mengakibatkan kerugian atau dampak negatif pada korban. Kejahatan dunia maya dapat dilakukan oleh individu, kelompok atau organisasi dan dapat melibatkan pencurian identitas, penipuan, peretasan, serangan malware, pencurian data, dan aktivitas ilegal lainnya yang dilakukan melalui komputer atau jaringan internet.\n"
     ]
    },
    {
     "data": {
      "text/html": [
       "\n",
       "                <audio  controls=\"controls\" autoplay=\"autoplay\">\n",
       "                    <source src=\"data:audio/wav;base64,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\" type=\"audio/wav\" />\n",
       "                    Your browser does not support the audio element.\n",
       "                </audio>\n",
       "              "
      ],
      "text/plain": [
       "<IPython.lib.display.Audio object>"
      ]
     },
     "metadata": {},
     "output_type": "display_data"
    },
    {
     "name": "stdout",
     "output_type": "stream",
     "text": [
      "============================================================\n",
      "\n"
     ]
    }
   ],
   "source": [
    "# Membuat Input Chat\n",
    "while True:\n",
    "  texts_p = []\n",
    "  prediction_input = input('👨‍🦰 Kamu : ')\n",
    "  \n",
    "  # Menghapus punktuasi dan konversi ke huruf kecil\n",
    "  prediction_input = [letters.lower() for letters in prediction_input if letters not in string.punctuation]\n",
    "  prediction_input = ''.join(prediction_input)\n",
    "  texts_p.append(prediction_input)\n",
    "\n",
    "  # Tokenisasi dan Padding\n",
    "  prediction_input = tokenizer.texts_to_sequences(texts_p)\n",
    "  prediction_input = np.array(prediction_input).reshape(-1)\n",
    "  prediction_input = pad_sequences([prediction_input],input_shape)\n",
    "\n",
    "  # Mendapatkan hasil keluaran pada model \n",
    "  output = model.predict(prediction_input)\n",
    "  output = output.argmax()\n",
    "\n",
    "  # Menemukan respon sesuai data tag dan memainkan voice bot\n",
    "  response_tag = le.inverse_transform([output])[0]\n",
    "  print(\"🤖 SafeBot : \", random.choice(responses[response_tag]))\n",
    "  tts = gTTS(random.choice(responses[response_tag]), lang='id')\n",
    "  # Simpan model voice bot ke dalam Google Drive\n",
    "  tts.save('SafeBot.wav')\n",
    "  time.sleep(0.08)\n",
    "  # Load model voice bot from Google Drive\n",
    "  ipd.display(ipd.Audio('SafeBot.wav', autoplay=True))\n",
    "  print(\"=\"*60 + \"\\n\")\n",
    "  # Tambahkan respon 'goodbye' agar bot bisa berhenti\n",
    "  if response_tag == \"goodbye\":\n",
    "    break"
   ]
  },
  {
   "cell_type": "markdown",
   "id": "PpFwQ9gWmWtk",
   "metadata": {
    "id": "PpFwQ9gWmWtk"
   },
   "source": [
    "# 08 Save The Model\n",
    "\n",
    "Setelah pengujian Chatbot telah disesuaikan dengan kalimat dan jawabannya. Maka, model chatbot bisa disimpan dengan format .h5 atau .pkl (pickle) untuk penggunaan aplikasi AI Chatbot dengan website atau sistem Android. Penyimpanan file model bisa langsung secara transient atau bisa taruh di Google Drive."
   ]
  },
  {
   "cell_type": "code",
   "execution_count": null,
   "id": "MxdDHujDmaC0",
   "metadata": {
    "colab": {
     "base_uri": "https://localhost:8080/",
     "height": 130
    },
    "id": "MxdDHujDmaC0",
    "outputId": "c24afa27-969e-46ca-c0ce-3eeef483513c"
   },
   "outputs": [],
   "source": [
    "# Simpan model dalam bentuk format file .h5 atau .pkl (pickle)\n",
    "import joblib\n",
    "joblib.dump((model), \"model_chatbot_lstm.model\")\n",
    "print('Model Saved Successfully!')"
   ]
  }
 ],
 "metadata": {
  "accelerator": "GPU",
  "colab": {
   "provenance": []
  },
  "gpuClass": "standard",
  "kernelspec": {
   "display_name": "proyek-akhir-phishing",
   "language": "python",
   "name": "myenv"
  },
  "language_info": {
   "codemirror_mode": {
    "name": "ipython",
    "version": 3
   },
   "file_extension": ".py",
   "mimetype": "text/x-python",
   "name": "python",
   "nbconvert_exporter": "python",
   "pygments_lexer": "ipython3",
   "version": "3.8.5"
  },
  "latex_envs": {
   "LaTeX_envs_menu_present": true,
   "autoclose": false,
   "autocomplete": true,
   "bibliofile": "biblio.bib",
   "cite_by": "apalike",
   "current_citInitial": 1,
   "eqLabelWithNumbers": true,
   "eqNumInitial": 1,
   "hotkeys": {
    "equation": "Ctrl-E",
    "itemize": "Ctrl-I"
   },
   "labels_anchors": false,
   "latex_user_defs": false,
   "report_style_numbering": false,
   "user_envs_cfg": false
  },
  "varInspector": {
   "cols": {
    "lenName": 16,
    "lenType": 16,
    "lenVar": 40
   },
   "kernels_config": {
    "python": {
     "delete_cmd_postfix": "",
     "delete_cmd_prefix": "del ",
     "library": "var_list.py",
     "varRefreshCmd": "print(var_dic_list())"
    },
    "r": {
     "delete_cmd_postfix": ") ",
     "delete_cmd_prefix": "rm(",
     "library": "var_list.r",
     "varRefreshCmd": "cat(var_dic_list()) "
    }
   },
   "types_to_exclude": [
    "module",
    "function",
    "builtin_function_or_method",
    "instance",
    "_Feature"
   ],
   "window_display": false
  }
 },
 "nbformat": 4,
 "nbformat_minor": 5
}
