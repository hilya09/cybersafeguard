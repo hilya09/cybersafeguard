{
 "cells": [
  {
   "cell_type": "markdown",
   "metadata": {
    "id": "6jVEEd-uBkHB"
   },
   "source": [
    "# Phishing URL Detection\n"
   ]
  },
  {
   "cell_type": "markdown",
   "metadata": {
    "id": "nJpRU_5ODlwl"
   },
   "source": [
    "## Modules dan Packages"
   ]
  },
  {
   "cell_type": "code",
   "execution_count": 173,
   "metadata": {
    "executionInfo": {
     "elapsed": 3980,
     "status": "ok",
     "timestamp": 1684887930291,
     "user": {
      "displayName": "HILYA ANBIYANI",
      "userId": "16755705413992361832"
     },
     "user_tz": -420
    },
    "id": "0jGNm_cAByPR",
    "scrolled": true
   },
   "outputs": [],
   "source": [
    "import pandas as pd\n",
    "import numpy as np\n",
    "import matplotlib.pyplot as plt\n",
    "import seaborn as sns  \n",
    "import time \n",
    "\n",
    "from sklearn.metrics import classification_report\n",
    "from sklearn.metrics import confusion_matrix\n",
    "from nltk.stem.snowball import SnowballStemmer\n",
    "\n",
    "from PIL import Image\n",
    "import joblib\n",
    "import pickle"
   ]
  },
  {
   "cell_type": "code",
   "execution_count": 174,
   "metadata": {
    "executionInfo": {
     "elapsed": 1434,
     "status": "ok",
     "timestamp": 1684889694524,
     "user": {
      "displayName": "HILYA ANBIYANI",
      "userId": "16755705413992361832"
     },
     "user_tz": -420
    },
    "id": "UP3hukhJDM2B"
   },
   "outputs": [],
   "source": [
    "data = pd.read_csv(\"phishing_site_urls.csv\")"
   ]
  },
  {
   "cell_type": "markdown",
   "metadata": {
    "id": "NIdQC_OODcXH"
   },
   "source": [
    "## Exploratory Data Analysis (EDA)"
   ]
  },
  {
   "cell_type": "code",
   "execution_count": 175,
   "metadata": {
    "colab": {
     "base_uri": "https://localhost:8080/",
     "height": 206
    },
    "executionInfo": {
     "elapsed": 478,
     "status": "ok",
     "timestamp": 1684889696636,
     "user": {
      "displayName": "HILYA ANBIYANI",
      "userId": "16755705413992361832"
     },
     "user_tz": -420
    },
    "id": "kOWeGxOTDqyD",
    "outputId": "6c6b05e0-a93d-4bfb-ea5f-4d91c1244568"
   },
   "outputs": [
    {
     "data": {
      "text/html": [
       "<div>\n",
       "<style scoped>\n",
       "    .dataframe tbody tr th:only-of-type {\n",
       "        vertical-align: middle;\n",
       "    }\n",
       "\n",
       "    .dataframe tbody tr th {\n",
       "        vertical-align: top;\n",
       "    }\n",
       "\n",
       "    .dataframe thead th {\n",
       "        text-align: right;\n",
       "    }\n",
       "</style>\n",
       "<table border=\"1\" class=\"dataframe\">\n",
       "  <thead>\n",
       "    <tr style=\"text-align: right;\">\n",
       "      <th></th>\n",
       "      <th>URL</th>\n",
       "      <th>Label</th>\n",
       "    </tr>\n",
       "  </thead>\n",
       "  <tbody>\n",
       "    <tr>\n",
       "      <th>0</th>\n",
       "      <td>nobell.it/70ffb52d079109dca5664cce6f317373782/...</td>\n",
       "      <td>bad</td>\n",
       "    </tr>\n",
       "    <tr>\n",
       "      <th>1</th>\n",
       "      <td>www.dghjdgf.com/paypal.co.uk/cycgi-bin/webscrc...</td>\n",
       "      <td>bad</td>\n",
       "    </tr>\n",
       "    <tr>\n",
       "      <th>2</th>\n",
       "      <td>serviciosbys.com/paypal.cgi.bin.get-into.herf....</td>\n",
       "      <td>bad</td>\n",
       "    </tr>\n",
       "    <tr>\n",
       "      <th>3</th>\n",
       "      <td>mail.printakid.com/www.online.americanexpress....</td>\n",
       "      <td>bad</td>\n",
       "    </tr>\n",
       "    <tr>\n",
       "      <th>4</th>\n",
       "      <td>thewhiskeydregs.com/wp-content/themes/widescre...</td>\n",
       "      <td>bad</td>\n",
       "    </tr>\n",
       "  </tbody>\n",
       "</table>\n",
       "</div>"
      ],
      "text/plain": [
       "                                                 URL Label\n",
       "0  nobell.it/70ffb52d079109dca5664cce6f317373782/...   bad\n",
       "1  www.dghjdgf.com/paypal.co.uk/cycgi-bin/webscrc...   bad\n",
       "2  serviciosbys.com/paypal.cgi.bin.get-into.herf....   bad\n",
       "3  mail.printakid.com/www.online.americanexpress....   bad\n",
       "4  thewhiskeydregs.com/wp-content/themes/widescre...   bad"
      ]
     },
     "execution_count": 175,
     "metadata": {},
     "output_type": "execute_result"
    }
   ],
   "source": [
    "data.head()"
   ]
  },
  {
   "cell_type": "code",
   "execution_count": 176,
   "metadata": {
    "colab": {
     "base_uri": "https://localhost:8080/"
    },
    "executionInfo": {
     "elapsed": 28,
     "status": "ok",
     "timestamp": 1684887946618,
     "user": {
      "displayName": "HILYA ANBIYANI",
      "userId": "16755705413992361832"
     },
     "user_tz": -420
    },
    "id": "GGcpWoXt-Egl",
    "outputId": "39d87939-1028-4cf9-fdee-c15a6f83e437"
   },
   "outputs": [
    {
     "data": {
      "text/plain": [
       "(549346, 2)"
      ]
     },
     "execution_count": 176,
     "metadata": {},
     "output_type": "execute_result"
    }
   ],
   "source": [
    "data.shape"
   ]
  },
  {
   "cell_type": "code",
   "execution_count": 177,
   "metadata": {
    "colab": {
     "base_uri": "https://localhost:8080/"
    },
    "executionInfo": {
     "elapsed": 657,
     "status": "ok",
     "timestamp": 1684887947251,
     "user": {
      "displayName": "HILYA ANBIYANI",
      "userId": "16755705413992361832"
     },
     "user_tz": -420
    },
    "id": "oWlpuzPXDydm",
    "outputId": "b8c49d8c-3bec-45c8-d5de-f1d0e5cdf331"
   },
   "outputs": [
    {
     "data": {
      "text/plain": [
       "URL      0\n",
       "Label    0\n",
       "dtype: int64"
      ]
     },
     "execution_count": 177,
     "metadata": {},
     "output_type": "execute_result"
    }
   ],
   "source": [
    "data.isnull().sum()"
   ]
  },
  {
   "cell_type": "code",
   "execution_count": 178,
   "metadata": {
    "colab": {
     "base_uri": "https://localhost:8080/"
    },
    "executionInfo": {
     "elapsed": 21,
     "status": "ok",
     "timestamp": 1684887947252,
     "user": {
      "displayName": "HILYA ANBIYANI",
      "userId": "16755705413992361832"
     },
     "user_tz": -420
    },
    "id": "uLO9WrsM96Ni",
    "outputId": "9b6827ec-5f4c-4ad5-f1c5-adb9b3459fac"
   },
   "outputs": [
    {
     "name": "stdout",
     "output_type": "stream",
     "text": [
      "<class 'pandas.core.frame.DataFrame'>\n",
      "RangeIndex: 549346 entries, 0 to 549345\n",
      "Data columns (total 2 columns):\n",
      " #   Column  Non-Null Count   Dtype \n",
      "---  ------  --------------   ----- \n",
      " 0   URL     549346 non-null  object\n",
      " 1   Label   549346 non-null  object\n",
      "dtypes: object(2)\n",
      "memory usage: 8.4+ MB\n"
     ]
    }
   ],
   "source": [
    "data.info()"
   ]
  },
  {
   "cell_type": "code",
   "execution_count": 179,
   "metadata": {
    "executionInfo": {
     "elapsed": 16,
     "status": "ok",
     "timestamp": 1684887947253,
     "user": {
      "displayName": "HILYA ANBIYANI",
      "userId": "16755705413992361832"
     },
     "user_tz": -420
    },
    "id": "VwBZ37R_POPz"
   },
   "outputs": [],
   "source": [
    "def polaritas(teks):\n",
    "  if teks =='good':\n",
    "    return 1\n",
    "  elif teks =='bad':\n",
    "    return 0"
   ]
  },
  {
   "cell_type": "code",
   "execution_count": 180,
   "metadata": {
    "executionInfo": {
     "elapsed": 832,
     "status": "ok",
     "timestamp": 1684887948071,
     "user": {
      "displayName": "HILYA ANBIYANI",
      "userId": "16755705413992361832"
     },
     "user_tz": -420
    },
    "id": "Z5tNg9_cPWPL"
   },
   "outputs": [],
   "source": [
    "data['label_enc'] = data['Label'].apply(polaritas)"
   ]
  },
  {
   "cell_type": "code",
   "execution_count": 181,
   "metadata": {
    "colab": {
     "base_uri": "https://localhost:8080/"
    },
    "executionInfo": {
     "elapsed": 12,
     "status": "ok",
     "timestamp": 1684887948071,
     "user": {
      "displayName": "HILYA ANBIYANI",
      "userId": "16755705413992361832"
     },
     "user_tz": -420
    },
    "id": "dYb6QduWDykN",
    "outputId": "bebf57dd-a1cd-461d-ec60-ca3139762446"
   },
   "outputs": [
    {
     "name": "stdout",
     "output_type": "stream",
     "text": [
      "Total Jumlah url: 549346 data\n",
      "\n",
      "terdiri dari (label):\n",
      "-- [1] Good\t\t: 0 data\n",
      "-- [0] Bad\t\t: 392924 data\n",
      "\n"
     ]
    }
   ],
   "source": [
    "print('Total Jumlah url:', data.shape[0], 'data\\n')\n",
    "print('terdiri dari (label):')\n",
    "print('-- [1] Good\\t\\t:', data[data.label_enc == -1].shape[0], 'data')\n",
    "print('-- [0] Bad\\t\\t:', data[data.label_enc == 1].shape[0], 'data\\n')"
   ]
  },
  {
   "cell_type": "code",
   "execution_count": 182,
   "metadata": {
    "colab": {
     "base_uri": "https://localhost:8080/",
     "height": 466
    },
    "executionInfo": {
     "elapsed": 1195,
     "status": "ok",
     "timestamp": 1684887949258,
     "user": {
      "displayName": "HILYA ANBIYANI",
      "userId": "16755705413992361832"
     },
     "user_tz": -420
    },
    "id": "HhdNz0-Q-VHR",
    "outputId": "df6efee6-6043-43a2-c5a2-1547398b7078"
   },
   "outputs": [
    {
     "data": {
      "text/plain": [
       "<Axes: xlabel='Label', ylabel='count'>"
      ]
     },
     "execution_count": 182,
     "metadata": {},
     "output_type": "execute_result"
    },
    {
     "data": {
      "image/png": "[encoded data removed]",
      "text/plain": [
       "<Figure size 640x480 with 1 Axes>"
      ]
     },
     "metadata": {},
     "output_type": "display_data"
    }
   ],
   "source": [
    "sns.countplot(x='Label',data=data)"
   ]
  },
  {
   "cell_type": "markdown",
   "metadata": {
    "id": "jeAwJocC_U-1"
   },
   "source": [
    "## Tokenisasi"
   ]
  },
  {
   "cell_type": "code",
   "execution_count": 126,
   "metadata": {
    "executionInfo": {
     "elapsed": 16,
     "status": "ok",
     "timestamp": 1684887949624,
     "user": {
      "displayName": "HILYA ANBIYANI",
      "userId": "16755705413992361832"
     },
     "user_tz": -420
    },
    "id": "N9V3zK44-di_"
   },
   "outputs": [],
   "source": [
    "from nltk.tokenize import RegexpTokenizer  \n",
    "tokenizer = RegexpTokenizer(r'[A-Za-z]+')"
   ]
  },
  {
   "cell_type": "code",
   "execution_count": 127,
   "metadata": {
    "colab": {
     "base_uri": "https://localhost:8080/"
    },
    "executionInfo": {
     "elapsed": 15,
     "status": "ok",
     "timestamp": 1684887949624,
     "user": {
      "displayName": "HILYA ANBIYANI",
      "userId": "16755705413992361832"
     },
     "user_tz": -420
    },
    "id": "yI4ihRNb-v3N",
    "outputId": "be44adf1-2dc6-4c27-ec9a-9fa784ff1ff3"
   },
   "outputs": [
    {
     "data": {
      "text/plain": [
       "['nobell',\n",
       " 'it',\n",
       " 'ffb',\n",
       " 'd',\n",
       " 'dca',\n",
       " 'cce',\n",
       " 'f',\n",
       " 'login',\n",
       " 'SkyPe',\n",
       " 'com',\n",
       " 'en',\n",
       " 'cgi',\n",
       " 'bin',\n",
       " 'verification',\n",
       " 'login',\n",
       " 'ffb',\n",
       " 'd',\n",
       " 'dca',\n",
       " 'cce',\n",
       " 'f',\n",
       " 'index',\n",
       " 'php',\n",
       " 'cmd',\n",
       " 'profile',\n",
       " 'ach',\n",
       " 'outdated',\n",
       " 'page',\n",
       " 'tmpl',\n",
       " 'p',\n",
       " 'gen',\n",
       " 'failed',\n",
       " 'to',\n",
       " 'load',\n",
       " 'nav',\n",
       " 'login',\n",
       " 'access']"
      ]
     },
     "execution_count": 127,
     "metadata": {},
     "output_type": "execute_result"
    }
   ],
   "source": [
    "tokenizer.tokenize(data.URL[0]) # melakukan tokenisasi pada URL pertama di dataset"
   ]
  },
  {
   "cell_type": "code",
   "execution_count": 128,
   "metadata": {
    "colab": {
     "base_uri": "https://localhost:8080/"
    },
    "executionInfo": {
     "elapsed": 7420,
     "status": "ok",
     "timestamp": 1684887957031,
     "user": {
      "displayName": "HILYA ANBIYANI",
      "userId": "16755705413992361832"
     },
     "user_tz": -420
    },
    "id": "3zfw_lOn_EBO",
    "outputId": "653d5c61-baea-4075-ac79-9a7b5e63ab10"
   },
   "outputs": [
    {
     "name": "stdout",
     "output_type": "stream",
     "text": [
      "Getting words tokenized ...\n",
      "Time taken 23.0625607999973 sec\n"
     ]
    }
   ],
   "source": [
    "# Tokenizing all the rows \n",
    "print('Getting words tokenized ...')\n",
    "t0= time.perf_counter()\n",
    "data['text_tokenized'] = data.URL.map(lambda t: tokenizer.tokenize(t))\n",
    "t1 = time.perf_counter() - t0\n",
    "print('Time taken',t1 ,'sec')"
   ]
  },
  {
   "cell_type": "code",
   "execution_count": 129,
   "metadata": {
    "colab": {
     "base_uri": "https://localhost:8080/",
     "height": 206
    },
    "executionInfo": {
     "elapsed": 99,
     "status": "ok",
     "timestamp": 1684887957035,
     "user": {
      "displayName": "HILYA ANBIYANI",
      "userId": "16755705413992361832"
     },
     "user_tz": -420
    },
    "id": "hXPu0aR2_HxV",
    "outputId": "5f4e3739-d2b3-46d0-b1b3-7f3d561987a4"
   },
   "outputs": [
    {
     "data": {
      "text/html": [
       "<div>\n",
       "<style scoped>\n",
       "    .dataframe tbody tr th:only-of-type {\n",
       "        vertical-align: middle;\n",
       "    }\n",
       "\n",
       "    .dataframe tbody tr th {\n",
       "        vertical-align: top;\n",
       "    }\n",
       "\n",
       "    .dataframe thead th {\n",
       "        text-align: right;\n",
       "    }\n",
       "</style>\n",
       "<table border=\"1\" class=\"dataframe\">\n",
       "  <thead>\n",
       "    <tr style=\"text-align: right;\">\n",
       "      <th></th>\n",
       "      <th>URL</th>\n",
       "      <th>Label</th>\n",
       "      <th>label_enc</th>\n",
       "      <th>text_tokenized</th>\n",
       "    </tr>\n",
       "  </thead>\n",
       "  <tbody>\n",
       "    <tr>\n",
       "      <th>429780</th>\n",
       "      <td>sfgate.com/cgi-bin/article.cgi?f=/c/a/2011/11/...</td>\n",
       "      <td>good</td>\n",
       "      <td>1</td>\n",
       "      <td>[sfgate, com, cgi, bin, article, cgi, f, c, a,...</td>\n",
       "    </tr>\n",
       "    <tr>\n",
       "      <th>283059</th>\n",
       "      <td>arenafan.com/news/?page=pressrel&amp;article=10220</td>\n",
       "      <td>good</td>\n",
       "      <td>1</td>\n",
       "      <td>[arenafan, com, news, page, pressrel, article]</td>\n",
       "    </tr>\n",
       "    <tr>\n",
       "      <th>208207</th>\n",
       "      <td>lists.terrasoftsolutions.com/pipermail/yellowd...</td>\n",
       "      <td>good</td>\n",
       "      <td>1</td>\n",
       "      <td>[lists, terrasoftsolutions, com, pipermail, ye...</td>\n",
       "    </tr>\n",
       "    <tr>\n",
       "      <th>34122</th>\n",
       "      <td>bharatcombine.com/Paypal_Virefication/01c0cab5...</td>\n",
       "      <td>bad</td>\n",
       "      <td>0</td>\n",
       "      <td>[bharatcombine, com, Paypal, Virefication, c, ...</td>\n",
       "    </tr>\n",
       "    <tr>\n",
       "      <th>532308</th>\n",
       "      <td>ratecompares.com/JHgy64HJBRd</td>\n",
       "      <td>bad</td>\n",
       "      <td>0</td>\n",
       "      <td>[ratecompares, com, JHgy, HJBRd]</td>\n",
       "    </tr>\n",
       "  </tbody>\n",
       "</table>\n",
       "</div>"
      ],
      "text/plain": [
       "                                                      URL Label  label_enc  \\\n",
       "429780  sfgate.com/cgi-bin/article.cgi?f=/c/a/2011/11/...  good          1   \n",
       "283059     arenafan.com/news/?page=pressrel&article=10220  good          1   \n",
       "208207  lists.terrasoftsolutions.com/pipermail/yellowd...  good          1   \n",
       "34122   bharatcombine.com/Paypal_Virefication/01c0cab5...   bad          0   \n",
       "532308                       ratecompares.com/JHgy64HJBRd   bad          0   \n",
       "\n",
       "                                           text_tokenized  \n",
       "429780  [sfgate, com, cgi, bin, article, cgi, f, c, a,...  \n",
       "283059     [arenafan, com, news, page, pressrel, article]  \n",
       "208207  [lists, terrasoftsolutions, com, pipermail, ye...  \n",
       "34122   [bharatcombine, com, Paypal, Virefication, c, ...  \n",
       "532308                   [ratecompares, com, JHgy, HJBRd]  "
      ]
     },
     "execution_count": 129,
     "metadata": {},
     "output_type": "execute_result"
    }
   ],
   "source": [
    "data.sample(5)"
   ]
  },
  {
   "cell_type": "markdown",
   "metadata": {
    "id": "89YUQfg7_X4f"
   },
   "source": [
    "## Stemming"
   ]
  },
  {
   "cell_type": "code",
   "execution_count": 130,
   "metadata": {
    "executionInfo": {
     "elapsed": 96,
     "status": "ok",
     "timestamp": 1684887957036,
     "user": {
      "displayName": "HILYA ANBIYANI",
      "userId": "16755705413992361832"
     },
     "user_tz": -420
    },
    "id": "VP00kzfX_cF4"
   },
   "outputs": [],
   "source": [
    "stemmer = SnowballStemmer(\"english\") # choose a language"
   ]
  },
  {
   "cell_type": "code",
   "execution_count": 131,
   "metadata": {
    "colab": {
     "base_uri": "https://localhost:8080/"
    },
    "executionInfo": {
     "elapsed": 55189,
     "status": "ok",
     "timestamp": 1684888012131,
     "user": {
      "displayName": "HILYA ANBIYANI",
      "userId": "16755705413992361832"
     },
     "user_tz": -420
    },
    "id": "4Cfnw1QQ_fJf",
    "outputId": "39488a7a-2741-4583-d2a7-4fbae1a8081d"
   },
   "outputs": [
    {
     "name": "stdout",
     "output_type": "stream",
     "text": [
      "Getting words stemmed ...\n",
      "Time taken 83.36056629987434 sec\n"
     ]
    }
   ],
   "source": [
    "# Getting all the stemmed words\n",
    "print('Getting words stemmed ...')\n",
    "t0= time.perf_counter()\n",
    "data['text_stemmed'] = data['text_tokenized'].map(lambda l: [stemmer.stem(word) for word in l])\n",
    "t1= time.perf_counter() - t0\n",
    "print('Time taken',t1 ,'sec')"
   ]
  },
  {
   "cell_type": "code",
   "execution_count": 132,
   "metadata": {
    "colab": {
     "base_uri": "https://localhost:8080/",
     "height": 206
    },
    "executionInfo": {
     "elapsed": 55,
     "status": "ok",
     "timestamp": 1684888012132,
     "user": {
      "displayName": "HILYA ANBIYANI",
      "userId": "16755705413992361832"
     },
     "user_tz": -420
    },
    "id": "KW0szr17_hNZ",
    "outputId": "b469f65a-0f1e-46d2-ff09-4b1bb5fa117a"
   },
   "outputs": [
    {
     "data": {
      "text/html": [
       "<div>\n",
       "<style scoped>\n",
       "    .dataframe tbody tr th:only-of-type {\n",
       "        vertical-align: middle;\n",
       "    }\n",
       "\n",
       "    .dataframe tbody tr th {\n",
       "        vertical-align: top;\n",
       "    }\n",
       "\n",
       "    .dataframe thead th {\n",
       "        text-align: right;\n",
       "    }\n",
       "</style>\n",
       "<table border=\"1\" class=\"dataframe\">\n",
       "  <thead>\n",
       "    <tr style=\"text-align: right;\">\n",
       "      <th></th>\n",
       "      <th>URL</th>\n",
       "      <th>Label</th>\n",
       "      <th>label_enc</th>\n",
       "      <th>text_tokenized</th>\n",
       "      <th>text_stemmed</th>\n",
       "    </tr>\n",
       "  </thead>\n",
       "  <tbody>\n",
       "    <tr>\n",
       "      <th>489006</th>\n",
       "      <td>fellinio.cf/Uk9HSw9bVVBLBh4AS1FSWw5aWV5YGQFVSw...</td>\n",
       "      <td>bad</td>\n",
       "      <td>0</td>\n",
       "      <td>[fellinio, cf, Uk, HSw, bVVBLBh, AS, FSWw, aWV...</td>\n",
       "      <td>[fellinio, cf, uk, hsw, bvvblbh, as, fsww, awv...</td>\n",
       "    </tr>\n",
       "    <tr>\n",
       "      <th>436076</th>\n",
       "      <td>spoke.com/info/pDb5rjm/JoseLiberman</td>\n",
       "      <td>good</td>\n",
       "      <td>1</td>\n",
       "      <td>[spoke, com, info, pDb, rjm, JoseLiberman]</td>\n",
       "      <td>[spoke, com, info, pdb, rjm, joseliberman]</td>\n",
       "    </tr>\n",
       "    <tr>\n",
       "      <th>265117</th>\n",
       "      <td>192.com/atoz/people/quirk/david/</td>\n",
       "      <td>good</td>\n",
       "      <td>1</td>\n",
       "      <td>[com, atoz, people, quirk, david]</td>\n",
       "      <td>[com, atoz, peopl, quirk, david]</td>\n",
       "    </tr>\n",
       "    <tr>\n",
       "      <th>375378</th>\n",
       "      <td>linkedin.com/in/fabioholanda</td>\n",
       "      <td>good</td>\n",
       "      <td>1</td>\n",
       "      <td>[linkedin, com, in, fabioholanda]</td>\n",
       "      <td>[linkedin, com, in, fabioholanda]</td>\n",
       "    </tr>\n",
       "    <tr>\n",
       "      <th>77777</th>\n",
       "      <td>www.mactech.com/articles/mactech/Vol.11/11.07/...</td>\n",
       "      <td>good</td>\n",
       "      <td>1</td>\n",
       "      <td>[www, mactech, com, articles, mactech, Vol, Pr...</td>\n",
       "      <td>[www, mactech, com, articl, mactech, vol, prog...</td>\n",
       "    </tr>\n",
       "  </tbody>\n",
       "</table>\n",
       "</div>"
      ],
      "text/plain": [
       "                                                      URL Label  label_enc  \\\n",
       "489006  fellinio.cf/Uk9HSw9bVVBLBh4AS1FSWw5aWV5YGQFVSw...   bad          0   \n",
       "436076                spoke.com/info/pDb5rjm/JoseLiberman  good          1   \n",
       "265117                   192.com/atoz/people/quirk/david/  good          1   \n",
       "375378                       linkedin.com/in/fabioholanda  good          1   \n",
       "77777   www.mactech.com/articles/mactech/Vol.11/11.07/...  good          1   \n",
       "\n",
       "                                           text_tokenized  \\\n",
       "489006  [fellinio, cf, Uk, HSw, bVVBLBh, AS, FSWw, aWV...   \n",
       "436076         [spoke, com, info, pDb, rjm, JoseLiberman]   \n",
       "265117                  [com, atoz, people, quirk, david]   \n",
       "375378                  [linkedin, com, in, fabioholanda]   \n",
       "77777   [www, mactech, com, articles, mactech, Vol, Pr...   \n",
       "\n",
       "                                             text_stemmed  \n",
       "489006  [fellinio, cf, uk, hsw, bvvblbh, as, fsww, awv...  \n",
       "436076         [spoke, com, info, pdb, rjm, joseliberman]  \n",
       "265117                   [com, atoz, peopl, quirk, david]  \n",
       "375378                  [linkedin, com, in, fabioholanda]  \n",
       "77777   [www, mactech, com, articl, mactech, vol, prog...  "
      ]
     },
     "execution_count": 132,
     "metadata": {},
     "output_type": "execute_result"
    }
   ],
   "source": [
    "data.sample(5)"
   ]
  },
  {
   "cell_type": "code",
   "execution_count": 133,
   "metadata": {
    "colab": {
     "base_uri": "https://localhost:8080/"
    },
    "executionInfo": {
     "elapsed": 500,
     "status": "ok",
     "timestamp": 1684888012580,
     "user": {
      "displayName": "HILYA ANBIYANI",
      "userId": "16755705413992361832"
     },
     "user_tz": -420
    },
    "id": "1pW1QKTA_mJr",
    "outputId": "1c5351b5-540f-4e6d-b4ca-942380f403ba"
   },
   "outputs": [
    {
     "name": "stdout",
     "output_type": "stream",
     "text": [
      "Get joiningwords ...\n",
      "Time taken 0.3357478000689298 sec\n"
     ]
    }
   ],
   "source": [
    "# Joining all the stemmmed words.\n",
    "print('Get joiningwords ...')\n",
    "t0= time.perf_counter()\n",
    "data['text_sent'] = data['text_stemmed'].map(lambda l: ' '.join(l))\n",
    "t1= time.perf_counter() - t0\n",
    "print('Time taken',t1 ,'sec')"
   ]
  },
  {
   "cell_type": "code",
   "execution_count": 134,
   "metadata": {
    "executionInfo": {
     "elapsed": 10,
     "status": "ok",
     "timestamp": 1684888012581,
     "user": {
      "displayName": "HILYA ANBIYANI",
      "userId": "16755705413992361832"
     },
     "user_tz": -420
    },
    "id": "62RLgp_2_o5C"
   },
   "outputs": [],
   "source": [
    "bad_sites = data[data.Label == 'bad']\n",
    "good_sites = data[data.Label == 'good']"
   ]
  },
  {
   "cell_type": "code",
   "execution_count": 135,
   "metadata": {
    "colab": {
     "base_uri": "https://localhost:8080/",
     "height": 302
    },
    "executionInfo": {
     "elapsed": 468,
     "status": "ok",
     "timestamp": 1684888013040,
     "user": {
      "displayName": "HILYA ANBIYANI",
      "userId": "16755705413992361832"
     },
     "user_tz": -420
    },
    "id": "RYIccpKU_ql7",
    "outputId": "a373a424-2ce1-4381-af62-bd02975e032e"
   },
   "outputs": [
    {
     "data": {
      "text/html": [
       "<div>\n",
       "<style scoped>\n",
       "    .dataframe tbody tr th:only-of-type {\n",
       "        vertical-align: middle;\n",
       "    }\n",
       "\n",
       "    .dataframe tbody tr th {\n",
       "        vertical-align: top;\n",
       "    }\n",
       "\n",
       "    .dataframe thead th {\n",
       "        text-align: right;\n",
       "    }\n",
       "</style>\n",
       "<table border=\"1\" class=\"dataframe\">\n",
       "  <thead>\n",
       "    <tr style=\"text-align: right;\">\n",
       "      <th></th>\n",
       "      <th>URL</th>\n",
       "      <th>Label</th>\n",
       "      <th>label_enc</th>\n",
       "      <th>text_tokenized</th>\n",
       "      <th>text_stemmed</th>\n",
       "      <th>text_sent</th>\n",
       "    </tr>\n",
       "  </thead>\n",
       "  <tbody>\n",
       "    <tr>\n",
       "      <th>0</th>\n",
       "      <td>nobell.it/70ffb52d079109dca5664cce6f317373782/...</td>\n",
       "      <td>bad</td>\n",
       "      <td>0</td>\n",
       "      <td>[nobell, it, ffb, d, dca, cce, f, login, SkyPe...</td>\n",
       "      <td>[nobel, it, ffb, d, dca, cce, f, login, skype,...</td>\n",
       "      <td>nobel it ffb d dca cce f login skype com en cg...</td>\n",
       "    </tr>\n",
       "    <tr>\n",
       "      <th>1</th>\n",
       "      <td>www.dghjdgf.com/paypal.co.uk/cycgi-bin/webscrc...</td>\n",
       "      <td>bad</td>\n",
       "      <td>0</td>\n",
       "      <td>[www, dghjdgf, com, paypal, co, uk, cycgi, bin...</td>\n",
       "      <td>[www, dghjdgf, com, paypal, co, uk, cycgi, bin...</td>\n",
       "      <td>www dghjdgf com paypal co uk cycgi bin webscrc...</td>\n",
       "    </tr>\n",
       "    <tr>\n",
       "      <th>2</th>\n",
       "      <td>serviciosbys.com/paypal.cgi.bin.get-into.herf....</td>\n",
       "      <td>bad</td>\n",
       "      <td>0</td>\n",
       "      <td>[serviciosbys, com, paypal, cgi, bin, get, int...</td>\n",
       "      <td>[serviciosbi, com, paypal, cgi, bin, get, into...</td>\n",
       "      <td>serviciosbi com paypal cgi bin get into herf s...</td>\n",
       "    </tr>\n",
       "    <tr>\n",
       "      <th>3</th>\n",
       "      <td>mail.printakid.com/www.online.americanexpress....</td>\n",
       "      <td>bad</td>\n",
       "      <td>0</td>\n",
       "      <td>[mail, printakid, com, www, online, americanex...</td>\n",
       "      <td>[mail, printakid, com, www, onlin, americanexp...</td>\n",
       "      <td>mail printakid com www onlin americanexpress c...</td>\n",
       "    </tr>\n",
       "    <tr>\n",
       "      <th>4</th>\n",
       "      <td>thewhiskeydregs.com/wp-content/themes/widescre...</td>\n",
       "      <td>bad</td>\n",
       "      <td>0</td>\n",
       "      <td>[thewhiskeydregs, com, wp, content, themes, wi...</td>\n",
       "      <td>[thewhiskeydreg, com, wp, content, theme, wide...</td>\n",
       "      <td>thewhiskeydreg com wp content theme widescreen...</td>\n",
       "    </tr>\n",
       "  </tbody>\n",
       "</table>\n",
       "</div>"
      ],
      "text/plain": [
       "                                                 URL Label  label_enc  \\\n",
       "0  nobell.it/70ffb52d079109dca5664cce6f317373782/...   bad          0   \n",
       "1  www.dghjdgf.com/paypal.co.uk/cycgi-bin/webscrc...   bad          0   \n",
       "2  serviciosbys.com/paypal.cgi.bin.get-into.herf....   bad          0   \n",
       "3  mail.printakid.com/www.online.americanexpress....   bad          0   \n",
       "4  thewhiskeydregs.com/wp-content/themes/widescre...   bad          0   \n",
       "\n",
       "                                      text_tokenized  \\\n",
       "0  [nobell, it, ffb, d, dca, cce, f, login, SkyPe...   \n",
       "1  [www, dghjdgf, com, paypal, co, uk, cycgi, bin...   \n",
       "2  [serviciosbys, com, paypal, cgi, bin, get, int...   \n",
       "3  [mail, printakid, com, www, online, americanex...   \n",
       "4  [thewhiskeydregs, com, wp, content, themes, wi...   \n",
       "\n",
       "                                        text_stemmed  \\\n",
       "0  [nobel, it, ffb, d, dca, cce, f, login, skype,...   \n",
       "1  [www, dghjdgf, com, paypal, co, uk, cycgi, bin...   \n",
       "2  [serviciosbi, com, paypal, cgi, bin, get, into...   \n",
       "3  [mail, printakid, com, www, onlin, americanexp...   \n",
       "4  [thewhiskeydreg, com, wp, content, theme, wide...   \n",
       "\n",
       "                                           text_sent  \n",
       "0  nobel it ffb d dca cce f login skype com en cg...  \n",
       "1  www dghjdgf com paypal co uk cycgi bin webscrc...  \n",
       "2  serviciosbi com paypal cgi bin get into herf s...  \n",
       "3  mail printakid com www onlin americanexpress c...  \n",
       "4  thewhiskeydreg com wp content theme widescreen...  "
      ]
     },
     "execution_count": 135,
     "metadata": {},
     "output_type": "execute_result"
    }
   ],
   "source": [
    "bad_sites.head()"
   ]
  },
  {
   "cell_type": "code",
   "execution_count": 136,
   "metadata": {
    "colab": {
     "base_uri": "https://localhost:8080/",
     "height": 319
    },
    "executionInfo": {
     "elapsed": 42,
     "status": "ok",
     "timestamp": 1684888013041,
     "user": {
      "displayName": "HILYA ANBIYANI",
      "userId": "16755705413992361832"
     },
     "user_tz": -420
    },
    "id": "WHNIpynk_tqL",
    "outputId": "4a2b5fd8-d570-402b-fa4e-5fcf140d8d91"
   },
   "outputs": [
    {
     "data": {
      "text/html": [
       "<div>\n",
       "<style scoped>\n",
       "    .dataframe tbody tr th:only-of-type {\n",
       "        vertical-align: middle;\n",
       "    }\n",
       "\n",
       "    .dataframe tbody tr th {\n",
       "        vertical-align: top;\n",
       "    }\n",
       "\n",
       "    .dataframe thead th {\n",
       "        text-align: right;\n",
       "    }\n",
       "</style>\n",
       "<table border=\"1\" class=\"dataframe\">\n",
       "  <thead>\n",
       "    <tr style=\"text-align: right;\">\n",
       "      <th></th>\n",
       "      <th>URL</th>\n",
       "      <th>Label</th>\n",
       "      <th>label_enc</th>\n",
       "      <th>text_tokenized</th>\n",
       "      <th>text_stemmed</th>\n",
       "      <th>text_sent</th>\n",
       "    </tr>\n",
       "  </thead>\n",
       "  <tbody>\n",
       "    <tr>\n",
       "      <th>18231</th>\n",
       "      <td>esxcc.com/js/index.htm?us.battle.net/noghn/en/...</td>\n",
       "      <td>good</td>\n",
       "      <td>1</td>\n",
       "      <td>[esxcc, com, js, index, htm, us, battle, net, ...</td>\n",
       "      <td>[esxcc, com, js, index, htm, us, battl, net, n...</td>\n",
       "      <td>esxcc com js index htm us battl net noghn en r...</td>\n",
       "    </tr>\n",
       "    <tr>\n",
       "      <th>18232</th>\n",
       "      <td>www\u000eeira¯&amp;nvinip¿ncH¯wVö%ÆåyDaHðû/ÏyEùu\u0003Ë\\nÓ\u00176...</td>\n",
       "      <td>good</td>\n",
       "      <td>1</td>\n",
       "      <td>[www, eira, nvinip, ncH, wV, yDaH, yE, u, rT, ...</td>\n",
       "      <td>[www, eira, nvinip, nch, wv, ydah, ye, u, rt, ...</td>\n",
       "      <td>www eira nvinip nch wv ydah ye u rt u g m i xz...</td>\n",
       "    </tr>\n",
       "    <tr>\n",
       "      <th>18233</th>\n",
       "      <td>'www.institutocgr.coo/web/media/syqvem/dk-\u000fóij...</td>\n",
       "      <td>good</td>\n",
       "      <td>1</td>\n",
       "      <td>[www, institutocgr, coo, web, media, syqvem, d...</td>\n",
       "      <td>[www, institutocgr, coo, web, media, syqvem, d...</td>\n",
       "      <td>www institutocgr coo web media syqvem dk ij r ...</td>\n",
       "    </tr>\n",
       "    <tr>\n",
       "      <th>18234</th>\n",
       "      <td>\u0011\u0018Yìê\f",
       "koãÕ»Î§DéÎ\u0002l½ñ¡ââqtò¸/à; Í</td>\n",
       "      <td>good</td>\n",
       "      <td>1</td>\n",
       "      <td>[Y, ko, D, l, qt]</td>\n",
       "      <td>[y, ko, d, l, qt]</td>\n",
       "      <td>y ko d l qt</td>\n",
       "    </tr>\n",
       "    <tr>\n",
       "      <th>18236</th>\n",
       "      <td>ruta89fm.com/images/AS@Vies/1i75cf7b16vc&lt;F\u0015d16...</td>\n",
       "      <td>good</td>\n",
       "      <td>1</td>\n",
       "      <td>[ruta, fm, com, images, AS, Vies, i, cf, b, vc...</td>\n",
       "      <td>[ruta, fm, com, imag, as, vie, i, cf, b, vc, f...</td>\n",
       "      <td>ruta fm com imag as vie i cf b vc f d b g sd v...</td>\n",
       "    </tr>\n",
       "  </tbody>\n",
       "</table>\n",
       "</div>"
      ],
      "text/plain": [
       "                                                     URL Label  label_enc  \\\n",
       "18231  esxcc.com/js/index.htm?us.battle.net/noghn/en/...  good          1   \n",
       "18232  www\u000eeira¯&nvinip¿ncH¯wVö%ÆåyDaHðû/ÏyEùu\u0003Ë\\nÓ\u00176...  good          1   \n",
       "18233  'www.institutocgr.coo/web/media/syqvem/dk-\u000fóij...  good          1   \n",
       "18234                  \u0011\u0018Yìê\n",
       "koãÕ»Î§DéÎ\u0002l½ñ¡ââqtò¸/à; Í  good          1   \n",
       "18236  ruta89fm.com/images/AS@Vies/1i75cf7b16vc<F\u0015d16...  good          1   \n",
       "\n",
       "                                          text_tokenized  \\\n",
       "18231  [esxcc, com, js, index, htm, us, battle, net, ...   \n",
       "18232  [www, eira, nvinip, ncH, wV, yDaH, yE, u, rT, ...   \n",
       "18233  [www, institutocgr, coo, web, media, syqvem, d...   \n",
       "18234                                  [Y, ko, D, l, qt]   \n",
       "18236  [ruta, fm, com, images, AS, Vies, i, cf, b, vc...   \n",
       "\n",
       "                                            text_stemmed  \\\n",
       "18231  [esxcc, com, js, index, htm, us, battl, net, n...   \n",
       "18232  [www, eira, nvinip, nch, wv, ydah, ye, u, rt, ...   \n",
       "18233  [www, institutocgr, coo, web, media, syqvem, d...   \n",
       "18234                                  [y, ko, d, l, qt]   \n",
       "18236  [ruta, fm, com, imag, as, vie, i, cf, b, vc, f...   \n",
       "\n",
       "                                               text_sent  \n",
       "18231  esxcc com js index htm us battl net noghn en r...  \n",
       "18232  www eira nvinip nch wv ydah ye u rt u g m i xz...  \n",
       "18233  www institutocgr coo web media syqvem dk ij r ...  \n",
       "18234                                        y ko d l qt  \n",
       "18236  ruta fm com imag as vie i cf b vc f d b g sd v...  "
      ]
     },
     "execution_count": 136,
     "metadata": {},
     "output_type": "execute_result"
    }
   ],
   "source": [
    "good_sites.head()"
   ]
  },
  {
   "cell_type": "code",
   "execution_count": 137,
   "metadata": {
    "colab": {
     "base_uri": "https://localhost:8080/",
     "height": 302
    },
    "executionInfo": {
     "elapsed": 41,
     "status": "ok",
     "timestamp": 1684888013042,
     "user": {
      "displayName": "HILYA ANBIYANI",
      "userId": "16755705413992361832"
     },
     "user_tz": -420
    },
    "id": "pOG176df_wVT",
    "outputId": "e26906ed-b260-4f2f-a28e-c72216a557a6"
   },
   "outputs": [
    {
     "data": {
      "text/html": [
       "<div>\n",
       "<style scoped>\n",
       "    .dataframe tbody tr th:only-of-type {\n",
       "        vertical-align: middle;\n",
       "    }\n",
       "\n",
       "    .dataframe tbody tr th {\n",
       "        vertical-align: top;\n",
       "    }\n",
       "\n",
       "    .dataframe thead th {\n",
       "        text-align: right;\n",
       "    }\n",
       "</style>\n",
       "<table border=\"1\" class=\"dataframe\">\n",
       "  <thead>\n",
       "    <tr style=\"text-align: right;\">\n",
       "      <th></th>\n",
       "      <th>URL</th>\n",
       "      <th>Label</th>\n",
       "      <th>label_enc</th>\n",
       "      <th>text_tokenized</th>\n",
       "      <th>text_stemmed</th>\n",
       "      <th>text_sent</th>\n",
       "    </tr>\n",
       "  </thead>\n",
       "  <tbody>\n",
       "    <tr>\n",
       "      <th>0</th>\n",
       "      <td>nobell.it/70ffb52d079109dca5664cce6f317373782/...</td>\n",
       "      <td>bad</td>\n",
       "      <td>0</td>\n",
       "      <td>[nobell, it, ffb, d, dca, cce, f, login, SkyPe...</td>\n",
       "      <td>[nobel, it, ffb, d, dca, cce, f, login, skype,...</td>\n",
       "      <td>nobel it ffb d dca cce f login skype com en cg...</td>\n",
       "    </tr>\n",
       "    <tr>\n",
       "      <th>1</th>\n",
       "      <td>www.dghjdgf.com/paypal.co.uk/cycgi-bin/webscrc...</td>\n",
       "      <td>bad</td>\n",
       "      <td>0</td>\n",
       "      <td>[www, dghjdgf, com, paypal, co, uk, cycgi, bin...</td>\n",
       "      <td>[www, dghjdgf, com, paypal, co, uk, cycgi, bin...</td>\n",
       "      <td>www dghjdgf com paypal co uk cycgi bin webscrc...</td>\n",
       "    </tr>\n",
       "    <tr>\n",
       "      <th>2</th>\n",
       "      <td>serviciosbys.com/paypal.cgi.bin.get-into.herf....</td>\n",
       "      <td>bad</td>\n",
       "      <td>0</td>\n",
       "      <td>[serviciosbys, com, paypal, cgi, bin, get, int...</td>\n",
       "      <td>[serviciosbi, com, paypal, cgi, bin, get, into...</td>\n",
       "      <td>serviciosbi com paypal cgi bin get into herf s...</td>\n",
       "    </tr>\n",
       "    <tr>\n",
       "      <th>3</th>\n",
       "      <td>mail.printakid.com/www.online.americanexpress....</td>\n",
       "      <td>bad</td>\n",
       "      <td>0</td>\n",
       "      <td>[mail, printakid, com, www, online, americanex...</td>\n",
       "      <td>[mail, printakid, com, www, onlin, americanexp...</td>\n",
       "      <td>mail printakid com www onlin americanexpress c...</td>\n",
       "    </tr>\n",
       "    <tr>\n",
       "      <th>4</th>\n",
       "      <td>thewhiskeydregs.com/wp-content/themes/widescre...</td>\n",
       "      <td>bad</td>\n",
       "      <td>0</td>\n",
       "      <td>[thewhiskeydregs, com, wp, content, themes, wi...</td>\n",
       "      <td>[thewhiskeydreg, com, wp, content, theme, wide...</td>\n",
       "      <td>thewhiskeydreg com wp content theme widescreen...</td>\n",
       "    </tr>\n",
       "  </tbody>\n",
       "</table>\n",
       "</div>"
      ],
      "text/plain": [
       "                                                 URL Label  label_enc  \\\n",
       "0  nobell.it/70ffb52d079109dca5664cce6f317373782/...   bad          0   \n",
       "1  www.dghjdgf.com/paypal.co.uk/cycgi-bin/webscrc...   bad          0   \n",
       "2  serviciosbys.com/paypal.cgi.bin.get-into.herf....   bad          0   \n",
       "3  mail.printakid.com/www.online.americanexpress....   bad          0   \n",
       "4  thewhiskeydregs.com/wp-content/themes/widescre...   bad          0   \n",
       "\n",
       "                                      text_tokenized  \\\n",
       "0  [nobell, it, ffb, d, dca, cce, f, login, SkyPe...   \n",
       "1  [www, dghjdgf, com, paypal, co, uk, cycgi, bin...   \n",
       "2  [serviciosbys, com, paypal, cgi, bin, get, int...   \n",
       "3  [mail, printakid, com, www, online, americanex...   \n",
       "4  [thewhiskeydregs, com, wp, content, themes, wi...   \n",
       "\n",
       "                                        text_stemmed  \\\n",
       "0  [nobel, it, ffb, d, dca, cce, f, login, skype,...   \n",
       "1  [www, dghjdgf, com, paypal, co, uk, cycgi, bin...   \n",
       "2  [serviciosbi, com, paypal, cgi, bin, get, into...   \n",
       "3  [mail, printakid, com, www, onlin, americanexp...   \n",
       "4  [thewhiskeydreg, com, wp, content, theme, wide...   \n",
       "\n",
       "                                           text_sent  \n",
       "0  nobel it ffb d dca cce f login skype com en cg...  \n",
       "1  www dghjdgf com paypal co uk cycgi bin webscrc...  \n",
       "2  serviciosbi com paypal cgi bin get into herf s...  \n",
       "3  mail printakid com www onlin americanexpress c...  \n",
       "4  thewhiskeydreg com wp content theme widescreen...  "
      ]
     },
     "execution_count": 137,
     "metadata": {},
     "output_type": "execute_result"
    }
   ],
   "source": [
    "data.head()"
   ]
  },
  {
   "cell_type": "markdown",
   "metadata": {
    "id": "sEi2tH-mvTI8"
   },
   "source": [
    "## Ekstraksi fitur menjadi sebuah matrix"
   ]
  },
  {
   "cell_type": "code",
   "execution_count": 138,
   "metadata": {
    "executionInfo": {
     "elapsed": 40,
     "status": "ok",
     "timestamp": 1684888013043,
     "user": {
      "displayName": "HILYA ANBIYANI",
      "userId": "16755705413992361832"
     },
     "user_tz": -420
    },
    "id": "mB_BEm2Ovcbn"
   },
   "outputs": [],
   "source": [
    "from sklearn.feature_extraction.text import CountVectorizer  \n",
    "cv = CountVectorizer()"
   ]
  },
  {
   "cell_type": "code",
   "execution_count": 139,
   "metadata": {
    "executionInfo": {
     "elapsed": 7088,
     "status": "ok",
     "timestamp": 1684888020092,
     "user": {
      "displayName": "HILYA ANBIYANI",
      "userId": "16755705413992361832"
     },
     "user_tz": -420
    },
    "id": "eV4YsMVSvfP2"
   },
   "outputs": [],
   "source": [
    "feature = cv.fit_transform(data.text_sent) #transform all text which we tokenize and stemed"
   ]
  },
  {
   "cell_type": "code",
   "execution_count": 140,
   "metadata": {
    "colab": {
     "base_uri": "https://localhost:8080/"
    },
    "executionInfo": {
     "elapsed": 20,
     "status": "ok",
     "timestamp": 1684888020093,
     "user": {
      "displayName": "HILYA ANBIYANI",
      "userId": "16755705413992361832"
     },
     "user_tz": -420
    },
    "id": "x4PsUqA8vg1U",
    "outputId": "9be919b6-239e-4bbc-b687-df53f3efecd6"
   },
   "outputs": [
    {
     "data": {
      "text/plain": [
       "array([[0, 0, 0, ..., 0, 0, 0],\n",
       "       [0, 0, 0, ..., 0, 0, 0],\n",
       "       [0, 0, 0, ..., 0, 0, 0],\n",
       "       [0, 0, 0, ..., 0, 0, 0],\n",
       "       [0, 0, 0, ..., 0, 0, 0]], dtype=int64)"
      ]
     },
     "execution_count": 140,
     "metadata": {},
     "output_type": "execute_result"
    }
   ],
   "source": [
    "feature[:5].toarray() # convert sparse matrix into array to print transformed features"
   ]
  },
  {
   "cell_type": "code",
   "execution_count": 141,
   "metadata": {},
   "outputs": [],
   "source": [
    "with open('feature.pickle', 'wb') as output:\n",
    "  pickle.dump(feature, output)"
   ]
  },
  {
   "cell_type": "code",
   "execution_count": 142,
   "metadata": {
    "executionInfo": {
     "elapsed": 17,
     "status": "ok",
     "timestamp": 1684888020093,
     "user": {
      "displayName": "HILYA ANBIYANI",
      "userId": "16755705413992361832"
     },
     "user_tz": -420
    },
    "id": "Ex9lShTJvuEL"
   },
   "outputs": [],
   "source": [
    "from sklearn.model_selection import train_test_split\n",
    "trainX, testX, trainY, testY = train_test_split(feature, data.label_enc)"
   ]
  },
  {
   "cell_type": "markdown",
   "metadata": {
    "id": "Vf8tcNG7v3XH"
   },
   "source": [
    "## Logistic Regression"
   ]
  },
  {
   "cell_type": "code",
   "execution_count": 143,
   "metadata": {
    "colab": {
     "base_uri": "https://localhost:8080/",
     "height": 213
    },
    "executionInfo": {
     "elapsed": 18832,
     "status": "ok",
     "timestamp": 1684888038909,
     "user": {
      "displayName": "HILYA ANBIYANI",
      "userId": "16755705413992361832"
     },
     "user_tz": -420
    },
    "id": "NvhZMhpDv6WP",
    "outputId": "779e04e9-5f11-4d65-b507-48123ce4447d"
   },
   "outputs": [
    {
     "name": "stderr",
     "output_type": "stream",
     "text": [
      "C:\\Users\\hilya\\anaconda3\\lib\\site-packages\\sklearn\\linear_model\\_logistic.py:458: ConvergenceWarning: lbfgs failed to converge (status=1):\n",
      "STOP: TOTAL NO. of ITERATIONS REACHED LIMIT.\n",
      "\n",
      "Increase the number of iterations (max_iter) or scale the data as shown in:\n",
      "    https://scikit-learn.org/stable/modules/preprocessing.html\n",
      "Please also refer to the documentation for alternative solver options:\n",
      "    https://scikit-learn.org/stable/modules/linear_model.html#logistic-regression\n",
      "  n_iter_i = _check_optimize_result(\n"
     ]
    },
    {
     "data": {
      "text/html": [
       "<style>#sk-container-id-7 {color: black;background-color: white;}#sk-container-id-7 pre{padding: 0;}#sk-container-id-7 div.sk-toggleable {background-color: white;}#sk-container-id-7 label.sk-toggleable__label {cursor: pointer;display: block;width: 100%;margin-bottom: 0;padding: 0.3em;box-sizing: border-box;text-align: center;}#sk-container-id-7 label.sk-toggleable__label-arrow:before {content: \"▸\";float: left;margin-right: 0.25em;color: #696969;}#sk-container-id-7 label.sk-toggleable__label-arrow:hover:before {color: black;}#sk-container-id-7 div.sk-estimator:hover label.sk-toggleable__label-arrow:before {color: black;}#sk-container-id-7 div.sk-toggleable__content {max-height: 0;max-width: 0;overflow: hidden;text-align: left;background-color: #f0f8ff;}#sk-container-id-7 div.sk-toggleable__content pre {margin: 0.2em;color: black;border-radius: 0.25em;background-color: #f0f8ff;}#sk-container-id-7 input.sk-toggleable__control:checked~div.sk-toggleable__content {max-height: 200px;max-width: 100%;overflow: auto;}#sk-container-id-7 input.sk-toggleable__control:checked~label.sk-toggleable__label-arrow:before {content: \"▾\";}#sk-container-id-7 div.sk-estimator input.sk-toggleable__control:checked~label.sk-toggleable__label {background-color: #d4ebff;}#sk-container-id-7 div.sk-label input.sk-toggleable__control:checked~label.sk-toggleable__label {background-color: #d4ebff;}#sk-container-id-7 input.sk-hidden--visually {border: 0;clip: rect(1px 1px 1px 1px);clip: rect(1px, 1px, 1px, 1px);height: 1px;margin: -1px;overflow: hidden;padding: 0;position: absolute;width: 1px;}#sk-container-id-7 div.sk-estimator {font-family: monospace;background-color: #f0f8ff;border: 1px dotted black;border-radius: 0.25em;box-sizing: border-box;margin-bottom: 0.5em;}#sk-container-id-7 div.sk-estimator:hover {background-color: #d4ebff;}#sk-container-id-7 div.sk-parallel-item::after {content: \"\";width: 100%;border-bottom: 1px solid gray;flex-grow: 1;}#sk-container-id-7 div.sk-label:hover label.sk-toggleable__label {background-color: #d4ebff;}#sk-container-id-7 div.sk-serial::before {content: \"\";position: absolute;border-left: 1px solid gray;box-sizing: border-box;top: 0;bottom: 0;left: 50%;z-index: 0;}#sk-container-id-7 div.sk-serial {display: flex;flex-direction: column;align-items: center;background-color: white;padding-right: 0.2em;padding-left: 0.2em;position: relative;}#sk-container-id-7 div.sk-item {position: relative;z-index: 1;}#sk-container-id-7 div.sk-parallel {display: flex;align-items: stretch;justify-content: center;background-color: white;position: relative;}#sk-container-id-7 div.sk-item::before, #sk-container-id-7 div.sk-parallel-item::before {content: \"\";position: absolute;border-left: 1px solid gray;box-sizing: border-box;top: 0;bottom: 0;left: 50%;z-index: -1;}#sk-container-id-7 div.sk-parallel-item {display: flex;flex-direction: column;z-index: 1;position: relative;background-color: white;}#sk-container-id-7 div.sk-parallel-item:first-child::after {align-self: flex-end;width: 50%;}#sk-container-id-7 div.sk-parallel-item:last-child::after {align-self: flex-start;width: 50%;}#sk-container-id-7 div.sk-parallel-item:only-child::after {width: 0;}#sk-container-id-7 div.sk-dashed-wrapped {border: 1px dashed gray;margin: 0 0.4em 0.5em 0.4em;box-sizing: border-box;padding-bottom: 0.4em;background-color: white;}#sk-container-id-7 div.sk-label label {font-family: monospace;font-weight: bold;display: inline-block;line-height: 1.2em;}#sk-container-id-7 div.sk-label-container {text-align: center;}#sk-container-id-7 div.sk-container {/* jupyter's `normalize.less` sets `[hidden] { display: none; }` but bootstrap.min.css set `[hidden] { display: none !important; }` so we also need the `!important` here to be able to override the default hidden behavior on the sphinx rendered scikit-learn.org. See: https://github.com/scikit-learn/scikit-learn/issues/21755 */display: inline-block !important;position: relative;}#sk-container-id-7 div.sk-text-repr-fallback {display: none;}</style><div id=\"sk-container-id-7\" class=\"sk-top-container\"><div class=\"sk-text-repr-fallback\"><pre>LogisticRegression()</pre><b>In a Jupyter environment, please rerun this cell to show the HTML representation or trust the notebook. <br />On GitHub, the HTML representation is unable to render, please try loading this page with nbviewer.org.</b></div><div class=\"sk-container\" hidden><div class=\"sk-item\"><div class=\"sk-estimator sk-toggleable\"><input class=\"sk-toggleable__control sk-hidden--visually\" id=\"sk-estimator-id-7\" type=\"checkbox\" checked><label for=\"sk-estimator-id-7\" class=\"sk-toggleable__label sk-toggleable__label-arrow\">LogisticRegression</label><div class=\"sk-toggleable__content\"><pre>LogisticRegression()</pre></div></div></div></div></div>"
      ],
      "text/plain": [
       "LogisticRegression()"
      ]
     },
     "execution_count": 143,
     "metadata": {},
     "output_type": "execute_result"
    }
   ],
   "source": [
    "from sklearn.linear_model import LogisticRegression\n",
    "\n",
    "# Create LR object\n",
    "lr = LogisticRegression()\n",
    "\n",
    "# Train algoritma\n",
    "lr.fit(trainX,trainY)"
   ]
  },
  {
   "cell_type": "code",
   "execution_count": 144,
   "metadata": {
    "colab": {
     "base_uri": "https://localhost:8080/"
    },
    "executionInfo": {
     "elapsed": 37,
     "status": "ok",
     "timestamp": 1684888038910,
     "user": {
      "displayName": "HILYA ANBIYANI",
      "userId": "16755705413992361832"
     },
     "user_tz": -420
    },
    "id": "tlrK3kQ2wAUq",
    "outputId": "10723d76-8859-4064-e4e9-4472904ba2b5"
   },
   "outputs": [
    {
     "data": {
      "text/plain": [
       "0.9625883774947757"
      ]
     },
     "execution_count": 144,
     "metadata": {},
     "output_type": "execute_result"
    }
   ],
   "source": [
    "lr.score(testX,testY)"
   ]
  },
  {
   "cell_type": "code",
   "execution_count": 145,
   "metadata": {
    "executionInfo": {
     "elapsed": 33,
     "status": "ok",
     "timestamp": 1684888038912,
     "user": {
      "displayName": "HILYA ANBIYANI",
      "userId": "16755705413992361832"
     },
     "user_tz": -420
    },
    "id": "qo9Mm7tywEbh"
   },
   "outputs": [],
   "source": [
    "Scores_ml = {}\n",
    "Scores_ml['Logistic Regression'] = np.round(lr.score(testX,testY),2)"
   ]
  },
  {
   "cell_type": "code",
   "execution_count": 146,
   "metadata": {
    "colab": {
     "base_uri": "https://localhost:8080/",
     "height": 663
    },
    "executionInfo": {
     "elapsed": 896,
     "status": "ok",
     "timestamp": 1684888039775,
     "user": {
      "displayName": "HILYA ANBIYANI",
      "userId": "16755705413992361832"
     },
     "user_tz": -420
    },
    "id": "CsXpgNq-wIPn",
    "outputId": "b4f94399-c2a2-4ced-a2a3-25b6b9d2727a"
   },
   "outputs": [
    {
     "name": "stdout",
     "output_type": "stream",
     "text": [
      "Training Accuracy : 0.9766849753282089\n",
      "Testing Accuracy : 0.9625883774947757\n",
      "\n",
      "CLASSIFICATION REPORT\n",
      "\n",
      "              precision    recall  f1-score   support\n",
      "\n",
      "         Bad       0.90      0.97      0.93     36437\n",
      "        Good       0.99      0.96      0.97    100900\n",
      "\n",
      "    accuracy                           0.96    137337\n",
      "   macro avg       0.94      0.96      0.95    137337\n",
      "weighted avg       0.96      0.96      0.96    137337\n",
      "\n",
      "\n",
      "CONFUSION MATRIX\n"
     ]
    },
    {
     "data": {
      "text/plain": [
       "<Axes: >"
      ]
     },
     "execution_count": 146,
     "metadata": {},
     "output_type": "execute_result"
    },
    {
     "data": {
      "image/png": "[encoded data removed]",
      "text/plain": [
       "<Figure size 600x400 with 2 Axes>"
      ]
     },
     "metadata": {},
     "output_type": "display_data"
    }
   ],
   "source": [
    "# creating confusing matrix\n",
    "print('Training Accuracy :',lr.score(trainX,trainY))\n",
    "print('Testing Accuracy :',lr.score(testX,testY))\n",
    "con_mat = pd.DataFrame(confusion_matrix(lr.predict(testX), testY),\n",
    "            columns = ['Predicted:Bad', 'Predicted:Good'],\n",
    "            index = ['Actual:Bad', 'Actual:Good'])\n",
    "\n",
    "\n",
    "print('\\nCLASSIFICATION REPORT\\n')\n",
    "print(classification_report(lr.predict(testX), testY,\n",
    "                            target_names =['Bad','Good']))\n",
    "\n",
    "print('\\nCONFUSION MATRIX')\n",
    "plt.figure(figsize= (6,4))\n",
    "sns.heatmap(con_mat, annot = True,fmt='d',cmap=\"YlGnBu\")"
   ]
  },
  {
   "cell_type": "markdown",
   "metadata": {
    "id": "SvK3eM2557r1"
   },
   "source": [
    "## Multinomial NB\n"
   ]
  },
  {
   "cell_type": "code",
   "execution_count": 147,
   "metadata": {
    "colab": {
     "base_uri": "https://localhost:8080/",
     "height": 74
    },
    "executionInfo": {
     "elapsed": 35,
     "status": "ok",
     "timestamp": 1684888039777,
     "user": {
      "displayName": "HILYA ANBIYANI",
      "userId": "16755705413992361832"
     },
     "user_tz": -420
    },
    "id": "U5ldL5z7wL0q",
    "outputId": "ab6868b7-aba5-43fb-bc35-ff00745a5d53"
   },
   "outputs": [
    {
     "data": {
      "text/html": [
       "<style>#sk-container-id-8 {color: black;background-color: white;}#sk-container-id-8 pre{padding: 0;}#sk-container-id-8 div.sk-toggleable {background-color: white;}#sk-container-id-8 label.sk-toggleable__label {cursor: pointer;display: block;width: 100%;margin-bottom: 0;padding: 0.3em;box-sizing: border-box;text-align: center;}#sk-container-id-8 label.sk-toggleable__label-arrow:before {content: \"▸\";float: left;margin-right: 0.25em;color: #696969;}#sk-container-id-8 label.sk-toggleable__label-arrow:hover:before {color: black;}#sk-container-id-8 div.sk-estimator:hover label.sk-toggleable__label-arrow:before {color: black;}#sk-container-id-8 div.sk-toggleable__content {max-height: 0;max-width: 0;overflow: hidden;text-align: left;background-color: #f0f8ff;}#sk-container-id-8 div.sk-toggleable__content pre {margin: 0.2em;color: black;border-radius: 0.25em;background-color: #f0f8ff;}#sk-container-id-8 input.sk-toggleable__control:checked~div.sk-toggleable__content {max-height: 200px;max-width: 100%;overflow: auto;}#sk-container-id-8 input.sk-toggleable__control:checked~label.sk-toggleable__label-arrow:before {content: \"▾\";}#sk-container-id-8 div.sk-estimator input.sk-toggleable__control:checked~label.sk-toggleable__label {background-color: #d4ebff;}#sk-container-id-8 div.sk-label input.sk-toggleable__control:checked~label.sk-toggleable__label {background-color: #d4ebff;}#sk-container-id-8 input.sk-hidden--visually {border: 0;clip: rect(1px 1px 1px 1px);clip: rect(1px, 1px, 1px, 1px);height: 1px;margin: -1px;overflow: hidden;padding: 0;position: absolute;width: 1px;}#sk-container-id-8 div.sk-estimator {font-family: monospace;background-color: #f0f8ff;border: 1px dotted black;border-radius: 0.25em;box-sizing: border-box;margin-bottom: 0.5em;}#sk-container-id-8 div.sk-estimator:hover {background-color: #d4ebff;}#sk-container-id-8 div.sk-parallel-item::after {content: \"\";width: 100%;border-bottom: 1px solid gray;flex-grow: 1;}#sk-container-id-8 div.sk-label:hover label.sk-toggleable__label {background-color: #d4ebff;}#sk-container-id-8 div.sk-serial::before {content: \"\";position: absolute;border-left: 1px solid gray;box-sizing: border-box;top: 0;bottom: 0;left: 50%;z-index: 0;}#sk-container-id-8 div.sk-serial {display: flex;flex-direction: column;align-items: center;background-color: white;padding-right: 0.2em;padding-left: 0.2em;position: relative;}#sk-container-id-8 div.sk-item {position: relative;z-index: 1;}#sk-container-id-8 div.sk-parallel {display: flex;align-items: stretch;justify-content: center;background-color: white;position: relative;}#sk-container-id-8 div.sk-item::before, #sk-container-id-8 div.sk-parallel-item::before {content: \"\";position: absolute;border-left: 1px solid gray;box-sizing: border-box;top: 0;bottom: 0;left: 50%;z-index: -1;}#sk-container-id-8 div.sk-parallel-item {display: flex;flex-direction: column;z-index: 1;position: relative;background-color: white;}#sk-container-id-8 div.sk-parallel-item:first-child::after {align-self: flex-end;width: 50%;}#sk-container-id-8 div.sk-parallel-item:last-child::after {align-self: flex-start;width: 50%;}#sk-container-id-8 div.sk-parallel-item:only-child::after {width: 0;}#sk-container-id-8 div.sk-dashed-wrapped {border: 1px dashed gray;margin: 0 0.4em 0.5em 0.4em;box-sizing: border-box;padding-bottom: 0.4em;background-color: white;}#sk-container-id-8 div.sk-label label {font-family: monospace;font-weight: bold;display: inline-block;line-height: 1.2em;}#sk-container-id-8 div.sk-label-container {text-align: center;}#sk-container-id-8 div.sk-container {/* jupyter's `normalize.less` sets `[hidden] { display: none; }` but bootstrap.min.css set `[hidden] { display: none !important; }` so we also need the `!important` here to be able to override the default hidden behavior on the sphinx rendered scikit-learn.org. See: https://github.com/scikit-learn/scikit-learn/issues/21755 */display: inline-block !important;position: relative;}#sk-container-id-8 div.sk-text-repr-fallback {display: none;}</style><div id=\"sk-container-id-8\" class=\"sk-top-container\"><div class=\"sk-text-repr-fallback\"><pre>MultinomialNB()</pre><b>In a Jupyter environment, please rerun this cell to show the HTML representation or trust the notebook. <br />On GitHub, the HTML representation is unable to render, please try loading this page with nbviewer.org.</b></div><div class=\"sk-container\" hidden><div class=\"sk-item\"><div class=\"sk-estimator sk-toggleable\"><input class=\"sk-toggleable__control sk-hidden--visually\" id=\"sk-estimator-id-8\" type=\"checkbox\" checked><label for=\"sk-estimator-id-8\" class=\"sk-toggleable__label sk-toggleable__label-arrow\">MultinomialNB</label><div class=\"sk-toggleable__content\"><pre>MultinomialNB()</pre></div></div></div></div></div>"
      ],
      "text/plain": [
       "MultinomialNB()"
      ]
     },
     "execution_count": 147,
     "metadata": {},
     "output_type": "execute_result"
    }
   ],
   "source": [
    "from sklearn.naive_bayes import MultinomialNB \n",
    "\n",
    "# Create mnb object\n",
    "mnb = MultinomialNB()\n",
    "\n",
    "# Fit/Latih algoritma model mnb\n",
    "mnb.fit(trainX,trainY)"
   ]
  },
  {
   "cell_type": "code",
   "execution_count": 148,
   "metadata": {
    "colab": {
     "base_uri": "https://localhost:8080/"
    },
    "executionInfo": {
     "elapsed": 32,
     "status": "ok",
     "timestamp": 1684888039777,
     "user": {
      "displayName": "HILYA ANBIYANI",
      "userId": "16755705413992361832"
     },
     "user_tz": -420
    },
    "id": "hNC66pYRwcXS",
    "outputId": "4a2ac6f0-de6b-4e36-e57e-81e1f2e183a8"
   },
   "outputs": [
    {
     "data": {
      "text/plain": [
       "0.9573166735839577"
      ]
     },
     "execution_count": 148,
     "metadata": {},
     "output_type": "execute_result"
    }
   ],
   "source": [
    "mnb.score(testX,testY)"
   ]
  },
  {
   "cell_type": "code",
   "execution_count": 149,
   "metadata": {
    "executionInfo": {
     "elapsed": 29,
     "status": "ok",
     "timestamp": 1684888039778,
     "user": {
      "displayName": "HILYA ANBIYANI",
      "userId": "16755705413992361832"
     },
     "user_tz": -420
    },
    "id": "c6_0VBvvwoUq"
   },
   "outputs": [],
   "source": [
    "Scores_ml['MultinomialNB'] = np.round(mnb.score(testX,testY),2)"
   ]
  },
  {
   "cell_type": "code",
   "execution_count": 150,
   "metadata": {
    "colab": {
     "base_uri": "https://localhost:8080/",
     "height": 663
    },
    "executionInfo": {
     "elapsed": 19,
     "status": "ok",
     "timestamp": 1684888040146,
     "user": {
      "displayName": "HILYA ANBIYANI",
      "userId": "16755705413992361832"
     },
     "user_tz": -420
    },
    "id": "V6sfJbTOwqnF",
    "outputId": "95893b00-0bd5-4f9f-a0d8-e57d192ef70e"
   },
   "outputs": [
    {
     "name": "stdout",
     "output_type": "stream",
     "text": [
      "Training Accuracy : 0.9739835780286353\n",
      "Testing Accuracy : 0.9573166735839577\n",
      "\n",
      "CLASSIFICATION REPORT\n",
      "\n",
      "              precision    recall  f1-score   support\n",
      "\n",
      "         Bad       0.91      0.94      0.92     38111\n",
      "        Good       0.97      0.97      0.97     99226\n",
      "\n",
      "    accuracy                           0.96    137337\n",
      "   macro avg       0.94      0.95      0.95    137337\n",
      "weighted avg       0.96      0.96      0.96    137337\n",
      "\n",
      "\n",
      "CONFUSION MATRIX\n"
     ]
    },
    {
     "data": {
      "text/plain": [
       "<Axes: >"
      ]
     },
     "execution_count": 150,
     "metadata": {},
     "output_type": "execute_result"
    },
    {
     "data": {
      "image/png": "[encoded data removed]",
      "text/plain": [
       "<Figure size 600x400 with 2 Axes>"
      ]
     },
     "metadata": {},
     "output_type": "display_data"
    }
   ],
   "source": [
    "print('Training Accuracy :',mnb.score(trainX,trainY))\n",
    "print('Testing Accuracy :',mnb.score(testX,testY))\n",
    "con_mat = pd.DataFrame(confusion_matrix(mnb.predict(testX), testY),\n",
    "            columns = ['Predicted:Bad', 'Predicted:Good'],\n",
    "            index = ['Actual:Bad', 'Actual:Good'])\n",
    "\n",
    "\n",
    "print('\\nCLASSIFICATION REPORT\\n')\n",
    "print(classification_report(mnb.predict(testX), testY,\n",
    "                            target_names =['Bad','Good']))\n",
    "\n",
    "print('\\nCONFUSION MATRIX')\n",
    "plt.figure(figsize= (6,4))\n",
    "sns.heatmap(con_mat, annot = True,fmt='d',cmap=\"YlGnBu\")"
   ]
  },
  {
   "cell_type": "code",
   "execution_count": 151,
   "metadata": {},
   "outputs": [],
   "source": [
    "# Text Pre-Processing function untuk API phishing detection\n",
    "def text_preprocessing_process(text):\n",
    "    tokens = tokenizer.tokenize(text)\n",
    "    tokens_stemmed = [stemmer.stem(token) for token in tokens]\n",
    "    processed_text = ' '.join(tokens_stemmed)\n",
    "    return processed_text"
   ]
  },
  {
   "cell_type": "markdown",
   "metadata": {
    "id": "r_9fTtQFw0nV"
   },
   "source": [
    "### Logistic Regression is the best fit model, Now we make sklearn pipeline using Logistic Regression"
   ]
  },
  {
   "cell_type": "code",
   "execution_count": 152,
   "metadata": {
    "executionInfo": {
     "elapsed": 12,
     "status": "ok",
     "timestamp": 1684888040567,
     "user": {
      "displayName": "HILYA ANBIYANI",
      "userId": "16755705413992361832"
     },
     "user_tz": -420
    },
    "id": "WgU5450twzze"
   },
   "outputs": [],
   "source": [
    "# from sklearn.pipeline import make_pipeline\n",
    "# pipeline_ls = make_pipeline(CountVectorizer(tokenizer = RegexpTokenizer(r'[A-Za-z]+').tokenize,stop_words='english'), LogisticRegression())"
   ]
  },
  {
   "cell_type": "code",
   "execution_count": 153,
   "metadata": {
    "executionInfo": {
     "elapsed": 12,
     "status": "ok",
     "timestamp": 1684888040568,
     "user": {
      "displayName": "HILYA ANBIYANI",
      "userId": "16755705413992361832"
     },
     "user_tz": -420
    },
    "id": "I2GXjk3MxYY4"
   },
   "outputs": [],
   "source": [
    "# trainX, testX, trainY, testY = train_test_split(data.URL, data.Label)"
   ]
  },
  {
   "cell_type": "code",
   "execution_count": 154,
   "metadata": {
    "colab": {
     "base_uri": "https://localhost:8080/",
     "height": 299
    },
    "executionInfo": {
     "elapsed": 25982,
     "status": "ok",
     "timestamp": 1684888066538,
     "user": {
      "displayName": "HILYA ANBIYANI",
      "userId": "16755705413992361832"
     },
     "user_tz": -420
    },
    "id": "w0UNmAKLxZ9C",
    "outputId": "6e920ab9-9b29-4d0d-d4d9-4826cfc90896"
   },
   "outputs": [],
   "source": [
    "# pipeline_ls.fit(trainX,trainY)"
   ]
  },
  {
   "cell_type": "code",
   "execution_count": 155,
   "metadata": {
    "colab": {
     "base_uri": "https://localhost:8080/"
    },
    "executionInfo": {
     "elapsed": 2864,
     "status": "ok",
     "timestamp": 1684888069353,
     "user": {
      "displayName": "HILYA ANBIYANI",
      "userId": "16755705413992361832"
     },
     "user_tz": -420
    },
    "id": "nan_6tdfxbx5",
    "outputId": "58e9f7be-42b2-4db3-d889-29b477a68e1b"
   },
   "outputs": [],
   "source": [
    "# pipeline_ls.score(testX,testY)"
   ]
  },
  {
   "cell_type": "code",
   "execution_count": 156,
   "metadata": {
    "colab": {
     "base_uri": "https://localhost:8080/",
     "height": 663
    },
    "executionInfo": {
     "elapsed": 20788,
     "status": "ok",
     "timestamp": 1684888090132,
     "user": {
      "displayName": "HILYA ANBIYANI",
      "userId": "16755705413992361832"
     },
     "user_tz": -420
    },
    "id": "O7APSI87xeIJ",
    "outputId": "357b70e8-31af-4aea-f5f6-a18c6c103a86",
    "scrolled": true
   },
   "outputs": [],
   "source": [
    "# print('Training Accuracy :',pipeline_ls.score(trainX,trainY))\n",
    "# print('Testing Accuracy :',pipeline_ls.score(testX,testY))\n",
    "# con_mat = pd.DataFrame(confusion_matrix(pipeline_ls.predict(testX), testY),\n",
    "#             columns = ['Predicted:Bad', 'Predicted:Good'],\n",
    "#             index = ['Actual:Bad', 'Actual:Good'])\n",
    "\n",
    "\n",
    "# print('\\nCLASSIFICATION REPORT\\n')\n",
    "# print(classification_report(pipeline_ls.predict(testX), testY,\n",
    "#                             target_names =['Bad','Good']))\n",
    "\n",
    "# print('\\nCONFUSION MATRIX')\n",
    "# plt.figure(figsize= (6,4))\n",
    "# sns.heatmap(con_mat, annot = True,fmt='d',cmap=\"YlGnBu\")"
   ]
  },
  {
   "cell_type": "code",
   "execution_count": 157,
   "metadata": {
    "colab": {
     "base_uri": "https://localhost:8080/"
    },
    "executionInfo": {
     "elapsed": 2003,
     "status": "ok",
     "timestamp": 1684888092089,
     "user": {
      "displayName": "HILYA ANBIYANI",
      "userId": "16755705413992361832"
     },
     "user_tz": -420
    },
    "id": "Hb2p9U0mxgvC",
    "outputId": "676a1c8c-5528-4e2d-a55e-11b6fdb77131"
   },
   "outputs": [],
   "source": [
    "# joblib.dump((pipeline_ls), \"model_phishing_lr.model\")"
   ]
  },
  {
   "cell_type": "code",
   "execution_count": 158,
   "metadata": {
    "colab": {
     "base_uri": "https://localhost:8080/"
    },
    "executionInfo": {
     "elapsed": 11469,
     "status": "ok",
     "timestamp": 1684889544507,
     "user": {
      "displayName": "HILYA ANBIYANI",
      "userId": "16755705413992361832"
     },
     "user_tz": -420
    },
    "id": "oQC3o7Fxximz",
    "outputId": "517ba6b5-0c2f-43f1-cf4a-99dac536041e"
   },
   "outputs": [],
   "source": [
    "# from joblib import load\n",
    "# loaded_model = load('model_phishing_lr.model')\n",
    "# result = loaded_model.score(testX,testY)\n",
    "# print(result)"
   ]
  },
  {
   "cell_type": "code",
   "execution_count": 183,
   "metadata": {},
   "outputs": [],
   "source": [
    "# Text Pre-Processing function untuk API phishing detection\n",
    "def text_preprocessing_process(text):\n",
    "    tokens = tokenizer.tokenize(text)\n",
    "    tokens_stemmed = [stemmer.stem(token) for token in tokens]\n",
    "    processed_text = ' '.join(tokens_stemmed)\n",
    "    return processed_text"
   ]
  },
  {
   "cell_type": "code",
   "execution_count": 184,
   "metadata": {},
   "outputs": [],
   "source": [
    "# Pre-processing pada dataset\n",
    "data['Processed_URL'] = data['URL'].apply(text_preprocessing_process)"
   ]
  },
  {
   "cell_type": "code",
   "execution_count": 185,
   "metadata": {},
   "outputs": [],
   "source": [
    "# Bagi dataset menjadi data latih dan data uji\n",
    "X = data['Processed_URL']\n",
    "y = data['label_enc']"
   ]
  },
  {
   "cell_type": "code",
   "execution_count": 186,
   "metadata": {},
   "outputs": [
    {
     "data": {
      "text/plain": [
       "0         nobel it ffb d dca cce f login skype com en cg...\n",
       "1         www dghjdgf com paypal co uk cycgi bin webscrc...\n",
       "2         serviciosbi com paypal cgi bin get into herf s...\n",
       "3         mail printakid com www onlin americanexpress c...\n",
       "4         thewhiskeydreg com wp content theme widescreen...\n",
       "                                ...                        \n",
       "549341                                                     \n",
       "549342                                     appl checker org\n",
       "549343                                       appl iclod org\n",
       "549344                                     appl uptoday org\n",
       "549345                                     appl search info\n",
       "Name: Processed_URL, Length: 549346, dtype: object"
      ]
     },
     "execution_count": 186,
     "metadata": {},
     "output_type": "execute_result"
    }
   ],
   "source": [
    "X"
   ]
  },
  {
   "cell_type": "code",
   "execution_count": 187,
   "metadata": {},
   "outputs": [],
   "source": [
    "# Ekstraksi fitur menggunakan CountVectorizer\n",
    "vectorizer = CountVectorizer()\n",
    "X_transformed = vectorizer.fit_transform(X)"
   ]
  },
  {
   "cell_type": "code",
   "execution_count": 189,
   "metadata": {},
   "outputs": [
    {
     "name": "stdout",
     "output_type": "stream",
     "text": [
      "  (0, 214044)\t1\n",
      "  (0, 148182)\t1\n",
      "  (0, 102365)\t2\n",
      "  (0, 72165)\t2\n",
      "  (0, 48480)\t2\n",
      "  (0, 179185)\t3\n",
      "  (0, 277139)\t1\n",
      "  (0, 59829)\t1\n",
      "  (0, 92193)\t1\n",
      "  (0, 50970)\t1\n",
      "  (0, 31889)\t1\n",
      "  (0, 318893)\t1\n",
      "  (0, 143427)\t1\n",
      "  (0, 234399)\t1\n",
      "  (0, 57761)\t1\n",
      "  (0, 241914)\t1\n",
      "  (0, 2984)\t1\n",
      "  (0, 225931)\t1\n",
      "  (0, 227426)\t1\n",
      "  (0, 302427)\t1\n",
      "  (0, 115997)\t1\n",
      "  (0, 98758)\t1\n",
      "  (0, 302741)\t1\n",
      "  (0, 178689)\t1\n",
      "  (0, 207808)\t1\n",
      "  :\t:\n",
      "  (549339, 243167)\t1\n",
      "  (549339, 95704)\t1\n",
      "  (549339, 162589)\t1\n",
      "  (549339, 26924)\t1\n",
      "  (549339, 247228)\t1\n",
      "  (549339, 83450)\t1\n",
      "  (549340, 59829)\t1\n",
      "  (549340, 80029)\t1\n",
      "  (549340, 190317)\t1\n",
      "  (549340, 68021)\t1\n",
      "  (549340, 133603)\t1\n",
      "  (549340, 198770)\t1\n",
      "  (549340, 148694)\t1\n",
      "  (549342, 224359)\t1\n",
      "  (549342, 14997)\t1\n",
      "  (549342, 52390)\t1\n",
      "  (549343, 224359)\t1\n",
      "  (549343, 14997)\t1\n",
      "  (549343, 139835)\t1\n",
      "  (549344, 224359)\t1\n",
      "  (549344, 14997)\t1\n",
      "  (549344, 314240)\t1\n",
      "  (549345, 144194)\t1\n",
      "  (549345, 14997)\t1\n",
      "  (549345, 269239)\t1\n"
     ]
    }
   ],
   "source": [
    "X_transformed_coo = X_transformed.tocoo()\n",
    "print(X_transformed_coo)"
   ]
  },
  {
   "cell_type": "code",
   "execution_count": 190,
   "metadata": {},
   "outputs": [],
   "source": [
    "X_train, X_test, y_train, y_test = train_test_split(X_transformed, y, test_size=0.2, random_state=42)"
   ]
  },
  {
   "cell_type": "code",
   "execution_count": 191,
   "metadata": {},
   "outputs": [
    {
     "name": "stderr",
     "output_type": "stream",
     "text": [
      "C:\\Users\\hilya\\anaconda3\\lib\\site-packages\\sklearn\\linear_model\\_logistic.py:458: ConvergenceWarning: lbfgs failed to converge (status=1):\n",
      "STOP: TOTAL NO. of ITERATIONS REACHED LIMIT.\n",
      "\n",
      "Increase the number of iterations (max_iter) or scale the data as shown in:\n",
      "    https://scikit-learn.org/stable/modules/preprocessing.html\n",
      "Please also refer to the documentation for alternative solver options:\n",
      "    https://scikit-learn.org/stable/modules/linear_model.html#logistic-regression\n",
      "  n_iter_i = _check_optimize_result(\n"
     ]
    },
    {
     "data": {
      "text/html": [
       "<style>#sk-container-id-10 {color: black;background-color: white;}#sk-container-id-10 pre{padding: 0;}#sk-container-id-10 div.sk-toggleable {background-color: white;}#sk-container-id-10 label.sk-toggleable__label {cursor: pointer;display: block;width: 100%;margin-bottom: 0;padding: 0.3em;box-sizing: border-box;text-align: center;}#sk-container-id-10 label.sk-toggleable__label-arrow:before {content: \"▸\";float: left;margin-right: 0.25em;color: #696969;}#sk-container-id-10 label.sk-toggleable__label-arrow:hover:before {color: black;}#sk-container-id-10 div.sk-estimator:hover label.sk-toggleable__label-arrow:before {color: black;}#sk-container-id-10 div.sk-toggleable__content {max-height: 0;max-width: 0;overflow: hidden;text-align: left;background-color: #f0f8ff;}#sk-container-id-10 div.sk-toggleable__content pre {margin: 0.2em;color: black;border-radius: 0.25em;background-color: #f0f8ff;}#sk-container-id-10 input.sk-toggleable__control:checked~div.sk-toggleable__content {max-height: 200px;max-width: 100%;overflow: auto;}#sk-container-id-10 input.sk-toggleable__control:checked~label.sk-toggleable__label-arrow:before {content: \"▾\";}#sk-container-id-10 div.sk-estimator input.sk-toggleable__control:checked~label.sk-toggleable__label {background-color: #d4ebff;}#sk-container-id-10 div.sk-label input.sk-toggleable__control:checked~label.sk-toggleable__label {background-color: #d4ebff;}#sk-container-id-10 input.sk-hidden--visually {border: 0;clip: rect(1px 1px 1px 1px);clip: rect(1px, 1px, 1px, 1px);height: 1px;margin: -1px;overflow: hidden;padding: 0;position: absolute;width: 1px;}#sk-container-id-10 div.sk-estimator {font-family: monospace;background-color: #f0f8ff;border: 1px dotted black;border-radius: 0.25em;box-sizing: border-box;margin-bottom: 0.5em;}#sk-container-id-10 div.sk-estimator:hover {background-color: #d4ebff;}#sk-container-id-10 div.sk-parallel-item::after {content: \"\";width: 100%;border-bottom: 1px solid gray;flex-grow: 1;}#sk-container-id-10 div.sk-label:hover label.sk-toggleable__label {background-color: #d4ebff;}#sk-container-id-10 div.sk-serial::before {content: \"\";position: absolute;border-left: 1px solid gray;box-sizing: border-box;top: 0;bottom: 0;left: 50%;z-index: 0;}#sk-container-id-10 div.sk-serial {display: flex;flex-direction: column;align-items: center;background-color: white;padding-right: 0.2em;padding-left: 0.2em;position: relative;}#sk-container-id-10 div.sk-item {position: relative;z-index: 1;}#sk-container-id-10 div.sk-parallel {display: flex;align-items: stretch;justify-content: center;background-color: white;position: relative;}#sk-container-id-10 div.sk-item::before, #sk-container-id-10 div.sk-parallel-item::before {content: \"\";position: absolute;border-left: 1px solid gray;box-sizing: border-box;top: 0;bottom: 0;left: 50%;z-index: -1;}#sk-container-id-10 div.sk-parallel-item {display: flex;flex-direction: column;z-index: 1;position: relative;background-color: white;}#sk-container-id-10 div.sk-parallel-item:first-child::after {align-self: flex-end;width: 50%;}#sk-container-id-10 div.sk-parallel-item:last-child::after {align-self: flex-start;width: 50%;}#sk-container-id-10 div.sk-parallel-item:only-child::after {width: 0;}#sk-container-id-10 div.sk-dashed-wrapped {border: 1px dashed gray;margin: 0 0.4em 0.5em 0.4em;box-sizing: border-box;padding-bottom: 0.4em;background-color: white;}#sk-container-id-10 div.sk-label label {font-family: monospace;font-weight: bold;display: inline-block;line-height: 1.2em;}#sk-container-id-10 div.sk-label-container {text-align: center;}#sk-container-id-10 div.sk-container {/* jupyter's `normalize.less` sets `[hidden] { display: none; }` but bootstrap.min.css set `[hidden] { display: none !important; }` so we also need the `!important` here to be able to override the default hidden behavior on the sphinx rendered scikit-learn.org. See: https://github.com/scikit-learn/scikit-learn/issues/21755 */display: inline-block !important;position: relative;}#sk-container-id-10 div.sk-text-repr-fallback {display: none;}</style><div id=\"sk-container-id-10\" class=\"sk-top-container\"><div class=\"sk-text-repr-fallback\"><pre>LogisticRegression()</pre><b>In a Jupyter environment, please rerun this cell to show the HTML representation or trust the notebook. <br />On GitHub, the HTML representation is unable to render, please try loading this page with nbviewer.org.</b></div><div class=\"sk-container\" hidden><div class=\"sk-item\"><div class=\"sk-estimator sk-toggleable\"><input class=\"sk-toggleable__control sk-hidden--visually\" id=\"sk-estimator-id-10\" type=\"checkbox\" checked><label for=\"sk-estimator-id-10\" class=\"sk-toggleable__label sk-toggleable__label-arrow\">LogisticRegression</label><div class=\"sk-toggleable__content\"><pre>LogisticRegression()</pre></div></div></div></div></div>"
      ],
      "text/plain": [
       "LogisticRegression()"
      ]
     },
     "execution_count": 191,
     "metadata": {},
     "output_type": "execute_result"
    }
   ],
   "source": [
    "# Membuat dan melatih model Logistic Regression\n",
    "lr_model = LogisticRegression()\n",
    "lr_model.fit(X_train, y_train)"
   ]
  },
  {
   "cell_type": "code",
   "execution_count": 192,
   "metadata": {},
   "outputs": [],
   "source": [
    "# Prediksi dengan model yang telah dilatih\n",
    "y_pred = lr_model.predict(X_test)"
   ]
  },
  {
   "cell_type": "code",
   "execution_count": 194,
   "metadata": {},
   "outputs": [],
   "source": [
    "# Evaluasi performa model\n",
    "from sklearn.metrics import accuracy_score, precision_score, recall_score, f1_score\n",
    "\n",
    "accuracy = accuracy_score(y_test, y_pred)\n",
    "precision = precision_score(y_test, y_pred, pos_label=1)\n",
    "precision = precision_score(y_test, y_pred, pos_label=0)\n",
    "recall = recall_score(y_test, y_pred, pos_label=0)\n",
    "f1 = f1_score(y_test, y_pred, pos_label=0)"
   ]
  },
  {
   "cell_type": "code",
   "execution_count": 195,
   "metadata": {},
   "outputs": [
    {
     "name": "stdout",
     "output_type": "stream",
     "text": [
      "Accuracy: 0.9641758441794849\n",
      "Precision: 0.9676180021953897\n",
      "Recall: 0.9041025641025641\n",
      "F1-Score: 0.9347826086956522\n"
     ]
    }
   ],
   "source": [
    "print(\"Accuracy:\", accuracy)\n",
    "print(\"Precision:\", precision)\n",
    "print(\"Recall:\", recall)\n",
    "print(\"F1-Score:\", f1)"
   ]
  },
  {
   "cell_type": "code",
   "execution_count": 196,
   "metadata": {},
   "outputs": [
    {
     "data": {
      "text/plain": [
       "['model.model']"
      ]
     },
     "execution_count": 196,
     "metadata": {},
     "output_type": "execute_result"
    }
   ],
   "source": [
    "# Simpan vectorizer dan model ke dalam file terpisah\n",
    "pickle.dump(X_transformed, open('vectorizer.pickle','wb'))\n",
    "joblib.dump(lr_model, 'model.model')"
   ]
  },
  {
   "cell_type": "markdown",
   "metadata": {
    "id": "qH-qS0NCxqXM"
   },
   "source": [
    "## Try to predict"
   ]
  },
  {
   "cell_type": "code",
   "execution_count": 171,
   "metadata": {
    "colab": {
     "base_uri": "https://localhost:8080/"
    },
    "executionInfo": {
     "elapsed": 4592,
     "status": "ok",
     "timestamp": 1684889552785,
     "user": {
      "displayName": "HILYA ANBIYANI",
      "userId": "16755705413992361832"
     },
     "user_tz": -420
    },
    "id": "MFo8mGtCxtxj",
    "outputId": "e92ce1ae-ec89-4dd5-cd37-6a665d07b3ef"
   },
   "outputs": [],
   "source": [
    "# predict_bad = ['yeniik.com.tr/wp-admin/js/login.alibaba.com/login.jsp.php','fazan-pacir.rs/temp/libraries/ipad','tubemoviez.exe','svision-online.de/mgfi/administrator/components/com_babackup/classes/fx29id1.txt']\n",
    "# predict_good = ['youtube.com/','www.kaggle.com/code/ashishkumarbehera/phishing-site-prediction','retailhellunderground.com/','restorevisioncenters.com/html/technology.html']\n",
    "# loaded_model = joblib.load('model.model')\n",
    "\n",
    "# # Praproses teks\n",
    "# processed_bad = text_preprocessing_process(predict_bad[0])\n",
    "# processed_good = text_preprocessing_process(predict_good[0])\n",
    "\n",
    "\n",
    "# # Ubah teks menjadi vektor fitur\n",
    "# feature_vector_bad = vectorizer.transform([processed_bad])\n",
    "# feature_vector_good = vectorizer.transform([processed_good])\n",
    "\n",
    "# result = loaded_model.predict(feature_vector_bad)\n",
    "# result2 = loaded_model.predict(feature_vector_good)\n",
    "\n",
    "# print(result)\n",
    "# print(\"*\"*30)\n",
    "# print(result2)"
   ]
  },
  {
   "cell_type": "code",
   "execution_count": 217,
   "metadata": {},
   "outputs": [
    {
     "name": "stdout",
     "output_type": "stream",
     "text": [
      "Masukkan URL (atau tekan Enter untuk keluar): youtube.com\n"
     ]
    },
    {
     "ename": "TypeError",
     "evalue": "unhashable type: 'csr_matrix'",
     "output_type": "error",
     "traceback": [
      "\u001b[1;31m---------------------------------------------------------------------------\u001b[0m",
      "\u001b[1;31mTypeError\u001b[0m                                 Traceback (most recent call last)",
      "Cell \u001b[1;32mIn[217], line 22\u001b[0m\n\u001b[0;32m     19\u001b[0m extract \u001b[38;5;241m=\u001b[39m CountVectorizer(decode_error\u001b[38;5;241m=\u001b[39m\u001b[38;5;124m\"\u001b[39m\u001b[38;5;124mreplace\u001b[39m\u001b[38;5;124m\"\u001b[39m, vocabulary\u001b[38;5;241m=\u001b[39mvocabulary)\n\u001b[0;32m     21\u001b[0m \u001b[38;5;66;03m# Melakukan ekstraksi fitur\u001b[39;00m\n\u001b[1;32m---> 22\u001b[0m X_extracted \u001b[38;5;241m=\u001b[39m \u001b[43mextract\u001b[49m\u001b[38;5;241;43m.\u001b[39;49m\u001b[43mfit_transform\u001b[49m\u001b[43m(\u001b[49m\u001b[43m[\u001b[49m\u001b[43murl\u001b[49m\u001b[43m]\u001b[49m\u001b[43m)\u001b[49m\n\u001b[0;32m     24\u001b[0m \u001b[38;5;66;03m# Prediksi\u001b[39;00m\n\u001b[0;32m     25\u001b[0m result \u001b[38;5;241m=\u001b[39m lr_model\u001b[38;5;241m.\u001b[39mpredict(X_extracted)\n",
      "File \u001b[1;32m~\\anaconda3\\lib\\site-packages\\sklearn\\feature_extraction\\text.py:1371\u001b[0m, in \u001b[0;36mCountVectorizer.fit_transform\u001b[1;34m(self, raw_documents, y)\u001b[0m\n\u001b[0;32m   1369\u001b[0m \u001b[38;5;28mself\u001b[39m\u001b[38;5;241m.\u001b[39m_validate_ngram_range()\n\u001b[0;32m   1370\u001b[0m \u001b[38;5;28mself\u001b[39m\u001b[38;5;241m.\u001b[39m_warn_for_unused_params()\n\u001b[1;32m-> 1371\u001b[0m \u001b[38;5;28;43mself\u001b[39;49m\u001b[38;5;241;43m.\u001b[39;49m\u001b[43m_validate_vocabulary\u001b[49m\u001b[43m(\u001b[49m\u001b[43m)\u001b[49m\n\u001b[0;32m   1372\u001b[0m max_df \u001b[38;5;241m=\u001b[39m \u001b[38;5;28mself\u001b[39m\u001b[38;5;241m.\u001b[39mmax_df\n\u001b[0;32m   1373\u001b[0m min_df \u001b[38;5;241m=\u001b[39m \u001b[38;5;28mself\u001b[39m\u001b[38;5;241m.\u001b[39mmin_df\n",
      "File \u001b[1;32m~\\anaconda3\\lib\\site-packages\\sklearn\\feature_extraction\\text.py:483\u001b[0m, in \u001b[0;36m_VectorizerMixin._validate_vocabulary\u001b[1;34m(self)\u001b[0m\n\u001b[0;32m    481\u001b[0m vocab \u001b[38;5;241m=\u001b[39m {}\n\u001b[0;32m    482\u001b[0m \u001b[38;5;28;01mfor\u001b[39;00m i, t \u001b[38;5;129;01min\u001b[39;00m \u001b[38;5;28menumerate\u001b[39m(vocabulary):\n\u001b[1;32m--> 483\u001b[0m     \u001b[38;5;28;01mif\u001b[39;00m \u001b[43mvocab\u001b[49m\u001b[38;5;241;43m.\u001b[39;49m\u001b[43msetdefault\u001b[49m\u001b[43m(\u001b[49m\u001b[43mt\u001b[49m\u001b[43m,\u001b[49m\u001b[43m \u001b[49m\u001b[43mi\u001b[49m\u001b[43m)\u001b[49m \u001b[38;5;241m!=\u001b[39m i:\n\u001b[0;32m    484\u001b[0m         msg \u001b[38;5;241m=\u001b[39m \u001b[38;5;124m\"\u001b[39m\u001b[38;5;124mDuplicate term in vocabulary: \u001b[39m\u001b[38;5;132;01m%r\u001b[39;00m\u001b[38;5;124m\"\u001b[39m \u001b[38;5;241m%\u001b[39m t\n\u001b[0;32m    485\u001b[0m         \u001b[38;5;28;01mraise\u001b[39;00m \u001b[38;5;167;01mValueError\u001b[39;00m(msg)\n",
      "\u001b[1;31mTypeError\u001b[0m: unhashable type: 'csr_matrix'"
     ]
    }
   ],
   "source": [
    "from joblib import load\n",
    "loaded_model = load('model.model')\n",
    "\n",
    "predict_bad = []\n",
    "predict_good = []\n",
    "\n",
    "while True:\n",
    "    url = input(\"Masukkan URL (atau tekan Enter untuk keluar): \")\n",
    "    if not url:\n",
    "        break\n",
    "        \n",
    "    import pickle\n",
    "\n",
    "    # Membaca file pickle\n",
    "    with open('vectorizer.pickle', 'rb') as file:\n",
    "        vocabulary = pickle.load(file)\n",
    "\n",
    "    #  Ekstraksi fitur dan menginisialisasi CountVectorizer dengan vocabulary yang benar\n",
    "    extract = CountVectorizer(decode_error=\"replace\", vocabulary=vocabulary)\n",
    "\n",
    "    # Melakukan ekstraksi fitur\n",
    "    X_extracted = extract.fit_transform([url])\n",
    "\n",
    "    # Prediksi\n",
    "    result = lr_model.predict(X_extracted)\n",
    "    \n",
    "#     text_input = text_preprocessing_process(url)\n",
    "    \n",
    "#     # Ekstraksi fitur\n",
    "#     extract = CountVectorizer(decode_error=\"replace\", vocabulary='vectorizer.pickle')\n",
    "\n",
    "#     # Prediksi \n",
    "    \n",
    "#     result = lr_model.predict(extract.fit_transform([text_input]))\n",
    "    \n",
    "    # result = loaded_model.predict([url])\n",
    "    print(result)"
   ]
  },
  {
   "cell_type": "code",
   "execution_count": null,
   "metadata": {},
   "outputs": [],
   "source": []
  }
 ],
 "metadata": {
  "colab": {
   "authorship_tag": "ABX9TyNj5dz1UzEdNLJ/mKn/plIG",
   "provenance": []
  },
  "kernelspec": {
   "display_name": "proyek-akhir",
   "language": "python",
   "name": "proyek-akhir"
  },
  "language_info": {
   "codemirror_mode": {
    "name": "ipython",
    "version": 3
   },
   "file_extension": ".py",
   "mimetype": "text/x-python",
   "name": "python",
   "nbconvert_exporter": "python",
   "pygments_lexer": "ipython3",
   "version": "3.10.9"
  }
 },
 "nbformat": 4,
 "nbformat_minor": 1
}
