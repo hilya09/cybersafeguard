{
 "cells": [
  {
   "cell_type": "markdown",
   "metadata": {
    "id": "6jVEEd-uBkHB"
   },
   "source": [
    "# Phishing URL Detection\n"
   ]
  },
  {
   "cell_type": "markdown",
   "metadata": {
    "id": "nJpRU_5ODlwl"
   },
   "source": [
    "## Modules dan Packages"
   ]
  },
  {
   "cell_type": "code",
   "execution_count": null,
   "metadata": {
    "executionInfo": {
     "elapsed": 3980,
     "status": "ok",
     "timestamp": 1684887930291,
     "user": {
      "displayName": "HILYA ANBIYANI",
      "userId": "16755705413992361832"
     },
     "user_tz": -420
    },
    "id": "0jGNm_cAByPR",
    "scrolled": true
   },
   "outputs": [],
   "source": [
    "import pandas as pd\n",
    "import numpy as np\n",
    "import matplotlib.pyplot as plt\n",
    "import seaborn as sns  \n",
    "import time \n",
    "\n",
    "from sklearn.metrics import classification_report\n",
    "from sklearn.metrics import confusion_matrix\n",
    "from nltk.stem.snowball import SnowballStemmer\n",
    "\n",
    "from PIL import Image\n",
    "import joblib\n",
    "import pickle"
   ]
  },
  {
   "cell_type": "code",
   "execution_count": null,
   "metadata": {
    "executionInfo": {
     "elapsed": 1434,
     "status": "ok",
     "timestamp": 1684889694524,
     "user": {
      "displayName": "HILYA ANBIYANI",
      "userId": "16755705413992361832"
     },
     "user_tz": -420
    },
    "id": "UP3hukhJDM2B"
   },
   "outputs": [],
   "source": [
    "data = pd.read_csv(\"phishing_site_urls.csv\")"
   ]
  },
  {
   "cell_type": "markdown",
   "metadata": {
    "id": "NIdQC_OODcXH"
   },
   "source": [
    "## Exploratory Data Analysis (EDA)"
   ]
  },
  {
   "cell_type": "code",
   "execution_count": null,
   "metadata": {
    "colab": {
     "base_uri": "https://localhost:8080/",
     "height": 206
    },
    "executionInfo": {
     "elapsed": 478,
     "status": "ok",
     "timestamp": 1684889696636,
     "user": {
      "displayName": "HILYA ANBIYANI",
      "userId": "16755705413992361832"
     },
     "user_tz": -420
    },
    "id": "kOWeGxOTDqyD",
    "outputId": "6c6b05e0-a93d-4bfb-ea5f-4d91c1244568"
   },
   "outputs": [],
   "source": [
    "data.head()"
   ]
  },
  {
   "cell_type": "code",
   "execution_count": null,
   "metadata": {
    "colab": {
     "base_uri": "https://localhost:8080/"
    },
    "executionInfo": {
     "elapsed": 28,
     "status": "ok",
     "timestamp": 1684887946618,
     "user": {
      "displayName": "HILYA ANBIYANI",
      "userId": "16755705413992361832"
     },
     "user_tz": -420
    },
    "id": "GGcpWoXt-Egl",
    "outputId": "39d87939-1028-4cf9-fdee-c15a6f83e437"
   },
   "outputs": [],
   "source": [
    "data.shape"
   ]
  },
  {
   "cell_type": "code",
   "execution_count": null,
   "metadata": {
    "colab": {
     "base_uri": "https://localhost:8080/"
    },
    "executionInfo": {
     "elapsed": 657,
     "status": "ok",
     "timestamp": 1684887947251,
     "user": {
      "displayName": "HILYA ANBIYANI",
      "userId": "16755705413992361832"
     },
     "user_tz": -420
    },
    "id": "oWlpuzPXDydm",
    "outputId": "b8c49d8c-3bec-45c8-d5de-f1d0e5cdf331"
   },
   "outputs": [],
   "source": [
    "data.isnull().sum()"
   ]
  },
  {
   "cell_type": "code",
   "execution_count": null,
   "metadata": {
    "colab": {
     "base_uri": "https://localhost:8080/"
    },
    "executionInfo": {
     "elapsed": 21,
     "status": "ok",
     "timestamp": 1684887947252,
     "user": {
      "displayName": "HILYA ANBIYANI",
      "userId": "16755705413992361832"
     },
     "user_tz": -420
    },
    "id": "uLO9WrsM96Ni",
    "outputId": "9b6827ec-5f4c-4ad5-f1c5-adb9b3459fac"
   },
   "outputs": [],
   "source": [
    "data.info()"
   ]
  },
  {
   "cell_type": "code",
   "execution_count": null,
   "metadata": {
    "executionInfo": {
     "elapsed": 16,
     "status": "ok",
     "timestamp": 1684887947253,
     "user": {
      "displayName": "HILYA ANBIYANI",
      "userId": "16755705413992361832"
     },
     "user_tz": -420
    },
    "id": "VwBZ37R_POPz"
   },
   "outputs": [],
   "source": [
    "def polaritas(teks):\n",
    "  if teks =='good':\n",
    "    return 1\n",
    "  elif teks =='bad':\n",
    "    return 0"
   ]
  },
  {
   "cell_type": "code",
   "execution_count": null,
   "metadata": {
    "executionInfo": {
     "elapsed": 832,
     "status": "ok",
     "timestamp": 1684887948071,
     "user": {
      "displayName": "HILYA ANBIYANI",
      "userId": "16755705413992361832"
     },
     "user_tz": -420
    },
    "id": "Z5tNg9_cPWPL"
   },
   "outputs": [],
   "source": [
    "data['label_enc'] = data['Label'].apply(polaritas)"
   ]
  },
  {
   "cell_type": "code",
   "execution_count": null,
   "metadata": {
    "colab": {
     "base_uri": "https://localhost:8080/"
    },
    "executionInfo": {
     "elapsed": 12,
     "status": "ok",
     "timestamp": 1684887948071,
     "user": {
      "displayName": "HILYA ANBIYANI",
      "userId": "16755705413992361832"
     },
     "user_tz": -420
    },
    "id": "dYb6QduWDykN",
    "outputId": "bebf57dd-a1cd-461d-ec60-ca3139762446"
   },
   "outputs": [],
   "source": [
    "print('Total Jumlah url:', data.shape[0], 'data\\n')\n",
    "print('terdiri dari (label):')\n",
    "print('-- [1] Good\\t\\t:', data[data.label_enc == -1].shape[0], 'data')\n",
    "print('-- [0] Bad\\t\\t:', data[data.label_enc == 1].shape[0], 'data\\n')"
   ]
  },
  {
   "cell_type": "code",
   "execution_count": null,
   "metadata": {
    "colab": {
     "base_uri": "https://localhost:8080/",
     "height": 466
    },
    "executionInfo": {
     "elapsed": 1195,
     "status": "ok",
     "timestamp": 1684887949258,
     "user": {
      "displayName": "HILYA ANBIYANI",
      "userId": "16755705413992361832"
     },
     "user_tz": -420
    },
    "id": "HhdNz0-Q-VHR",
    "outputId": "df6efee6-6043-43a2-c5a2-1547398b7078"
   },
   "outputs": [],
   "source": [
    "sns.countplot(x='Label',data=data)"
   ]
  },
  {
   "cell_type": "markdown",
   "metadata": {
    "id": "jeAwJocC_U-1"
   },
   "source": [
    "## Tokenisasi"
   ]
  },
  {
   "cell_type": "code",
   "execution_count": null,
   "metadata": {
    "executionInfo": {
     "elapsed": 16,
     "status": "ok",
     "timestamp": 1684887949624,
     "user": {
      "displayName": "HILYA ANBIYANI",
      "userId": "16755705413992361832"
     },
     "user_tz": -420
    },
    "id": "N9V3zK44-di_"
   },
   "outputs": [],
   "source": [
    "from nltk.tokenize import RegexpTokenizer  \n",
    "tokenizer = RegexpTokenizer(r'[A-Za-z]+')"
   ]
  },
  {
   "cell_type": "code",
   "execution_count": null,
   "metadata": {
    "colab": {
     "base_uri": "https://localhost:8080/"
    },
    "executionInfo": {
     "elapsed": 15,
     "status": "ok",
     "timestamp": 1684887949624,
     "user": {
      "displayName": "HILYA ANBIYANI",
      "userId": "16755705413992361832"
     },
     "user_tz": -420
    },
    "id": "yI4ihRNb-v3N",
    "outputId": "be44adf1-2dc6-4c27-ec9a-9fa784ff1ff3"
   },
   "outputs": [],
   "source": [
    "tokenizer.tokenize(data.URL[0]) # melakukan tokenisasi pada URL pertama di dataset"
   ]
  },
  {
   "cell_type": "code",
   "execution_count": null,
   "metadata": {
    "colab": {
     "base_uri": "https://localhost:8080/"
    },
    "executionInfo": {
     "elapsed": 7420,
     "status": "ok",
     "timestamp": 1684887957031,
     "user": {
      "displayName": "HILYA ANBIYANI",
      "userId": "16755705413992361832"
     },
     "user_tz": -420
    },
    "id": "3zfw_lOn_EBO",
    "outputId": "653d5c61-baea-4075-ac79-9a7b5e63ab10"
   },
   "outputs": [],
   "source": [
    "# Tokenizing all the rows \n",
    "print('Getting words tokenized ...')\n",
    "t0= time.perf_counter()\n",
    "data['text_tokenized'] = data.URL.map(lambda t: tokenizer.tokenize(t))\n",
    "t1 = time.perf_counter() - t0\n",
    "print('Time taken',t1 ,'sec')"
   ]
  },
  {
   "cell_type": "code",
   "execution_count": null,
   "metadata": {
    "colab": {
     "base_uri": "https://localhost:8080/",
     "height": 206
    },
    "executionInfo": {
     "elapsed": 99,
     "status": "ok",
     "timestamp": 1684887957035,
     "user": {
      "displayName": "HILYA ANBIYANI",
      "userId": "16755705413992361832"
     },
     "user_tz": -420
    },
    "id": "hXPu0aR2_HxV",
    "outputId": "5f4e3739-d2b3-46d0-b1b3-7f3d561987a4"
   },
   "outputs": [],
   "source": [
    "data.sample(5)"
   ]
  },
  {
   "cell_type": "markdown",
   "metadata": {
    "id": "89YUQfg7_X4f"
   },
   "source": [
    "## Stemming"
   ]
  },
  {
   "cell_type": "code",
   "execution_count": null,
   "metadata": {
    "executionInfo": {
     "elapsed": 96,
     "status": "ok",
     "timestamp": 1684887957036,
     "user": {
      "displayName": "HILYA ANBIYANI",
      "userId": "16755705413992361832"
     },
     "user_tz": -420
    },
    "id": "VP00kzfX_cF4"
   },
   "outputs": [],
   "source": [
    "stemmer = SnowballStemmer(\"english\") # choose a language"
   ]
  },
  {
   "cell_type": "code",
   "execution_count": null,
   "metadata": {
    "colab": {
     "base_uri": "https://localhost:8080/"
    },
    "executionInfo": {
     "elapsed": 55189,
     "status": "ok",
     "timestamp": 1684888012131,
     "user": {
      "displayName": "HILYA ANBIYANI",
      "userId": "16755705413992361832"
     },
     "user_tz": -420
    },
    "id": "4Cfnw1QQ_fJf",
    "outputId": "39488a7a-2741-4583-d2a7-4fbae1a8081d"
   },
   "outputs": [],
   "source": [
    "# Getting all the stemmed words\n",
    "print('Getting words stemmed ...')\n",
    "t0= time.perf_counter()\n",
    "data['text_stemmed'] = data['text_tokenized'].map(lambda l: [stemmer.stem(word) for word in l])\n",
    "t1= time.perf_counter() - t0\n",
    "print('Time taken',t1 ,'sec')"
   ]
  },
  {
   "cell_type": "code",
   "execution_count": null,
   "metadata": {
    "colab": {
     "base_uri": "https://localhost:8080/",
     "height": 206
    },
    "executionInfo": {
     "elapsed": 55,
     "status": "ok",
     "timestamp": 1684888012132,
     "user": {
      "displayName": "HILYA ANBIYANI",
      "userId": "16755705413992361832"
     },
     "user_tz": -420
    },
    "id": "KW0szr17_hNZ",
    "outputId": "b469f65a-0f1e-46d2-ff09-4b1bb5fa117a"
   },
   "outputs": [],
   "source": [
    "data.sample(5)"
   ]
  },
  {
   "cell_type": "code",
   "execution_count": null,
   "metadata": {
    "colab": {
     "base_uri": "https://localhost:8080/"
    },
    "executionInfo": {
     "elapsed": 500,
     "status": "ok",
     "timestamp": 1684888012580,
     "user": {
      "displayName": "HILYA ANBIYANI",
      "userId": "16755705413992361832"
     },
     "user_tz": -420
    },
    "id": "1pW1QKTA_mJr",
    "outputId": "1c5351b5-540f-4e6d-b4ca-942380f403ba"
   },
   "outputs": [],
   "source": [
    "# Joining all the stemmmed words.\n",
    "print('Get joiningwords ...')\n",
    "t0= time.perf_counter()\n",
    "data['text_sent'] = data['text_stemmed'].map(lambda l: ' '.join(l))\n",
    "t1= time.perf_counter() - t0\n",
    "print('Time taken',t1 ,'sec')"
   ]
  },
  {
   "cell_type": "code",
   "execution_count": null,
   "metadata": {
    "executionInfo": {
     "elapsed": 10,
     "status": "ok",
     "timestamp": 1684888012581,
     "user": {
      "displayName": "HILYA ANBIYANI",
      "userId": "16755705413992361832"
     },
     "user_tz": -420
    },
    "id": "62RLgp_2_o5C"
   },
   "outputs": [],
   "source": [
    "bad_sites = data[data.Label == 'bad']\n",
    "good_sites = data[data.Label == 'good']"
   ]
  },
  {
   "cell_type": "code",
   "execution_count": null,
   "metadata": {
    "colab": {
     "base_uri": "https://localhost:8080/",
     "height": 302
    },
    "executionInfo": {
     "elapsed": 468,
     "status": "ok",
     "timestamp": 1684888013040,
     "user": {
      "displayName": "HILYA ANBIYANI",
      "userId": "16755705413992361832"
     },
     "user_tz": -420
    },
    "id": "RYIccpKU_ql7",
    "outputId": "a373a424-2ce1-4381-af62-bd02975e032e"
   },
   "outputs": [],
   "source": [
    "bad_sites.head()"
   ]
  },
  {
   "cell_type": "code",
   "execution_count": null,
   "metadata": {
    "colab": {
     "base_uri": "https://localhost:8080/",
     "height": 319
    },
    "executionInfo": {
     "elapsed": 42,
     "status": "ok",
     "timestamp": 1684888013041,
     "user": {
      "displayName": "HILYA ANBIYANI",
      "userId": "16755705413992361832"
     },
     "user_tz": -420
    },
    "id": "WHNIpynk_tqL",
    "outputId": "4a2b5fd8-d570-402b-fa4e-5fcf140d8d91"
   },
   "outputs": [],
   "source": [
    "good_sites.head()"
   ]
  },
  {
   "cell_type": "code",
   "execution_count": null,
   "metadata": {
    "colab": {
     "base_uri": "https://localhost:8080/",
     "height": 302
    },
    "executionInfo": {
     "elapsed": 41,
     "status": "ok",
     "timestamp": 1684888013042,
     "user": {
      "displayName": "HILYA ANBIYANI",
      "userId": "16755705413992361832"
     },
     "user_tz": -420
    },
    "id": "pOG176df_wVT",
    "outputId": "e26906ed-b260-4f2f-a28e-c72216a557a6"
   },
   "outputs": [],
   "source": [
    "data.head()"
   ]
  },
  {
   "cell_type": "markdown",
   "metadata": {
    "id": "sEi2tH-mvTI8"
   },
   "source": [
    "## Ekstraksi fitur menjadi sebuah matrix"
   ]
  },
  {
   "cell_type": "code",
   "execution_count": null,
   "metadata": {
    "executionInfo": {
     "elapsed": 40,
     "status": "ok",
     "timestamp": 1684888013043,
     "user": {
      "displayName": "HILYA ANBIYANI",
      "userId": "16755705413992361832"
     },
     "user_tz": -420
    },
    "id": "mB_BEm2Ovcbn"
   },
   "outputs": [],
   "source": [
    "from sklearn.feature_extraction.text import CountVectorizer  \n",
    "cv = CountVectorizer()"
   ]
  },
  {
   "cell_type": "code",
   "execution_count": null,
   "metadata": {
    "executionInfo": {
     "elapsed": 7088,
     "status": "ok",
     "timestamp": 1684888020092,
     "user": {
      "displayName": "HILYA ANBIYANI",
      "userId": "16755705413992361832"
     },
     "user_tz": -420
    },
    "id": "eV4YsMVSvfP2"
   },
   "outputs": [],
   "source": [
    "feature = cv.fit_transform(data.text_sent) #transform all text which we tokenize and stemed"
   ]
  },
  {
   "cell_type": "code",
   "execution_count": null,
   "metadata": {
    "colab": {
     "base_uri": "https://localhost:8080/"
    },
    "executionInfo": {
     "elapsed": 20,
     "status": "ok",
     "timestamp": 1684888020093,
     "user": {
      "displayName": "HILYA ANBIYANI",
      "userId": "16755705413992361832"
     },
     "user_tz": -420
    },
    "id": "x4PsUqA8vg1U",
    "outputId": "9be919b6-239e-4bbc-b687-df53f3efecd6"
   },
   "outputs": [],
   "source": [
    "feature[:5].toarray() # convert sparse matrix into array to print transformed features"
   ]
  },
  {
   "cell_type": "code",
   "execution_count": null,
   "metadata": {},
   "outputs": [],
   "source": [
    "with open('feature.pickle', 'wb') as output:\n",
    "  pickle.dump(feature, output)"
   ]
  },
  {
   "cell_type": "code",
   "execution_count": null,
   "metadata": {
    "executionInfo": {
     "elapsed": 17,
     "status": "ok",
     "timestamp": 1684888020093,
     "user": {
      "displayName": "HILYA ANBIYANI",
      "userId": "16755705413992361832"
     },
     "user_tz": -420
    },
    "id": "Ex9lShTJvuEL"
   },
   "outputs": [],
   "source": [
    "from sklearn.model_selection import train_test_split\n",
    "trainX, testX, trainY, testY = train_test_split(feature, data.label_enc)"
   ]
  },
  {
   "cell_type": "markdown",
   "metadata": {
    "id": "Vf8tcNG7v3XH"
   },
   "source": [
    "## Logistic Regression"
   ]
  },
  {
   "cell_type": "code",
   "execution_count": null,
   "metadata": {
    "colab": {
     "base_uri": "https://localhost:8080/",
     "height": 213
    },
    "executionInfo": {
     "elapsed": 18832,
     "status": "ok",
     "timestamp": 1684888038909,
     "user": {
      "displayName": "HILYA ANBIYANI",
      "userId": "16755705413992361832"
     },
     "user_tz": -420
    },
    "id": "NvhZMhpDv6WP",
    "outputId": "779e04e9-5f11-4d65-b507-48123ce4447d"
   },
   "outputs": [],
   "source": [
    "from sklearn.linear_model import LogisticRegression\n",
    "\n",
    "# Create LR object\n",
    "lr = LogisticRegression()\n",
    "\n",
    "# Train algoritma\n",
    "lr.fit(trainX,trainY)"
   ]
  },
  {
   "cell_type": "code",
   "execution_count": null,
   "metadata": {
    "colab": {
     "base_uri": "https://localhost:8080/"
    },
    "executionInfo": {
     "elapsed": 37,
     "status": "ok",
     "timestamp": 1684888038910,
     "user": {
      "displayName": "HILYA ANBIYANI",
      "userId": "16755705413992361832"
     },
     "user_tz": -420
    },
    "id": "tlrK3kQ2wAUq",
    "outputId": "10723d76-8859-4064-e4e9-4472904ba2b5"
   },
   "outputs": [],
   "source": [
    "lr.score(testX,testY)"
   ]
  },
  {
   "cell_type": "code",
   "execution_count": null,
   "metadata": {
    "executionInfo": {
     "elapsed": 33,
     "status": "ok",
     "timestamp": 1684888038912,
     "user": {
      "displayName": "HILYA ANBIYANI",
      "userId": "16755705413992361832"
     },
     "user_tz": -420
    },
    "id": "qo9Mm7tywEbh"
   },
   "outputs": [],
   "source": [
    "Scores_ml = {}\n",
    "Scores_ml['Logistic Regression'] = np.round(lr.score(testX,testY),2)"
   ]
  },
  {
   "cell_type": "code",
   "execution_count": null,
   "metadata": {
    "colab": {
     "base_uri": "https://localhost:8080/",
     "height": 663
    },
    "executionInfo": {
     "elapsed": 896,
     "status": "ok",
     "timestamp": 1684888039775,
     "user": {
      "displayName": "HILYA ANBIYANI",
      "userId": "16755705413992361832"
     },
     "user_tz": -420
    },
    "id": "CsXpgNq-wIPn",
    "outputId": "b4f94399-c2a2-4ced-a2a3-25b6b9d2727a"
   },
   "outputs": [],
   "source": [
    "# creating confusing matrix\n",
    "print('Training Accuracy :',lr.score(trainX,trainY))\n",
    "print('Testing Accuracy :',lr.score(testX,testY))\n",
    "con_mat = pd.DataFrame(confusion_matrix(lr.predict(testX), testY),\n",
    "            columns = ['Predicted:Bad', 'Predicted:Good'],\n",
    "            index = ['Actual:Bad', 'Actual:Good'])\n",
    "\n",
    "\n",
    "print('\\nCLASSIFICATION REPORT\\n')\n",
    "print(classification_report(lr.predict(testX), testY,\n",
    "                            target_names =['Bad','Good']))\n",
    "\n",
    "print('\\nCONFUSION MATRIX')\n",
    "plt.figure(figsize= (6,4))\n",
    "sns.heatmap(con_mat, annot = True,fmt='d',cmap=\"YlGnBu\")"
   ]
  },
  {
   "cell_type": "markdown",
   "metadata": {
    "id": "SvK3eM2557r1"
   },
   "source": [
    "## Multinomial NB\n"
   ]
  },
  {
   "cell_type": "code",
   "execution_count": null,
   "metadata": {
    "colab": {
     "base_uri": "https://localhost:8080/",
     "height": 74
    },
    "executionInfo": {
     "elapsed": 35,
     "status": "ok",
     "timestamp": 1684888039777,
     "user": {
      "displayName": "HILYA ANBIYANI",
      "userId": "16755705413992361832"
     },
     "user_tz": -420
    },
    "id": "U5ldL5z7wL0q",
    "outputId": "ab6868b7-aba5-43fb-bc35-ff00745a5d53"
   },
   "outputs": [],
   "source": [
    "from sklearn.naive_bayes import MultinomialNB \n",
    "\n",
    "# Create mnb object\n",
    "mnb = MultinomialNB()\n",
    "\n",
    "# Fit/Latih algoritma model mnb\n",
    "mnb.fit(trainX,trainY)"
   ]
  },
  {
   "cell_type": "code",
   "execution_count": null,
   "metadata": {
    "colab": {
     "base_uri": "https://localhost:8080/"
    },
    "executionInfo": {
     "elapsed": 32,
     "status": "ok",
     "timestamp": 1684888039777,
     "user": {
      "displayName": "HILYA ANBIYANI",
      "userId": "16755705413992361832"
     },
     "user_tz": -420
    },
    "id": "hNC66pYRwcXS",
    "outputId": "4a2ac6f0-de6b-4e36-e57e-81e1f2e183a8"
   },
   "outputs": [],
   "source": [
    "mnb.score(testX,testY)"
   ]
  },
  {
   "cell_type": "code",
   "execution_count": null,
   "metadata": {
    "executionInfo": {
     "elapsed": 29,
     "status": "ok",
     "timestamp": 1684888039778,
     "user": {
      "displayName": "HILYA ANBIYANI",
      "userId": "16755705413992361832"
     },
     "user_tz": -420
    },
    "id": "c6_0VBvvwoUq"
   },
   "outputs": [],
   "source": [
    "Scores_ml['MultinomialNB'] = np.round(mnb.score(testX,testY),2)"
   ]
  },
  {
   "cell_type": "code",
   "execution_count": null,
   "metadata": {
    "colab": {
     "base_uri": "https://localhost:8080/",
     "height": 663
    },
    "executionInfo": {
     "elapsed": 19,
     "status": "ok",
     "timestamp": 1684888040146,
     "user": {
      "displayName": "HILYA ANBIYANI",
      "userId": "16755705413992361832"
     },
     "user_tz": -420
    },
    "id": "V6sfJbTOwqnF",
    "outputId": "95893b00-0bd5-4f9f-a0d8-e57d192ef70e"
   },
   "outputs": [],
   "source": [
    "print('Training Accuracy :',mnb.score(trainX,trainY))\n",
    "print('Testing Accuracy :',mnb.score(testX,testY))\n",
    "con_mat = pd.DataFrame(confusion_matrix(mnb.predict(testX), testY),\n",
    "            columns = ['Predicted:Bad', 'Predicted:Good'],\n",
    "            index = ['Actual:Bad', 'Actual:Good'])\n",
    "\n",
    "\n",
    "print('\\nCLASSIFICATION REPORT\\n')\n",
    "print(classification_report(mnb.predict(testX), testY,\n",
    "                            target_names =['Bad','Good']))\n",
    "\n",
    "print('\\nCONFUSION MATRIX')\n",
    "plt.figure(figsize= (6,4))\n",
    "sns.heatmap(con_mat, annot = True,fmt='d',cmap=\"YlGnBu\")"
   ]
  },
  {
   "cell_type": "markdown",
   "metadata": {
    "id": "r_9fTtQFw0nV"
   },
   "source": [
    "### Logistic Regression is the best fit model, Now we make sklearn pipeline using Logistic Regression"
   ]
  },
  {
   "cell_type": "code",
   "execution_count": null,
   "metadata": {
    "executionInfo": {
     "elapsed": 12,
     "status": "ok",
     "timestamp": 1684888040567,
     "user": {
      "displayName": "HILYA ANBIYANI",
      "userId": "16755705413992361832"
     },
     "user_tz": -420
    },
    "id": "WgU5450twzze"
   },
   "outputs": [],
   "source": [
    "# from sklearn.pipeline import make_pipeline\n",
    "pipeline_ls = make_pipeline(CountVectorizer(tokenizer = RegexpTokenizer(r'[A-Za-z]+').tokenize,stop_words='english'), LogisticRegression())"
   ]
  },
  {
   "cell_type": "code",
   "execution_count": null,
   "metadata": {
    "executionInfo": {
     "elapsed": 12,
     "status": "ok",
     "timestamp": 1684888040568,
     "user": {
      "displayName": "HILYA ANBIYANI",
      "userId": "16755705413992361832"
     },
     "user_tz": -420
    },
    "id": "I2GXjk3MxYY4"
   },
   "outputs": [],
   "source": [
    "trainX, testX, trainY, testY = train_test_split(data.URL, data.Label)"
   ]
  },
  {
   "cell_type": "code",
   "execution_count": null,
   "metadata": {
    "colab": {
     "base_uri": "https://localhost:8080/",
     "height": 299
    },
    "executionInfo": {
     "elapsed": 25982,
     "status": "ok",
     "timestamp": 1684888066538,
     "user": {
      "displayName": "HILYA ANBIYANI",
      "userId": "16755705413992361832"
     },
     "user_tz": -420
    },
    "id": "w0UNmAKLxZ9C",
    "outputId": "6e920ab9-9b29-4d0d-d4d9-4826cfc90896"
   },
   "outputs": [],
   "source": [
    "pipeline_ls.fit(trainX,trainY)"
   ]
  },
  {
   "cell_type": "code",
   "execution_count": null,
   "metadata": {
    "colab": {
     "base_uri": "https://localhost:8080/"
    },
    "executionInfo": {
     "elapsed": 2864,
     "status": "ok",
     "timestamp": 1684888069353,
     "user": {
      "displayName": "HILYA ANBIYANI",
      "userId": "16755705413992361832"
     },
     "user_tz": -420
    },
    "id": "nan_6tdfxbx5",
    "outputId": "58e9f7be-42b2-4db3-d889-29b477a68e1b"
   },
   "outputs": [],
   "source": [
    "pipeline_ls.score(testX,testY)"
   ]
  },
  {
   "cell_type": "code",
   "execution_count": null,
   "metadata": {
    "colab": {
     "base_uri": "https://localhost:8080/",
     "height": 663
    },
    "executionInfo": {
     "elapsed": 20788,
     "status": "ok",
     "timestamp": 1684888090132,
     "user": {
      "displayName": "HILYA ANBIYANI",
      "userId": "16755705413992361832"
     },
     "user_tz": -420
    },
    "id": "O7APSI87xeIJ",
    "outputId": "357b70e8-31af-4aea-f5f6-a18c6c103a86",
    "scrolled": true
   },
   "outputs": [],
   "source": [
    "print('Training Accuracy :',pipeline_ls.score(trainX,trainY))\n",
    "print('Testing Accuracy :',pipeline_ls.score(testX,testY))\n",
    "con_mat = pd.DataFrame(confusion_matrix(pipeline_ls.predict(testX), testY),\n",
    "            columns = ['Predicted:Bad', 'Predicted:Good'],\n",
    "            index = ['Actual:Bad', 'Actual:Good'])\n",
    "\n",
    "\n",
    "print('\\nCLASSIFICATION REPORT\\n')\n",
    "print(classification_report(pipeline_ls.predict(testX), testY,\n",
    "                            target_names =['Bad','Good']))\n",
    "\n",
    "print('\\nCONFUSION MATRIX')\n",
    "plt.figure(figsize= (6,4))\n",
    "sns.heatmap(con_mat, annot = True,fmt='d',cmap=\"YlGnBu\")"
   ]
  },
  {
   "cell_type": "code",
   "execution_count": null,
   "metadata": {
    "colab": {
     "base_uri": "https://localhost:8080/"
    },
    "executionInfo": {
     "elapsed": 2003,
     "status": "ok",
     "timestamp": 1684888092089,
     "user": {
      "displayName": "HILYA ANBIYANI",
      "userId": "16755705413992361832"
     },
     "user_tz": -420
    },
    "id": "Hb2p9U0mxgvC",
    "outputId": "676a1c8c-5528-4e2d-a55e-11b6fdb77131"
   },
   "outputs": [],
   "source": [
    "joblib.dump((pipeline_ls), \"model_phishing_lr.model\")"
   ]
  },
  {
   "cell_type": "code",
   "execution_count": null,
   "metadata": {
    "colab": {
     "base_uri": "https://localhost:8080/"
    },
    "executionInfo": {
     "elapsed": 11469,
     "status": "ok",
     "timestamp": 1684889544507,
     "user": {
      "displayName": "HILYA ANBIYANI",
      "userId": "16755705413992361832"
     },
     "user_tz": -420
    },
    "id": "oQC3o7Fxximz",
    "outputId": "517ba6b5-0c2f-43f1-cf4a-99dac536041e"
   },
   "outputs": [],
   "source": [
    "# from joblib import load\n",
    "loaded_model = load('model_phishing_lr.model')\n",
    "result = loaded_model.score(testX,testY)\n",
    "print(result)"
   ]
  },
  {
   "cell_type": "code",
   "execution_count": null,
   "metadata": {},
   "outputs": [],
   "source": [
    "# Simpan vectorizer dan model ke dalam file terpisah\n",
    "pickle.dump(X_transformed, open('vectorizer.pickle','wb'))\n",
    "joblib.dump(lr_model, 'model_phishing_lr.model')"
   ]
  },
  {
   "cell_type": "markdown",
   "metadata": {
    "id": "qH-qS0NCxqXM"
   },
   "source": [
    "## Try to predict"
   ]
  },
  {
   "cell_type": "code",
   "execution_count": null,
   "metadata": {
    "colab": {
     "base_uri": "https://localhost:8080/"
    },
    "executionInfo": {
     "elapsed": 4592,
     "status": "ok",
     "timestamp": 1684889552785,
     "user": {
      "displayName": "HILYA ANBIYANI",
      "userId": "16755705413992361832"
     },
     "user_tz": -420
    },
    "id": "MFo8mGtCxtxj",
    "outputId": "e92ce1ae-ec89-4dd5-cd37-6a665d07b3ef"
   },
   "outputs": [],
   "source": [
    "predict_bad = ['yeniik.com.tr/wp-admin/js/login.alibaba.com/login.jsp.php','fazan-pacir.rs/temp/libraries/ipad','tubemoviez.exe','svision-online.de/mgfi/administrator/components/com_babackup/classes/fx29id1.txt']\n",
    "predict_good = ['youtube.com/','www.kaggle.com/code/ashishkumarbehera/phishing-site-prediction','retailhellunderground.com/','restorevisioncenters.com/html/technology.html']\n",
    "loaded_model = joblib.load('model_phishing_lr.model')\n",
    "\n",
    "# # Praproses teks\n",
    "# processed_bad = text_preprocessing_process(predict_bad[0])\n",
    "# processed_good = text_preprocessing_process(predict_good[0])\n",
    "\n",
    "\n",
    "# # Ubah teks menjadi vektor fitur\n",
    "# feature_vector_bad = vectorizer.transform([processed_bad])\n",
    "# feature_vector_good = vectorizer.transform([processed_good])\n",
    "\n",
    "result = loaded_model.predict(feature_vector_bad)\n",
    "result2 = loaded_model.predict(feature_vector_good)\n",
    "\n",
    "print(result)\n",
    "print(\"*\"*30)\n",
    "print(result2)"
   ]
  },
  {
   "cell_type": "code",
   "execution_count": null,
   "metadata": {},
   "outputs": [],
   "source": [
    "from joblib import load\n",
    "loaded_model = load('model_phishing_lr.model')\n",
    "\n",
    "predict_bad = []\n",
    "predict_good = []\n",
    "\n",
    "\n",
    "while True:\n",
    "    url = input(\"Masukkan URL (atau tekan Enter untuk keluar): \")\n",
    "    if not url:\n",
    "        break\n",
    "        \n",
    "    import pickle\n",
    "    \n",
    "    result = loaded_model.predict([url])\n",
    "    print(result)"
   ]
  },
  {
   "cell_type": "code",
   "execution_count": null,
   "metadata": {},
   "outputs": [],
   "source": []
  }
 ],
 "metadata": {
  "colab": {
   "authorship_tag": "ABX9TyNj5dz1UzEdNLJ/mKn/plIG",
   "provenance": []
  },
  "kernelspec": {
   "display_name": "proyek-akhir",
   "language": "python",
   "name": "proyek-akhir"
  },
  "language_info": {
   "codemirror_mode": {
    "name": "ipython",
    "version": 3
   },
   "file_extension": ".py",
   "mimetype": "text/x-python",
   "name": "python",
   "nbconvert_exporter": "python",
   "pygments_lexer": "ipython3",
   "version": "3.10.9"
  }
 },
 "nbformat": 4,
 "nbformat_minor": 1
}
