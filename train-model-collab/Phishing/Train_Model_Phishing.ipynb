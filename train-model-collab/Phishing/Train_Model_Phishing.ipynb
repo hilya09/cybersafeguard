{
  "nbformat": 4,
  "nbformat_minor": 0,
  "metadata": {
    "colab": {
      "provenance": [],
      "authorship_tag": "ABX9TyNukFgjK7cbKP3Z0+u00ai2",
      "include_colab_link": true
    },
    "kernelspec": {
      "name": "python3",
      "display_name": "Python 3"
    },
    "language_info": {
      "name": "python"
    }
  },
  "cells": [
    {
      "cell_type": "markdown",
      "metadata": {
        "id": "view-in-github",
        "colab_type": "text"
      },
      "source": [
        "<a href=\"https://colab.research.google.com/github/hilya09/cybersafeguard/blob/master/train-model-collab/Phishing/Train_Model_Phishing.ipynb\" target=\"_parent\"><img src=\"https://colab.research.google.com/assets/colab-badge.svg\" alt=\"Open In Colab\"/></a>"
      ]
    },
    {
      "cell_type": "markdown",
      "source": [
        "# Phishing URL Detection\n"
      ],
      "metadata": {
        "id": "6jVEEd-uBkHB"
      }
    },
    {
      "cell_type": "markdown",
      "source": [
        "## Modules dan Packages"
      ],
      "metadata": {
        "id": "nJpRU_5ODlwl"
      }
    },
    {
      "cell_type": "code",
      "execution_count": null,
      "metadata": {
        "colab": {
          "base_uri": "https://localhost:8080/"
        },
        "id": "Nh2TFonjBgX9",
        "outputId": "7136ec84-0680-4f9d-9df1-1d85e436a42c"
      },
      "outputs": [
        {
          "output_type": "stream",
          "name": "stdout",
          "text": [
            "Name: scikit-learn\n",
            "Version: 1.2.2\n",
            "Summary: A set of python modules for machine learning and data mining\n",
            "Home-page: http://scikit-learn.org\n",
            "Author: \n",
            "Author-email: \n",
            "License: new BSD\n",
            "Location: /usr/local/lib/python3.10/dist-packages\n",
            "Requires: joblib, numpy, scipy, threadpoolctl\n",
            "Required-by: fastai, imbalanced-learn, librosa, lightgbm, mlxtend, qudida, sklearn-pandas, yellowbrick\n"
          ]
        }
      ],
      "source": [
        "# pastikan versi scikit-learn == 1.2.2\n",
        "# jika tidak sesuai, install versi scikit-learn yang sesuai\n",
        "!pip show scikit-learn"
      ]
    },
    {
      "cell_type": "code",
      "source": [
        "import gdown\n",
        "import zipfile\n",
        "import pandas as pd\n",
        "import numpy as np\n",
        "import matplotlib.pyplot as plt\n",
        "%matplotlib inline\n",
        "import seaborn as sns  \n",
        "import time \n",
        "\n",
        "from sklearn.metrics import classification_report\n",
        "from sklearn.metrics import confusion_matrix\n",
        "from nltk.tokenize import RegexpTokenizer  \n",
        "from nltk.stem.snowball import SnowballStemmer\n",
        "from sklearn.feature_extraction.text import CountVectorizer  \n",
        "from sklearn.pipeline import make_pipeline\n",
        "\n",
        "from PIL import Image\n",
        "from wordcloud import WordCloud, STOPWORDS, ImageColorGenerator\n",
        "import joblib"
      ],
      "metadata": {
        "id": "0jGNm_cAByPR"
      },
      "execution_count": null,
      "outputs": []
    },
    {
      "cell_type": "code",
      "source": [
        "gdown.download_folder(\"https://drive.google.com/drive/u/0/folders/1ff6YnFUUJD0P89nDfjKQviRb57jayHC9\")"
      ],
      "metadata": {
        "colab": {
          "base_uri": "https://localhost:8080/"
        },
        "id": "cDDaGx0HCBJj",
        "outputId": "b8c81682-8975-4ba3-d008-fc48fe69790a"
      },
      "execution_count": null,
      "outputs": [
        {
          "output_type": "stream",
          "name": "stderr",
          "text": [
            "Retrieving folder list\n"
          ]
        },
        {
          "output_type": "stream",
          "name": "stdout",
          "text": [
            "Processing file 1ZKaetf7Zh4WDSYnJyxjd7YcNuPy-lT8y phishing_site_urls.zip\n",
            "Building directory structure completed\n"
          ]
        },
        {
          "output_type": "stream",
          "name": "stderr",
          "text": [
            "Retrieving folder list completed\n",
            "Building directory structure\n",
            "Downloading...\n",
            "From: https://drive.google.com/uc?id=1ZKaetf7Zh4WDSYnJyxjd7YcNuPy-lT8y\n",
            "To: /content/dataset-phishing/phishing_site_urls.zip\n",
            "100%|██████████| 9.33M/9.33M [00:00<00:00, 22.7MB/s]\n",
            "Download completed\n"
          ]
        },
        {
          "output_type": "execute_result",
          "data": {
            "text/plain": [
              "['/content/dataset-phishing/phishing_site_urls.zip']"
            ]
          },
          "metadata": {},
          "execution_count": 3
        }
      ]
    },
    {
      "cell_type": "code",
      "source": [
        "with zipfile.ZipFile('/content/dataset-phishing/phishing_site_urls.zip', 'r') as zip_ref:\n",
        "    zip_ref.extractall('/content/train-model/phishing/')"
      ],
      "metadata": {
        "id": "yAMX4qbFC55J"
      },
      "execution_count": null,
      "outputs": []
    },
    {
      "cell_type": "code",
      "source": [
        "data = pd.read_csv(\"/content/train-model/phishing/phishing_site_urls.csv\")"
      ],
      "metadata": {
        "id": "UP3hukhJDM2B"
      },
      "execution_count": null,
      "outputs": []
    },
    {
      "cell_type": "markdown",
      "source": [
        "## Exploratory Data Analysis (EDA)"
      ],
      "metadata": {
        "id": "NIdQC_OODcXH"
      }
    },
    {
      "cell_type": "code",
      "source": [
        "data.head()"
      ],
      "metadata": {
        "colab": {
          "base_uri": "https://localhost:8080/",
          "height": 206
        },
        "id": "kOWeGxOTDqyD",
        "outputId": "1051690f-d4cd-403d-ca78-ecb016625d18"
      },
      "execution_count": null,
      "outputs": [
        {
          "output_type": "execute_result",
          "data": {
            "text/plain": [
              "                                                 URL Label\n",
              "0  nobell.it/70ffb52d079109dca5664cce6f317373782/...   bad\n",
              "1  www.dghjdgf.com/paypal.co.uk/cycgi-bin/webscrc...   bad\n",
              "2  serviciosbys.com/paypal.cgi.bin.get-into.herf....   bad\n",
              "3  mail.printakid.com/www.online.americanexpress....   bad\n",
              "4  thewhiskeydregs.com/wp-content/themes/widescre...   bad"
            ],
            "text/html": [
              "\n",
              "  <div id=\"df-9fd91e4f-3bbd-41d1-8557-fe43f7e3e8ea\">\n",
              "    <div class=\"colab-df-container\">\n",
              "      <div>\n",
              "<style scoped>\n",
              "    .dataframe tbody tr th:only-of-type {\n",
              "        vertical-align: middle;\n",
              "    }\n",
              "\n",
              "    .dataframe tbody tr th {\n",
              "        vertical-align: top;\n",
              "    }\n",
              "\n",
              "    .dataframe thead th {\n",
              "        text-align: right;\n",
              "    }\n",
              "</style>\n",
              "<table border=\"1\" class=\"dataframe\">\n",
              "  <thead>\n",
              "    <tr style=\"text-align: right;\">\n",
              "      <th></th>\n",
              "      <th>URL</th>\n",
              "      <th>Label</th>\n",
              "    </tr>\n",
              "  </thead>\n",
              "  <tbody>\n",
              "    <tr>\n",
              "      <th>0</th>\n",
              "      <td>nobell.it/70ffb52d079109dca5664cce6f317373782/...</td>\n",
              "      <td>bad</td>\n",
              "    </tr>\n",
              "    <tr>\n",
              "      <th>1</th>\n",
              "      <td>www.dghjdgf.com/paypal.co.uk/cycgi-bin/webscrc...</td>\n",
              "      <td>bad</td>\n",
              "    </tr>\n",
              "    <tr>\n",
              "      <th>2</th>\n",
              "      <td>serviciosbys.com/paypal.cgi.bin.get-into.herf....</td>\n",
              "      <td>bad</td>\n",
              "    </tr>\n",
              "    <tr>\n",
              "      <th>3</th>\n",
              "      <td>mail.printakid.com/www.online.americanexpress....</td>\n",
              "      <td>bad</td>\n",
              "    </tr>\n",
              "    <tr>\n",
              "      <th>4</th>\n",
              "      <td>thewhiskeydregs.com/wp-content/themes/widescre...</td>\n",
              "      <td>bad</td>\n",
              "    </tr>\n",
              "  </tbody>\n",
              "</table>\n",
              "</div>\n",
              "      <button class=\"colab-df-convert\" onclick=\"convertToInteractive('df-9fd91e4f-3bbd-41d1-8557-fe43f7e3e8ea')\"\n",
              "              title=\"Convert this dataframe to an interactive table.\"\n",
              "              style=\"display:none;\">\n",
              "        \n",
              "  <svg xmlns=\"http://www.w3.org/2000/svg\" height=\"24px\"viewBox=\"0 0 24 24\"\n",
              "       width=\"24px\">\n",
              "    <path d=\"M0 0h24v24H0V0z\" fill=\"none\"/>\n",
              "    <path d=\"M18.56 5.44l.94 2.06.94-2.06 2.06-.94-2.06-.94-.94-2.06-.94 2.06-2.06.94zm-11 1L8.5 8.5l.94-2.06 2.06-.94-2.06-.94L8.5 2.5l-.94 2.06-2.06.94zm10 10l.94 2.06.94-2.06 2.06-.94-2.06-.94-.94-2.06-.94 2.06-2.06.94z\"/><path d=\"M17.41 7.96l-1.37-1.37c-.4-.4-.92-.59-1.43-.59-.52 0-1.04.2-1.43.59L10.3 9.45l-7.72 7.72c-.78.78-.78 2.05 0 2.83L4 21.41c.39.39.9.59 1.41.59.51 0 1.02-.2 1.41-.59l7.78-7.78 2.81-2.81c.8-.78.8-2.07 0-2.86zM5.41 20L4 18.59l7.72-7.72 1.47 1.35L5.41 20z\"/>\n",
              "  </svg>\n",
              "      </button>\n",
              "      \n",
              "  <style>\n",
              "    .colab-df-container {\n",
              "      display:flex;\n",
              "      flex-wrap:wrap;\n",
              "      gap: 12px;\n",
              "    }\n",
              "\n",
              "    .colab-df-convert {\n",
              "      background-color: #E8F0FE;\n",
              "      border: none;\n",
              "      border-radius: 50%;\n",
              "      cursor: pointer;\n",
              "      display: none;\n",
              "      fill: #1967D2;\n",
              "      height: 32px;\n",
              "      padding: 0 0 0 0;\n",
              "      width: 32px;\n",
              "    }\n",
              "\n",
              "    .colab-df-convert:hover {\n",
              "      background-color: #E2EBFA;\n",
              "      box-shadow: 0px 1px 2px rgba(60, 64, 67, 0.3), 0px 1px 3px 1px rgba(60, 64, 67, 0.15);\n",
              "      fill: #174EA6;\n",
              "    }\n",
              "\n",
              "    [theme=dark] .colab-df-convert {\n",
              "      background-color: #3B4455;\n",
              "      fill: #D2E3FC;\n",
              "    }\n",
              "\n",
              "    [theme=dark] .colab-df-convert:hover {\n",
              "      background-color: #434B5C;\n",
              "      box-shadow: 0px 1px 3px 1px rgba(0, 0, 0, 0.15);\n",
              "      filter: drop-shadow(0px 1px 2px rgba(0, 0, 0, 0.3));\n",
              "      fill: #FFFFFF;\n",
              "    }\n",
              "  </style>\n",
              "\n",
              "      <script>\n",
              "        const buttonEl =\n",
              "          document.querySelector('#df-9fd91e4f-3bbd-41d1-8557-fe43f7e3e8ea button.colab-df-convert');\n",
              "        buttonEl.style.display =\n",
              "          google.colab.kernel.accessAllowed ? 'block' : 'none';\n",
              "\n",
              "        async function convertToInteractive(key) {\n",
              "          const element = document.querySelector('#df-9fd91e4f-3bbd-41d1-8557-fe43f7e3e8ea');\n",
              "          const dataTable =\n",
              "            await google.colab.kernel.invokeFunction('convertToInteractive',\n",
              "                                                     [key], {});\n",
              "          if (!dataTable) return;\n",
              "\n",
              "          const docLinkHtml = 'Like what you see? Visit the ' +\n",
              "            '<a target=\"_blank\" href=https://colab.research.google.com/notebooks/data_table.ipynb>data table notebook</a>'\n",
              "            + ' to learn more about interactive tables.';\n",
              "          element.innerHTML = '';\n",
              "          dataTable['output_type'] = 'display_data';\n",
              "          await google.colab.output.renderOutput(dataTable, element);\n",
              "          const docLink = document.createElement('div');\n",
              "          docLink.innerHTML = docLinkHtml;\n",
              "          element.appendChild(docLink);\n",
              "        }\n",
              "      </script>\n",
              "    </div>\n",
              "  </div>\n",
              "  "
            ]
          },
          "metadata": {},
          "execution_count": 6
        }
      ]
    },
    {
      "cell_type": "code",
      "source": [
        "data.shape"
      ],
      "metadata": {
        "colab": {
          "base_uri": "https://localhost:8080/"
        },
        "id": "GGcpWoXt-Egl",
        "outputId": "504f2f56-4811-4982-ab71-5ef470b34faf"
      },
      "execution_count": null,
      "outputs": [
        {
          "output_type": "execute_result",
          "data": {
            "text/plain": [
              "(549346, 2)"
            ]
          },
          "metadata": {},
          "execution_count": 7
        }
      ]
    },
    {
      "cell_type": "code",
      "source": [
        "# Mengecek noise dan mendapatkan informasi mengenai daset\n",
        "data.isnull().sum()"
      ],
      "metadata": {
        "colab": {
          "base_uri": "https://localhost:8080/"
        },
        "id": "oWlpuzPXDydm",
        "outputId": "77502ad6-2ae5-4073-f9f8-e8fefec3b558"
      },
      "execution_count": null,
      "outputs": [
        {
          "output_type": "execute_result",
          "data": {
            "text/plain": [
              "URL      0\n",
              "Label    0\n",
              "dtype: int64"
            ]
          },
          "metadata": {},
          "execution_count": 8
        }
      ]
    },
    {
      "cell_type": "code",
      "source": [
        "# Mendapatkan informasi \n",
        "data.info()"
      ],
      "metadata": {
        "colab": {
          "base_uri": "https://localhost:8080/"
        },
        "id": "uLO9WrsM96Ni",
        "outputId": "878e6663-e9ea-44a8-f5d4-51dd48938f23"
      },
      "execution_count": null,
      "outputs": [
        {
          "output_type": "stream",
          "name": "stdout",
          "text": [
            "<class 'pandas.core.frame.DataFrame'>\n",
            "RangeIndex: 549346 entries, 0 to 549345\n",
            "Data columns (total 2 columns):\n",
            " #   Column  Non-Null Count   Dtype \n",
            "---  ------  --------------   ----- \n",
            " 0   URL     549346 non-null  object\n",
            " 1   Label   549346 non-null  object\n",
            "dtypes: object(2)\n",
            "memory usage: 8.4+ MB\n"
          ]
        }
      ]
    },
    {
      "cell_type": "code",
      "source": [
        "# Membuat fungsi untuk mengubah label menjadi angka\n",
        "def polaritas(teks):\n",
        "  if teks =='good':\n",
        "    return 1\n",
        "  elif teks =='bad':\n",
        "    return 0"
      ],
      "metadata": {
        "id": "VwBZ37R_POPz"
      },
      "execution_count": null,
      "outputs": []
    },
    {
      "cell_type": "code",
      "source": [
        "data['label_enc'] = data['Label'].apply(polaritas)"
      ],
      "metadata": {
        "id": "Z5tNg9_cPWPL"
      },
      "execution_count": null,
      "outputs": []
    },
    {
      "cell_type": "code",
      "source": [
        "print('Total Jumlah url:', data.shape[0], 'data\\n')\n",
        "print('terdiri dari (label):')\n",
        "print('-- [1] Good\\t\\t:', data[data.label_enc == 1].shape[0], 'data')\n",
        "print('-- [0] Bad\\t\\t:', data[data.label_enc == 0].shape[0], 'data\\n')"
      ],
      "metadata": {
        "colab": {
          "base_uri": "https://localhost:8080/"
        },
        "id": "dYb6QduWDykN",
        "outputId": "b78442a7-390e-4c4f-c250-74f69ee669d2"
      },
      "execution_count": null,
      "outputs": [
        {
          "output_type": "stream",
          "name": "stdout",
          "text": [
            "Total Jumlah url: 549346 data\n",
            "\n",
            "terdiri dari (label):\n",
            "-- [1] Good\t\t: 392924 data\n",
            "-- [0] Bad\t\t: 156422 data\n",
            "\n"
          ]
        }
      ]
    },
    {
      "cell_type": "code",
      "source": [
        "sns.countplot(x='Label',data=data)"
      ],
      "metadata": {
        "colab": {
          "base_uri": "https://localhost:8080/",
          "height": 466
        },
        "id": "HhdNz0-Q-VHR",
        "outputId": "11dc1118-3313-4ce3-e1b9-79efde972662"
      },
      "execution_count": null,
      "outputs": [
        {
          "output_type": "execute_result",
          "data": {
            "text/plain": [
              "<Axes: xlabel='Label', ylabel='count'>"
            ]
          },
          "metadata": {},
          "execution_count": 13
        },
        {
          "output_type": "display_data",
          "data": {
            "text/plain": [
              "<Figure size 640x480 with 1 Axes>"
            ],
            "image/png": "[encoded data removed]"
          },
          "metadata": {}
        }
      ]
    },
    {
      "cell_type": "markdown",
      "source": [
        "## Tokenisasi"
      ],
      "metadata": {
        "id": "jeAwJocC_U-1"
      }
    },
    {
      "cell_type": "code",
      "source": [
        "#Tokenisasi\n",
        "tokenizer = RegexpTokenizer(r'[A-Za-z]+')"
      ],
      "metadata": {
        "id": "N9V3zK44-di_"
      },
      "execution_count": null,
      "outputs": []
    },
    {
      "cell_type": "code",
      "source": [
        "tokenizer.tokenize(data.URL[0]) # melakukan tokenisasi pada URL pertama di dataset"
      ],
      "metadata": {
        "colab": {
          "base_uri": "https://localhost:8080/"
        },
        "id": "yI4ihRNb-v3N",
        "outputId": "bcb0c165-db00-4cf7-9d42-a0895ed48a43"
      },
      "execution_count": null,
      "outputs": [
        {
          "output_type": "execute_result",
          "data": {
            "text/plain": [
              "['nobell',\n",
              " 'it',\n",
              " 'ffb',\n",
              " 'd',\n",
              " 'dca',\n",
              " 'cce',\n",
              " 'f',\n",
              " 'login',\n",
              " 'SkyPe',\n",
              " 'com',\n",
              " 'en',\n",
              " 'cgi',\n",
              " 'bin',\n",
              " 'verification',\n",
              " 'login',\n",
              " 'ffb',\n",
              " 'd',\n",
              " 'dca',\n",
              " 'cce',\n",
              " 'f',\n",
              " 'index',\n",
              " 'php',\n",
              " 'cmd',\n",
              " 'profile',\n",
              " 'ach',\n",
              " 'outdated',\n",
              " 'page',\n",
              " 'tmpl',\n",
              " 'p',\n",
              " 'gen',\n",
              " 'failed',\n",
              " 'to',\n",
              " 'load',\n",
              " 'nav',\n",
              " 'login',\n",
              " 'access']"
            ]
          },
          "metadata": {},
          "execution_count": 15
        }
      ]
    },
    {
      "cell_type": "code",
      "source": [
        "# Tokenizing all the rows \n",
        "print('Getting words tokenized ...')\n",
        "t0= time.perf_counter()\n",
        "data['text_tokenized'] = data.URL.map(lambda t: tokenizer.tokenize(t))\n",
        "t1 = time.perf_counter() - t0\n",
        "print('Time taken',t1 ,'sec')"
      ],
      "metadata": {
        "colab": {
          "base_uri": "https://localhost:8080/"
        },
        "id": "3zfw_lOn_EBO",
        "outputId": "039df75b-798b-4446-80f1-f6bce28d267c"
      },
      "execution_count": null,
      "outputs": [
        {
          "output_type": "stream",
          "name": "stdout",
          "text": [
            "Getting words tokenized ...\n",
            "Time taken 4.789123160000003 sec\n"
          ]
        }
      ]
    },
    {
      "cell_type": "code",
      "source": [
        "data.sample(5)"
      ],
      "metadata": {
        "colab": {
          "base_uri": "https://localhost:8080/",
          "height": 206
        },
        "id": "hXPu0aR2_HxV",
        "outputId": "ea50863a-8253-4278-fbb2-b6b076028e3e"
      },
      "execution_count": null,
      "outputs": [
        {
          "output_type": "execute_result",
          "data": {
            "text/plain": [
              "                                                      URL Label  label_enc  \\\n",
              "395573                             mylife.com/c-148060820  good          1   \n",
              "89208                       www.owenink.com/ac/order.html  good          1   \n",
              "445634  themalenude.com/gay/escorts/gay-escort-ty_latt...  good          1   \n",
              "291109  bigfishgames.com/download-games/13840/twisted-...  good          1   \n",
              "111246                      luxury-domains.com/business4/   bad          0   \n",
              "\n",
              "                                           text_tokenized  \n",
              "395573                                   [mylife, com, c]  \n",
              "89208                [www, owenink, com, ac, order, html]  \n",
              "445634  [themalenude, com, gay, escorts, gay, escort, ...  \n",
              "291109  [bigfishgames, com, download, games, twisted, ...  \n",
              "111246                   [luxury, domains, com, business]  "
            ],
            "text/html": [
              "\n",
              "  <div id=\"df-8fbde999-b100-4368-9dc3-6cc535929b70\">\n",
              "    <div class=\"colab-df-container\">\n",
              "      <div>\n",
              "<style scoped>\n",
              "    .dataframe tbody tr th:only-of-type {\n",
              "        vertical-align: middle;\n",
              "    }\n",
              "\n",
              "    .dataframe tbody tr th {\n",
              "        vertical-align: top;\n",
              "    }\n",
              "\n",
              "    .dataframe thead th {\n",
              "        text-align: right;\n",
              "    }\n",
              "</style>\n",
              "<table border=\"1\" class=\"dataframe\">\n",
              "  <thead>\n",
              "    <tr style=\"text-align: right;\">\n",
              "      <th></th>\n",
              "      <th>URL</th>\n",
              "      <th>Label</th>\n",
              "      <th>label_enc</th>\n",
              "      <th>text_tokenized</th>\n",
              "    </tr>\n",
              "  </thead>\n",
              "  <tbody>\n",
              "    <tr>\n",
              "      <th>395573</th>\n",
              "      <td>mylife.com/c-148060820</td>\n",
              "      <td>good</td>\n",
              "      <td>1</td>\n",
              "      <td>[mylife, com, c]</td>\n",
              "    </tr>\n",
              "    <tr>\n",
              "      <th>89208</th>\n",
              "      <td>www.owenink.com/ac/order.html</td>\n",
              "      <td>good</td>\n",
              "      <td>1</td>\n",
              "      <td>[www, owenink, com, ac, order, html]</td>\n",
              "    </tr>\n",
              "    <tr>\n",
              "      <th>445634</th>\n",
              "      <td>themalenude.com/gay/escorts/gay-escort-ty_latt...</td>\n",
              "      <td>good</td>\n",
              "      <td>1</td>\n",
              "      <td>[themalenude, com, gay, escorts, gay, escort, ...</td>\n",
              "    </tr>\n",
              "    <tr>\n",
              "      <th>291109</th>\n",
              "      <td>bigfishgames.com/download-games/13840/twisted-...</td>\n",
              "      <td>good</td>\n",
              "      <td>1</td>\n",
              "      <td>[bigfishgames, com, download, games, twisted, ...</td>\n",
              "    </tr>\n",
              "    <tr>\n",
              "      <th>111246</th>\n",
              "      <td>luxury-domains.com/business4/</td>\n",
              "      <td>bad</td>\n",
              "      <td>0</td>\n",
              "      <td>[luxury, domains, com, business]</td>\n",
              "    </tr>\n",
              "  </tbody>\n",
              "</table>\n",
              "</div>\n",
              "      <button class=\"colab-df-convert\" onclick=\"convertToInteractive('df-8fbde999-b100-4368-9dc3-6cc535929b70')\"\n",
              "              title=\"Convert this dataframe to an interactive table.\"\n",
              "              style=\"display:none;\">\n",
              "        \n",
              "  <svg xmlns=\"http://www.w3.org/2000/svg\" height=\"24px\"viewBox=\"0 0 24 24\"\n",
              "       width=\"24px\">\n",
              "    <path d=\"M0 0h24v24H0V0z\" fill=\"none\"/>\n",
              "    <path d=\"M18.56 5.44l.94 2.06.94-2.06 2.06-.94-2.06-.94-.94-2.06-.94 2.06-2.06.94zm-11 1L8.5 8.5l.94-2.06 2.06-.94-2.06-.94L8.5 2.5l-.94 2.06-2.06.94zm10 10l.94 2.06.94-2.06 2.06-.94-2.06-.94-.94-2.06-.94 2.06-2.06.94z\"/><path d=\"M17.41 7.96l-1.37-1.37c-.4-.4-.92-.59-1.43-.59-.52 0-1.04.2-1.43.59L10.3 9.45l-7.72 7.72c-.78.78-.78 2.05 0 2.83L4 21.41c.39.39.9.59 1.41.59.51 0 1.02-.2 1.41-.59l7.78-7.78 2.81-2.81c.8-.78.8-2.07 0-2.86zM5.41 20L4 18.59l7.72-7.72 1.47 1.35L5.41 20z\"/>\n",
              "  </svg>\n",
              "      </button>\n",
              "      \n",
              "  <style>\n",
              "    .colab-df-container {\n",
              "      display:flex;\n",
              "      flex-wrap:wrap;\n",
              "      gap: 12px;\n",
              "    }\n",
              "\n",
              "    .colab-df-convert {\n",
              "      background-color: #E8F0FE;\n",
              "      border: none;\n",
              "      border-radius: 50%;\n",
              "      cursor: pointer;\n",
              "      display: none;\n",
              "      fill: #1967D2;\n",
              "      height: 32px;\n",
              "      padding: 0 0 0 0;\n",
              "      width: 32px;\n",
              "    }\n",
              "\n",
              "    .colab-df-convert:hover {\n",
              "      background-color: #E2EBFA;\n",
              "      box-shadow: 0px 1px 2px rgba(60, 64, 67, 0.3), 0px 1px 3px 1px rgba(60, 64, 67, 0.15);\n",
              "      fill: #174EA6;\n",
              "    }\n",
              "\n",
              "    [theme=dark] .colab-df-convert {\n",
              "      background-color: #3B4455;\n",
              "      fill: #D2E3FC;\n",
              "    }\n",
              "\n",
              "    [theme=dark] .colab-df-convert:hover {\n",
              "      background-color: #434B5C;\n",
              "      box-shadow: 0px 1px 3px 1px rgba(0, 0, 0, 0.15);\n",
              "      filter: drop-shadow(0px 1px 2px rgba(0, 0, 0, 0.3));\n",
              "      fill: #FFFFFF;\n",
              "    }\n",
              "  </style>\n",
              "\n",
              "      <script>\n",
              "        const buttonEl =\n",
              "          document.querySelector('#df-8fbde999-b100-4368-9dc3-6cc535929b70 button.colab-df-convert');\n",
              "        buttonEl.style.display =\n",
              "          google.colab.kernel.accessAllowed ? 'block' : 'none';\n",
              "\n",
              "        async function convertToInteractive(key) {\n",
              "          const element = document.querySelector('#df-8fbde999-b100-4368-9dc3-6cc535929b70');\n",
              "          const dataTable =\n",
              "            await google.colab.kernel.invokeFunction('convertToInteractive',\n",
              "                                                     [key], {});\n",
              "          if (!dataTable) return;\n",
              "\n",
              "          const docLinkHtml = 'Like what you see? Visit the ' +\n",
              "            '<a target=\"_blank\" href=https://colab.research.google.com/notebooks/data_table.ipynb>data table notebook</a>'\n",
              "            + ' to learn more about interactive tables.';\n",
              "          element.innerHTML = '';\n",
              "          dataTable['output_type'] = 'display_data';\n",
              "          await google.colab.output.renderOutput(dataTable, element);\n",
              "          const docLink = document.createElement('div');\n",
              "          docLink.innerHTML = docLinkHtml;\n",
              "          element.appendChild(docLink);\n",
              "        }\n",
              "      </script>\n",
              "    </div>\n",
              "  </div>\n",
              "  "
            ]
          },
          "metadata": {},
          "execution_count": 17
        }
      ]
    },
    {
      "cell_type": "markdown",
      "source": [
        "## Stemming"
      ],
      "metadata": {
        "id": "89YUQfg7_X4f"
      }
    },
    {
      "cell_type": "code",
      "source": [
        "# Mengubah ke bentuk kata dasar\n",
        "stemmer = SnowballStemmer(\"english\") # choose a language"
      ],
      "metadata": {
        "id": "VP00kzfX_cF4"
      },
      "execution_count": null,
      "outputs": []
    },
    {
      "cell_type": "code",
      "source": [
        "# Getting all the stemmed words\n",
        "print('Getting words stemmed ...')\n",
        "t0= time.perf_counter()\n",
        "data['text_stemmed'] = data['text_tokenized'].map(lambda l: [stemmer.stem(word) for word in l])\n",
        "t1= time.perf_counter() - t0\n",
        "print('Time taken',t1 ,'sec')"
      ],
      "metadata": {
        "colab": {
          "base_uri": "https://localhost:8080/"
        },
        "id": "4Cfnw1QQ_fJf",
        "outputId": "eb244ec6-be86-435a-d193-a53f3154986b"
      },
      "execution_count": null,
      "outputs": [
        {
          "output_type": "stream",
          "name": "stdout",
          "text": [
            "Getting words stemmed ...\n",
            "Time taken 34.748111745 sec\n"
          ]
        }
      ]
    },
    {
      "cell_type": "code",
      "source": [
        "data.sample(5)"
      ],
      "metadata": {
        "colab": {
          "base_uri": "https://localhost:8080/",
          "height": 206
        },
        "id": "KW0szr17_hNZ",
        "outputId": "815dbdab-0fbd-4a7b-efea-4a4c68d3b4f6"
      },
      "execution_count": null,
      "outputs": [
        {
          "output_type": "execute_result",
          "data": {
            "text/plain": [
              "                                                      URL Label  label_enc  \\\n",
              "356276  ibabuzz.com/politics/2009/11/17/john-t-nejedly...  good          1   \n",
              "49878          www.overseasbrokers.com/entertainment.html  good          1   \n",
              "253113       uk.linkedin.com/pub/william-baker/15/360/118  good          1   \n",
              "58789                          www.cs.huji.ac.il/~tishby/  good          1   \n",
              "243854                 streema.com/radios/Estero_Sol_KSOL  good          1   \n",
              "\n",
              "                                           text_tokenized  \\\n",
              "356276  [ibabuzz, com, politics, john, t, nejedly, to,...   \n",
              "49878    [www, overseasbrokers, com, entertainment, html]   \n",
              "253113           [uk, linkedin, com, pub, william, baker]   \n",
              "58789                     [www, cs, huji, ac, il, tishby]   \n",
              "243854          [streema, com, radios, Estero, Sol, KSOL]   \n",
              "\n",
              "                                             text_stemmed  \n",
              "356276  [ibabuzz, com, polit, john, t, neje, to, run, ...  \n",
              "49878           [www, overseasbrok, com, entertain, html]  \n",
              "253113           [uk, linkedin, com, pub, william, baker]  \n",
              "58789                     [www, cs, huji, ac, il, tishbi]  \n",
              "243854           [streema, com, radio, estero, sol, ksol]  "
            ],
            "text/html": [
              "\n",
              "  <div id=\"df-cdedede7-ba87-438f-bcd7-396438e2e36c\">\n",
              "    <div class=\"colab-df-container\">\n",
              "      <div>\n",
              "<style scoped>\n",
              "    .dataframe tbody tr th:only-of-type {\n",
              "        vertical-align: middle;\n",
              "    }\n",
              "\n",
              "    .dataframe tbody tr th {\n",
              "        vertical-align: top;\n",
              "    }\n",
              "\n",
              "    .dataframe thead th {\n",
              "        text-align: right;\n",
              "    }\n",
              "</style>\n",
              "<table border=\"1\" class=\"dataframe\">\n",
              "  <thead>\n",
              "    <tr style=\"text-align: right;\">\n",
              "      <th></th>\n",
              "      <th>URL</th>\n",
              "      <th>Label</th>\n",
              "      <th>label_enc</th>\n",
              "      <th>text_tokenized</th>\n",
              "      <th>text_stemmed</th>\n",
              "    </tr>\n",
              "  </thead>\n",
              "  <tbody>\n",
              "    <tr>\n",
              "      <th>356276</th>\n",
              "      <td>ibabuzz.com/politics/2009/11/17/john-t-nejedly...</td>\n",
              "      <td>good</td>\n",
              "      <td>1</td>\n",
              "      <td>[ibabuzz, com, politics, john, t, nejedly, to,...</td>\n",
              "      <td>[ibabuzz, com, polit, john, t, neje, to, run, ...</td>\n",
              "    </tr>\n",
              "    <tr>\n",
              "      <th>49878</th>\n",
              "      <td>www.overseasbrokers.com/entertainment.html</td>\n",
              "      <td>good</td>\n",
              "      <td>1</td>\n",
              "      <td>[www, overseasbrokers, com, entertainment, html]</td>\n",
              "      <td>[www, overseasbrok, com, entertain, html]</td>\n",
              "    </tr>\n",
              "    <tr>\n",
              "      <th>253113</th>\n",
              "      <td>uk.linkedin.com/pub/william-baker/15/360/118</td>\n",
              "      <td>good</td>\n",
              "      <td>1</td>\n",
              "      <td>[uk, linkedin, com, pub, william, baker]</td>\n",
              "      <td>[uk, linkedin, com, pub, william, baker]</td>\n",
              "    </tr>\n",
              "    <tr>\n",
              "      <th>58789</th>\n",
              "      <td>www.cs.huji.ac.il/~tishby/</td>\n",
              "      <td>good</td>\n",
              "      <td>1</td>\n",
              "      <td>[www, cs, huji, ac, il, tishby]</td>\n",
              "      <td>[www, cs, huji, ac, il, tishbi]</td>\n",
              "    </tr>\n",
              "    <tr>\n",
              "      <th>243854</th>\n",
              "      <td>streema.com/radios/Estero_Sol_KSOL</td>\n",
              "      <td>good</td>\n",
              "      <td>1</td>\n",
              "      <td>[streema, com, radios, Estero, Sol, KSOL]</td>\n",
              "      <td>[streema, com, radio, estero, sol, ksol]</td>\n",
              "    </tr>\n",
              "  </tbody>\n",
              "</table>\n",
              "</div>\n",
              "      <button class=\"colab-df-convert\" onclick=\"convertToInteractive('df-cdedede7-ba87-438f-bcd7-396438e2e36c')\"\n",
              "              title=\"Convert this dataframe to an interactive table.\"\n",
              "              style=\"display:none;\">\n",
              "        \n",
              "  <svg xmlns=\"http://www.w3.org/2000/svg\" height=\"24px\"viewBox=\"0 0 24 24\"\n",
              "       width=\"24px\">\n",
              "    <path d=\"M0 0h24v24H0V0z\" fill=\"none\"/>\n",
              "    <path d=\"M18.56 5.44l.94 2.06.94-2.06 2.06-.94-2.06-.94-.94-2.06-.94 2.06-2.06.94zm-11 1L8.5 8.5l.94-2.06 2.06-.94-2.06-.94L8.5 2.5l-.94 2.06-2.06.94zm10 10l.94 2.06.94-2.06 2.06-.94-2.06-.94-.94-2.06-.94 2.06-2.06.94z\"/><path d=\"M17.41 7.96l-1.37-1.37c-.4-.4-.92-.59-1.43-.59-.52 0-1.04.2-1.43.59L10.3 9.45l-7.72 7.72c-.78.78-.78 2.05 0 2.83L4 21.41c.39.39.9.59 1.41.59.51 0 1.02-.2 1.41-.59l7.78-7.78 2.81-2.81c.8-.78.8-2.07 0-2.86zM5.41 20L4 18.59l7.72-7.72 1.47 1.35L5.41 20z\"/>\n",
              "  </svg>\n",
              "      </button>\n",
              "      \n",
              "  <style>\n",
              "    .colab-df-container {\n",
              "      display:flex;\n",
              "      flex-wrap:wrap;\n",
              "      gap: 12px;\n",
              "    }\n",
              "\n",
              "    .colab-df-convert {\n",
              "      background-color: #E8F0FE;\n",
              "      border: none;\n",
              "      border-radius: 50%;\n",
              "      cursor: pointer;\n",
              "      display: none;\n",
              "      fill: #1967D2;\n",
              "      height: 32px;\n",
              "      padding: 0 0 0 0;\n",
              "      width: 32px;\n",
              "    }\n",
              "\n",
              "    .colab-df-convert:hover {\n",
              "      background-color: #E2EBFA;\n",
              "      box-shadow: 0px 1px 2px rgba(60, 64, 67, 0.3), 0px 1px 3px 1px rgba(60, 64, 67, 0.15);\n",
              "      fill: #174EA6;\n",
              "    }\n",
              "\n",
              "    [theme=dark] .colab-df-convert {\n",
              "      background-color: #3B4455;\n",
              "      fill: #D2E3FC;\n",
              "    }\n",
              "\n",
              "    [theme=dark] .colab-df-convert:hover {\n",
              "      background-color: #434B5C;\n",
              "      box-shadow: 0px 1px 3px 1px rgba(0, 0, 0, 0.15);\n",
              "      filter: drop-shadow(0px 1px 2px rgba(0, 0, 0, 0.3));\n",
              "      fill: #FFFFFF;\n",
              "    }\n",
              "  </style>\n",
              "\n",
              "      <script>\n",
              "        const buttonEl =\n",
              "          document.querySelector('#df-cdedede7-ba87-438f-bcd7-396438e2e36c button.colab-df-convert');\n",
              "        buttonEl.style.display =\n",
              "          google.colab.kernel.accessAllowed ? 'block' : 'none';\n",
              "\n",
              "        async function convertToInteractive(key) {\n",
              "          const element = document.querySelector('#df-cdedede7-ba87-438f-bcd7-396438e2e36c');\n",
              "          const dataTable =\n",
              "            await google.colab.kernel.invokeFunction('convertToInteractive',\n",
              "                                                     [key], {});\n",
              "          if (!dataTable) return;\n",
              "\n",
              "          const docLinkHtml = 'Like what you see? Visit the ' +\n",
              "            '<a target=\"_blank\" href=https://colab.research.google.com/notebooks/data_table.ipynb>data table notebook</a>'\n",
              "            + ' to learn more about interactive tables.';\n",
              "          element.innerHTML = '';\n",
              "          dataTable['output_type'] = 'display_data';\n",
              "          await google.colab.output.renderOutput(dataTable, element);\n",
              "          const docLink = document.createElement('div');\n",
              "          docLink.innerHTML = docLinkHtml;\n",
              "          element.appendChild(docLink);\n",
              "        }\n",
              "      </script>\n",
              "    </div>\n",
              "  </div>\n",
              "  "
            ]
          },
          "metadata": {},
          "execution_count": 20
        }
      ]
    },
    {
      "cell_type": "code",
      "source": [
        "# Joining all the stemmmed words.\n",
        "print('Get joiningwords ...')\n",
        "t0= time.perf_counter()\n",
        "data['text_sent'] = data['text_stemmed'].map(lambda l: ' '.join(l))\n",
        "t1= time.perf_counter() - t0\n",
        "print('Time taken',t1 ,'sec')"
      ],
      "metadata": {
        "id": "1pW1QKTA_mJr",
        "colab": {
          "base_uri": "https://localhost:8080/"
        },
        "outputId": "b84b38f9-f834-4fa0-ea3d-d33407db47e5"
      },
      "execution_count": null,
      "outputs": [
        {
          "output_type": "stream",
          "name": "stdout",
          "text": [
            "Get joiningwords ...\n",
            "Time taken 0.16232241100000522 sec\n"
          ]
        }
      ]
    },
    {
      "cell_type": "code",
      "source": [
        "bad_sites = data[data.Label == 'bad']\n",
        "good_sites = data[data.Label == 'good']"
      ],
      "metadata": {
        "id": "62RLgp_2_o5C"
      },
      "execution_count": null,
      "outputs": []
    },
    {
      "cell_type": "code",
      "source": [
        "bad_sites.head()"
      ],
      "metadata": {
        "id": "RYIccpKU_ql7",
        "colab": {
          "base_uri": "https://localhost:8080/",
          "height": 302
        },
        "outputId": "1fc665c7-880c-448d-f8b8-6ae1cc8a6f38"
      },
      "execution_count": null,
      "outputs": [
        {
          "output_type": "execute_result",
          "data": {
            "text/plain": [
              "                                                 URL Label  label_enc  \\\n",
              "0  nobell.it/70ffb52d079109dca5664cce6f317373782/...   bad          0   \n",
              "1  www.dghjdgf.com/paypal.co.uk/cycgi-bin/webscrc...   bad          0   \n",
              "2  serviciosbys.com/paypal.cgi.bin.get-into.herf....   bad          0   \n",
              "3  mail.printakid.com/www.online.americanexpress....   bad          0   \n",
              "4  thewhiskeydregs.com/wp-content/themes/widescre...   bad          0   \n",
              "\n",
              "                                      text_tokenized  \\\n",
              "0  [nobell, it, ffb, d, dca, cce, f, login, SkyPe...   \n",
              "1  [www, dghjdgf, com, paypal, co, uk, cycgi, bin...   \n",
              "2  [serviciosbys, com, paypal, cgi, bin, get, int...   \n",
              "3  [mail, printakid, com, www, online, americanex...   \n",
              "4  [thewhiskeydregs, com, wp, content, themes, wi...   \n",
              "\n",
              "                                        text_stemmed  \\\n",
              "0  [nobel, it, ffb, d, dca, cce, f, login, skype,...   \n",
              "1  [www, dghjdgf, com, paypal, co, uk, cycgi, bin...   \n",
              "2  [serviciosbi, com, paypal, cgi, bin, get, into...   \n",
              "3  [mail, printakid, com, www, onlin, americanexp...   \n",
              "4  [thewhiskeydreg, com, wp, content, theme, wide...   \n",
              "\n",
              "                                           text_sent  \n",
              "0  nobel it ffb d dca cce f login skype com en cg...  \n",
              "1  www dghjdgf com paypal co uk cycgi bin webscrc...  \n",
              "2  serviciosbi com paypal cgi bin get into herf s...  \n",
              "3  mail printakid com www onlin americanexpress c...  \n",
              "4  thewhiskeydreg com wp content theme widescreen...  "
            ],
            "text/html": [
              "\n",
              "  <div id=\"df-76d1c676-a3f2-4505-b274-808b57bfeb83\">\n",
              "    <div class=\"colab-df-container\">\n",
              "      <div>\n",
              "<style scoped>\n",
              "    .dataframe tbody tr th:only-of-type {\n",
              "        vertical-align: middle;\n",
              "    }\n",
              "\n",
              "    .dataframe tbody tr th {\n",
              "        vertical-align: top;\n",
              "    }\n",
              "\n",
              "    .dataframe thead th {\n",
              "        text-align: right;\n",
              "    }\n",
              "</style>\n",
              "<table border=\"1\" class=\"dataframe\">\n",
              "  <thead>\n",
              "    <tr style=\"text-align: right;\">\n",
              "      <th></th>\n",
              "      <th>URL</th>\n",
              "      <th>Label</th>\n",
              "      <th>label_enc</th>\n",
              "      <th>text_tokenized</th>\n",
              "      <th>text_stemmed</th>\n",
              "      <th>text_sent</th>\n",
              "    </tr>\n",
              "  </thead>\n",
              "  <tbody>\n",
              "    <tr>\n",
              "      <th>0</th>\n",
              "      <td>nobell.it/70ffb52d079109dca5664cce6f317373782/...</td>\n",
              "      <td>bad</td>\n",
              "      <td>0</td>\n",
              "      <td>[nobell, it, ffb, d, dca, cce, f, login, SkyPe...</td>\n",
              "      <td>[nobel, it, ffb, d, dca, cce, f, login, skype,...</td>\n",
              "      <td>nobel it ffb d dca cce f login skype com en cg...</td>\n",
              "    </tr>\n",
              "    <tr>\n",
              "      <th>1</th>\n",
              "      <td>www.dghjdgf.com/paypal.co.uk/cycgi-bin/webscrc...</td>\n",
              "      <td>bad</td>\n",
              "      <td>0</td>\n",
              "      <td>[www, dghjdgf, com, paypal, co, uk, cycgi, bin...</td>\n",
              "      <td>[www, dghjdgf, com, paypal, co, uk, cycgi, bin...</td>\n",
              "      <td>www dghjdgf com paypal co uk cycgi bin webscrc...</td>\n",
              "    </tr>\n",
              "    <tr>\n",
              "      <th>2</th>\n",
              "      <td>serviciosbys.com/paypal.cgi.bin.get-into.herf....</td>\n",
              "      <td>bad</td>\n",
              "      <td>0</td>\n",
              "      <td>[serviciosbys, com, paypal, cgi, bin, get, int...</td>\n",
              "      <td>[serviciosbi, com, paypal, cgi, bin, get, into...</td>\n",
              "      <td>serviciosbi com paypal cgi bin get into herf s...</td>\n",
              "    </tr>\n",
              "    <tr>\n",
              "      <th>3</th>\n",
              "      <td>mail.printakid.com/www.online.americanexpress....</td>\n",
              "      <td>bad</td>\n",
              "      <td>0</td>\n",
              "      <td>[mail, printakid, com, www, online, americanex...</td>\n",
              "      <td>[mail, printakid, com, www, onlin, americanexp...</td>\n",
              "      <td>mail printakid com www onlin americanexpress c...</td>\n",
              "    </tr>\n",
              "    <tr>\n",
              "      <th>4</th>\n",
              "      <td>thewhiskeydregs.com/wp-content/themes/widescre...</td>\n",
              "      <td>bad</td>\n",
              "      <td>0</td>\n",
              "      <td>[thewhiskeydregs, com, wp, content, themes, wi...</td>\n",
              "      <td>[thewhiskeydreg, com, wp, content, theme, wide...</td>\n",
              "      <td>thewhiskeydreg com wp content theme widescreen...</td>\n",
              "    </tr>\n",
              "  </tbody>\n",
              "</table>\n",
              "</div>\n",
              "      <button class=\"colab-df-convert\" onclick=\"convertToInteractive('df-76d1c676-a3f2-4505-b274-808b57bfeb83')\"\n",
              "              title=\"Convert this dataframe to an interactive table.\"\n",
              "              style=\"display:none;\">\n",
              "        \n",
              "  <svg xmlns=\"http://www.w3.org/2000/svg\" height=\"24px\"viewBox=\"0 0 24 24\"\n",
              "       width=\"24px\">\n",
              "    <path d=\"M0 0h24v24H0V0z\" fill=\"none\"/>\n",
              "    <path d=\"M18.56 5.44l.94 2.06.94-2.06 2.06-.94-2.06-.94-.94-2.06-.94 2.06-2.06.94zm-11 1L8.5 8.5l.94-2.06 2.06-.94-2.06-.94L8.5 2.5l-.94 2.06-2.06.94zm10 10l.94 2.06.94-2.06 2.06-.94-2.06-.94-.94-2.06-.94 2.06-2.06.94z\"/><path d=\"M17.41 7.96l-1.37-1.37c-.4-.4-.92-.59-1.43-.59-.52 0-1.04.2-1.43.59L10.3 9.45l-7.72 7.72c-.78.78-.78 2.05 0 2.83L4 21.41c.39.39.9.59 1.41.59.51 0 1.02-.2 1.41-.59l7.78-7.78 2.81-2.81c.8-.78.8-2.07 0-2.86zM5.41 20L4 18.59l7.72-7.72 1.47 1.35L5.41 20z\"/>\n",
              "  </svg>\n",
              "      </button>\n",
              "      \n",
              "  <style>\n",
              "    .colab-df-container {\n",
              "      display:flex;\n",
              "      flex-wrap:wrap;\n",
              "      gap: 12px;\n",
              "    }\n",
              "\n",
              "    .colab-df-convert {\n",
              "      background-color: #E8F0FE;\n",
              "      border: none;\n",
              "      border-radius: 50%;\n",
              "      cursor: pointer;\n",
              "      display: none;\n",
              "      fill: #1967D2;\n",
              "      height: 32px;\n",
              "      padding: 0 0 0 0;\n",
              "      width: 32px;\n",
              "    }\n",
              "\n",
              "    .colab-df-convert:hover {\n",
              "      background-color: #E2EBFA;\n",
              "      box-shadow: 0px 1px 2px rgba(60, 64, 67, 0.3), 0px 1px 3px 1px rgba(60, 64, 67, 0.15);\n",
              "      fill: #174EA6;\n",
              "    }\n",
              "\n",
              "    [theme=dark] .colab-df-convert {\n",
              "      background-color: #3B4455;\n",
              "      fill: #D2E3FC;\n",
              "    }\n",
              "\n",
              "    [theme=dark] .colab-df-convert:hover {\n",
              "      background-color: #434B5C;\n",
              "      box-shadow: 0px 1px 3px 1px rgba(0, 0, 0, 0.15);\n",
              "      filter: drop-shadow(0px 1px 2px rgba(0, 0, 0, 0.3));\n",
              "      fill: #FFFFFF;\n",
              "    }\n",
              "  </style>\n",
              "\n",
              "      <script>\n",
              "        const buttonEl =\n",
              "          document.querySelector('#df-76d1c676-a3f2-4505-b274-808b57bfeb83 button.colab-df-convert');\n",
              "        buttonEl.style.display =\n",
              "          google.colab.kernel.accessAllowed ? 'block' : 'none';\n",
              "\n",
              "        async function convertToInteractive(key) {\n",
              "          const element = document.querySelector('#df-76d1c676-a3f2-4505-b274-808b57bfeb83');\n",
              "          const dataTable =\n",
              "            await google.colab.kernel.invokeFunction('convertToInteractive',\n",
              "                                                     [key], {});\n",
              "          if (!dataTable) return;\n",
              "\n",
              "          const docLinkHtml = 'Like what you see? Visit the ' +\n",
              "            '<a target=\"_blank\" href=https://colab.research.google.com/notebooks/data_table.ipynb>data table notebook</a>'\n",
              "            + ' to learn more about interactive tables.';\n",
              "          element.innerHTML = '';\n",
              "          dataTable['output_type'] = 'display_data';\n",
              "          await google.colab.output.renderOutput(dataTable, element);\n",
              "          const docLink = document.createElement('div');\n",
              "          docLink.innerHTML = docLinkHtml;\n",
              "          element.appendChild(docLink);\n",
              "        }\n",
              "      </script>\n",
              "    </div>\n",
              "  </div>\n",
              "  "
            ]
          },
          "metadata": {},
          "execution_count": 23
        }
      ]
    },
    {
      "cell_type": "code",
      "source": [
        "good_sites.head()"
      ],
      "metadata": {
        "id": "WHNIpynk_tqL",
        "colab": {
          "base_uri": "https://localhost:8080/",
          "height": 319
        },
        "outputId": "6ebeebee-986b-435d-dc36-9e7cd610eb77"
      },
      "execution_count": null,
      "outputs": [
        {
          "output_type": "execute_result",
          "data": {
            "text/plain": [
              "                                                     URL Label  label_enc  \\\n",
              "18231  esxcc.com/js/index.htm?us.battle.net/noghn/en/...  good          1   \n",
              "18232  www\u000eeira¯&nvinip¿ncH¯wVö%ÆåyDaHðû/ÏyEùu\u0003Ë\\nÓ\u00176...  good          1   \n",
              "18233  'www.institutocgr.coo/web/media/syqvem/dk-\u000fóij...  good          1   \n",
              "18234                  \u0011\u0018Yìê\n",
              "koãÕ»Î§DéÎ\u0002l½ñ¡ââqtò¸/à; Í  good          1   \n",
              "18236  ruta89fm.com/images/AS@Vies/1i75cf7b16vc<F\u0015d16...  good          1   \n",
              "\n",
              "                                          text_tokenized  \\\n",
              "18231  [esxcc, com, js, index, htm, us, battle, net, ...   \n",
              "18232  [www, eira, nvinip, ncH, wV, yDaH, yE, u, rT, ...   \n",
              "18233  [www, institutocgr, coo, web, media, syqvem, d...   \n",
              "18234                                  [Y, ko, D, l, qt]   \n",
              "18236  [ruta, fm, com, images, AS, Vies, i, cf, b, vc...   \n",
              "\n",
              "                                            text_stemmed  \\\n",
              "18231  [esxcc, com, js, index, htm, us, battl, net, n...   \n",
              "18232  [www, eira, nvinip, nch, wv, ydah, ye, u, rt, ...   \n",
              "18233  [www, institutocgr, coo, web, media, syqvem, d...   \n",
              "18234                                  [y, ko, d, l, qt]   \n",
              "18236  [ruta, fm, com, imag, as, vie, i, cf, b, vc, f...   \n",
              "\n",
              "                                               text_sent  \n",
              "18231  esxcc com js index htm us battl net noghn en r...  \n",
              "18232  www eira nvinip nch wv ydah ye u rt u g m i xz...  \n",
              "18233  www institutocgr coo web media syqvem dk ij r ...  \n",
              "18234                                        y ko d l qt  \n",
              "18236  ruta fm com imag as vie i cf b vc f d b g sd v...  "
            ],
            "text/html": [
              "\n",
              "  <div id=\"df-e001c0a9-e921-434c-9539-a950304821af\">\n",
              "    <div class=\"colab-df-container\">\n",
              "      <div>\n",
              "<style scoped>\n",
              "    .dataframe tbody tr th:only-of-type {\n",
              "        vertical-align: middle;\n",
              "    }\n",
              "\n",
              "    .dataframe tbody tr th {\n",
              "        vertical-align: top;\n",
              "    }\n",
              "\n",
              "    .dataframe thead th {\n",
              "        text-align: right;\n",
              "    }\n",
              "</style>\n",
              "<table border=\"1\" class=\"dataframe\">\n",
              "  <thead>\n",
              "    <tr style=\"text-align: right;\">\n",
              "      <th></th>\n",
              "      <th>URL</th>\n",
              "      <th>Label</th>\n",
              "      <th>label_enc</th>\n",
              "      <th>text_tokenized</th>\n",
              "      <th>text_stemmed</th>\n",
              "      <th>text_sent</th>\n",
              "    </tr>\n",
              "  </thead>\n",
              "  <tbody>\n",
              "    <tr>\n",
              "      <th>18231</th>\n",
              "      <td>esxcc.com/js/index.htm?us.battle.net/noghn/en/...</td>\n",
              "      <td>good</td>\n",
              "      <td>1</td>\n",
              "      <td>[esxcc, com, js, index, htm, us, battle, net, ...</td>\n",
              "      <td>[esxcc, com, js, index, htm, us, battl, net, n...</td>\n",
              "      <td>esxcc com js index htm us battl net noghn en r...</td>\n",
              "    </tr>\n",
              "    <tr>\n",
              "      <th>18232</th>\n",
              "      <td>www\u000eeira¯&amp;nvinip¿ncH¯wVö%ÆåyDaHðû/ÏyEùu\u0003Ë\\nÓ\u00176...</td>\n",
              "      <td>good</td>\n",
              "      <td>1</td>\n",
              "      <td>[www, eira, nvinip, ncH, wV, yDaH, yE, u, rT, ...</td>\n",
              "      <td>[www, eira, nvinip, nch, wv, ydah, ye, u, rt, ...</td>\n",
              "      <td>www eira nvinip nch wv ydah ye u rt u g m i xz...</td>\n",
              "    </tr>\n",
              "    <tr>\n",
              "      <th>18233</th>\n",
              "      <td>'www.institutocgr.coo/web/media/syqvem/dk-\u000fóij...</td>\n",
              "      <td>good</td>\n",
              "      <td>1</td>\n",
              "      <td>[www, institutocgr, coo, web, media, syqvem, d...</td>\n",
              "      <td>[www, institutocgr, coo, web, media, syqvem, d...</td>\n",
              "      <td>www institutocgr coo web media syqvem dk ij r ...</td>\n",
              "    </tr>\n",
              "    <tr>\n",
              "      <th>18234</th>\n",
              "      <td>\u0011\u0018Yìê\fkoãÕ»Î§DéÎ\u0002l½ñ¡ââqtò¸/à; Í</td>\n",
              "      <td>good</td>\n",
              "      <td>1</td>\n",
              "      <td>[Y, ko, D, l, qt]</td>\n",
              "      <td>[y, ko, d, l, qt]</td>\n",
              "      <td>y ko d l qt</td>\n",
              "    </tr>\n",
              "    <tr>\n",
              "      <th>18236</th>\n",
              "      <td>ruta89fm.com/images/AS@Vies/1i75cf7b16vc&lt;F\u0015d16...</td>\n",
              "      <td>good</td>\n",
              "      <td>1</td>\n",
              "      <td>[ruta, fm, com, images, AS, Vies, i, cf, b, vc...</td>\n",
              "      <td>[ruta, fm, com, imag, as, vie, i, cf, b, vc, f...</td>\n",
              "      <td>ruta fm com imag as vie i cf b vc f d b g sd v...</td>\n",
              "    </tr>\n",
              "  </tbody>\n",
              "</table>\n",
              "</div>\n",
              "      <button class=\"colab-df-convert\" onclick=\"convertToInteractive('df-e001c0a9-e921-434c-9539-a950304821af')\"\n",
              "              title=\"Convert this dataframe to an interactive table.\"\n",
              "              style=\"display:none;\">\n",
              "        \n",
              "  <svg xmlns=\"http://www.w3.org/2000/svg\" height=\"24px\"viewBox=\"0 0 24 24\"\n",
              "       width=\"24px\">\n",
              "    <path d=\"M0 0h24v24H0V0z\" fill=\"none\"/>\n",
              "    <path d=\"M18.56 5.44l.94 2.06.94-2.06 2.06-.94-2.06-.94-.94-2.06-.94 2.06-2.06.94zm-11 1L8.5 8.5l.94-2.06 2.06-.94-2.06-.94L8.5 2.5l-.94 2.06-2.06.94zm10 10l.94 2.06.94-2.06 2.06-.94-2.06-.94-.94-2.06-.94 2.06-2.06.94z\"/><path d=\"M17.41 7.96l-1.37-1.37c-.4-.4-.92-.59-1.43-.59-.52 0-1.04.2-1.43.59L10.3 9.45l-7.72 7.72c-.78.78-.78 2.05 0 2.83L4 21.41c.39.39.9.59 1.41.59.51 0 1.02-.2 1.41-.59l7.78-7.78 2.81-2.81c.8-.78.8-2.07 0-2.86zM5.41 20L4 18.59l7.72-7.72 1.47 1.35L5.41 20z\"/>\n",
              "  </svg>\n",
              "      </button>\n",
              "      \n",
              "  <style>\n",
              "    .colab-df-container {\n",
              "      display:flex;\n",
              "      flex-wrap:wrap;\n",
              "      gap: 12px;\n",
              "    }\n",
              "\n",
              "    .colab-df-convert {\n",
              "      background-color: #E8F0FE;\n",
              "      border: none;\n",
              "      border-radius: 50%;\n",
              "      cursor: pointer;\n",
              "      display: none;\n",
              "      fill: #1967D2;\n",
              "      height: 32px;\n",
              "      padding: 0 0 0 0;\n",
              "      width: 32px;\n",
              "    }\n",
              "\n",
              "    .colab-df-convert:hover {\n",
              "      background-color: #E2EBFA;\n",
              "      box-shadow: 0px 1px 2px rgba(60, 64, 67, 0.3), 0px 1px 3px 1px rgba(60, 64, 67, 0.15);\n",
              "      fill: #174EA6;\n",
              "    }\n",
              "\n",
              "    [theme=dark] .colab-df-convert {\n",
              "      background-color: #3B4455;\n",
              "      fill: #D2E3FC;\n",
              "    }\n",
              "\n",
              "    [theme=dark] .colab-df-convert:hover {\n",
              "      background-color: #434B5C;\n",
              "      box-shadow: 0px 1px 3px 1px rgba(0, 0, 0, 0.15);\n",
              "      filter: drop-shadow(0px 1px 2px rgba(0, 0, 0, 0.3));\n",
              "      fill: #FFFFFF;\n",
              "    }\n",
              "  </style>\n",
              "\n",
              "      <script>\n",
              "        const buttonEl =\n",
              "          document.querySelector('#df-e001c0a9-e921-434c-9539-a950304821af button.colab-df-convert');\n",
              "        buttonEl.style.display =\n",
              "          google.colab.kernel.accessAllowed ? 'block' : 'none';\n",
              "\n",
              "        async function convertToInteractive(key) {\n",
              "          const element = document.querySelector('#df-e001c0a9-e921-434c-9539-a950304821af');\n",
              "          const dataTable =\n",
              "            await google.colab.kernel.invokeFunction('convertToInteractive',\n",
              "                                                     [key], {});\n",
              "          if (!dataTable) return;\n",
              "\n",
              "          const docLinkHtml = 'Like what you see? Visit the ' +\n",
              "            '<a target=\"_blank\" href=https://colab.research.google.com/notebooks/data_table.ipynb>data table notebook</a>'\n",
              "            + ' to learn more about interactive tables.';\n",
              "          element.innerHTML = '';\n",
              "          dataTable['output_type'] = 'display_data';\n",
              "          await google.colab.output.renderOutput(dataTable, element);\n",
              "          const docLink = document.createElement('div');\n",
              "          docLink.innerHTML = docLinkHtml;\n",
              "          element.appendChild(docLink);\n",
              "        }\n",
              "      </script>\n",
              "    </div>\n",
              "  </div>\n",
              "  "
            ]
          },
          "metadata": {},
          "execution_count": 24
        }
      ]
    },
    {
      "cell_type": "code",
      "source": [
        "data.head()"
      ],
      "metadata": {
        "id": "pOG176df_wVT",
        "colab": {
          "base_uri": "https://localhost:8080/",
          "height": 302
        },
        "outputId": "74704192-d110-4a42-b862-ca808404be1c"
      },
      "execution_count": null,
      "outputs": [
        {
          "output_type": "execute_result",
          "data": {
            "text/plain": [
              "                                                 URL Label  label_enc  \\\n",
              "0  nobell.it/70ffb52d079109dca5664cce6f317373782/...   bad          0   \n",
              "1  www.dghjdgf.com/paypal.co.uk/cycgi-bin/webscrc...   bad          0   \n",
              "2  serviciosbys.com/paypal.cgi.bin.get-into.herf....   bad          0   \n",
              "3  mail.printakid.com/www.online.americanexpress....   bad          0   \n",
              "4  thewhiskeydregs.com/wp-content/themes/widescre...   bad          0   \n",
              "\n",
              "                                      text_tokenized  \\\n",
              "0  [nobell, it, ffb, d, dca, cce, f, login, SkyPe...   \n",
              "1  [www, dghjdgf, com, paypal, co, uk, cycgi, bin...   \n",
              "2  [serviciosbys, com, paypal, cgi, bin, get, int...   \n",
              "3  [mail, printakid, com, www, online, americanex...   \n",
              "4  [thewhiskeydregs, com, wp, content, themes, wi...   \n",
              "\n",
              "                                        text_stemmed  \\\n",
              "0  [nobel, it, ffb, d, dca, cce, f, login, skype,...   \n",
              "1  [www, dghjdgf, com, paypal, co, uk, cycgi, bin...   \n",
              "2  [serviciosbi, com, paypal, cgi, bin, get, into...   \n",
              "3  [mail, printakid, com, www, onlin, americanexp...   \n",
              "4  [thewhiskeydreg, com, wp, content, theme, wide...   \n",
              "\n",
              "                                           text_sent  \n",
              "0  nobel it ffb d dca cce f login skype com en cg...  \n",
              "1  www dghjdgf com paypal co uk cycgi bin webscrc...  \n",
              "2  serviciosbi com paypal cgi bin get into herf s...  \n",
              "3  mail printakid com www onlin americanexpress c...  \n",
              "4  thewhiskeydreg com wp content theme widescreen...  "
            ],
            "text/html": [
              "\n",
              "  <div id=\"df-e078c358-b74e-449f-a828-436e941b8db6\">\n",
              "    <div class=\"colab-df-container\">\n",
              "      <div>\n",
              "<style scoped>\n",
              "    .dataframe tbody tr th:only-of-type {\n",
              "        vertical-align: middle;\n",
              "    }\n",
              "\n",
              "    .dataframe tbody tr th {\n",
              "        vertical-align: top;\n",
              "    }\n",
              "\n",
              "    .dataframe thead th {\n",
              "        text-align: right;\n",
              "    }\n",
              "</style>\n",
              "<table border=\"1\" class=\"dataframe\">\n",
              "  <thead>\n",
              "    <tr style=\"text-align: right;\">\n",
              "      <th></th>\n",
              "      <th>URL</th>\n",
              "      <th>Label</th>\n",
              "      <th>label_enc</th>\n",
              "      <th>text_tokenized</th>\n",
              "      <th>text_stemmed</th>\n",
              "      <th>text_sent</th>\n",
              "    </tr>\n",
              "  </thead>\n",
              "  <tbody>\n",
              "    <tr>\n",
              "      <th>0</th>\n",
              "      <td>nobell.it/70ffb52d079109dca5664cce6f317373782/...</td>\n",
              "      <td>bad</td>\n",
              "      <td>0</td>\n",
              "      <td>[nobell, it, ffb, d, dca, cce, f, login, SkyPe...</td>\n",
              "      <td>[nobel, it, ffb, d, dca, cce, f, login, skype,...</td>\n",
              "      <td>nobel it ffb d dca cce f login skype com en cg...</td>\n",
              "    </tr>\n",
              "    <tr>\n",
              "      <th>1</th>\n",
              "      <td>www.dghjdgf.com/paypal.co.uk/cycgi-bin/webscrc...</td>\n",
              "      <td>bad</td>\n",
              "      <td>0</td>\n",
              "      <td>[www, dghjdgf, com, paypal, co, uk, cycgi, bin...</td>\n",
              "      <td>[www, dghjdgf, com, paypal, co, uk, cycgi, bin...</td>\n",
              "      <td>www dghjdgf com paypal co uk cycgi bin webscrc...</td>\n",
              "    </tr>\n",
              "    <tr>\n",
              "      <th>2</th>\n",
              "      <td>serviciosbys.com/paypal.cgi.bin.get-into.herf....</td>\n",
              "      <td>bad</td>\n",
              "      <td>0</td>\n",
              "      <td>[serviciosbys, com, paypal, cgi, bin, get, int...</td>\n",
              "      <td>[serviciosbi, com, paypal, cgi, bin, get, into...</td>\n",
              "      <td>serviciosbi com paypal cgi bin get into herf s...</td>\n",
              "    </tr>\n",
              "    <tr>\n",
              "      <th>3</th>\n",
              "      <td>mail.printakid.com/www.online.americanexpress....</td>\n",
              "      <td>bad</td>\n",
              "      <td>0</td>\n",
              "      <td>[mail, printakid, com, www, online, americanex...</td>\n",
              "      <td>[mail, printakid, com, www, onlin, americanexp...</td>\n",
              "      <td>mail printakid com www onlin americanexpress c...</td>\n",
              "    </tr>\n",
              "    <tr>\n",
              "      <th>4</th>\n",
              "      <td>thewhiskeydregs.com/wp-content/themes/widescre...</td>\n",
              "      <td>bad</td>\n",
              "      <td>0</td>\n",
              "      <td>[thewhiskeydregs, com, wp, content, themes, wi...</td>\n",
              "      <td>[thewhiskeydreg, com, wp, content, theme, wide...</td>\n",
              "      <td>thewhiskeydreg com wp content theme widescreen...</td>\n",
              "    </tr>\n",
              "  </tbody>\n",
              "</table>\n",
              "</div>\n",
              "      <button class=\"colab-df-convert\" onclick=\"convertToInteractive('df-e078c358-b74e-449f-a828-436e941b8db6')\"\n",
              "              title=\"Convert this dataframe to an interactive table.\"\n",
              "              style=\"display:none;\">\n",
              "        \n",
              "  <svg xmlns=\"http://www.w3.org/2000/svg\" height=\"24px\"viewBox=\"0 0 24 24\"\n",
              "       width=\"24px\">\n",
              "    <path d=\"M0 0h24v24H0V0z\" fill=\"none\"/>\n",
              "    <path d=\"M18.56 5.44l.94 2.06.94-2.06 2.06-.94-2.06-.94-.94-2.06-.94 2.06-2.06.94zm-11 1L8.5 8.5l.94-2.06 2.06-.94-2.06-.94L8.5 2.5l-.94 2.06-2.06.94zm10 10l.94 2.06.94-2.06 2.06-.94-2.06-.94-.94-2.06-.94 2.06-2.06.94z\"/><path d=\"M17.41 7.96l-1.37-1.37c-.4-.4-.92-.59-1.43-.59-.52 0-1.04.2-1.43.59L10.3 9.45l-7.72 7.72c-.78.78-.78 2.05 0 2.83L4 21.41c.39.39.9.59 1.41.59.51 0 1.02-.2 1.41-.59l7.78-7.78 2.81-2.81c.8-.78.8-2.07 0-2.86zM5.41 20L4 18.59l7.72-7.72 1.47 1.35L5.41 20z\"/>\n",
              "  </svg>\n",
              "      </button>\n",
              "      \n",
              "  <style>\n",
              "    .colab-df-container {\n",
              "      display:flex;\n",
              "      flex-wrap:wrap;\n",
              "      gap: 12px;\n",
              "    }\n",
              "\n",
              "    .colab-df-convert {\n",
              "      background-color: #E8F0FE;\n",
              "      border: none;\n",
              "      border-radius: 50%;\n",
              "      cursor: pointer;\n",
              "      display: none;\n",
              "      fill: #1967D2;\n",
              "      height: 32px;\n",
              "      padding: 0 0 0 0;\n",
              "      width: 32px;\n",
              "    }\n",
              "\n",
              "    .colab-df-convert:hover {\n",
              "      background-color: #E2EBFA;\n",
              "      box-shadow: 0px 1px 2px rgba(60, 64, 67, 0.3), 0px 1px 3px 1px rgba(60, 64, 67, 0.15);\n",
              "      fill: #174EA6;\n",
              "    }\n",
              "\n",
              "    [theme=dark] .colab-df-convert {\n",
              "      background-color: #3B4455;\n",
              "      fill: #D2E3FC;\n",
              "    }\n",
              "\n",
              "    [theme=dark] .colab-df-convert:hover {\n",
              "      background-color: #434B5C;\n",
              "      box-shadow: 0px 1px 3px 1px rgba(0, 0, 0, 0.15);\n",
              "      filter: drop-shadow(0px 1px 2px rgba(0, 0, 0, 0.3));\n",
              "      fill: #FFFFFF;\n",
              "    }\n",
              "  </style>\n",
              "\n",
              "      <script>\n",
              "        const buttonEl =\n",
              "          document.querySelector('#df-e078c358-b74e-449f-a828-436e941b8db6 button.colab-df-convert');\n",
              "        buttonEl.style.display =\n",
              "          google.colab.kernel.accessAllowed ? 'block' : 'none';\n",
              "\n",
              "        async function convertToInteractive(key) {\n",
              "          const element = document.querySelector('#df-e078c358-b74e-449f-a828-436e941b8db6');\n",
              "          const dataTable =\n",
              "            await google.colab.kernel.invokeFunction('convertToInteractive',\n",
              "                                                     [key], {});\n",
              "          if (!dataTable) return;\n",
              "\n",
              "          const docLinkHtml = 'Like what you see? Visit the ' +\n",
              "            '<a target=\"_blank\" href=https://colab.research.google.com/notebooks/data_table.ipynb>data table notebook</a>'\n",
              "            + ' to learn more about interactive tables.';\n",
              "          element.innerHTML = '';\n",
              "          dataTable['output_type'] = 'display_data';\n",
              "          await google.colab.output.renderOutput(dataTable, element);\n",
              "          const docLink = document.createElement('div');\n",
              "          docLink.innerHTML = docLinkHtml;\n",
              "          element.appendChild(docLink);\n",
              "        }\n",
              "      </script>\n",
              "    </div>\n",
              "  </div>\n",
              "  "
            ]
          },
          "metadata": {},
          "execution_count": 25
        }
      ]
    },
    {
      "cell_type": "markdown",
      "source": [
        "## Ekstraksi fitur menjadi sebuah matrix"
      ],
      "metadata": {
        "id": "sEi2tH-mvTI8"
      }
    },
    {
      "cell_type": "code",
      "source": [
        "#Ekstraksi Fitur menjadi sebuah matriks\n",
        "cv = CountVectorizer()"
      ],
      "metadata": {
        "id": "mB_BEm2Ovcbn"
      },
      "execution_count": null,
      "outputs": []
    },
    {
      "cell_type": "code",
      "source": [
        "feature = cv.fit_transform(data.text_sent) #transform all text which we tokenize and stemed"
      ],
      "metadata": {
        "id": "eV4YsMVSvfP2"
      },
      "execution_count": null,
      "outputs": []
    },
    {
      "cell_type": "code",
      "source": [
        "feature[:5].toarray() # convert sparse matrix into array to print transformed features"
      ],
      "metadata": {
        "colab": {
          "base_uri": "https://localhost:8080/"
        },
        "id": "x4PsUqA8vg1U",
        "outputId": "656c8fc1-23db-4103-cd5f-c0e2693f60fa"
      },
      "execution_count": null,
      "outputs": [
        {
          "output_type": "execute_result",
          "data": {
            "text/plain": [
              "array([[0, 0, 0, ..., 0, 0, 0],\n",
              "       [0, 0, 0, ..., 0, 0, 0],\n",
              "       [0, 0, 0, ..., 0, 0, 0],\n",
              "       [0, 0, 0, ..., 0, 0, 0],\n",
              "       [0, 0, 0, ..., 0, 0, 0]])"
            ]
          },
          "metadata": {},
          "execution_count": 28
        }
      ]
    },
    {
      "cell_type": "code",
      "source": [
        "import pickle\n",
        "with open('feature.pickle', 'wb') as output:\n",
        "  pickle.dump(feature, output)"
      ],
      "metadata": {
        "id": "NLynJB4YYfGd"
      },
      "execution_count": null,
      "outputs": []
    },
    {
      "cell_type": "code",
      "source": [
        "from sklearn.model_selection import train_test_split\n",
        "trainX, testX, trainY, testY = train_test_split(feature, data.label_enc)"
      ],
      "metadata": {
        "id": "Ex9lShTJvuEL"
      },
      "execution_count": null,
      "outputs": []
    },
    {
      "cell_type": "markdown",
      "source": [
        "## Logistic Regression"
      ],
      "metadata": {
        "id": "Vf8tcNG7v3XH"
      }
    },
    {
      "cell_type": "code",
      "source": [
        "from sklearn.linear_model import LogisticRegression\n",
        "\n",
        "# Create LR object\n",
        "lr = LogisticRegression()\n",
        "\n",
        "# Train algoritma\n",
        "lr.fit(trainX,trainY)"
      ],
      "metadata": {
        "colab": {
          "base_uri": "https://localhost:8080/",
          "height": 213
        },
        "id": "NvhZMhpDv6WP",
        "outputId": "e58e1aec-388d-4b3b-c452-1a30aa8dc207"
      },
      "execution_count": null,
      "outputs": [
        {
          "output_type": "stream",
          "name": "stderr",
          "text": [
            "/usr/local/lib/python3.10/dist-packages/sklearn/linear_model/_logistic.py:458: ConvergenceWarning: lbfgs failed to converge (status=1):\n",
            "STOP: TOTAL NO. of ITERATIONS REACHED LIMIT.\n",
            "\n",
            "Increase the number of iterations (max_iter) or scale the data as shown in:\n",
            "    https://scikit-learn.org/stable/modules/preprocessing.html\n",
            "Please also refer to the documentation for alternative solver options:\n",
            "    https://scikit-learn.org/stable/modules/linear_model.html#logistic-regression\n",
            "  n_iter_i = _check_optimize_result(\n"
          ]
        },
        {
          "output_type": "execute_result",
          "data": {
            "text/plain": [
              "LogisticRegression()"
            ],
            "text/html": [
              "<style>#sk-container-id-1 {color: black;background-color: white;}#sk-container-id-1 pre{padding: 0;}#sk-container-id-1 div.sk-toggleable {background-color: white;}#sk-container-id-1 label.sk-toggleable__label {cursor: pointer;display: block;width: 100%;margin-bottom: 0;padding: 0.3em;box-sizing: border-box;text-align: center;}#sk-container-id-1 label.sk-toggleable__label-arrow:before {content: \"▸\";float: left;margin-right: 0.25em;color: #696969;}#sk-container-id-1 label.sk-toggleable__label-arrow:hover:before {color: black;}#sk-container-id-1 div.sk-estimator:hover label.sk-toggleable__label-arrow:before {color: black;}#sk-container-id-1 div.sk-toggleable__content {max-height: 0;max-width: 0;overflow: hidden;text-align: left;background-color: #f0f8ff;}#sk-container-id-1 div.sk-toggleable__content pre {margin: 0.2em;color: black;border-radius: 0.25em;background-color: #f0f8ff;}#sk-container-id-1 input.sk-toggleable__control:checked~div.sk-toggleable__content {max-height: 200px;max-width: 100%;overflow: auto;}#sk-container-id-1 input.sk-toggleable__control:checked~label.sk-toggleable__label-arrow:before {content: \"▾\";}#sk-container-id-1 div.sk-estimator input.sk-toggleable__control:checked~label.sk-toggleable__label {background-color: #d4ebff;}#sk-container-id-1 div.sk-label input.sk-toggleable__control:checked~label.sk-toggleable__label {background-color: #d4ebff;}#sk-container-id-1 input.sk-hidden--visually {border: 0;clip: rect(1px 1px 1px 1px);clip: rect(1px, 1px, 1px, 1px);height: 1px;margin: -1px;overflow: hidden;padding: 0;position: absolute;width: 1px;}#sk-container-id-1 div.sk-estimator {font-family: monospace;background-color: #f0f8ff;border: 1px dotted black;border-radius: 0.25em;box-sizing: border-box;margin-bottom: 0.5em;}#sk-container-id-1 div.sk-estimator:hover {background-color: #d4ebff;}#sk-container-id-1 div.sk-parallel-item::after {content: \"\";width: 100%;border-bottom: 1px solid gray;flex-grow: 1;}#sk-container-id-1 div.sk-label:hover label.sk-toggleable__label {background-color: #d4ebff;}#sk-container-id-1 div.sk-serial::before {content: \"\";position: absolute;border-left: 1px solid gray;box-sizing: border-box;top: 0;bottom: 0;left: 50%;z-index: 0;}#sk-container-id-1 div.sk-serial {display: flex;flex-direction: column;align-items: center;background-color: white;padding-right: 0.2em;padding-left: 0.2em;position: relative;}#sk-container-id-1 div.sk-item {position: relative;z-index: 1;}#sk-container-id-1 div.sk-parallel {display: flex;align-items: stretch;justify-content: center;background-color: white;position: relative;}#sk-container-id-1 div.sk-item::before, #sk-container-id-1 div.sk-parallel-item::before {content: \"\";position: absolute;border-left: 1px solid gray;box-sizing: border-box;top: 0;bottom: 0;left: 50%;z-index: -1;}#sk-container-id-1 div.sk-parallel-item {display: flex;flex-direction: column;z-index: 1;position: relative;background-color: white;}#sk-container-id-1 div.sk-parallel-item:first-child::after {align-self: flex-end;width: 50%;}#sk-container-id-1 div.sk-parallel-item:last-child::after {align-self: flex-start;width: 50%;}#sk-container-id-1 div.sk-parallel-item:only-child::after {width: 0;}#sk-container-id-1 div.sk-dashed-wrapped {border: 1px dashed gray;margin: 0 0.4em 0.5em 0.4em;box-sizing: border-box;padding-bottom: 0.4em;background-color: white;}#sk-container-id-1 div.sk-label label {font-family: monospace;font-weight: bold;display: inline-block;line-height: 1.2em;}#sk-container-id-1 div.sk-label-container {text-align: center;}#sk-container-id-1 div.sk-container {/* jupyter's `normalize.less` sets `[hidden] { display: none; }` but bootstrap.min.css set `[hidden] { display: none !important; }` so we also need the `!important` here to be able to override the default hidden behavior on the sphinx rendered scikit-learn.org. See: https://github.com/scikit-learn/scikit-learn/issues/21755 */display: inline-block !important;position: relative;}#sk-container-id-1 div.sk-text-repr-fallback {display: none;}</style><div id=\"sk-container-id-1\" class=\"sk-top-container\"><div class=\"sk-text-repr-fallback\"><pre>LogisticRegression()</pre><b>In a Jupyter environment, please rerun this cell to show the HTML representation or trust the notebook. <br />On GitHub, the HTML representation is unable to render, please try loading this page with nbviewer.org.</b></div><div class=\"sk-container\" hidden><div class=\"sk-item\"><div class=\"sk-estimator sk-toggleable\"><input class=\"sk-toggleable__control sk-hidden--visually\" id=\"sk-estimator-id-1\" type=\"checkbox\" checked><label for=\"sk-estimator-id-1\" class=\"sk-toggleable__label sk-toggleable__label-arrow\">LogisticRegression</label><div class=\"sk-toggleable__content\"><pre>LogisticRegression()</pre></div></div></div></div></div>"
            ]
          },
          "metadata": {},
          "execution_count": 31
        }
      ]
    },
    {
      "cell_type": "code",
      "source": [
        "lr.score(testX,testY)"
      ],
      "metadata": {
        "colab": {
          "base_uri": "https://localhost:8080/"
        },
        "id": "tlrK3kQ2wAUq",
        "outputId": "77637704-9223-47c8-db98-3799ed7b5289"
      },
      "execution_count": null,
      "outputs": [
        {
          "output_type": "execute_result",
          "data": {
            "text/plain": [
              "0.9649038496544995"
            ]
          },
          "metadata": {},
          "execution_count": 32
        }
      ]
    },
    {
      "cell_type": "code",
      "source": [
        "Scores_ml = {}\n",
        "Scores_ml['Logistic Regression'] = np.round(lr.score(testX,testY),2)"
      ],
      "metadata": {
        "id": "qo9Mm7tywEbh"
      },
      "execution_count": null,
      "outputs": []
    },
    {
      "cell_type": "code",
      "source": [
        "# creating confusing matrix\n",
        "print('Training Accuracy :',lr.score(trainX,trainY))\n",
        "print('Testing Accuracy :',lr.score(testX,testY))\n",
        "con_mat = pd.DataFrame(confusion_matrix(lr.predict(testX), testY),\n",
        "            columns = ['Predicted:Bad', 'Predicted:Good'],\n",
        "            index = ['Actual:Bad', 'Actual:Good'])\n",
        "\n",
        "\n",
        "print('\\nCLASSIFICATION REPORT\\n')\n",
        "print(classification_report(lr.predict(testX), testY,\n",
        "                            target_names =['Bad','Good']))\n",
        "\n",
        "print('\\nCONFUSION MATRIX')\n",
        "plt.figure(figsize= (6,4))\n",
        "sns.heatmap(con_mat, annot = True,fmt='d',cmap=\"YlGnBu\")"
      ],
      "metadata": {
        "colab": {
          "base_uri": "https://localhost:8080/",
          "height": 663
        },
        "id": "CsXpgNq-wIPn",
        "outputId": "e10767d7-2838-4f37-ced2-947e6c0923d5"
      },
      "execution_count": null,
      "outputs": [
        {
          "output_type": "stream",
          "name": "stdout",
          "text": [
            "Training Accuracy : 0.9779567922059955\n",
            "Testing Accuracy : 0.9649038496544995\n",
            "\n",
            "CLASSIFICATION REPORT\n",
            "\n",
            "              precision    recall  f1-score   support\n",
            "\n",
            "         Bad       0.91      0.96      0.94     36904\n",
            "        Good       0.99      0.97      0.98    100433\n",
            "\n",
            "    accuracy                           0.96    137337\n",
            "   macro avg       0.95      0.96      0.96    137337\n",
            "weighted avg       0.97      0.96      0.97    137337\n",
            "\n",
            "\n",
            "CONFUSION MATRIX\n"
          ]
        },
        {
          "output_type": "execute_result",
          "data": {
            "text/plain": [
              "<Axes: >"
            ]
          },
          "metadata": {},
          "execution_count": 34
        },
        {
          "output_type": "display_data",
          "data": {
            "text/plain": [
              "<Figure size 600x400 with 2 Axes>"
            ],
            "image/png": "[encoded data removed]"
          },
          "metadata": {}
        }
      ]
    },
    {
      "cell_type": "markdown",
      "source": [
        "## Multinomial NB\n"
      ],
      "metadata": {
        "id": "SvK3eM2557r1"
      }
    },
    {
      "cell_type": "code",
      "source": [
        "from sklearn.naive_bayes import MultinomialNB \n",
        "\n",
        "# Create mnb object\n",
        "mnb = MultinomialNB()\n",
        "\n",
        "# Fit/Latih algoritma model mnb\n",
        "mnb.fit(trainX,trainY)"
      ],
      "metadata": {
        "colab": {
          "base_uri": "https://localhost:8080/",
          "height": 74
        },
        "id": "U5ldL5z7wL0q",
        "outputId": "ae67414c-0afd-4033-a00c-04b70addf8fc"
      },
      "execution_count": null,
      "outputs": [
        {
          "output_type": "execute_result",
          "data": {
            "text/plain": [
              "MultinomialNB()"
            ],
            "text/html": [
              "<style>#sk-container-id-2 {color: black;background-color: white;}#sk-container-id-2 pre{padding: 0;}#sk-container-id-2 div.sk-toggleable {background-color: white;}#sk-container-id-2 label.sk-toggleable__label {cursor: pointer;display: block;width: 100%;margin-bottom: 0;padding: 0.3em;box-sizing: border-box;text-align: center;}#sk-container-id-2 label.sk-toggleable__label-arrow:before {content: \"▸\";float: left;margin-right: 0.25em;color: #696969;}#sk-container-id-2 label.sk-toggleable__label-arrow:hover:before {color: black;}#sk-container-id-2 div.sk-estimator:hover label.sk-toggleable__label-arrow:before {color: black;}#sk-container-id-2 div.sk-toggleable__content {max-height: 0;max-width: 0;overflow: hidden;text-align: left;background-color: #f0f8ff;}#sk-container-id-2 div.sk-toggleable__content pre {margin: 0.2em;color: black;border-radius: 0.25em;background-color: #f0f8ff;}#sk-container-id-2 input.sk-toggleable__control:checked~div.sk-toggleable__content {max-height: 200px;max-width: 100%;overflow: auto;}#sk-container-id-2 input.sk-toggleable__control:checked~label.sk-toggleable__label-arrow:before {content: \"▾\";}#sk-container-id-2 div.sk-estimator input.sk-toggleable__control:checked~label.sk-toggleable__label {background-color: #d4ebff;}#sk-container-id-2 div.sk-label input.sk-toggleable__control:checked~label.sk-toggleable__label {background-color: #d4ebff;}#sk-container-id-2 input.sk-hidden--visually {border: 0;clip: rect(1px 1px 1px 1px);clip: rect(1px, 1px, 1px, 1px);height: 1px;margin: -1px;overflow: hidden;padding: 0;position: absolute;width: 1px;}#sk-container-id-2 div.sk-estimator {font-family: monospace;background-color: #f0f8ff;border: 1px dotted black;border-radius: 0.25em;box-sizing: border-box;margin-bottom: 0.5em;}#sk-container-id-2 div.sk-estimator:hover {background-color: #d4ebff;}#sk-container-id-2 div.sk-parallel-item::after {content: \"\";width: 100%;border-bottom: 1px solid gray;flex-grow: 1;}#sk-container-id-2 div.sk-label:hover label.sk-toggleable__label {background-color: #d4ebff;}#sk-container-id-2 div.sk-serial::before {content: \"\";position: absolute;border-left: 1px solid gray;box-sizing: border-box;top: 0;bottom: 0;left: 50%;z-index: 0;}#sk-container-id-2 div.sk-serial {display: flex;flex-direction: column;align-items: center;background-color: white;padding-right: 0.2em;padding-left: 0.2em;position: relative;}#sk-container-id-2 div.sk-item {position: relative;z-index: 1;}#sk-container-id-2 div.sk-parallel {display: flex;align-items: stretch;justify-content: center;background-color: white;position: relative;}#sk-container-id-2 div.sk-item::before, #sk-container-id-2 div.sk-parallel-item::before {content: \"\";position: absolute;border-left: 1px solid gray;box-sizing: border-box;top: 0;bottom: 0;left: 50%;z-index: -1;}#sk-container-id-2 div.sk-parallel-item {display: flex;flex-direction: column;z-index: 1;position: relative;background-color: white;}#sk-container-id-2 div.sk-parallel-item:first-child::after {align-self: flex-end;width: 50%;}#sk-container-id-2 div.sk-parallel-item:last-child::after {align-self: flex-start;width: 50%;}#sk-container-id-2 div.sk-parallel-item:only-child::after {width: 0;}#sk-container-id-2 div.sk-dashed-wrapped {border: 1px dashed gray;margin: 0 0.4em 0.5em 0.4em;box-sizing: border-box;padding-bottom: 0.4em;background-color: white;}#sk-container-id-2 div.sk-label label {font-family: monospace;font-weight: bold;display: inline-block;line-height: 1.2em;}#sk-container-id-2 div.sk-label-container {text-align: center;}#sk-container-id-2 div.sk-container {/* jupyter's `normalize.less` sets `[hidden] { display: none; }` but bootstrap.min.css set `[hidden] { display: none !important; }` so we also need the `!important` here to be able to override the default hidden behavior on the sphinx rendered scikit-learn.org. See: https://github.com/scikit-learn/scikit-learn/issues/21755 */display: inline-block !important;position: relative;}#sk-container-id-2 div.sk-text-repr-fallback {display: none;}</style><div id=\"sk-container-id-2\" class=\"sk-top-container\"><div class=\"sk-text-repr-fallback\"><pre>MultinomialNB()</pre><b>In a Jupyter environment, please rerun this cell to show the HTML representation or trust the notebook. <br />On GitHub, the HTML representation is unable to render, please try loading this page with nbviewer.org.</b></div><div class=\"sk-container\" hidden><div class=\"sk-item\"><div class=\"sk-estimator sk-toggleable\"><input class=\"sk-toggleable__control sk-hidden--visually\" id=\"sk-estimator-id-2\" type=\"checkbox\" checked><label for=\"sk-estimator-id-2\" class=\"sk-toggleable__label sk-toggleable__label-arrow\">MultinomialNB</label><div class=\"sk-toggleable__content\"><pre>MultinomialNB()</pre></div></div></div></div></div>"
            ]
          },
          "metadata": {},
          "execution_count": 35
        }
      ]
    },
    {
      "cell_type": "code",
      "source": [
        "mnb.score(testX,testY)"
      ],
      "metadata": {
        "colab": {
          "base_uri": "https://localhost:8080/"
        },
        "id": "hNC66pYRwcXS",
        "outputId": "fcd2ac4a-cb97-449e-db8e-39e3cd1537c6"
      },
      "execution_count": null,
      "outputs": [
        {
          "output_type": "execute_result",
          "data": {
            "text/plain": [
              "0.9576370533796428"
            ]
          },
          "metadata": {},
          "execution_count": 36
        }
      ]
    },
    {
      "cell_type": "code",
      "source": [
        "Scores_ml['MultinomialNB'] = np.round(mnb.score(testX,testY),2)"
      ],
      "metadata": {
        "id": "c6_0VBvvwoUq"
      },
      "execution_count": null,
      "outputs": []
    },
    {
      "cell_type": "code",
      "source": [
        "print('Training Accuracy :',mnb.score(trainX,trainY))\n",
        "print('Testing Accuracy :',mnb.score(testX,testY))\n",
        "con_mat = pd.DataFrame(confusion_matrix(mnb.predict(testX), testY),\n",
        "            columns = ['Predicted:Bad', 'Predicted:Good'],\n",
        "            index = ['Actual:Bad', 'Actual:Good'])\n",
        "\n",
        "\n",
        "print('\\nCLASSIFICATION REPORT\\n')\n",
        "print(classification_report(mnb.predict(testX), testY,\n",
        "                            target_names =['Bad','Good']))\n",
        "\n",
        "print('\\nCONFUSION MATRIX')\n",
        "plt.figure(figsize= (6,4))\n",
        "sns.heatmap(con_mat, annot = True,fmt='d',cmap=\"YlGnBu\")"
      ],
      "metadata": {
        "colab": {
          "base_uri": "https://localhost:8080/",
          "height": 663
        },
        "id": "V6sfJbTOwqnF",
        "outputId": "1871f56c-75af-4726-f8c3-2f4e4fbed980"
      },
      "execution_count": null,
      "outputs": [
        {
          "output_type": "stream",
          "name": "stdout",
          "text": [
            "Training Accuracy : 0.9741534772298663\n",
            "Testing Accuracy : 0.9576370533796428\n",
            "\n",
            "CLASSIFICATION REPORT\n",
            "\n",
            "              precision    recall  f1-score   support\n",
            "\n",
            "         Bad       0.92      0.93      0.92     38266\n",
            "        Good       0.97      0.97      0.97     99071\n",
            "\n",
            "    accuracy                           0.96    137337\n",
            "   macro avg       0.95      0.95      0.95    137337\n",
            "weighted avg       0.96      0.96      0.96    137337\n",
            "\n",
            "\n",
            "CONFUSION MATRIX\n"
          ]
        },
        {
          "output_type": "execute_result",
          "data": {
            "text/plain": [
              "<Axes: >"
            ]
          },
          "metadata": {},
          "execution_count": 38
        },
        {
          "output_type": "display_data",
          "data": {
            "text/plain": [
              "<Figure size 600x400 with 2 Axes>"
            ],
            "image/png": "[encoded data removed]"
          },
          "metadata": {}
        }
      ]
    },
    {
      "cell_type": "markdown",
      "source": [
        "### Logistic Regression is the best fit model, Now we make sklearn pipeline using Logistic Regression"
      ],
      "metadata": {
        "id": "r_9fTtQFw0nV"
      }
    },
    {
      "cell_type": "code",
      "source": [
        "pipeline_ls = make_pipeline(CountVectorizer(tokenizer = RegexpTokenizer(r'[A-Za-z]+').tokenize,stop_words='english'), LogisticRegression())"
      ],
      "metadata": {
        "id": "WgU5450twzze"
      },
      "execution_count": null,
      "outputs": []
    },
    {
      "cell_type": "code",
      "source": [
        "trainX, testX, trainY, testY = train_test_split(data.URL, data.Label)"
      ],
      "metadata": {
        "id": "I2GXjk3MxYY4"
      },
      "execution_count": null,
      "outputs": []
    },
    {
      "cell_type": "code",
      "source": [
        "pipeline_ls.fit(trainX,trainY)"
      ],
      "metadata": {
        "colab": {
          "base_uri": "https://localhost:8080/",
          "height": 299
        },
        "id": "w0UNmAKLxZ9C",
        "outputId": "ac214d0f-d039-4b27-c882-0295e1b4b06a"
      },
      "execution_count": null,
      "outputs": [
        {
          "output_type": "stream",
          "name": "stderr",
          "text": [
            "/usr/local/lib/python3.10/dist-packages/sklearn/feature_extraction/text.py:528: UserWarning: The parameter 'token_pattern' will not be used since 'tokenizer' is not None'\n",
            "  warnings.warn(\n",
            "/usr/local/lib/python3.10/dist-packages/sklearn/linear_model/_logistic.py:458: ConvergenceWarning: lbfgs failed to converge (status=1):\n",
            "STOP: TOTAL NO. of ITERATIONS REACHED LIMIT.\n",
            "\n",
            "Increase the number of iterations (max_iter) or scale the data as shown in:\n",
            "    https://scikit-learn.org/stable/modules/preprocessing.html\n",
            "Please also refer to the documentation for alternative solver options:\n",
            "    https://scikit-learn.org/stable/modules/linear_model.html#logistic-regression\n",
            "  n_iter_i = _check_optimize_result(\n"
          ]
        },
        {
          "output_type": "execute_result",
          "data": {
            "text/plain": [
              "Pipeline(steps=[('countvectorizer',\n",
              "                 CountVectorizer(stop_words='english',\n",
              "                                 tokenizer=<bound method RegexpTokenizer.tokenize of RegexpTokenizer(pattern='[A-Za-z]+', gaps=False, discard_empty=True, flags=re.UNICODE|re.MULTILINE|re.DOTALL)>)),\n",
              "                ('logisticregression', LogisticRegression())])"
            ],
            "text/html": [
              "<style>#sk-container-id-3 {color: black;background-color: white;}#sk-container-id-3 pre{padding: 0;}#sk-container-id-3 div.sk-toggleable {background-color: white;}#sk-container-id-3 label.sk-toggleable__label {cursor: pointer;display: block;width: 100%;margin-bottom: 0;padding: 0.3em;box-sizing: border-box;text-align: center;}#sk-container-id-3 label.sk-toggleable__label-arrow:before {content: \"▸\";float: left;margin-right: 0.25em;color: #696969;}#sk-container-id-3 label.sk-toggleable__label-arrow:hover:before {color: black;}#sk-container-id-3 div.sk-estimator:hover label.sk-toggleable__label-arrow:before {color: black;}#sk-container-id-3 div.sk-toggleable__content {max-height: 0;max-width: 0;overflow: hidden;text-align: left;background-color: #f0f8ff;}#sk-container-id-3 div.sk-toggleable__content pre {margin: 0.2em;color: black;border-radius: 0.25em;background-color: #f0f8ff;}#sk-container-id-3 input.sk-toggleable__control:checked~div.sk-toggleable__content {max-height: 200px;max-width: 100%;overflow: auto;}#sk-container-id-3 input.sk-toggleable__control:checked~label.sk-toggleable__label-arrow:before {content: \"▾\";}#sk-container-id-3 div.sk-estimator input.sk-toggleable__control:checked~label.sk-toggleable__label {background-color: #d4ebff;}#sk-container-id-3 div.sk-label input.sk-toggleable__control:checked~label.sk-toggleable__label {background-color: #d4ebff;}#sk-container-id-3 input.sk-hidden--visually {border: 0;clip: rect(1px 1px 1px 1px);clip: rect(1px, 1px, 1px, 1px);height: 1px;margin: -1px;overflow: hidden;padding: 0;position: absolute;width: 1px;}#sk-container-id-3 div.sk-estimator {font-family: monospace;background-color: #f0f8ff;border: 1px dotted black;border-radius: 0.25em;box-sizing: border-box;margin-bottom: 0.5em;}#sk-container-id-3 div.sk-estimator:hover {background-color: #d4ebff;}#sk-container-id-3 div.sk-parallel-item::after {content: \"\";width: 100%;border-bottom: 1px solid gray;flex-grow: 1;}#sk-container-id-3 div.sk-label:hover label.sk-toggleable__label {background-color: #d4ebff;}#sk-container-id-3 div.sk-serial::before {content: \"\";position: absolute;border-left: 1px solid gray;box-sizing: border-box;top: 0;bottom: 0;left: 50%;z-index: 0;}#sk-container-id-3 div.sk-serial {display: flex;flex-direction: column;align-items: center;background-color: white;padding-right: 0.2em;padding-left: 0.2em;position: relative;}#sk-container-id-3 div.sk-item {position: relative;z-index: 1;}#sk-container-id-3 div.sk-parallel {display: flex;align-items: stretch;justify-content: center;background-color: white;position: relative;}#sk-container-id-3 div.sk-item::before, #sk-container-id-3 div.sk-parallel-item::before {content: \"\";position: absolute;border-left: 1px solid gray;box-sizing: border-box;top: 0;bottom: 0;left: 50%;z-index: -1;}#sk-container-id-3 div.sk-parallel-item {display: flex;flex-direction: column;z-index: 1;position: relative;background-color: white;}#sk-container-id-3 div.sk-parallel-item:first-child::after {align-self: flex-end;width: 50%;}#sk-container-id-3 div.sk-parallel-item:last-child::after {align-self: flex-start;width: 50%;}#sk-container-id-3 div.sk-parallel-item:only-child::after {width: 0;}#sk-container-id-3 div.sk-dashed-wrapped {border: 1px dashed gray;margin: 0 0.4em 0.5em 0.4em;box-sizing: border-box;padding-bottom: 0.4em;background-color: white;}#sk-container-id-3 div.sk-label label {font-family: monospace;font-weight: bold;display: inline-block;line-height: 1.2em;}#sk-container-id-3 div.sk-label-container {text-align: center;}#sk-container-id-3 div.sk-container {/* jupyter's `normalize.less` sets `[hidden] { display: none; }` but bootstrap.min.css set `[hidden] { display: none !important; }` so we also need the `!important` here to be able to override the default hidden behavior on the sphinx rendered scikit-learn.org. See: https://github.com/scikit-learn/scikit-learn/issues/21755 */display: inline-block !important;position: relative;}#sk-container-id-3 div.sk-text-repr-fallback {display: none;}</style><div id=\"sk-container-id-3\" class=\"sk-top-container\"><div class=\"sk-text-repr-fallback\"><pre>Pipeline(steps=[(&#x27;countvectorizer&#x27;,\n",
              "                 CountVectorizer(stop_words=&#x27;english&#x27;,\n",
              "                                 tokenizer=&lt;bound method RegexpTokenizer.tokenize of RegexpTokenizer(pattern=&#x27;[A-Za-z]+&#x27;, gaps=False, discard_empty=True, flags=re.UNICODE|re.MULTILINE|re.DOTALL)&gt;)),\n",
              "                (&#x27;logisticregression&#x27;, LogisticRegression())])</pre><b>In a Jupyter environment, please rerun this cell to show the HTML representation or trust the notebook. <br />On GitHub, the HTML representation is unable to render, please try loading this page with nbviewer.org.</b></div><div class=\"sk-container\" hidden><div class=\"sk-item sk-dashed-wrapped\"><div class=\"sk-label-container\"><div class=\"sk-label sk-toggleable\"><input class=\"sk-toggleable__control sk-hidden--visually\" id=\"sk-estimator-id-3\" type=\"checkbox\" ><label for=\"sk-estimator-id-3\" class=\"sk-toggleable__label sk-toggleable__label-arrow\">Pipeline</label><div class=\"sk-toggleable__content\"><pre>Pipeline(steps=[(&#x27;countvectorizer&#x27;,\n",
              "                 CountVectorizer(stop_words=&#x27;english&#x27;,\n",
              "                                 tokenizer=&lt;bound method RegexpTokenizer.tokenize of RegexpTokenizer(pattern=&#x27;[A-Za-z]+&#x27;, gaps=False, discard_empty=True, flags=re.UNICODE|re.MULTILINE|re.DOTALL)&gt;)),\n",
              "                (&#x27;logisticregression&#x27;, LogisticRegression())])</pre></div></div></div><div class=\"sk-serial\"><div class=\"sk-item\"><div class=\"sk-estimator sk-toggleable\"><input class=\"sk-toggleable__control sk-hidden--visually\" id=\"sk-estimator-id-4\" type=\"checkbox\" ><label for=\"sk-estimator-id-4\" class=\"sk-toggleable__label sk-toggleable__label-arrow\">CountVectorizer</label><div class=\"sk-toggleable__content\"><pre>CountVectorizer(stop_words=&#x27;english&#x27;,\n",
              "                tokenizer=&lt;bound method RegexpTokenizer.tokenize of RegexpTokenizer(pattern=&#x27;[A-Za-z]+&#x27;, gaps=False, discard_empty=True, flags=re.UNICODE|re.MULTILINE|re.DOTALL)&gt;)</pre></div></div></div><div class=\"sk-item\"><div class=\"sk-estimator sk-toggleable\"><input class=\"sk-toggleable__control sk-hidden--visually\" id=\"sk-estimator-id-5\" type=\"checkbox\" ><label for=\"sk-estimator-id-5\" class=\"sk-toggleable__label sk-toggleable__label-arrow\">LogisticRegression</label><div class=\"sk-toggleable__content\"><pre>LogisticRegression()</pre></div></div></div></div></div></div></div>"
            ]
          },
          "metadata": {},
          "execution_count": 41
        }
      ]
    },
    {
      "cell_type": "code",
      "source": [
        "pipeline_ls.score(testX,testY)"
      ],
      "metadata": {
        "colab": {
          "base_uri": "https://localhost:8080/"
        },
        "id": "nan_6tdfxbx5",
        "outputId": "4e535d3f-2e3f-408e-f088-cb0cd8e58bd8"
      },
      "execution_count": null,
      "outputs": [
        {
          "output_type": "execute_result",
          "data": {
            "text/plain": [
              "0.966636813094796"
            ]
          },
          "metadata": {},
          "execution_count": 42
        }
      ]
    },
    {
      "cell_type": "code",
      "source": [
        "print('Training Accuracy :',pipeline_ls.score(trainX,trainY))\n",
        "print('Testing Accuracy :',pipeline_ls.score(testX,testY))\n",
        "con_mat = pd.DataFrame(confusion_matrix(pipeline_ls.predict(testX), testY),\n",
        "            columns = ['Predicted:Bad', 'Predicted:Good'],\n",
        "            index = ['Actual:Bad', 'Actual:Good'])\n",
        "\n",
        "\n",
        "print('\\nCLASSIFICATION REPORT\\n')\n",
        "print(classification_report(pipeline_ls.predict(testX), testY,\n",
        "                            target_names =['Bad','Good']))\n",
        "\n",
        "print('\\nCONFUSION MATRIX')\n",
        "plt.figure(figsize= (6,4))\n",
        "sns.heatmap(con_mat, annot = True,fmt='d',cmap=\"YlGnBu\")"
      ],
      "metadata": {
        "colab": {
          "base_uri": "https://localhost:8080/",
          "height": 663
        },
        "id": "O7APSI87xeIJ",
        "outputId": "996a4116-9aee-465c-f055-de4d05f73fab"
      },
      "execution_count": null,
      "outputs": [
        {
          "output_type": "stream",
          "name": "stdout",
          "text": [
            "Training Accuracy : 0.9799130601515986\n",
            "Testing Accuracy : 0.966636813094796\n",
            "\n",
            "CLASSIFICATION REPORT\n",
            "\n",
            "              precision    recall  f1-score   support\n",
            "\n",
            "         Bad       0.91      0.97      0.94     36949\n",
            "        Good       0.99      0.97      0.98    100388\n",
            "\n",
            "    accuracy                           0.97    137337\n",
            "   macro avg       0.95      0.97      0.96    137337\n",
            "weighted avg       0.97      0.97      0.97    137337\n",
            "\n",
            "\n",
            "CONFUSION MATRIX\n"
          ]
        },
        {
          "output_type": "execute_result",
          "data": {
            "text/plain": [
              "<Axes: >"
            ]
          },
          "metadata": {},
          "execution_count": 43
        },
        {
          "output_type": "display_data",
          "data": {
            "text/plain": [
              "<Figure size 600x400 with 2 Axes>"
            ],
            "image/png": "[encoded data removed]"
          },
          "metadata": {}
        }
      ]
    },
    {
      "cell_type": "code",
      "source": [
        "joblib.dump((pipeline_ls), \"model_phishing_lr.model\")"
      ],
      "metadata": {
        "id": "Hb2p9U0mxgvC",
        "colab": {
          "base_uri": "https://localhost:8080/"
        },
        "outputId": "a461b0fa-008a-470b-d1b9-6aaf28f66cb3"
      },
      "execution_count": null,
      "outputs": [
        {
          "output_type": "execute_result",
          "data": {
            "text/plain": [
              "['model_phishing_lr.model']"
            ]
          },
          "metadata": {},
          "execution_count": 44
        }
      ]
    },
    {
      "cell_type": "code",
      "source": [
        "from joblib import load\n",
        "loaded_model = load('model_phishing_lr.model')\n",
        "result = loaded_model.score(testX,testY)\n",
        "print(result)"
      ],
      "metadata": {
        "colab": {
          "base_uri": "https://localhost:8080/"
        },
        "id": "oQC3o7Fxximz",
        "outputId": "39d94525-7798-4243-85c4-4aa2b642c81f"
      },
      "execution_count": null,
      "outputs": [
        {
          "output_type": "stream",
          "name": "stdout",
          "text": [
            "0.966636813094796\n"
          ]
        }
      ]
    },
    {
      "cell_type": "markdown",
      "source": [
        "## Try to predict"
      ],
      "metadata": {
        "id": "qH-qS0NCxqXM"
      }
    },
    {
      "cell_type": "code",
      "source": [
        "predict_bad = ['yeniik.com.tr/wp-admin/js/login.alibaba.com/login.jsp.php','fazan-pacir.rs/temp/libraries/ipad','tubemoviez.exe','svision-online.de/mgfi/administrator/components/com_babackup/classes/fx29id1.txt']\n",
        "predict_good = ['youtube.com/','www.kaggle.com/code/ashishkumarbehera/phishing-site-prediction','retailhellunderground.com/','restorevisioncenters.com/html/technology.html']\n",
        "loaded_model = load('model_phishing_lr.model')\n",
        "\n",
        "result = loaded_model.predict(predict_bad)\n",
        "result2 = loaded_model.predict(predict_good)\n",
        "print(result)\n",
        "print(\"*\"*30)\n",
        "print(result2)"
      ],
      "metadata": {
        "id": "MFo8mGtCxtxj",
        "colab": {
          "base_uri": "https://localhost:8080/"
        },
        "outputId": "48cd8d55-824f-4b7a-d991-d464aa023212"
      },
      "execution_count": null,
      "outputs": [
        {
          "output_type": "stream",
          "name": "stdout",
          "text": [
            "['bad' 'bad' 'bad' 'bad']\n",
            "******************************\n",
            "['good' 'good' 'good' 'good']\n"
          ]
        }
      ]
    }
  ]
}