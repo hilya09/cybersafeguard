{
  "cells": [
    {
      "cell_type": "markdown",
      "metadata": {
        "id": "view-in-github",
        "colab_type": "text"
      },
      "source": [
        "<a href=\"https://colab.research.google.com/github/hilya09/cybersafeguard/blob/master/train-model-collab/SafeBot/Chatbot_(Deep_Learning)_LSTM.ipynb\" target=\"_parent\"><img src=\"https://colab.research.google.com/assets/colab-badge.svg\" alt=\"Open In Colab\"/></a>"
      ]
    },
    {
      "cell_type": "markdown",
      "id": "d18e160a",
      "metadata": {
        "id": "d18e160a"
      },
      "source": [
        "# Learning-Based Closed Domain Chatbot (Deep Learning)\n",
        "---\n"
      ]
    },
    {
      "cell_type": "markdown",
      "source": [
        "# 01 Import Library"
      ],
      "metadata": {
        "id": "9ZsdBYNrTfgg"
      },
      "id": "9ZsdBYNrTfgg"
    },
    {
      "cell_type": "markdown",
      "source": [
        "Tahapan pertama sebelum melakukan eksplorasi dan praproses pada data adalah memasukan library yang akan digunakan untuk menganalisa dataset dengan menggunakan metode Deep Learning seperti Neural Network dalam pengolahan teks, Chatbot dll. Library yang saya gunakan yaitu NumPy untuk komputasi matematika, Matplotlib untuk visualisasi model data, Natural Language Toolkit atau NLTK untuk pengolahan teks, Pandas untuk membaca data, serta Tensorflow untuk model pada data menggunakan algoritma LSTM dan Jaringan Syaraf Tiruan (Neural Network)."
      ],
      "metadata": {
        "id": "MZMVLNyqYTCK"
      },
      "id": "MZMVLNyqYTCK"
    },
    {
      "cell_type": "code",
      "source": [
        "# pastikan versi scikit-learn == 1.2.2\n",
        "# jika tidak sesuai, install versi scikit-learn yang sesuai\n",
        "!pip show scikit-learn"
      ],
      "metadata": {
        "colab": {
          "base_uri": "https://localhost:8080/"
        },
        "id": "e74MufkevFo8",
        "outputId": "a07449db-be08-43c3-f04b-78503c9fc4fb"
      },
      "id": "e74MufkevFo8",
      "execution_count": 1,
      "outputs": [
        {
          "output_type": "stream",
          "name": "stdout",
          "text": [
            "Name: scikit-learn\n",
            "Version: 1.2.2\n",
            "Summary: A set of python modules for machine learning and data mining\n",
            "Home-page: http://scikit-learn.org\n",
            "Author: \n",
            "Author-email: \n",
            "License: new BSD\n",
            "Location: /usr/local/lib/python3.10/dist-packages\n",
            "Requires: joblib, numpy, scipy, threadpoolctl\n",
            "Required-by: fastai, imbalanced-learn, librosa, lightgbm, mlxtend, qudida, sklearn-pandas, yellowbrick\n"
          ]
        }
      ]
    },
    {
      "cell_type": "code",
      "source": [
        "!pip -q install speechrecognition"
      ],
      "metadata": {
        "colab": {
          "base_uri": "https://localhost:8080/"
        },
        "id": "oxLQOgBjrl9B",
        "outputId": "c69e51ce-b52e-4727-f8c2-028f36598d71"
      },
      "id": "oxLQOgBjrl9B",
      "execution_count": 2,
      "outputs": [
        {
          "output_type": "stream",
          "name": "stdout",
          "text": [
            "\u001b[2K     \u001b[90m━━━━━━━━━━━━━━━━━━━━━━━━━━━━━━━━━━━━━━━━\u001b[0m \u001b[32m32.8/32.8 MB\u001b[0m \u001b[31m53.2 MB/s\u001b[0m eta \u001b[36m0:00:00\u001b[0m\n",
            "\u001b[?25h"
          ]
        }
      ]
    },
    {
      "cell_type": "code",
      "source": [
        "!pip -q install gtts"
      ],
      "metadata": {
        "id": "bd3aGR6wroZK"
      },
      "id": "bd3aGR6wroZK",
      "execution_count": 3,
      "outputs": []
    },
    {
      "cell_type": "code",
      "execution_count": 4,
      "id": "df6e6af3",
      "metadata": {
        "id": "df6e6af3"
      },
      "outputs": [],
      "source": [
        "# Import Libraries\n",
        "import gdown\n",
        "import zipfile\n",
        "import json\n",
        "import nltk\n",
        "import time\n",
        "import random\n",
        "import string\n",
        "import pickle\n",
        "import numpy as np\n",
        "import pandas as pd\n",
        "from gtts import gTTS\n",
        "from io import BytesIO\n",
        "import tensorflow as tf\n",
        "import IPython.display as ipd\n",
        "import speech_recognition as sr \n",
        "import matplotlib.pyplot as plt\n",
        "from nltk.stem import WordNetLemmatizer\n",
        "from tensorflow.keras.models import Model\n",
        "from keras.utils.vis_utils import plot_model\n",
        "from sklearn.preprocessing import LabelEncoder\n",
        "from tensorflow.keras.preprocessing.text import Tokenizer\n",
        "from tensorflow.keras.layers import Input, Embedding, LSTM\n",
        "from tensorflow.keras.preprocessing.sequence import pad_sequences\n",
        "from tensorflow.keras.layers import Flatten, Dense, GlobalMaxPool1D"
      ]
    },
    {
      "cell_type": "markdown",
      "source": [
        "Download NLTK Package"
      ],
      "metadata": {
        "id": "XFqXivzfTGhq"
      },
      "id": "XFqXivzfTGhq"
    },
    {
      "cell_type": "code",
      "source": [
        "# Package sentence tokenizer\n",
        "nltk.download('punkt') \n",
        "# Package lemmatization\n",
        "nltk.download('wordnet')\n",
        "# Package multilingual wordnet data\n",
        "nltk.download('omw-1.4')"
      ],
      "metadata": {
        "colab": {
          "base_uri": "https://localhost:8080/"
        },
        "id": "ZFHfBZ3mO1QE",
        "outputId": "de062830-409e-4142-fc1f-72a6c8f355a9"
      },
      "id": "ZFHfBZ3mO1QE",
      "execution_count": 5,
      "outputs": [
        {
          "output_type": "stream",
          "name": "stderr",
          "text": [
            "[nltk_data] Downloading package punkt to /root/nltk_data...\n",
            "[nltk_data]   Unzipping tokenizers/punkt.zip.\n",
            "[nltk_data] Downloading package wordnet to /root/nltk_data...\n",
            "[nltk_data] Downloading package omw-1.4 to /root/nltk_data...\n"
          ]
        },
        {
          "output_type": "execute_result",
          "data": {
            "text/plain": [
              "True"
            ]
          },
          "metadata": {},
          "execution_count": 5
        }
      ]
    },
    {
      "cell_type": "markdown",
      "source": [
        "# 02 Data Acquisition\n",
        "\n",
        "Setelah kita mengetahui apa saja alur yang digunakan untuk membuat proyek AI Chatbot maka tahapan selanjutnya adalah mengunduh atau download dataset dari google drive."
      ],
      "metadata": {
        "id": "xaowz3BO9B8l"
      },
      "id": "xaowz3BO9B8l"
    },
    {
      "cell_type": "code",
      "source": [
        "# Download dataset\n",
        "gdown.download_folder(\"https://drive.google.com/drive/folders/1o7QbH3x8Xglw4mtHk49LWQBv8MVxJbBe?usp=share_link\")"
      ],
      "metadata": {
        "colab": {
          "base_uri": "https://localhost:8080/"
        },
        "id": "oueXyMCYvUby",
        "outputId": "d6089af3-4b69-447a-99f8-b991efe3ac94"
      },
      "id": "oueXyMCYvUby",
      "execution_count": 6,
      "outputs": [
        {
          "output_type": "stream",
          "name": "stderr",
          "text": [
            "Retrieving folder list\n"
          ]
        },
        {
          "output_type": "stream",
          "name": "stdout",
          "text": [
            "Processing file 1w_WUpocS3szgUVgG2gq6rZdWEUx5Qt5L safebot.zip\n",
            "Building directory structure completed\n"
          ]
        },
        {
          "output_type": "stream",
          "name": "stderr",
          "text": [
            "Retrieving folder list completed\n",
            "Building directory structure\n",
            "Downloading...\n",
            "From: https://drive.google.com/uc?id=1w_WUpocS3szgUVgG2gq6rZdWEUx5Qt5L\n",
            "To: /content/dataset-chatbot/safebot.zip\n",
            "100%|██████████| 10.4k/10.4k [00:00<00:00, 31.8MB/s]\n",
            "Download completed\n"
          ]
        },
        {
          "output_type": "execute_result",
          "data": {
            "text/plain": [
              "['/content/dataset-chatbot/safebot.zip']"
            ]
          },
          "metadata": {},
          "execution_count": 6
        }
      ]
    },
    {
      "cell_type": "code",
      "source": [
        "with zipfile.ZipFile('/content/dataset-chatbot/safebot.zip', 'r') as zip_ref:\n",
        "    zip_ref.extractall('/content/train-model/chatbot/')"
      ],
      "metadata": {
        "id": "9_p_1tSYwRns"
      },
      "id": "9_p_1tSYwRns",
      "execution_count": 7,
      "outputs": []
    },
    {
      "cell_type": "markdown",
      "source": [
        "**Load Dataset Json**\n",
        "\n",
        "Setelah import library, tahapan selanjutnya adalah me-load dataset yang telah disediakan. Dataset yang digunakan berupa format **.json** yang sangat cocok untuk membuat model Chatbot. \n",
        "\n",
        "Data Json merupakan data yang termasuk dalam *semi structured* yang dimana data ini menampung beberapa bagian data seperti **tag**, **pattern**, **context**, dan **response**. Data yang dipakai dalam proyek ini menggunakan dataset manual."
      ],
      "metadata": {
        "id": "gLGpuyY9aMwW"
      },
      "id": "gLGpuyY9aMwW"
    },
    {
      "cell_type": "code",
      "source": [
        "# Importing the dataset\n",
        "with open('/content/train-model/chatbot/safebot.json') as content:\n",
        "  data1 = json.load(content)\n",
        "\n",
        "# Mendapatkan semua data ke dalam list\n",
        "tags = [] # data tag\n",
        "inputs = [] # data input atau pattern\n",
        "responses = {} # data respon\n",
        "words = [] # Data kata \n",
        "classes = [] # Data Kelas atau Tag\n",
        "documents = [] # Data Kalimat Dokumen\n",
        "ignore_words = ['?', '!'] # Mengabaikan tanda spesial karakter\n",
        "\n",
        "for intent in data1['intents']:\n",
        "  responses[intent['tag']]=intent['responses']\n",
        "  for lines in intent['patterns']:\n",
        "    inputs.append(lines)\n",
        "    tags.append(intent['tag'])\n",
        "    for pattern in intent['patterns']:\n",
        "      w = nltk.word_tokenize(pattern)\n",
        "      words.extend(w)\n",
        "      documents.append((w, intent['tag']))\n",
        "      # add to our classes list\n",
        "      if intent['tag'] not in classes:\n",
        "        classes.append(intent['tag'])\n",
        "\n",
        "# Konversi data json ke dalam dataframe\n",
        "data = pd.DataFrame({\"patterns\":inputs, \"tags\":tags})"
      ],
      "metadata": {
        "id": "JD4ILKqFZ_hf"
      },
      "id": "JD4ILKqFZ_hf",
      "execution_count": 8,
      "outputs": []
    },
    {
      "cell_type": "code",
      "source": [
        "# Cetak data keseluruhan\n",
        "data "
      ],
      "metadata": {
        "colab": {
          "base_uri": "https://localhost:8080/",
          "height": 423
        },
        "id": "5N0s7BObcv5-",
        "outputId": "be156fe7-2209-476f-ecd5-3c168832e089"
      },
      "id": "5N0s7BObcv5-",
      "execution_count": 9,
      "outputs": [
        {
          "output_type": "execute_result",
          "data": {
            "text/plain": [
              "                                              patterns                    tags\n",
              "0                                                hallo                greeting\n",
              "1                                                  hai                greeting\n",
              "2                                                 halo                greeting\n",
              "3                                                  hei                greeting\n",
              "4                                                   hi                greeting\n",
              "..                                                 ...                     ...\n",
              "214       Bagaimana mencegah serangan pada WiFi rumah?           jaringan_wifi\n",
              "215  Bagaimana cara beraktivitas di dunia maya deng...  safe_online_activities\n",
              "216  Bagaimana cara menjaga keamanan saat berintera...  safe_online_activities\n",
              "217  Apa tips untuk beraktivitas di dunia maya deng...  safe_online_activities\n",
              "218  tolong berikan tips untuk beraktivitas di duni...  safe_online_activities\n",
              "\n",
              "[219 rows x 2 columns]"
            ],
            "text/html": [
              "\n",
              "  <div id=\"df-2fa69e5c-c345-4fde-a4bb-cca16c7349c7\">\n",
              "    <div class=\"colab-df-container\">\n",
              "      <div>\n",
              "<style scoped>\n",
              "    .dataframe tbody tr th:only-of-type {\n",
              "        vertical-align: middle;\n",
              "    }\n",
              "\n",
              "    .dataframe tbody tr th {\n",
              "        vertical-align: top;\n",
              "    }\n",
              "\n",
              "    .dataframe thead th {\n",
              "        text-align: right;\n",
              "    }\n",
              "</style>\n",
              "<table border=\"1\" class=\"dataframe\">\n",
              "  <thead>\n",
              "    <tr style=\"text-align: right;\">\n",
              "      <th></th>\n",
              "      <th>patterns</th>\n",
              "      <th>tags</th>\n",
              "    </tr>\n",
              "  </thead>\n",
              "  <tbody>\n",
              "    <tr>\n",
              "      <th>0</th>\n",
              "      <td>hallo</td>\n",
              "      <td>greeting</td>\n",
              "    </tr>\n",
              "    <tr>\n",
              "      <th>1</th>\n",
              "      <td>hai</td>\n",
              "      <td>greeting</td>\n",
              "    </tr>\n",
              "    <tr>\n",
              "      <th>2</th>\n",
              "      <td>halo</td>\n",
              "      <td>greeting</td>\n",
              "    </tr>\n",
              "    <tr>\n",
              "      <th>3</th>\n",
              "      <td>hei</td>\n",
              "      <td>greeting</td>\n",
              "    </tr>\n",
              "    <tr>\n",
              "      <th>4</th>\n",
              "      <td>hi</td>\n",
              "      <td>greeting</td>\n",
              "    </tr>\n",
              "    <tr>\n",
              "      <th>...</th>\n",
              "      <td>...</td>\n",
              "      <td>...</td>\n",
              "    </tr>\n",
              "    <tr>\n",
              "      <th>214</th>\n",
              "      <td>Bagaimana mencegah serangan pada WiFi rumah?</td>\n",
              "      <td>jaringan_wifi</td>\n",
              "    </tr>\n",
              "    <tr>\n",
              "      <th>215</th>\n",
              "      <td>Bagaimana cara beraktivitas di dunia maya deng...</td>\n",
              "      <td>safe_online_activities</td>\n",
              "    </tr>\n",
              "    <tr>\n",
              "      <th>216</th>\n",
              "      <td>Bagaimana cara menjaga keamanan saat berintera...</td>\n",
              "      <td>safe_online_activities</td>\n",
              "    </tr>\n",
              "    <tr>\n",
              "      <th>217</th>\n",
              "      <td>Apa tips untuk beraktivitas di dunia maya deng...</td>\n",
              "      <td>safe_online_activities</td>\n",
              "    </tr>\n",
              "    <tr>\n",
              "      <th>218</th>\n",
              "      <td>tolong berikan tips untuk beraktivitas di duni...</td>\n",
              "      <td>safe_online_activities</td>\n",
              "    </tr>\n",
              "  </tbody>\n",
              "</table>\n",
              "<p>219 rows × 2 columns</p>\n",
              "</div>\n",
              "      <button class=\"colab-df-convert\" onclick=\"convertToInteractive('df-2fa69e5c-c345-4fde-a4bb-cca16c7349c7')\"\n",
              "              title=\"Convert this dataframe to an interactive table.\"\n",
              "              style=\"display:none;\">\n",
              "        \n",
              "  <svg xmlns=\"http://www.w3.org/2000/svg\" height=\"24px\"viewBox=\"0 0 24 24\"\n",
              "       width=\"24px\">\n",
              "    <path d=\"M0 0h24v24H0V0z\" fill=\"none\"/>\n",
              "    <path d=\"M18.56 5.44l.94 2.06.94-2.06 2.06-.94-2.06-.94-.94-2.06-.94 2.06-2.06.94zm-11 1L8.5 8.5l.94-2.06 2.06-.94-2.06-.94L8.5 2.5l-.94 2.06-2.06.94zm10 10l.94 2.06.94-2.06 2.06-.94-2.06-.94-.94-2.06-.94 2.06-2.06.94z\"/><path d=\"M17.41 7.96l-1.37-1.37c-.4-.4-.92-.59-1.43-.59-.52 0-1.04.2-1.43.59L10.3 9.45l-7.72 7.72c-.78.78-.78 2.05 0 2.83L4 21.41c.39.39.9.59 1.41.59.51 0 1.02-.2 1.41-.59l7.78-7.78 2.81-2.81c.8-.78.8-2.07 0-2.86zM5.41 20L4 18.59l7.72-7.72 1.47 1.35L5.41 20z\"/>\n",
              "  </svg>\n",
              "      </button>\n",
              "      \n",
              "  <style>\n",
              "    .colab-df-container {\n",
              "      display:flex;\n",
              "      flex-wrap:wrap;\n",
              "      gap: 12px;\n",
              "    }\n",
              "\n",
              "    .colab-df-convert {\n",
              "      background-color: #E8F0FE;\n",
              "      border: none;\n",
              "      border-radius: 50%;\n",
              "      cursor: pointer;\n",
              "      display: none;\n",
              "      fill: #1967D2;\n",
              "      height: 32px;\n",
              "      padding: 0 0 0 0;\n",
              "      width: 32px;\n",
              "    }\n",
              "\n",
              "    .colab-df-convert:hover {\n",
              "      background-color: #E2EBFA;\n",
              "      box-shadow: 0px 1px 2px rgba(60, 64, 67, 0.3), 0px 1px 3px 1px rgba(60, 64, 67, 0.15);\n",
              "      fill: #174EA6;\n",
              "    }\n",
              "\n",
              "    [theme=dark] .colab-df-convert {\n",
              "      background-color: #3B4455;\n",
              "      fill: #D2E3FC;\n",
              "    }\n",
              "\n",
              "    [theme=dark] .colab-df-convert:hover {\n",
              "      background-color: #434B5C;\n",
              "      box-shadow: 0px 1px 3px 1px rgba(0, 0, 0, 0.15);\n",
              "      filter: drop-shadow(0px 1px 2px rgba(0, 0, 0, 0.3));\n",
              "      fill: #FFFFFF;\n",
              "    }\n",
              "  </style>\n",
              "\n",
              "      <script>\n",
              "        const buttonEl =\n",
              "          document.querySelector('#df-2fa69e5c-c345-4fde-a4bb-cca16c7349c7 button.colab-df-convert');\n",
              "        buttonEl.style.display =\n",
              "          google.colab.kernel.accessAllowed ? 'block' : 'none';\n",
              "\n",
              "        async function convertToInteractive(key) {\n",
              "          const element = document.querySelector('#df-2fa69e5c-c345-4fde-a4bb-cca16c7349c7');\n",
              "          const dataTable =\n",
              "            await google.colab.kernel.invokeFunction('convertToInteractive',\n",
              "                                                     [key], {});\n",
              "          if (!dataTable) return;\n",
              "\n",
              "          const docLinkHtml = 'Like what you see? Visit the ' +\n",
              "            '<a target=\"_blank\" href=https://colab.research.google.com/notebooks/data_table.ipynb>data table notebook</a>'\n",
              "            + ' to learn more about interactive tables.';\n",
              "          element.innerHTML = '';\n",
              "          dataTable['output_type'] = 'display_data';\n",
              "          await google.colab.output.renderOutput(dataTable, element);\n",
              "          const docLink = document.createElement('div');\n",
              "          docLink.innerHTML = docLinkHtml;\n",
              "          element.appendChild(docLink);\n",
              "        }\n",
              "      </script>\n",
              "    </div>\n",
              "  </div>\n",
              "  "
            ]
          },
          "metadata": {},
          "execution_count": 9
        }
      ]
    },
    {
      "cell_type": "code",
      "source": [
        "# Cetak data baris pertama sampai baris kelima\n",
        "data.head() "
      ],
      "metadata": {
        "colab": {
          "base_uri": "https://localhost:8080/",
          "height": 206
        },
        "id": "5DFoJwcVdP52",
        "outputId": "a23187de-6dba-46cc-ac64-217422eb1be8"
      },
      "id": "5DFoJwcVdP52",
      "execution_count": 10,
      "outputs": [
        {
          "output_type": "execute_result",
          "data": {
            "text/plain": [
              "  patterns      tags\n",
              "0    hallo  greeting\n",
              "1      hai  greeting\n",
              "2     halo  greeting\n",
              "3      hei  greeting\n",
              "4       hi  greeting"
            ],
            "text/html": [
              "\n",
              "  <div id=\"df-1311bbf1-b00e-46da-ac21-9782d168edfd\">\n",
              "    <div class=\"colab-df-container\">\n",
              "      <div>\n",
              "<style scoped>\n",
              "    .dataframe tbody tr th:only-of-type {\n",
              "        vertical-align: middle;\n",
              "    }\n",
              "\n",
              "    .dataframe tbody tr th {\n",
              "        vertical-align: top;\n",
              "    }\n",
              "\n",
              "    .dataframe thead th {\n",
              "        text-align: right;\n",
              "    }\n",
              "</style>\n",
              "<table border=\"1\" class=\"dataframe\">\n",
              "  <thead>\n",
              "    <tr style=\"text-align: right;\">\n",
              "      <th></th>\n",
              "      <th>patterns</th>\n",
              "      <th>tags</th>\n",
              "    </tr>\n",
              "  </thead>\n",
              "  <tbody>\n",
              "    <tr>\n",
              "      <th>0</th>\n",
              "      <td>hallo</td>\n",
              "      <td>greeting</td>\n",
              "    </tr>\n",
              "    <tr>\n",
              "      <th>1</th>\n",
              "      <td>hai</td>\n",
              "      <td>greeting</td>\n",
              "    </tr>\n",
              "    <tr>\n",
              "      <th>2</th>\n",
              "      <td>halo</td>\n",
              "      <td>greeting</td>\n",
              "    </tr>\n",
              "    <tr>\n",
              "      <th>3</th>\n",
              "      <td>hei</td>\n",
              "      <td>greeting</td>\n",
              "    </tr>\n",
              "    <tr>\n",
              "      <th>4</th>\n",
              "      <td>hi</td>\n",
              "      <td>greeting</td>\n",
              "    </tr>\n",
              "  </tbody>\n",
              "</table>\n",
              "</div>\n",
              "      <button class=\"colab-df-convert\" onclick=\"convertToInteractive('df-1311bbf1-b00e-46da-ac21-9782d168edfd')\"\n",
              "              title=\"Convert this dataframe to an interactive table.\"\n",
              "              style=\"display:none;\">\n",
              "        \n",
              "  <svg xmlns=\"http://www.w3.org/2000/svg\" height=\"24px\"viewBox=\"0 0 24 24\"\n",
              "       width=\"24px\">\n",
              "    <path d=\"M0 0h24v24H0V0z\" fill=\"none\"/>\n",
              "    <path d=\"M18.56 5.44l.94 2.06.94-2.06 2.06-.94-2.06-.94-.94-2.06-.94 2.06-2.06.94zm-11 1L8.5 8.5l.94-2.06 2.06-.94-2.06-.94L8.5 2.5l-.94 2.06-2.06.94zm10 10l.94 2.06.94-2.06 2.06-.94-2.06-.94-.94-2.06-.94 2.06-2.06.94z\"/><path d=\"M17.41 7.96l-1.37-1.37c-.4-.4-.92-.59-1.43-.59-.52 0-1.04.2-1.43.59L10.3 9.45l-7.72 7.72c-.78.78-.78 2.05 0 2.83L4 21.41c.39.39.9.59 1.41.59.51 0 1.02-.2 1.41-.59l7.78-7.78 2.81-2.81c.8-.78.8-2.07 0-2.86zM5.41 20L4 18.59l7.72-7.72 1.47 1.35L5.41 20z\"/>\n",
              "  </svg>\n",
              "      </button>\n",
              "      \n",
              "  <style>\n",
              "    .colab-df-container {\n",
              "      display:flex;\n",
              "      flex-wrap:wrap;\n",
              "      gap: 12px;\n",
              "    }\n",
              "\n",
              "    .colab-df-convert {\n",
              "      background-color: #E8F0FE;\n",
              "      border: none;\n",
              "      border-radius: 50%;\n",
              "      cursor: pointer;\n",
              "      display: none;\n",
              "      fill: #1967D2;\n",
              "      height: 32px;\n",
              "      padding: 0 0 0 0;\n",
              "      width: 32px;\n",
              "    }\n",
              "\n",
              "    .colab-df-convert:hover {\n",
              "      background-color: #E2EBFA;\n",
              "      box-shadow: 0px 1px 2px rgba(60, 64, 67, 0.3), 0px 1px 3px 1px rgba(60, 64, 67, 0.15);\n",
              "      fill: #174EA6;\n",
              "    }\n",
              "\n",
              "    [theme=dark] .colab-df-convert {\n",
              "      background-color: #3B4455;\n",
              "      fill: #D2E3FC;\n",
              "    }\n",
              "\n",
              "    [theme=dark] .colab-df-convert:hover {\n",
              "      background-color: #434B5C;\n",
              "      box-shadow: 0px 1px 3px 1px rgba(0, 0, 0, 0.15);\n",
              "      filter: drop-shadow(0px 1px 2px rgba(0, 0, 0, 0.3));\n",
              "      fill: #FFFFFF;\n",
              "    }\n",
              "  </style>\n",
              "\n",
              "      <script>\n",
              "        const buttonEl =\n",
              "          document.querySelector('#df-1311bbf1-b00e-46da-ac21-9782d168edfd button.colab-df-convert');\n",
              "        buttonEl.style.display =\n",
              "          google.colab.kernel.accessAllowed ? 'block' : 'none';\n",
              "\n",
              "        async function convertToInteractive(key) {\n",
              "          const element = document.querySelector('#df-1311bbf1-b00e-46da-ac21-9782d168edfd');\n",
              "          const dataTable =\n",
              "            await google.colab.kernel.invokeFunction('convertToInteractive',\n",
              "                                                     [key], {});\n",
              "          if (!dataTable) return;\n",
              "\n",
              "          const docLinkHtml = 'Like what you see? Visit the ' +\n",
              "            '<a target=\"_blank\" href=https://colab.research.google.com/notebooks/data_table.ipynb>data table notebook</a>'\n",
              "            + ' to learn more about interactive tables.';\n",
              "          element.innerHTML = '';\n",
              "          dataTable['output_type'] = 'display_data';\n",
              "          await google.colab.output.renderOutput(dataTable, element);\n",
              "          const docLink = document.createElement('div');\n",
              "          docLink.innerHTML = docLinkHtml;\n",
              "          element.appendChild(docLink);\n",
              "        }\n",
              "      </script>\n",
              "    </div>\n",
              "  </div>\n",
              "  "
            ]
          },
          "metadata": {},
          "execution_count": 10
        }
      ]
    },
    {
      "cell_type": "code",
      "source": [
        "# Cetak data baris ke-70 sampai baris akhir\n",
        "data.tail() "
      ],
      "metadata": {
        "colab": {
          "base_uri": "https://localhost:8080/",
          "height": 206
        },
        "id": "HksM_GGVdenI",
        "outputId": "ea506958-6a0f-4f3e-87ec-b6fe6a8e2e7f"
      },
      "id": "HksM_GGVdenI",
      "execution_count": 11,
      "outputs": [
        {
          "output_type": "execute_result",
          "data": {
            "text/plain": [
              "                                              patterns                    tags\n",
              "214       Bagaimana mencegah serangan pada WiFi rumah?           jaringan_wifi\n",
              "215  Bagaimana cara beraktivitas di dunia maya deng...  safe_online_activities\n",
              "216  Bagaimana cara menjaga keamanan saat berintera...  safe_online_activities\n",
              "217  Apa tips untuk beraktivitas di dunia maya deng...  safe_online_activities\n",
              "218  tolong berikan tips untuk beraktivitas di duni...  safe_online_activities"
            ],
            "text/html": [
              "\n",
              "  <div id=\"df-65c5627a-0943-43e1-b535-a4672b3611b3\">\n",
              "    <div class=\"colab-df-container\">\n",
              "      <div>\n",
              "<style scoped>\n",
              "    .dataframe tbody tr th:only-of-type {\n",
              "        vertical-align: middle;\n",
              "    }\n",
              "\n",
              "    .dataframe tbody tr th {\n",
              "        vertical-align: top;\n",
              "    }\n",
              "\n",
              "    .dataframe thead th {\n",
              "        text-align: right;\n",
              "    }\n",
              "</style>\n",
              "<table border=\"1\" class=\"dataframe\">\n",
              "  <thead>\n",
              "    <tr style=\"text-align: right;\">\n",
              "      <th></th>\n",
              "      <th>patterns</th>\n",
              "      <th>tags</th>\n",
              "    </tr>\n",
              "  </thead>\n",
              "  <tbody>\n",
              "    <tr>\n",
              "      <th>214</th>\n",
              "      <td>Bagaimana mencegah serangan pada WiFi rumah?</td>\n",
              "      <td>jaringan_wifi</td>\n",
              "    </tr>\n",
              "    <tr>\n",
              "      <th>215</th>\n",
              "      <td>Bagaimana cara beraktivitas di dunia maya deng...</td>\n",
              "      <td>safe_online_activities</td>\n",
              "    </tr>\n",
              "    <tr>\n",
              "      <th>216</th>\n",
              "      <td>Bagaimana cara menjaga keamanan saat berintera...</td>\n",
              "      <td>safe_online_activities</td>\n",
              "    </tr>\n",
              "    <tr>\n",
              "      <th>217</th>\n",
              "      <td>Apa tips untuk beraktivitas di dunia maya deng...</td>\n",
              "      <td>safe_online_activities</td>\n",
              "    </tr>\n",
              "    <tr>\n",
              "      <th>218</th>\n",
              "      <td>tolong berikan tips untuk beraktivitas di duni...</td>\n",
              "      <td>safe_online_activities</td>\n",
              "    </tr>\n",
              "  </tbody>\n",
              "</table>\n",
              "</div>\n",
              "      <button class=\"colab-df-convert\" onclick=\"convertToInteractive('df-65c5627a-0943-43e1-b535-a4672b3611b3')\"\n",
              "              title=\"Convert this dataframe to an interactive table.\"\n",
              "              style=\"display:none;\">\n",
              "        \n",
              "  <svg xmlns=\"http://www.w3.org/2000/svg\" height=\"24px\"viewBox=\"0 0 24 24\"\n",
              "       width=\"24px\">\n",
              "    <path d=\"M0 0h24v24H0V0z\" fill=\"none\"/>\n",
              "    <path d=\"M18.56 5.44l.94 2.06.94-2.06 2.06-.94-2.06-.94-.94-2.06-.94 2.06-2.06.94zm-11 1L8.5 8.5l.94-2.06 2.06-.94-2.06-.94L8.5 2.5l-.94 2.06-2.06.94zm10 10l.94 2.06.94-2.06 2.06-.94-2.06-.94-.94-2.06-.94 2.06-2.06.94z\"/><path d=\"M17.41 7.96l-1.37-1.37c-.4-.4-.92-.59-1.43-.59-.52 0-1.04.2-1.43.59L10.3 9.45l-7.72 7.72c-.78.78-.78 2.05 0 2.83L4 21.41c.39.39.9.59 1.41.59.51 0 1.02-.2 1.41-.59l7.78-7.78 2.81-2.81c.8-.78.8-2.07 0-2.86zM5.41 20L4 18.59l7.72-7.72 1.47 1.35L5.41 20z\"/>\n",
              "  </svg>\n",
              "      </button>\n",
              "      \n",
              "  <style>\n",
              "    .colab-df-container {\n",
              "      display:flex;\n",
              "      flex-wrap:wrap;\n",
              "      gap: 12px;\n",
              "    }\n",
              "\n",
              "    .colab-df-convert {\n",
              "      background-color: #E8F0FE;\n",
              "      border: none;\n",
              "      border-radius: 50%;\n",
              "      cursor: pointer;\n",
              "      display: none;\n",
              "      fill: #1967D2;\n",
              "      height: 32px;\n",
              "      padding: 0 0 0 0;\n",
              "      width: 32px;\n",
              "    }\n",
              "\n",
              "    .colab-df-convert:hover {\n",
              "      background-color: #E2EBFA;\n",
              "      box-shadow: 0px 1px 2px rgba(60, 64, 67, 0.3), 0px 1px 3px 1px rgba(60, 64, 67, 0.15);\n",
              "      fill: #174EA6;\n",
              "    }\n",
              "\n",
              "    [theme=dark] .colab-df-convert {\n",
              "      background-color: #3B4455;\n",
              "      fill: #D2E3FC;\n",
              "    }\n",
              "\n",
              "    [theme=dark] .colab-df-convert:hover {\n",
              "      background-color: #434B5C;\n",
              "      box-shadow: 0px 1px 3px 1px rgba(0, 0, 0, 0.15);\n",
              "      filter: drop-shadow(0px 1px 2px rgba(0, 0, 0, 0.3));\n",
              "      fill: #FFFFFF;\n",
              "    }\n",
              "  </style>\n",
              "\n",
              "      <script>\n",
              "        const buttonEl =\n",
              "          document.querySelector('#df-65c5627a-0943-43e1-b535-a4672b3611b3 button.colab-df-convert');\n",
              "        buttonEl.style.display =\n",
              "          google.colab.kernel.accessAllowed ? 'block' : 'none';\n",
              "\n",
              "        async function convertToInteractive(key) {\n",
              "          const element = document.querySelector('#df-65c5627a-0943-43e1-b535-a4672b3611b3');\n",
              "          const dataTable =\n",
              "            await google.colab.kernel.invokeFunction('convertToInteractive',\n",
              "                                                     [key], {});\n",
              "          if (!dataTable) return;\n",
              "\n",
              "          const docLinkHtml = 'Like what you see? Visit the ' +\n",
              "            '<a target=\"_blank\" href=https://colab.research.google.com/notebooks/data_table.ipynb>data table notebook</a>'\n",
              "            + ' to learn more about interactive tables.';\n",
              "          element.innerHTML = '';\n",
              "          dataTable['output_type'] = 'display_data';\n",
              "          await google.colab.output.renderOutput(dataTable, element);\n",
              "          const docLink = document.createElement('div');\n",
              "          docLink.innerHTML = docLinkHtml;\n",
              "          element.appendChild(docLink);\n",
              "        }\n",
              "      </script>\n",
              "    </div>\n",
              "  </div>\n",
              "  "
            ]
          },
          "metadata": {},
          "execution_count": 11
        }
      ]
    },
    {
      "cell_type": "markdown",
      "source": [
        "# 03 Preprocessing The Data\n",
        "\n",
        "Setelah kita meload data dan mengonversi data json menjadi dataframe. Tahapan selanjutnya adalah praproses pada dataset yang kita gunakan saat ini yaitu dengan cara:\n",
        "\n",
        "![Praproses.png](data:image/png;base64,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)\n",
        "\n",
        "1.   Remove Punctuations (Menghapus Punktuasi)\n",
        "2.   Lematization (Lematisasi)\n",
        "3.   Tokenization (Tokenisasi)\n",
        "4.   Apply Padding (Padding)\n",
        "5.   Encoding the Outputs (Konversi Keluaran Enkoding)\n",
        "\n",
        "Kelima tahapan pemrosesan teks ini dijelaskan pada bagian langkah selanjutnya."
      ],
      "metadata": {
        "id": "vHnr2WFvebeJ"
      },
      "id": "vHnr2WFvebeJ"
    },
    {
      "cell_type": "markdown",
      "source": [
        "## Remove Punctuations\n",
        "\n",
        "Tahapan praproses pada data teks yang pertama adalah menghapus punktuasi atau tanda baca seperti *special character* yaitu **'!'** (**tanda seru**) **','** (**tanda koma**) **'.'** (**tanda titik sebagai berhenti**) '**?**' (**tanda tanya**) dan tanda baca yang lain. Tahapan ini gunanya untuk mempermudah pemrosesan data teks yang akan kita olah."
      ],
      "metadata": {
        "id": "u_04NeXTIImg"
      },
      "id": "u_04NeXTIImg"
    },
    {
      "cell_type": "code",
      "source": [
        "# Removing Punctuations (Menghilangkan Punktuasi)\n",
        "data['patterns'] = data['patterns'].apply(lambda wrd:[ltrs.lower() for ltrs in wrd if ltrs not in string.punctuation])\n",
        "data['patterns'] = data['patterns'].apply(lambda wrd: ''.join(wrd))"
      ],
      "metadata": {
        "id": "Gh-7EtrfhQgY"
      },
      "id": "Gh-7EtrfhQgY",
      "execution_count": 12,
      "outputs": []
    },
    {
      "cell_type": "markdown",
      "source": [
        "## Lemmatization (Lematisasi)\n",
        "\n",
        "Setelah menghapus punktuasi atau tanda baca, tahapan selanjutnya yaitu Lematisasi atau Lemmatization. **Apa itu Lematisasi?**\n",
        "\n",
        "Lematisasi atau Lemmatization adalah proses dimana merujuk pada melakukan sesuatu menggunakan vocabulary atau kosakata dan analisis morfologi kata-kata untuk menghilangkan *inflectional endings only* dan untuk mengembalikan bentuk *dictionary* (kata dalam kamus) dari sebuah kata yang dikenal sebagai ***lemma***. \n",
        "\n",
        "Contoh Lematisasi : **Menggunakan** (Kata Imbuhan) -> **Guna** (Kata Dasar) \n",
        "\n",
        "Dalam contoh berikut proses lematisasi awalnya data teks menggunakan kata imbuhan yaitu **Menggunakan** dimana **meng-** + **guna** (kata dasar yang berawalan vokal g) + **kan** (sebagai akhiran) diubah menjadi kata dasar yaitu '**Guna**'. \n",
        "\n",
        "Proses ini dimana menghilangkan Prefiks pada imbuhan (**Meng-**) dan Suffiks pada (**-kan**)."
      ],
      "metadata": {
        "id": "5brR-qBLJDa_"
      },
      "id": "5brR-qBLJDa_"
    },
    {
      "cell_type": "code",
      "source": [
        "lemmatizer = WordNetLemmatizer()\n",
        "words = [lemmatizer.lemmatize(w.lower()) for w in words if w not in ignore_words]\n",
        "words = sorted(list(set(words)))\n",
        "\n",
        "print (len(words), \"unique lemmatized words\", words)"
      ],
      "metadata": {
        "colab": {
          "base_uri": "https://localhost:8080/"
        },
        "id": "22MVRGBsO9gX",
        "outputId": "a4c2cbff-7d4f-4625-e732-3ddc6bbafdc1"
      },
      "id": "22MVRGBsO9gX",
      "execution_count": 13,
      "outputs": [
        {
          "output_type": "stream",
          "name": "stdout",
          "text": [
            "139 unique lemmatized words ['(', ')', ',', '.', 'ada', 'afternoon', 'aja', 'aman', 'anak', 'apa', 'atau', 'bagaimana', 'bai', 'banyak', 'bentuk', 'beraktivitas', 'berikan', 'berinteraksi', 'bersifat', 'bikinan', 'bisa', 'bro', 'buat', 'buatan', 'bye', 'byee', 'cara', 'ciri-ciri', 'contoh', 'cyberbullying', 'cybercrime', 'dadah', 'dah', 'dari', 'data', 'ddos', 'dengan', 'denial-of-service', 'di', 'dilakukan', 'diri', 'distributed', 'dunia', 'email', 'emang', 'good', 'hai', 'hallo', 'halo', 'harus', 'hei', 'hi', 'hy', 'identitas', 'ilegal', 'informasi', 'itu', 'jaringan', 'jenis', 'jika', 'jumpa', 'kamu', 'kasih', 'kawan', 'keamanan', 'kejahatan', 'keuangan', 'kita', 'konten', 'lakukan', 'lo', 'makasih', 'malam', 'malware', 'maya', 'melalui', 'melindungi', 'memastikan', 'meminta', 'mencegah', 'menerima', 'mengatasi', 'mengetahui', 'menghentikan', 'menghindari', 'menjaga', 'merima', 'minta', 'morning', 'ok', 'online', 'pada', 'pagi', 'palsu', 'pelanggaran', 'pembuatmu', 'penciptamu', 'pencurian', 'penipuan', 'penyebaran', 'peretasan', 'pesan', 'phishing', 'pribadi', 'privasi', 'ransomware', 'rumah', 'saat', 'safebot', 'saja', 'sampai', 'saya', 'sebutkan', 'secara', 'see', 'seksual', 'selamat', 'sensitif', 'seperti', 'serangan', 'si', 'siang', 'siapa', 'siber', 'sih', 'sore', 'terhindar', 'terima', 'termasuk', 'teroris', 'thank', 'thanks', 'tinggal', 'tip', 'tolong', 'untuk', 'wifi', 'yang', 'you']\n"
          ]
        }
      ]
    },
    {
      "cell_type": "markdown",
      "source": [
        "### Menyortir Data Kelas Tags"
      ],
      "metadata": {
        "id": "zmZpqovQE1Zb"
      },
      "id": "zmZpqovQE1Zb"
    },
    {
      "cell_type": "code",
      "source": [
        "# sort classes\n",
        "classes = sorted(list(set(classes)))\n",
        "print (len(classes), \"classes\", classes)"
      ],
      "metadata": {
        "colab": {
          "base_uri": "https://localhost:8080/"
        },
        "id": "TK_v4Zw5P8rn",
        "outputId": "fd846773-bb3e-4363-a1a9-9eb199329e89"
      },
      "id": "TK_v4Zw5P8rn",
      "execution_count": 14,
      "outputs": [
        {
          "output_type": "stream",
          "name": "stdout",
          "text": [
            "44 classes ['Safebot', 'ciri_ddos', 'ciri_malware', 'ciri_phishing', 'ciri_ransomware', 'contoh_cybercrime', 'cyberbullying', 'cyberbullying_prevention', 'cybercrime', 'data_pribadi', 'ddos', 'ddos_prevented', 'goodbye', 'greeting', 'identitas_palsu', 'identity_theft_prevented', 'illegal_content_prevented', 'jaringan_wifi', 'kejahatan_seks', 'kejahatan_siber_anak_prevention', 'keuangan_online', 'konten_ilegal', 'malware', 'malware_prevented', 'network_hacking_prevention', 'online_financial_fraud_prevention', 'online_scam_prevented', 'online_sexual_crime_prevention', 'online_terrorism_prevention', 'pelanggaran_privacy', 'pencipta', 'pencurian_identitas', 'penipuan_online', 'phishing', 'phishing_case', 'phishing_prevented', 'privacy_breach_prevented', 'ransomware', 'ransomware_prevented', 'retas_jaringan', 'safe_online_activities', 'siber_anak', 'terimakasih', 'teroris_online']\n"
          ]
        }
      ]
    },
    {
      "cell_type": "markdown",
      "source": [
        "### Mencari Jumlah Keseluruhan Data Teks"
      ],
      "metadata": {
        "id": "u8s3ZKI9FCwo"
      },
      "id": "u8s3ZKI9FCwo"
    },
    {
      "cell_type": "code",
      "source": [
        "# documents = combination between patterns and intents\n",
        "print (len(documents), \"documents\")"
      ],
      "metadata": {
        "colab": {
          "base_uri": "https://localhost:8080/"
        },
        "id": "Tv5lLFn1QCDP",
        "outputId": "80e50743-2353-4bb7-9bc4-1ab07c831d2b"
      },
      "id": "Tv5lLFn1QCDP",
      "execution_count": 15,
      "outputs": [
        {
          "output_type": "stream",
          "name": "stdout",
          "text": [
            "1441 documents\n"
          ]
        }
      ]
    },
    {
      "cell_type": "markdown",
      "source": [
        "## Tokenization (Tokenisasi)\n",
        "\n",
        "Setelah proses lematisasi dan mencari tahu data classes dan jumlah keseluruhan data patterns dengan intents-nya. Maka, tahapan selanjutnya proses tokenisasi. **Apa itu Tokenisasi?**\n",
        "\n",
        "Tokenisasi adalah suatu proses memberikan urutan karakter dan sebuah unit dokumen terdefinisi. Tokenisasi juga merupakan tugas untuk memecah kalimat menjadi bagian-bagian yang disebut dengan '**Token**' dan menghilangkan bagian tertentu seperti tanda baca.\n",
        "\n",
        "Contohnya: **Aku Pergi Ke Makassar** -> '**Aku**' '**Pergi**' '**Ke**' '**Makassar**'"
      ],
      "metadata": {
        "id": "sVdv1gW5N7a6"
      },
      "id": "sVdv1gW5N7a6"
    },
    {
      "cell_type": "code",
      "source": [
        "# Tokenize the data (Tokenisasi Data)\n",
        "tokenizer = Tokenizer(num_words=2000)\n",
        "tokenizer.fit_on_texts(data['patterns'])\n",
        "train = tokenizer.texts_to_sequences(data['patterns'])\n",
        "train"
      ],
      "metadata": {
        "id": "Xr5aehymeQdi",
        "colab": {
          "base_uri": "https://localhost:8080/"
        },
        "outputId": "1167d12c-57eb-45c3-aebc-ed92fb7b7c4c"
      },
      "id": "Xr5aehymeQdi",
      "execution_count": 16,
      "outputs": [
        {
          "output_type": "execute_result",
          "data": {
            "text/plain": [
              "[[84],\n",
              " [85],\n",
              " [86],\n",
              " [87],\n",
              " [88],\n",
              " [89],\n",
              " [90],\n",
              " [91],\n",
              " [92],\n",
              " [93],\n",
              " [94],\n",
              " [95],\n",
              " [96],\n",
              " [97],\n",
              " [98],\n",
              " [99],\n",
              " [100],\n",
              " [60],\n",
              " [101],\n",
              " [102, 60],\n",
              " [103, 104],\n",
              " [105, 106],\n",
              " [107],\n",
              " [108, 71],\n",
              " [109, 60],\n",
              " [110],\n",
              " [111, 71],\n",
              " [72, 73],\n",
              " [112],\n",
              " [72, 73, 113],\n",
              " [1, 2, 74],\n",
              " [49, 74],\n",
              " [49, 114],\n",
              " [49, 3, 9, 115, 75],\n",
              " [75, 116, 49],\n",
              " [117, 118, 49],\n",
              " [49, 119],\n",
              " [29, 2, 1],\n",
              " [4, 10, 2, 1, 3],\n",
              " [5, 29, 2, 1, 3],\n",
              " [1, 2, 29],\n",
              " [4, 10, 5, 1],\n",
              " [4, 25, 26, 5, 1],\n",
              " [1, 2, 4, 25, 26],\n",
              " [29, 2, 1, 3],\n",
              " [4, 10, 2, 1, 3],\n",
              " [12, 50, 2, 1],\n",
              " [12, 50, 2, 1, 3],\n",
              " [5, 12, 50, 2, 1, 3],\n",
              " [12, 50, 5, 1],\n",
              " [12, 50, 5, 1, 3],\n",
              " [1, 2, 12, 50],\n",
              " [1, 30, 9, 61, 53, 43, 9, 54, 55],\n",
              " [1, 30, 3, 9, 61, 53, 43, 9, 54, 55],\n",
              " [53, 43, 9, 54, 55, 2, 1, 30],\n",
              " [31, 44, 1, 30, 9, 61, 53, 43, 9, 54, 55],\n",
              " [53, 43, 9, 54, 55, 2, 1, 30, 3],\n",
              " [1, 32, 3, 62, 8, 29],\n",
              " [1, 32, 3, 62, 8, 4, 25, 26],\n",
              " [1, 32, 3, 62, 8, 4, 10],\n",
              " [1, 32, 3, 63, 8, 29],\n",
              " [1, 32, 3, 63, 8, 4, 25, 26],\n",
              " [1, 32, 3, 63, 8, 4, 10],\n",
              " [29, 2, 64, 1],\n",
              " [4, 10, 2, 64, 1],\n",
              " [4, 25, 26, 2, 64, 1],\n",
              " [1, 32, 3, 51, 8, 29],\n",
              " [31, 44, 51, 8, 29],\n",
              " [1, 32, 3, 51, 8, 4, 25, 26],\n",
              " [31, 44, 51, 8, 4, 25, 26],\n",
              " [1, 32, 3, 51, 8, 4, 10],\n",
              " [31, 44, 51, 8, 4, 10],\n",
              " [16, 7, 2, 1],\n",
              " [16, 7, 2, 1, 3],\n",
              " [5, 16, 7, 2, 1, 3],\n",
              " [16, 7, 5, 1],\n",
              " [16, 7, 5, 1, 3],\n",
              " [1, 2, 16, 7],\n",
              " [6, 11, 76, 16, 7],\n",
              " [6, 14, 16, 7],\n",
              " [6, 17, 8, 16, 7],\n",
              " [33, 12, 2, 1],\n",
              " [33, 12, 2, 1, 3],\n",
              " [5, 33, 12, 2, 1, 3],\n",
              " [33, 12, 5, 1],\n",
              " [33, 12, 5, 1, 3],\n",
              " [1, 2, 33, 12],\n",
              " [6, 11, 15, 24, 8, 33, 12],\n",
              " [6, 17, 8, 33, 12],\n",
              " [6, 14, 33, 12],\n",
              " [34, 2, 1],\n",
              " [34, 2, 1, 3],\n",
              " [5, 34, 2, 1, 3],\n",
              " [34, 5, 1],\n",
              " [34, 5, 1, 3],\n",
              " [1, 2, 34],\n",
              " [6, 11, 120, 34],\n",
              " [6, 15, 24, 8, 34],\n",
              " [1, 9, 56, 52, 45, 121, 34],\n",
              " [46, 35, 2, 1],\n",
              " [46, 35, 2, 1, 3],\n",
              " [5, 46, 35, 2, 1, 3],\n",
              " [46, 35, 5, 1],\n",
              " [46, 35, 5, 1, 3],\n",
              " [1, 2, 46, 35],\n",
              " [6, 11, 15, 35, 47],\n",
              " [6, 17, 8, 46, 35],\n",
              " [6, 14, 46, 35],\n",
              " [36, 37, 38, 2, 1],\n",
              " [36, 37, 38, 2, 1, 3],\n",
              " [5, 36, 37, 38, 2, 1, 3],\n",
              " [36, 37, 38, 5, 1],\n",
              " [36, 37, 38, 5, 1, 3],\n",
              " [1, 2, 36, 37, 38],\n",
              " [6, 11, 14, 36, 37, 38],\n",
              " [6, 15, 24, 8, 36, 37, 38],\n",
              " [6, 17, 8, 36, 37, 38],\n",
              " [39, 27, 2, 1],\n",
              " [39, 27, 2, 1, 3],\n",
              " [5, 39, 27, 2, 1, 3],\n",
              " [39, 27, 5, 1],\n",
              " [39, 27, 5, 1, 3],\n",
              " [1, 2, 39, 27],\n",
              " [6, 11, 15, 24, 8, 39, 27],\n",
              " [6, 17, 8, 13, 39, 27],\n",
              " [1, 9, 56, 52, 45, 14, 39, 27],\n",
              " [4, 40, 7, 2, 1],\n",
              " [4, 40, 7, 2, 1, 3],\n",
              " [5, 4, 40, 7, 2, 1, 3],\n",
              " [4, 40, 7, 5, 1],\n",
              " [4, 40, 7, 5, 1, 3],\n",
              " [1, 2, 4, 40, 7],\n",
              " [6, 11, 15, 24, 8, 16, 40, 7],\n",
              " [6, 17, 8, 16, 40, 7],\n",
              " [1, 9, 56, 52, 45, 14, 16, 40, 7],\n",
              " [4, 10, 28, 2, 1],\n",
              " [4, 10, 28, 2, 1, 3],\n",
              " [5, 4, 10, 28, 2, 1, 3],\n",
              " [4, 10, 28, 5, 1],\n",
              " [4, 10, 28, 5, 1, 3],\n",
              " [1, 2, 4, 10, 28],\n",
              " [6, 11, 15, 28, 8, 4, 10, 28],\n",
              " [6, 14, 4, 10, 28],\n",
              " [1, 9, 56, 52, 45, 76, 4, 10, 28],\n",
              " [4, 41, 7, 2, 1],\n",
              " [4, 41, 7, 2, 1, 3],\n",
              " [5, 4, 41, 7, 2, 1, 3],\n",
              " [4, 41, 7, 5, 1],\n",
              " [4, 41, 7, 5, 1, 3],\n",
              " [1, 2, 4, 41, 7],\n",
              " [6, 11, 15, 24, 8, 4, 41, 7],\n",
              " [6, 17, 8, 4, 41, 7],\n",
              " [1, 9, 57, 52, 45, 14, 4, 41, 7],\n",
              " [4, 42, 7, 2, 1],\n",
              " [4, 42, 7, 2, 1, 3],\n",
              " [5, 4, 42, 7, 2, 1, 3],\n",
              " [4, 42, 7, 5, 1],\n",
              " [4, 42, 7, 5, 1, 3],\n",
              " [1, 2, 4, 42, 7],\n",
              " [6, 11, 15, 24, 8, 4, 42, 7],\n",
              " [6, 17, 8, 4, 42, 7],\n",
              " [1, 9, 57, 52, 45, 14, 4, 42, 7],\n",
              " [18, 2, 1],\n",
              " [18, 2, 1, 3],\n",
              " [5, 18, 2, 1, 3],\n",
              " [18, 5, 1],\n",
              " [18, 5, 1, 3],\n",
              " [1, 2, 18],\n",
              " [6, 58, 59, 18],\n",
              " [1, 30, 48, 18],\n",
              " [31, 44, 48, 18],\n",
              " [6, 11, 15, 24, 8, 13, 18],\n",
              " [6, 17, 8, 13, 18],\n",
              " [6, 14, 13, 18],\n",
              " [47, 122, 65, 9, 77, 66, 43, 47, 1, 9, 57, 47, 78],\n",
              " [79, 47, 123, 65, 9, 124, 66, 43, 47, 1, 9, 57, 47, 78],\n",
              " [6, 79, 125, 9, 77, 66, 43, 47, 126, 127, 128, 65],\n",
              " [19, 2, 1],\n",
              " [19, 2, 1, 3],\n",
              " [5, 19, 2, 1, 3],\n",
              " [19, 5, 1],\n",
              " [19, 5, 1, 3],\n",
              " [1, 2, 19],\n",
              " [6, 58, 59, 13, 19],\n",
              " [1, 30, 48, 19],\n",
              " [31, 44, 48, 19],\n",
              " [6, 11, 15, 24, 8, 13, 19],\n",
              " [6, 17, 8, 13, 19],\n",
              " [6, 14, 13, 19],\n",
              " [20, 21, 22, 2, 1],\n",
              " [20, 21, 22, 2, 1, 3],\n",
              " [5, 20, 21, 22, 2, 1, 3],\n",
              " [20, 21, 22, 5, 1],\n",
              " [20, 21, 22, 5, 1, 3],\n",
              " [1, 2, 20, 21, 22],\n",
              " [6, 11, 15, 24, 8, 13, 20, 21, 22],\n",
              " [6, 17, 8, 13, 20, 21, 22],\n",
              " [6, 14, 13, 20, 21, 22],\n",
              " [6, 58, 59, 4, 20, 21, 22],\n",
              " [1, 30, 48, 20, 21, 22],\n",
              " [31, 44, 48, 20, 21, 22],\n",
              " [23, 2, 1],\n",
              " [23, 2, 1, 3],\n",
              " [5, 23, 2, 1, 3],\n",
              " [23, 5, 1],\n",
              " [23, 5, 1, 3],\n",
              " [1, 2, 23],\n",
              " [6, 11, 15, 24, 8, 13, 23],\n",
              " [6, 17, 8, 13, 23],\n",
              " [6, 14, 13, 23],\n",
              " [6, 58, 59, 4, 23],\n",
              " [1, 30, 48, 23],\n",
              " [31, 44, 48, 23],\n",
              " [6, 11, 129, 80, 27, 81, 82],\n",
              " [6, 14, 13, 130, 81, 82],\n",
              " [6, 11, 67, 68, 25, 26, 69, 70],\n",
              " [6, 11, 131, 80, 132, 133, 134, 7],\n",
              " [1, 83, 45, 67, 68, 25, 26, 69, 70],\n",
              " [31, 135, 83, 45, 67, 68, 25, 26, 69, 70]]"
            ]
          },
          "metadata": {},
          "execution_count": 16
        }
      ]
    },
    {
      "cell_type": "markdown",
      "source": [
        "## Add Padding\n",
        "\n",
        "Setelah memproses tokenisasi yang dimana memecah kalimat menajdi bagian-bagian yang disebut token yang digunakan untuk mengolah data teks pada AI Chatbot maka tahapan selanjutnya adalah Padding.\n",
        "**Apa itu Padding?**\n",
        "\n",
        "**Padding** adalah Suatu proses untuk mengubah setiap sequence agar memiliki panjang yang sama. Pada padding, setiap sequence dibuat sama panjang dengan menambahkan nilai 0 secara suffiks atau prefiks hingga mencapai panjang maksimum sequence. Selain itu padding juga dapat memotong sequence hingga panjangnya sesuai dengan panjang maksimum sequence. \n",
        "\n",
        "Padding juga adalah proses untuk membuat setiap kalimat pada teks memiliki panjang yang seragam. Sama seperti melakukan resize gambar, agar resolusi setiap gambar sama besar. Untuk menggunakan padding bisa impor library **pad_sequence**. Kemudian buat panggil fungsi pad_sequence() dan masukkan sequence hasil tokenisasi sebagai parameternya.\n",
        "\n",
        "Contohnya: `sequences_samapanjang = pad_sequences(sequences)`\n",
        "\n",
        "Yang nantinya akan dikeluarkan menjadi angka dengan awalan 0 seperti gambar dibawah ini.\n",
        "\n",
        "![Padding.jpeg](data:image/jpeg;base64,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)"
      ],
      "metadata": {
        "id": "LfEpFf0hPOUZ"
      },
      "id": "LfEpFf0hPOUZ"
    },
    {
      "cell_type": "code",
      "source": [
        "# Apply padding \n",
        "x_train = pad_sequences(train)\n",
        "print(x_train) # Padding Sequences"
      ],
      "metadata": {
        "id": "5BQdPUTNvS1t",
        "colab": {
          "base_uri": "https://localhost:8080/"
        },
        "outputId": "88161883-7ee1-45a7-a847-c083ab7d3618"
      },
      "id": "5BQdPUTNvS1t",
      "execution_count": 17,
      "outputs": [
        {
          "output_type": "stream",
          "name": "stdout",
          "text": [
            "[[  0   0   0 ...   0   0  84]\n",
            " [  0   0   0 ...   0   0  85]\n",
            " [  0   0   0 ...   0   0  86]\n",
            " ...\n",
            " [  0   0   0 ... 133 134   7]\n",
            " [  0   0   0 ...  26  69  70]\n",
            " [  0   0   0 ...  26  69  70]]\n"
          ]
        }
      ]
    },
    {
      "cell_type": "markdown",
      "source": [
        "Hasil setelah padding adalah setiap sequence memiliki panjang yang sama. Padding dapat melakukan ini dengan menambahkan 0 secara default pada awal sequence yang lebih pendek."
      ],
      "metadata": {
        "id": "1Khg-ygkb0nD"
      },
      "id": "1Khg-ygkb0nD"
    },
    {
      "cell_type": "markdown",
      "source": [
        "## Encoding Text\n",
        "\n",
        "Setelah tahapan proses Padding pada suatu teks maka proses terakhir dalam pemrosesan teks adalah tahapan Encoding. **Apa itu Encoding?**\n",
        "\n",
        "Encoding merupakan suatu konversi atau pengkodean yang dimana data kategorik seperti huruf atau data teks menjadi data numerik atau angka menyesuaikan dengan data label yang digunakan. Pada proses tahapan ini, encoding mengubah data teks pada kolom data tags menjadi data numerik dengan bahasa biner komputer yaitu 0 dan 1. \n",
        "\n",
        "Tujuan dari encoding ini adalah mempermudah saat proses komputasi data teks dan modelling."
      ],
      "metadata": {
        "id": "qY0vxxwBPeJC"
      },
      "id": "qY0vxxwBPeJC"
    },
    {
      "cell_type": "code",
      "source": [
        "# Encoding the outputs \n",
        "le = LabelEncoder()\n",
        "y_train = le.fit_transform(data['tags'])\n",
        "print(y_train) #Label Encodings"
      ],
      "metadata": {
        "colab": {
          "base_uri": "https://localhost:8080/"
        },
        "id": "sczq--IpTYWa",
        "outputId": "a07bbeaf-d490-441d-db46-f6324c5f8ab9"
      },
      "id": "sczq--IpTYWa",
      "execution_count": 18,
      "outputs": [
        {
          "output_type": "stream",
          "name": "stdout",
          "text": [
            "[13 13 13 13 13 13 13 13 13 13 13 13 13 13 13 12 12 12 12 12 12 12 12 12\n",
            " 12 42 42 42 42 42  0  0 30 30 30 30 30  8  8  8  8  8  8  8  8  8 14 14\n",
            " 14 14 14 14  9  9  9  9  9  5  5  5  5  5  5  5  5  5  5  5  5  5  5  5\n",
            " 32 32 32 32 32 32 26 26 26 31 31 31 31 31 31 15 15 15  6  6  6  6  6  6\n",
            "  7  7  7 29 29 29 29 29 29 36 36 36 21 21 21 21 21 21 16 16 16 39 39 39\n",
            " 39 39 39 24 24 24 20 20 20 20 20 20 25 25 25 41 41 41 41 41 41 19 19 19\n",
            " 18 18 18 18 18 18 27 27 27 43 43 43 43 43 43 28 28 28 33 33 33 33 33 33\n",
            "  3  3  3 35 35 35 34 34 34 22 22 22 22 22 22  2  2  2 23 23 23 10 10 10\n",
            " 10 10 10 11 11 11  1  1  1 37 37 37 37 37 37 38 38 38  4  4  4 17 17 40\n",
            " 40 40 40]\n"
          ]
        }
      ]
    },
    {
      "cell_type": "markdown",
      "source": [
        "Tokenizer pada Tensorflow memberikan token unik untuk setiap kata yang berbeda. Dan juga padding dilakukan untuk mendapatkan semua data dengan panjang yang sama sehingga dapat mengirimkannya ke lapisan atau layer RNN. variabel target juga dikodekan menjadi nilai desimal."
      ],
      "metadata": {
        "id": "D9rKggGCgnjT"
      },
      "id": "D9rKggGCgnjT"
    },
    {
      "cell_type": "markdown",
      "source": [
        "# 04 Input Length, Output Length and Vocabulary\n",
        "\n"
      ],
      "metadata": {
        "id": "_hE21zfRhiNS"
      },
      "id": "_hE21zfRhiNS"
    },
    {
      "cell_type": "code",
      "source": [
        "# input length\n",
        "input_shape = x_train.shape[1]\n",
        "print(input_shape)"
      ],
      "metadata": {
        "colab": {
          "base_uri": "https://localhost:8080/"
        },
        "id": "dbtBZXFvgvCB",
        "outputId": "2c970ac7-c08c-4312-ef2f-ec96d5de9454"
      },
      "id": "dbtBZXFvgvCB",
      "execution_count": 19,
      "outputs": [
        {
          "output_type": "stream",
          "name": "stdout",
          "text": [
            "14\n"
          ]
        }
      ]
    },
    {
      "cell_type": "code",
      "source": [
        "# define vocabulary\n",
        "vocabulary = len(tokenizer.word_index)\n",
        "print(\"number of unique words : \", vocabulary)\n",
        "\n",
        "# output length\n",
        "output_length = le.classes_.shape[0]\n",
        "print(\"output length: \", output_length)"
      ],
      "metadata": {
        "colab": {
          "base_uri": "https://localhost:8080/"
        },
        "id": "310y6oNLhuzv",
        "outputId": "52ea8ff4-e912-4758-facd-af7ddf1537b8"
      },
      "id": "310y6oNLhuzv",
      "execution_count": 20,
      "outputs": [
        {
          "output_type": "stream",
          "name": "stdout",
          "text": [
            "number of unique words :  135\n",
            "output length:  44\n"
          ]
        }
      ]
    },
    {
      "cell_type": "markdown",
      "source": [
        "**Input length** dan **output length** terlihat sangat jelas hasilnya. Mereka adalah untuk bentuk input dan bentuk output dari data train atau latih yang akan diproses pada algoritma Neural Network atau Jaringan Syaraf Tiruan.\n",
        "\n",
        "**Vocabulary Size** adalah untuk lapisan penyematan untuk membuat representasi vektor unik untuk setiap kata."
      ],
      "metadata": {
        "id": "AInHhmVGict2"
      },
      "id": "AInHhmVGict2"
    },
    {
      "cell_type": "markdown",
      "source": [
        "## Save Model Words & Classes\n",
        "\n",
        "Setelah dilakukan pemrosesan teks yang dilakukan lima tahap maka kita bisa simpan model pemrosesan teks tersebut dengan menggunakan format pickle. \n",
        "\n",
        "Hal ini biasanya digunakan untuk membuat hubungan model yang telah dilatih dengan model pemrosesan teks. "
      ],
      "metadata": {
        "id": "1LxIElYjQbB7"
      },
      "id": "1LxIElYjQbB7"
    },
    {
      "cell_type": "code",
      "source": [
        "pickle.dump(words, open('words.pkl','wb'))\n",
        "pickle.dump(classes, open('classes.pkl','wb'))"
      ],
      "metadata": {
        "id": "wYV77QFbQVLP"
      },
      "id": "wYV77QFbQVLP",
      "execution_count": 21,
      "outputs": []
    },
    {
      "cell_type": "markdown",
      "source": [
        "## Save Label Encoder & Tokenizer"
      ],
      "metadata": {
        "id": "dY9COWCwexgZ"
      },
      "id": "dY9COWCwexgZ"
    },
    {
      "cell_type": "code",
      "source": [
        "pickle.dump(le, open('label_encoder.pkl','wb'))\n",
        "pickle.dump(tokenizer, open('tokenizers.pkl','wb'))"
      ],
      "metadata": {
        "id": "saM3QTSjewR4"
      },
      "id": "saM3QTSjewR4",
      "execution_count": 22,
      "outputs": []
    },
    {
      "cell_type": "markdown",
      "source": [
        "# 05 Neural Network Model (LSTM)\n",
        "\n",
        "Setelah menyimpan model untuk pemrosesan teks, tahapan selanjutnya adalah melakukan modelling untuk Chatbot dengan menggunakan algoritma Neural Network atau Jaringan Syaraf Tiruan dengan algoritma LSTM (Long Short Term Memory). **Apa itu Algoritma LSTM?**\n",
        "\n",
        "**LSTM (Long Short Term Memory)** merupakan algoritma Deep Learning yang populer dan cocok digunakan untuk membuat prediksi dan klasifikasi yang berhubungan dengan waktu dan data teks. \n",
        "\n",
        "Algoritma ini bisa dikatakan pengembangan atau salah satu jenis dari algoritma RNN (Recurrent Neural Network). Dalam algoritma RNN, output dari langkah terakhir diumpankan kembali sebagai input pada langkah yang sedang aktif. Namun, algoritma RNN memiliki kekurangan yaitu tidak dapat memprediksi kata yang disimpan dalam memori jangka panjang.\n",
        "\n",
        "Nah, algoritma LSTM dirancang untuk mengatasi kelemahan tersebut, namun tetap mempertahankan kelebihan yang ada pada algoritma RNN dimana RNN mampu memberikan prediksi yang lebih akurat dari informasi terbaru.\n",
        "\n",
        "Algoritma LSTM pertama kali dikembangkan oleh Hochreiter dan Schmidhuber.  Algoritma ini mampu menyimpan informasi untuk jangka waktu yang lama. Hal ini kemudian dapat digunakan untuk memproses, memprediksi, dan mengklasifikasikan informasi berdasarkan data deret waktu.\n",
        "\n",
        "Struktur algoritma LSTM terdiri atas neural network dan beberapa blok memori yang berbeda. Blok memori ini disebut sebagai cell.  State dari cell dan hidden state akan diteruskan ke cell berikutnya.\n",
        "\n",
        "Seperti yang ditunjukkan pada gambar di bawah, bangun berbentuk persegi panjang berwarna biru adalah **ilustrasi cell** pada LSTM.\n",
        "\n",
        "![LSTM_deep_learning_algorithms.webp](data:image/webp;base64,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)\n",
        "\n",
        "Informasi yang dikumpulkan oleh algoritma LSTM kemudian akan disimpan oleh cell dan manipulasi memori dilakukan oleh komponen yang disebut dengan gate. Ada tiga jenis gate pada algoritma LSTM, di antaranya  Forget gate, Input gate, dan  Output gate. Sumber : [Trivusi](https://www.trivusi.web.id/2022/07/algoritma-lstm.html)\n",
        "\n",
        "Jaringan syaraf dalam kasus chatbot ini yang terdiri dari lapisan atau *layer* embedding yang merupakan salah satu hal yang paling kuat di bidang pemrosesan bahasa alami atau NLP. output atau keluaran dari lapisan (*layer*) embedding adalah input (masukan) data teks dari lapisan berulang (*recurrent*) dengan layer LSTM gate (Lapisan Gerbang **Long Shot Term Memory)**. Kemudian, output atau keluaran diratakan dan lapisan Dense digunakan dengan fungsi aktivasi **Softmax** yang dimana implementasi chatbot ini memiliki data label lebih dari dua kelas.\n",
        "\n",
        "Bagian utama dalam pemodelan chatbot ini adalah lapisan embedding yang memberikan nilai vektor yang sesuai untuk setiap kata dalam data teks yang telah dimasukkan."
      ],
      "metadata": {
        "id": "BI7OvNariInQ"
      },
      "id": "BI7OvNariInQ"
    },
    {
      "cell_type": "code",
      "source": [
        "# Creating the model (Membuat Modeling)\n",
        "i = Input(shape=(input_shape,))\n",
        "x = Embedding(vocabulary+1,10)(i) # Layer Embedding\n",
        "x = LSTM(10, return_sequences=True)(x) # Layer Long Short Term Memory\n",
        "x = Flatten()(x) # Layer Flatten\n",
        "x = Dense(output_length, activation=\"softmax\")(x) # Layer Dense\n",
        "model  = Model(i,x)\n",
        "\n",
        "# Compiling the model (Kompilasi Model)\n",
        "model.compile(loss=\"sparse_categorical_crossentropy\", optimizer='adam', metrics=['accuracy'])"
      ],
      "metadata": {
        "id": "2XBG3_reh2KY"
      },
      "id": "2XBG3_reh2KY",
      "execution_count": 23,
      "outputs": []
    },
    {
      "cell_type": "code",
      "source": [
        "# Visualization Plot Architecture Model (Visualisasi Plot Arsitektur Model)\n",
        "plot_model(model, to_file='model_plot.png', show_shapes=True, show_layer_names=True)"
      ],
      "metadata": {
        "colab": {
          "base_uri": "https://localhost:8080/",
          "height": 533
        },
        "id": "SO1blkS7ZzuH",
        "outputId": "f1864470-0510-4836-d8fb-eddc1db1ec37"
      },
      "id": "SO1blkS7ZzuH",
      "execution_count": 24,
      "outputs": [
        {
          "output_type": "execute_result",
          "data": {
            "image/png": "[encoded data removed]",
            "text/plain": [
              "<IPython.core.display.Image object>"
            ]
          },
          "metadata": {},
          "execution_count": 24
        }
      ]
    },
    {
      "cell_type": "code",
      "source": [
        "# Menampilkan Parameter Model\n",
        "model.summary() "
      ],
      "metadata": {
        "colab": {
          "base_uri": "https://localhost:8080/"
        },
        "id": "4hab_JHoopQI",
        "outputId": "b0908559-759b-411e-e7fd-b732240dd09a"
      },
      "id": "4hab_JHoopQI",
      "execution_count": 25,
      "outputs": [
        {
          "output_type": "stream",
          "name": "stdout",
          "text": [
            "Model: \"model\"\n",
            "_________________________________________________________________\n",
            " Layer (type)                Output Shape              Param #   \n",
            "=================================================================\n",
            " input_1 (InputLayer)        [(None, 14)]              0         \n",
            "                                                                 \n",
            " embedding (Embedding)       (None, 14, 10)            1360      \n",
            "                                                                 \n",
            " lstm (LSTM)                 (None, 14, 10)            840       \n",
            "                                                                 \n",
            " flatten (Flatten)           (None, 140)               0         \n",
            "                                                                 \n",
            " dense (Dense)               (None, 44)                6204      \n",
            "                                                                 \n",
            "=================================================================\n",
            "Total params: 8,404\n",
            "Trainable params: 8,404\n",
            "Non-trainable params: 0\n",
            "_________________________________________________________________\n"
          ]
        }
      ]
    },
    {
      "cell_type": "code",
      "source": [
        "# Training the model (Latih model data sampai 400 kali)\n",
        "train = model.fit(x_train, y_train, epochs=400)"
      ],
      "metadata": {
        "colab": {
          "base_uri": "https://localhost:8080/"
        },
        "id": "AHtOlCb8kGgZ",
        "outputId": "8c88830b-9bdb-4df8-cf1a-8c12e3291da8"
      },
      "id": "AHtOlCb8kGgZ",
      "execution_count": 26,
      "outputs": [
        {
          "output_type": "stream",
          "name": "stdout",
          "text": [
            "Epoch 1/400\n",
            "7/7 [==============================] - 12s 256ms/step - loss: 3.7874 - accuracy: 0.0274\n",
            "Epoch 2/400\n",
            "7/7 [==============================] - 2s 229ms/step - loss: 3.7789 - accuracy: 0.0411\n",
            "Epoch 3/400\n",
            "7/7 [==============================] - 1s 66ms/step - loss: 3.7718 - accuracy: 0.0594\n",
            "Epoch 4/400\n",
            "7/7 [==============================] - 0s 35ms/step - loss: 3.7625 - accuracy: 0.0685\n",
            "Epoch 5/400\n",
            "7/7 [==============================] - 0s 37ms/step - loss: 3.7500 - accuracy: 0.0685\n",
            "Epoch 6/400\n",
            "7/7 [==============================] - 1s 66ms/step - loss: 3.7311 - accuracy: 0.0685\n",
            "Epoch 7/400\n",
            "7/7 [==============================] - 1s 67ms/step - loss: 3.7038 - accuracy: 0.0685\n",
            "Epoch 8/400\n",
            "7/7 [==============================] - 0s 67ms/step - loss: 3.6680 - accuracy: 0.0685\n",
            "Epoch 9/400\n",
            "7/7 [==============================] - 0s 6ms/step - loss: 3.6230 - accuracy: 0.0685\n",
            "Epoch 10/400\n",
            "7/7 [==============================] - 1s 105ms/step - loss: 3.5952 - accuracy: 0.0685\n",
            "Epoch 11/400\n",
            "7/7 [==============================] - 0s 35ms/step - loss: 3.5755 - accuracy: 0.1096\n",
            "Epoch 12/400\n",
            "7/7 [==============================] - 0s 36ms/step - loss: 3.5519 - accuracy: 0.1416\n",
            "Epoch 13/400\n",
            "7/7 [==============================] - 0s 5ms/step - loss: 3.5308 - accuracy: 0.1187\n",
            "Epoch 14/400\n",
            "7/7 [==============================] - 0s 6ms/step - loss: 3.5082 - accuracy: 0.1187\n",
            "Epoch 15/400\n",
            "7/7 [==============================] - 0s 6ms/step - loss: 3.4801 - accuracy: 0.1187\n",
            "Epoch 16/400\n",
            "7/7 [==============================] - 0s 37ms/step - loss: 3.4470 - accuracy: 0.1233\n",
            "Epoch 17/400\n",
            "7/7 [==============================] - 0s 5ms/step - loss: 3.4142 - accuracy: 0.1370\n",
            "Epoch 18/400\n",
            "7/7 [==============================] - 0s 6ms/step - loss: 3.3777 - accuracy: 0.1644\n",
            "Epoch 19/400\n",
            "7/7 [==============================] - 0s 6ms/step - loss: 3.3357 - accuracy: 0.1644\n",
            "Epoch 20/400\n",
            "7/7 [==============================] - 0s 6ms/step - loss: 3.2927 - accuracy: 0.1689\n",
            "Epoch 21/400\n",
            "7/7 [==============================] - 0s 38ms/step - loss: 3.2457 - accuracy: 0.1689\n",
            "Epoch 22/400\n",
            "7/7 [==============================] - 0s 5ms/step - loss: 3.1936 - accuracy: 0.1735\n",
            "Epoch 23/400\n",
            "7/7 [==============================] - 0s 6ms/step - loss: 3.1422 - accuracy: 0.1826\n",
            "Epoch 24/400\n",
            "7/7 [==============================] - 0s 5ms/step - loss: 3.0871 - accuracy: 0.1826\n",
            "Epoch 25/400\n",
            "7/7 [==============================] - 0s 5ms/step - loss: 3.0297 - accuracy: 0.1872\n",
            "Epoch 26/400\n",
            "7/7 [==============================] - 0s 35ms/step - loss: 2.9732 - accuracy: 0.1918\n",
            "Epoch 27/400\n",
            "7/7 [==============================] - 0s 5ms/step - loss: 2.9120 - accuracy: 0.1918\n",
            "Epoch 28/400\n",
            "7/7 [==============================] - 0s 5ms/step - loss: 2.8536 - accuracy: 0.1963\n",
            "Epoch 29/400\n",
            "7/7 [==============================] - 0s 39ms/step - loss: 2.7938 - accuracy: 0.2237\n",
            "Epoch 30/400\n",
            "7/7 [==============================] - 0s 5ms/step - loss: 2.7315 - accuracy: 0.2283\n",
            "Epoch 31/400\n",
            "7/7 [==============================] - 0s 5ms/step - loss: 2.6747 - accuracy: 0.2374\n",
            "Epoch 32/400\n",
            "7/7 [==============================] - 0s 36ms/step - loss: 2.6201 - accuracy: 0.2420\n",
            "Epoch 33/400\n",
            "7/7 [==============================] - 0s 6ms/step - loss: 2.5642 - accuracy: 0.2374\n",
            "Epoch 34/400\n",
            "7/7 [==============================] - 0s 5ms/step - loss: 2.5095 - accuracy: 0.2466\n",
            "Epoch 35/400\n",
            "7/7 [==============================] - 0s 5ms/step - loss: 2.4558 - accuracy: 0.2466\n",
            "Epoch 36/400\n",
            "7/7 [==============================] - 0s 6ms/step - loss: 2.4089 - accuracy: 0.2603\n",
            "Epoch 37/400\n",
            "7/7 [==============================] - 0s 5ms/step - loss: 2.3570 - accuracy: 0.2877\n",
            "Epoch 38/400\n",
            "7/7 [==============================] - 0s 5ms/step - loss: 2.3121 - accuracy: 0.3196\n",
            "Epoch 39/400\n",
            "7/7 [==============================] - 0s 5ms/step - loss: 2.2697 - accuracy: 0.3196\n",
            "Epoch 40/400\n",
            "7/7 [==============================] - 0s 6ms/step - loss: 2.2252 - accuracy: 0.3196\n",
            "Epoch 41/400\n",
            "7/7 [==============================] - 0s 5ms/step - loss: 2.1764 - accuracy: 0.3562\n",
            "Epoch 42/400\n",
            "7/7 [==============================] - 0s 5ms/step - loss: 2.1347 - accuracy: 0.3653\n",
            "Epoch 43/400\n",
            "7/7 [==============================] - 0s 7ms/step - loss: 2.0948 - accuracy: 0.4155\n",
            "Epoch 44/400\n",
            "7/7 [==============================] - 0s 6ms/step - loss: 2.0496 - accuracy: 0.4110\n",
            "Epoch 45/400\n",
            "7/7 [==============================] - 0s 7ms/step - loss: 2.0081 - accuracy: 0.4338\n",
            "Epoch 46/400\n",
            "7/7 [==============================] - 0s 5ms/step - loss: 1.9611 - accuracy: 0.4475\n",
            "Epoch 47/400\n",
            "7/7 [==============================] - 0s 35ms/step - loss: 1.9237 - accuracy: 0.4703\n",
            "Epoch 48/400\n",
            "7/7 [==============================] - 0s 5ms/step - loss: 1.8838 - accuracy: 0.5068\n",
            "Epoch 49/400\n",
            "7/7 [==============================] - 0s 5ms/step - loss: 1.8435 - accuracy: 0.5023\n",
            "Epoch 50/400\n",
            "7/7 [==============================] - 0s 5ms/step - loss: 1.8045 - accuracy: 0.5342\n",
            "Epoch 51/400\n",
            "7/7 [==============================] - 0s 5ms/step - loss: 1.7727 - accuracy: 0.5434\n",
            "Epoch 52/400\n",
            "7/7 [==============================] - 0s 5ms/step - loss: 1.7304 - accuracy: 0.6027\n",
            "Epoch 53/400\n",
            "7/7 [==============================] - 0s 6ms/step - loss: 1.6906 - accuracy: 0.6210\n",
            "Epoch 54/400\n",
            "7/7 [==============================] - 0s 6ms/step - loss: 1.6597 - accuracy: 0.6393\n",
            "Epoch 55/400\n",
            "7/7 [==============================] - 0s 6ms/step - loss: 1.6240 - accuracy: 0.6484\n",
            "Epoch 56/400\n",
            "7/7 [==============================] - 0s 5ms/step - loss: 1.5922 - accuracy: 0.6849\n",
            "Epoch 57/400\n",
            "7/7 [==============================] - 0s 6ms/step - loss: 1.5548 - accuracy: 0.6941\n",
            "Epoch 58/400\n",
            "7/7 [==============================] - 0s 6ms/step - loss: 1.5304 - accuracy: 0.6895\n",
            "Epoch 59/400\n",
            "7/7 [==============================] - 0s 6ms/step - loss: 1.4976 - accuracy: 0.7032\n",
            "Epoch 60/400\n",
            "7/7 [==============================] - 0s 6ms/step - loss: 1.4656 - accuracy: 0.7032\n",
            "Epoch 61/400\n",
            "7/7 [==============================] - 0s 6ms/step - loss: 1.4320 - accuracy: 0.7260\n",
            "Epoch 62/400\n",
            "7/7 [==============================] - 0s 38ms/step - loss: 1.4070 - accuracy: 0.7169\n",
            "Epoch 63/400\n",
            "7/7 [==============================] - 0s 5ms/step - loss: 1.3775 - accuracy: 0.7443\n",
            "Epoch 64/400\n",
            "7/7 [==============================] - 0s 5ms/step - loss: 1.3567 - accuracy: 0.7123\n",
            "Epoch 65/400\n",
            "7/7 [==============================] - 0s 5ms/step - loss: 1.3253 - accuracy: 0.7397\n",
            "Epoch 66/400\n",
            "7/7 [==============================] - 0s 35ms/step - loss: 1.3071 - accuracy: 0.7397\n",
            "Epoch 67/400\n",
            "7/7 [==============================] - 0s 5ms/step - loss: 1.2917 - accuracy: 0.7306\n",
            "Epoch 68/400\n",
            "7/7 [==============================] - 0s 5ms/step - loss: 1.2799 - accuracy: 0.7169\n",
            "Epoch 69/400\n",
            "7/7 [==============================] - 0s 5ms/step - loss: 1.2335 - accuracy: 0.7763\n",
            "Epoch 70/400\n",
            "7/7 [==============================] - 0s 6ms/step - loss: 1.2203 - accuracy: 0.7671\n",
            "Epoch 71/400\n",
            "7/7 [==============================] - 0s 5ms/step - loss: 1.1827 - accuracy: 0.7854\n",
            "Epoch 72/400\n",
            "7/7 [==============================] - 0s 5ms/step - loss: 1.1655 - accuracy: 0.8037\n",
            "Epoch 73/400\n",
            "7/7 [==============================] - 0s 5ms/step - loss: 1.1423 - accuracy: 0.8037\n",
            "Epoch 74/400\n",
            "7/7 [==============================] - 0s 5ms/step - loss: 1.1147 - accuracy: 0.8128\n",
            "Epoch 75/400\n",
            "7/7 [==============================] - 0s 6ms/step - loss: 1.0955 - accuracy: 0.8037\n",
            "Epoch 76/400\n",
            "7/7 [==============================] - 0s 7ms/step - loss: 1.0691 - accuracy: 0.8037\n",
            "Epoch 77/400\n",
            "7/7 [==============================] - 0s 5ms/step - loss: 1.0467 - accuracy: 0.8265\n",
            "Epoch 78/400\n",
            "7/7 [==============================] - 0s 6ms/step - loss: 1.0289 - accuracy: 0.8219\n",
            "Epoch 79/400\n",
            "7/7 [==============================] - 0s 5ms/step - loss: 1.0061 - accuracy: 0.8447\n",
            "Epoch 80/400\n",
            "7/7 [==============================] - 0s 5ms/step - loss: 0.9901 - accuracy: 0.8493\n",
            "Epoch 81/400\n",
            "7/7 [==============================] - 0s 6ms/step - loss: 0.9736 - accuracy: 0.8493\n",
            "Epoch 82/400\n",
            "7/7 [==============================] - 0s 6ms/step - loss: 0.9581 - accuracy: 0.8447\n",
            "Epoch 83/400\n",
            "7/7 [==============================] - 0s 5ms/step - loss: 0.9351 - accuracy: 0.8356\n",
            "Epoch 84/400\n",
            "7/7 [==============================] - 0s 5ms/step - loss: 0.9138 - accuracy: 0.8447\n",
            "Epoch 85/400\n",
            "7/7 [==============================] - 0s 6ms/step - loss: 0.8957 - accuracy: 0.8539\n",
            "Epoch 86/400\n",
            "7/7 [==============================] - 0s 7ms/step - loss: 0.8779 - accuracy: 0.8584\n",
            "Epoch 87/400\n",
            "7/7 [==============================] - 0s 5ms/step - loss: 0.8634 - accuracy: 0.8584\n",
            "Epoch 88/400\n",
            "7/7 [==============================] - 0s 5ms/step - loss: 0.8468 - accuracy: 0.8584\n",
            "Epoch 89/400\n",
            "7/7 [==============================] - 0s 6ms/step - loss: 0.8359 - accuracy: 0.8630\n",
            "Epoch 90/400\n",
            "7/7 [==============================] - 0s 5ms/step - loss: 0.8211 - accuracy: 0.8676\n",
            "Epoch 91/400\n",
            "7/7 [==============================] - 0s 6ms/step - loss: 0.8052 - accuracy: 0.8584\n",
            "Epoch 92/400\n",
            "7/7 [==============================] - 0s 6ms/step - loss: 0.7864 - accuracy: 0.8630\n",
            "Epoch 93/400\n",
            "7/7 [==============================] - 0s 5ms/step - loss: 0.7711 - accuracy: 0.8630\n",
            "Epoch 94/400\n",
            "7/7 [==============================] - 0s 5ms/step - loss: 0.7578 - accuracy: 0.8767\n",
            "Epoch 95/400\n",
            "7/7 [==============================] - 0s 6ms/step - loss: 0.7458 - accuracy: 0.8813\n",
            "Epoch 96/400\n",
            "7/7 [==============================] - 0s 39ms/step - loss: 0.7306 - accuracy: 0.8721\n",
            "Epoch 97/400\n",
            "7/7 [==============================] - 0s 5ms/step - loss: 0.7169 - accuracy: 0.8813\n",
            "Epoch 98/400\n",
            "7/7 [==============================] - 0s 5ms/step - loss: 0.7047 - accuracy: 0.8813\n",
            "Epoch 99/400\n",
            "7/7 [==============================] - 0s 5ms/step - loss: 0.7001 - accuracy: 0.8904\n",
            "Epoch 100/400\n",
            "7/7 [==============================] - 0s 5ms/step - loss: 0.6912 - accuracy: 0.8813\n",
            "Epoch 101/400\n",
            "7/7 [==============================] - 0s 6ms/step - loss: 0.6849 - accuracy: 0.8767\n",
            "Epoch 102/400\n",
            "7/7 [==============================] - 0s 54ms/step - loss: 0.6617 - accuracy: 0.8767\n",
            "Epoch 103/400\n",
            "7/7 [==============================] - 0s 8ms/step - loss: 0.6514 - accuracy: 0.9087\n",
            "Epoch 104/400\n",
            "7/7 [==============================] - 0s 55ms/step - loss: 0.6442 - accuracy: 0.8813\n",
            "Epoch 105/400\n",
            "7/7 [==============================] - 0s 8ms/step - loss: 0.6254 - accuracy: 0.9178\n",
            "Epoch 106/400\n",
            "7/7 [==============================] - 0s 8ms/step - loss: 0.6134 - accuracy: 0.8950\n",
            "Epoch 107/400\n",
            "7/7 [==============================] - 0s 7ms/step - loss: 0.6035 - accuracy: 0.9041\n",
            "Epoch 108/400\n",
            "7/7 [==============================] - 0s 8ms/step - loss: 0.5947 - accuracy: 0.9041\n",
            "Epoch 109/400\n",
            "7/7 [==============================] - 0s 8ms/step - loss: 0.5836 - accuracy: 0.9269\n",
            "Epoch 110/400\n",
            "7/7 [==============================] - 0s 8ms/step - loss: 0.5732 - accuracy: 0.9406\n",
            "Epoch 111/400\n",
            "7/7 [==============================] - 0s 8ms/step - loss: 0.5628 - accuracy: 0.9315\n",
            "Epoch 112/400\n",
            "7/7 [==============================] - 0s 8ms/step - loss: 0.5540 - accuracy: 0.9406\n",
            "Epoch 113/400\n",
            "7/7 [==============================] - 0s 8ms/step - loss: 0.5522 - accuracy: 0.9132\n",
            "Epoch 114/400\n",
            "7/7 [==============================] - 0s 8ms/step - loss: 0.5396 - accuracy: 0.9543\n",
            "Epoch 115/400\n",
            "7/7 [==============================] - 0s 7ms/step - loss: 0.5323 - accuracy: 0.9406\n",
            "Epoch 116/400\n",
            "7/7 [==============================] - 0s 7ms/step - loss: 0.5234 - accuracy: 0.9452\n",
            "Epoch 117/400\n",
            "7/7 [==============================] - 0s 8ms/step - loss: 0.5106 - accuracy: 0.9452\n",
            "Epoch 118/400\n",
            "7/7 [==============================] - 0s 8ms/step - loss: 0.5027 - accuracy: 0.9498\n",
            "Epoch 119/400\n",
            "7/7 [==============================] - 0s 8ms/step - loss: 0.4949 - accuracy: 0.9589\n",
            "Epoch 120/400\n",
            "7/7 [==============================] - 0s 10ms/step - loss: 0.4879 - accuracy: 0.9498\n",
            "Epoch 121/400\n",
            "7/7 [==============================] - 0s 8ms/step - loss: 0.4811 - accuracy: 0.9543\n",
            "Epoch 122/400\n",
            "7/7 [==============================] - 0s 8ms/step - loss: 0.4721 - accuracy: 0.9635\n",
            "Epoch 123/400\n",
            "7/7 [==============================] - 0s 7ms/step - loss: 0.4643 - accuracy: 0.9589\n",
            "Epoch 124/400\n",
            "7/7 [==============================] - 0s 8ms/step - loss: 0.4575 - accuracy: 0.9589\n",
            "Epoch 125/400\n",
            "7/7 [==============================] - 0s 61ms/step - loss: 0.4505 - accuracy: 0.9635\n",
            "Epoch 126/400\n",
            "7/7 [==============================] - 0s 8ms/step - loss: 0.4429 - accuracy: 0.9635\n",
            "Epoch 127/400\n",
            "7/7 [==============================] - 0s 7ms/step - loss: 0.4371 - accuracy: 0.9589\n",
            "Epoch 128/400\n",
            "7/7 [==============================] - 0s 8ms/step - loss: 0.4298 - accuracy: 0.9635\n",
            "Epoch 129/400\n",
            "7/7 [==============================] - 0s 8ms/step - loss: 0.4223 - accuracy: 0.9680\n",
            "Epoch 130/400\n",
            "7/7 [==============================] - 0s 10ms/step - loss: 0.4165 - accuracy: 0.9635\n",
            "Epoch 131/400\n",
            "7/7 [==============================] - 0s 5ms/step - loss: 0.4119 - accuracy: 0.9680\n",
            "Epoch 132/400\n",
            "7/7 [==============================] - 0s 5ms/step - loss: 0.4086 - accuracy: 0.9635\n",
            "Epoch 133/400\n",
            "7/7 [==============================] - 0s 5ms/step - loss: 0.4111 - accuracy: 0.9543\n",
            "Epoch 134/400\n",
            "7/7 [==============================] - 0s 5ms/step - loss: 0.3967 - accuracy: 0.9726\n",
            "Epoch 135/400\n",
            "7/7 [==============================] - 0s 5ms/step - loss: 0.3887 - accuracy: 0.9726\n",
            "Epoch 136/400\n",
            "7/7 [==============================] - 0s 5ms/step - loss: 0.3817 - accuracy: 0.9726\n",
            "Epoch 137/400\n",
            "7/7 [==============================] - 0s 5ms/step - loss: 0.3784 - accuracy: 0.9726\n",
            "Epoch 138/400\n",
            "7/7 [==============================] - 0s 6ms/step - loss: 0.3728 - accuracy: 0.9726\n",
            "Epoch 139/400\n",
            "7/7 [==============================] - 0s 5ms/step - loss: 0.3653 - accuracy: 0.9772\n",
            "Epoch 140/400\n",
            "7/7 [==============================] - 0s 6ms/step - loss: 0.3621 - accuracy: 0.9772\n",
            "Epoch 141/400\n",
            "7/7 [==============================] - 0s 5ms/step - loss: 0.3587 - accuracy: 0.9726\n",
            "Epoch 142/400\n",
            "7/7 [==============================] - 0s 6ms/step - loss: 0.3503 - accuracy: 0.9726\n",
            "Epoch 143/400\n",
            "7/7 [==============================] - 0s 5ms/step - loss: 0.3460 - accuracy: 0.9772\n",
            "Epoch 144/400\n",
            "7/7 [==============================] - 0s 6ms/step - loss: 0.3416 - accuracy: 0.9772\n",
            "Epoch 145/400\n",
            "7/7 [==============================] - 0s 5ms/step - loss: 0.3368 - accuracy: 0.9772\n",
            "Epoch 146/400\n",
            "7/7 [==============================] - 0s 6ms/step - loss: 0.3348 - accuracy: 0.9772\n",
            "Epoch 147/400\n",
            "7/7 [==============================] - 0s 5ms/step - loss: 0.3343 - accuracy: 0.9772\n",
            "Epoch 148/400\n",
            "7/7 [==============================] - 0s 5ms/step - loss: 0.3281 - accuracy: 0.9726\n",
            "Epoch 149/400\n",
            "7/7 [==============================] - 0s 5ms/step - loss: 0.3233 - accuracy: 0.9772\n",
            "Epoch 150/400\n",
            "7/7 [==============================] - 0s 6ms/step - loss: 0.3147 - accuracy: 0.9772\n",
            "Epoch 151/400\n",
            "7/7 [==============================] - 0s 6ms/step - loss: 0.3121 - accuracy: 0.9772\n",
            "Epoch 152/400\n",
            "7/7 [==============================] - 0s 6ms/step - loss: 0.3072 - accuracy: 0.9772\n",
            "Epoch 153/400\n",
            "7/7 [==============================] - 0s 5ms/step - loss: 0.3015 - accuracy: 0.9772\n",
            "Epoch 154/400\n",
            "7/7 [==============================] - 0s 5ms/step - loss: 0.3001 - accuracy: 0.9772\n",
            "Epoch 155/400\n",
            "7/7 [==============================] - 0s 5ms/step - loss: 0.2956 - accuracy: 0.9772\n",
            "Epoch 156/400\n",
            "7/7 [==============================] - 0s 5ms/step - loss: 0.2929 - accuracy: 0.9772\n",
            "Epoch 157/400\n",
            "7/7 [==============================] - 0s 5ms/step - loss: 0.2869 - accuracy: 0.9772\n",
            "Epoch 158/400\n",
            "7/7 [==============================] - 0s 5ms/step - loss: 0.2836 - accuracy: 0.9772\n",
            "Epoch 159/400\n",
            "7/7 [==============================] - 0s 6ms/step - loss: 0.2803 - accuracy: 0.9772\n",
            "Epoch 160/400\n",
            "7/7 [==============================] - 0s 6ms/step - loss: 0.2760 - accuracy: 0.9772\n",
            "Epoch 161/400\n",
            "7/7 [==============================] - 0s 5ms/step - loss: 0.2738 - accuracy: 0.9817\n",
            "Epoch 162/400\n",
            "7/7 [==============================] - 0s 5ms/step - loss: 0.2685 - accuracy: 0.9772\n",
            "Epoch 163/400\n",
            "7/7 [==============================] - 0s 6ms/step - loss: 0.2674 - accuracy: 0.9772\n",
            "Epoch 164/400\n",
            "7/7 [==============================] - 0s 6ms/step - loss: 0.2628 - accuracy: 0.9817\n",
            "Epoch 165/400\n",
            "7/7 [==============================] - 0s 5ms/step - loss: 0.2607 - accuracy: 0.9772\n",
            "Epoch 166/400\n",
            "7/7 [==============================] - 0s 5ms/step - loss: 0.2560 - accuracy: 0.9772\n",
            "Epoch 167/400\n",
            "7/7 [==============================] - 0s 5ms/step - loss: 0.2535 - accuracy: 0.9772\n",
            "Epoch 168/400\n",
            "7/7 [==============================] - 0s 5ms/step - loss: 0.2499 - accuracy: 0.9817\n",
            "Epoch 169/400\n",
            "7/7 [==============================] - 0s 5ms/step - loss: 0.2476 - accuracy: 0.9817\n",
            "Epoch 170/400\n",
            "7/7 [==============================] - 0s 5ms/step - loss: 0.2433 - accuracy: 0.9817\n",
            "Epoch 171/400\n",
            "7/7 [==============================] - 0s 5ms/step - loss: 0.2417 - accuracy: 0.9817\n",
            "Epoch 172/400\n",
            "7/7 [==============================] - 0s 6ms/step - loss: 0.2384 - accuracy: 0.9817\n",
            "Epoch 173/400\n",
            "7/7 [==============================] - 0s 5ms/step - loss: 0.2350 - accuracy: 0.9817\n",
            "Epoch 174/400\n",
            "7/7 [==============================] - 0s 7ms/step - loss: 0.2326 - accuracy: 0.9817\n",
            "Epoch 175/400\n",
            "7/7 [==============================] - 0s 5ms/step - loss: 0.2283 - accuracy: 0.9817\n",
            "Epoch 176/400\n",
            "7/7 [==============================] - 0s 5ms/step - loss: 0.2275 - accuracy: 0.9817\n",
            "Epoch 177/400\n",
            "7/7 [==============================] - 0s 6ms/step - loss: 0.2241 - accuracy: 0.9772\n",
            "Epoch 178/400\n",
            "7/7 [==============================] - 0s 5ms/step - loss: 0.2218 - accuracy: 0.9817\n",
            "Epoch 179/400\n",
            "7/7 [==============================] - 0s 5ms/step - loss: 0.2194 - accuracy: 0.9817\n",
            "Epoch 180/400\n",
            "7/7 [==============================] - 0s 5ms/step - loss: 0.2170 - accuracy: 0.9817\n",
            "Epoch 181/400\n",
            "7/7 [==============================] - 0s 5ms/step - loss: 0.2129 - accuracy: 0.9817\n",
            "Epoch 182/400\n",
            "7/7 [==============================] - 0s 5ms/step - loss: 0.2100 - accuracy: 0.9817\n",
            "Epoch 183/400\n",
            "7/7 [==============================] - 0s 5ms/step - loss: 0.2075 - accuracy: 0.9817\n",
            "Epoch 184/400\n",
            "7/7 [==============================] - 0s 6ms/step - loss: 0.2056 - accuracy: 0.9817\n",
            "Epoch 185/400\n",
            "7/7 [==============================] - 0s 8ms/step - loss: 0.2043 - accuracy: 0.9817\n",
            "Epoch 186/400\n",
            "7/7 [==============================] - 0s 7ms/step - loss: 0.2006 - accuracy: 0.9817\n",
            "Epoch 187/400\n",
            "7/7 [==============================] - 0s 5ms/step - loss: 0.1975 - accuracy: 0.9817\n",
            "Epoch 188/400\n",
            "7/7 [==============================] - 0s 5ms/step - loss: 0.1953 - accuracy: 0.9817\n",
            "Epoch 189/400\n",
            "7/7 [==============================] - 0s 36ms/step - loss: 0.1934 - accuracy: 0.9817\n",
            "Epoch 190/400\n",
            "7/7 [==============================] - 0s 6ms/step - loss: 0.1904 - accuracy: 0.9817\n",
            "Epoch 191/400\n",
            "7/7 [==============================] - 0s 7ms/step - loss: 0.1886 - accuracy: 0.9817\n",
            "Epoch 192/400\n",
            "7/7 [==============================] - 0s 6ms/step - loss: 0.1858 - accuracy: 0.9817\n",
            "Epoch 193/400\n",
            "7/7 [==============================] - 0s 6ms/step - loss: 0.1841 - accuracy: 0.9817\n",
            "Epoch 194/400\n",
            "7/7 [==============================] - 0s 5ms/step - loss: 0.1820 - accuracy: 0.9817\n",
            "Epoch 195/400\n",
            "7/7 [==============================] - 0s 5ms/step - loss: 0.1791 - accuracy: 0.9817\n",
            "Epoch 196/400\n",
            "7/7 [==============================] - 0s 6ms/step - loss: 0.1777 - accuracy: 0.9817\n",
            "Epoch 197/400\n",
            "7/7 [==============================] - 0s 5ms/step - loss: 0.1756 - accuracy: 0.9817\n",
            "Epoch 198/400\n",
            "7/7 [==============================] - 0s 5ms/step - loss: 0.1738 - accuracy: 0.9817\n",
            "Epoch 199/400\n",
            "7/7 [==============================] - 0s 5ms/step - loss: 0.1715 - accuracy: 0.9863\n",
            "Epoch 200/400\n",
            "7/7 [==============================] - 0s 6ms/step - loss: 0.1693 - accuracy: 0.9863\n",
            "Epoch 201/400\n",
            "7/7 [==============================] - 0s 6ms/step - loss: 0.1681 - accuracy: 0.9863\n",
            "Epoch 202/400\n",
            "7/7 [==============================] - 0s 5ms/step - loss: 0.1667 - accuracy: 0.9817\n",
            "Epoch 203/400\n",
            "7/7 [==============================] - 0s 7ms/step - loss: 0.1635 - accuracy: 0.9817\n",
            "Epoch 204/400\n",
            "7/7 [==============================] - 0s 5ms/step - loss: 0.1620 - accuracy: 0.9863\n",
            "Epoch 205/400\n",
            "7/7 [==============================] - 0s 5ms/step - loss: 0.1600 - accuracy: 0.9863\n",
            "Epoch 206/400\n",
            "7/7 [==============================] - 0s 5ms/step - loss: 0.1577 - accuracy: 0.9863\n",
            "Epoch 207/400\n",
            "7/7 [==============================] - 0s 5ms/step - loss: 0.1569 - accuracy: 0.9863\n",
            "Epoch 208/400\n",
            "7/7 [==============================] - 0s 6ms/step - loss: 0.1553 - accuracy: 0.9863\n",
            "Epoch 209/400\n",
            "7/7 [==============================] - 0s 5ms/step - loss: 0.1534 - accuracy: 0.9863\n",
            "Epoch 210/400\n",
            "7/7 [==============================] - 0s 5ms/step - loss: 0.1521 - accuracy: 0.9863\n",
            "Epoch 211/400\n",
            "7/7 [==============================] - 0s 5ms/step - loss: 0.1511 - accuracy: 0.9863\n",
            "Epoch 212/400\n",
            "7/7 [==============================] - 0s 5ms/step - loss: 0.1496 - accuracy: 0.9863\n",
            "Epoch 213/400\n",
            "7/7 [==============================] - 0s 7ms/step - loss: 0.1477 - accuracy: 0.9863\n",
            "Epoch 214/400\n",
            "7/7 [==============================] - 0s 7ms/step - loss: 0.1460 - accuracy: 0.9863\n",
            "Epoch 215/400\n",
            "7/7 [==============================] - 0s 5ms/step - loss: 0.1442 - accuracy: 0.9863\n",
            "Epoch 216/400\n",
            "7/7 [==============================] - 0s 6ms/step - loss: 0.1420 - accuracy: 0.9863\n",
            "Epoch 217/400\n",
            "7/7 [==============================] - 0s 5ms/step - loss: 0.1398 - accuracy: 0.9863\n",
            "Epoch 218/400\n",
            "7/7 [==============================] - 0s 5ms/step - loss: 0.1387 - accuracy: 0.9909\n",
            "Epoch 219/400\n",
            "7/7 [==============================] - 0s 5ms/step - loss: 0.1379 - accuracy: 0.9909\n",
            "Epoch 220/400\n",
            "7/7 [==============================] - 0s 6ms/step - loss: 0.1359 - accuracy: 0.9863\n",
            "Epoch 221/400\n",
            "7/7 [==============================] - 0s 5ms/step - loss: 0.1354 - accuracy: 0.9909\n",
            "Epoch 222/400\n",
            "7/7 [==============================] - 0s 5ms/step - loss: 0.1343 - accuracy: 0.9863\n",
            "Epoch 223/400\n",
            "7/7 [==============================] - 0s 5ms/step - loss: 0.1315 - accuracy: 0.9863\n",
            "Epoch 224/400\n",
            "7/7 [==============================] - 0s 7ms/step - loss: 0.1315 - accuracy: 0.9909\n",
            "Epoch 225/400\n",
            "7/7 [==============================] - 0s 5ms/step - loss: 0.1296 - accuracy: 0.9863\n",
            "Epoch 226/400\n",
            "7/7 [==============================] - 0s 5ms/step - loss: 0.1300 - accuracy: 0.9954\n",
            "Epoch 227/400\n",
            "7/7 [==============================] - 0s 6ms/step - loss: 0.1261 - accuracy: 0.9954\n",
            "Epoch 228/400\n",
            "7/7 [==============================] - 0s 6ms/step - loss: 0.1259 - accuracy: 1.0000\n",
            "Epoch 229/400\n",
            "7/7 [==============================] - 0s 6ms/step - loss: 0.1263 - accuracy: 0.9954\n",
            "Epoch 230/400\n",
            "7/7 [==============================] - 0s 5ms/step - loss: 0.1235 - accuracy: 0.9954\n",
            "Epoch 231/400\n",
            "7/7 [==============================] - 0s 5ms/step - loss: 0.1219 - accuracy: 0.9954\n",
            "Epoch 232/400\n",
            "7/7 [==============================] - 0s 6ms/step - loss: 0.1203 - accuracy: 0.9954\n",
            "Epoch 233/400\n",
            "7/7 [==============================] - 0s 5ms/step - loss: 0.1194 - accuracy: 0.9954\n",
            "Epoch 234/400\n",
            "7/7 [==============================] - 0s 8ms/step - loss: 0.1169 - accuracy: 1.0000\n",
            "Epoch 235/400\n",
            "7/7 [==============================] - 0s 5ms/step - loss: 0.1172 - accuracy: 1.0000\n",
            "Epoch 236/400\n",
            "7/7 [==============================] - 0s 5ms/step - loss: 0.1159 - accuracy: 0.9954\n",
            "Epoch 237/400\n",
            "7/7 [==============================] - 0s 5ms/step - loss: 0.1145 - accuracy: 0.9954\n",
            "Epoch 238/400\n",
            "7/7 [==============================] - 0s 5ms/step - loss: 0.1124 - accuracy: 1.0000\n",
            "Epoch 239/400\n",
            "7/7 [==============================] - 0s 6ms/step - loss: 0.1118 - accuracy: 1.0000\n",
            "Epoch 240/400\n",
            "7/7 [==============================] - 0s 5ms/step - loss: 0.1106 - accuracy: 1.0000\n",
            "Epoch 241/400\n",
            "7/7 [==============================] - 0s 5ms/step - loss: 0.1093 - accuracy: 1.0000\n",
            "Epoch 242/400\n",
            "7/7 [==============================] - 0s 7ms/step - loss: 0.1096 - accuracy: 1.0000\n",
            "Epoch 243/400\n",
            "7/7 [==============================] - 0s 5ms/step - loss: 0.1072 - accuracy: 1.0000\n",
            "Epoch 244/400\n",
            "7/7 [==============================] - 0s 5ms/step - loss: 0.1058 - accuracy: 1.0000\n",
            "Epoch 245/400\n",
            "7/7 [==============================] - 0s 5ms/step - loss: 0.1053 - accuracy: 1.0000\n",
            "Epoch 246/400\n",
            "7/7 [==============================] - 0s 5ms/step - loss: 0.1038 - accuracy: 1.0000\n",
            "Epoch 247/400\n",
            "7/7 [==============================] - 0s 6ms/step - loss: 0.1031 - accuracy: 1.0000\n",
            "Epoch 248/400\n",
            "7/7 [==============================] - 0s 5ms/step - loss: 0.1022 - accuracy: 1.0000\n",
            "Epoch 249/400\n",
            "7/7 [==============================] - 0s 6ms/step - loss: 0.1020 - accuracy: 1.0000\n",
            "Epoch 250/400\n",
            "7/7 [==============================] - 0s 5ms/step - loss: 0.1001 - accuracy: 1.0000\n",
            "Epoch 251/400\n",
            "7/7 [==============================] - 0s 5ms/step - loss: 0.0989 - accuracy: 1.0000\n",
            "Epoch 252/400\n",
            "7/7 [==============================] - 0s 5ms/step - loss: 0.0977 - accuracy: 1.0000\n",
            "Epoch 253/400\n",
            "7/7 [==============================] - 0s 5ms/step - loss: 0.0981 - accuracy: 1.0000\n",
            "Epoch 254/400\n",
            "7/7 [==============================] - 0s 5ms/step - loss: 0.0956 - accuracy: 1.0000\n",
            "Epoch 255/400\n",
            "7/7 [==============================] - 0s 7ms/step - loss: 0.0955 - accuracy: 1.0000\n",
            "Epoch 256/400\n",
            "7/7 [==============================] - 0s 5ms/step - loss: 0.0936 - accuracy: 1.0000\n",
            "Epoch 257/400\n",
            "7/7 [==============================] - 0s 5ms/step - loss: 0.0935 - accuracy: 1.0000\n",
            "Epoch 258/400\n",
            "7/7 [==============================] - 0s 6ms/step - loss: 0.0922 - accuracy: 1.0000\n",
            "Epoch 259/400\n",
            "7/7 [==============================] - 0s 5ms/step - loss: 0.0915 - accuracy: 1.0000\n",
            "Epoch 260/400\n",
            "7/7 [==============================] - 0s 5ms/step - loss: 0.0906 - accuracy: 1.0000\n",
            "Epoch 261/400\n",
            "7/7 [==============================] - 0s 5ms/step - loss: 0.0901 - accuracy: 1.0000\n",
            "Epoch 262/400\n",
            "7/7 [==============================] - 0s 5ms/step - loss: 0.0890 - accuracy: 1.0000\n",
            "Epoch 263/400\n",
            "7/7 [==============================] - 0s 6ms/step - loss: 0.0883 - accuracy: 1.0000\n",
            "Epoch 264/400\n",
            "7/7 [==============================] - 0s 6ms/step - loss: 0.0880 - accuracy: 1.0000\n",
            "Epoch 265/400\n",
            "7/7 [==============================] - 0s 5ms/step - loss: 0.0875 - accuracy: 1.0000\n",
            "Epoch 266/400\n",
            "7/7 [==============================] - 0s 5ms/step - loss: 0.0865 - accuracy: 1.0000\n",
            "Epoch 267/400\n",
            "7/7 [==============================] - 0s 5ms/step - loss: 0.0846 - accuracy: 1.0000\n",
            "Epoch 268/400\n",
            "7/7 [==============================] - 0s 5ms/step - loss: 0.0838 - accuracy: 1.0000\n",
            "Epoch 269/400\n",
            "7/7 [==============================] - 0s 5ms/step - loss: 0.0832 - accuracy: 1.0000\n",
            "Epoch 270/400\n",
            "7/7 [==============================] - 0s 5ms/step - loss: 0.0829 - accuracy: 1.0000\n",
            "Epoch 271/400\n",
            "7/7 [==============================] - 0s 5ms/step - loss: 0.0817 - accuracy: 1.0000\n",
            "Epoch 272/400\n",
            "7/7 [==============================] - 0s 5ms/step - loss: 0.0811 - accuracy: 1.0000\n",
            "Epoch 273/400\n",
            "7/7 [==============================] - 0s 5ms/step - loss: 0.0799 - accuracy: 1.0000\n",
            "Epoch 274/400\n",
            "7/7 [==============================] - 0s 5ms/step - loss: 0.0798 - accuracy: 1.0000\n",
            "Epoch 275/400\n",
            "7/7 [==============================] - 0s 5ms/step - loss: 0.0795 - accuracy: 1.0000\n",
            "Epoch 276/400\n",
            "7/7 [==============================] - 0s 5ms/step - loss: 0.0788 - accuracy: 1.0000\n",
            "Epoch 277/400\n",
            "7/7 [==============================] - 0s 37ms/step - loss: 0.0780 - accuracy: 1.0000\n",
            "Epoch 278/400\n",
            "7/7 [==============================] - 0s 7ms/step - loss: 0.0766 - accuracy: 1.0000\n",
            "Epoch 279/400\n",
            "7/7 [==============================] - 0s 5ms/step - loss: 0.0759 - accuracy: 1.0000\n",
            "Epoch 280/400\n",
            "7/7 [==============================] - 0s 6ms/step - loss: 0.0753 - accuracy: 1.0000\n",
            "Epoch 281/400\n",
            "7/7 [==============================] - 0s 5ms/step - loss: 0.0751 - accuracy: 1.0000\n",
            "Epoch 282/400\n",
            "7/7 [==============================] - 0s 6ms/step - loss: 0.0739 - accuracy: 1.0000\n",
            "Epoch 283/400\n",
            "7/7 [==============================] - 0s 5ms/step - loss: 0.0738 - accuracy: 1.0000\n",
            "Epoch 284/400\n",
            "7/7 [==============================] - 0s 5ms/step - loss: 0.0727 - accuracy: 1.0000\n",
            "Epoch 285/400\n",
            "7/7 [==============================] - 0s 5ms/step - loss: 0.0720 - accuracy: 1.0000\n",
            "Epoch 286/400\n",
            "7/7 [==============================] - 0s 6ms/step - loss: 0.0718 - accuracy: 1.0000\n",
            "Epoch 287/400\n",
            "7/7 [==============================] - 0s 5ms/step - loss: 0.0713 - accuracy: 1.0000\n",
            "Epoch 288/400\n",
            "7/7 [==============================] - 0s 6ms/step - loss: 0.0706 - accuracy: 1.0000\n",
            "Epoch 289/400\n",
            "7/7 [==============================] - 0s 6ms/step - loss: 0.0696 - accuracy: 1.0000\n",
            "Epoch 290/400\n",
            "7/7 [==============================] - 0s 7ms/step - loss: 0.0689 - accuracy: 1.0000\n",
            "Epoch 291/400\n",
            "7/7 [==============================] - 0s 6ms/step - loss: 0.0682 - accuracy: 1.0000\n",
            "Epoch 292/400\n",
            "7/7 [==============================] - 0s 5ms/step - loss: 0.0679 - accuracy: 1.0000\n",
            "Epoch 293/400\n",
            "7/7 [==============================] - 0s 5ms/step - loss: 0.0671 - accuracy: 1.0000\n",
            "Epoch 294/400\n",
            "7/7 [==============================] - 0s 7ms/step - loss: 0.0670 - accuracy: 1.0000\n",
            "Epoch 295/400\n",
            "7/7 [==============================] - 0s 5ms/step - loss: 0.0660 - accuracy: 1.0000\n",
            "Epoch 296/400\n",
            "7/7 [==============================] - 0s 6ms/step - loss: 0.0663 - accuracy: 1.0000\n",
            "Epoch 297/400\n",
            "7/7 [==============================] - 0s 6ms/step - loss: 0.0653 - accuracy: 1.0000\n",
            "Epoch 298/400\n",
            "7/7 [==============================] - 0s 5ms/step - loss: 0.0647 - accuracy: 1.0000\n",
            "Epoch 299/400\n",
            "7/7 [==============================] - 0s 5ms/step - loss: 0.0641 - accuracy: 1.0000\n",
            "Epoch 300/400\n",
            "7/7 [==============================] - 0s 7ms/step - loss: 0.0630 - accuracy: 1.0000\n",
            "Epoch 301/400\n",
            "7/7 [==============================] - 0s 5ms/step - loss: 0.0635 - accuracy: 1.0000\n",
            "Epoch 302/400\n",
            "7/7 [==============================] - 0s 7ms/step - loss: 0.0628 - accuracy: 1.0000\n",
            "Epoch 303/400\n",
            "7/7 [==============================] - 0s 6ms/step - loss: 0.0627 - accuracy: 1.0000\n",
            "Epoch 304/400\n",
            "7/7 [==============================] - 0s 6ms/step - loss: 0.0621 - accuracy: 1.0000\n",
            "Epoch 305/400\n",
            "7/7 [==============================] - 0s 6ms/step - loss: 0.0611 - accuracy: 1.0000\n",
            "Epoch 306/400\n",
            "7/7 [==============================] - 0s 5ms/step - loss: 0.0605 - accuracy: 1.0000\n",
            "Epoch 307/400\n",
            "7/7 [==============================] - 0s 6ms/step - loss: 0.0604 - accuracy: 1.0000\n",
            "Epoch 308/400\n",
            "7/7 [==============================] - 0s 6ms/step - loss: 0.0598 - accuracy: 1.0000\n",
            "Epoch 309/400\n",
            "7/7 [==============================] - 0s 5ms/step - loss: 0.0587 - accuracy: 1.0000\n",
            "Epoch 310/400\n",
            "7/7 [==============================] - 0s 5ms/step - loss: 0.0585 - accuracy: 1.0000\n",
            "Epoch 311/400\n",
            "7/7 [==============================] - 0s 5ms/step - loss: 0.0579 - accuracy: 1.0000\n",
            "Epoch 312/400\n",
            "7/7 [==============================] - 0s 5ms/step - loss: 0.0576 - accuracy: 1.0000\n",
            "Epoch 313/400\n",
            "7/7 [==============================] - 0s 6ms/step - loss: 0.0571 - accuracy: 1.0000\n",
            "Epoch 314/400\n",
            "7/7 [==============================] - 0s 6ms/step - loss: 0.0566 - accuracy: 1.0000\n",
            "Epoch 315/400\n",
            "7/7 [==============================] - 0s 7ms/step - loss: 0.0563 - accuracy: 1.0000\n",
            "Epoch 316/400\n",
            "7/7 [==============================] - 0s 6ms/step - loss: 0.0558 - accuracy: 1.0000\n",
            "Epoch 317/400\n",
            "7/7 [==============================] - 0s 6ms/step - loss: 0.0554 - accuracy: 1.0000\n",
            "Epoch 318/400\n",
            "7/7 [==============================] - 0s 37ms/step - loss: 0.0547 - accuracy: 1.0000\n",
            "Epoch 319/400\n",
            "7/7 [==============================] - 0s 5ms/step - loss: 0.0546 - accuracy: 1.0000\n",
            "Epoch 320/400\n",
            "7/7 [==============================] - 0s 5ms/step - loss: 0.0539 - accuracy: 1.0000\n",
            "Epoch 321/400\n",
            "7/7 [==============================] - 0s 6ms/step - loss: 0.0535 - accuracy: 1.0000\n",
            "Epoch 322/400\n",
            "7/7 [==============================] - 0s 6ms/step - loss: 0.0533 - accuracy: 1.0000\n",
            "Epoch 323/400\n",
            "7/7 [==============================] - 0s 5ms/step - loss: 0.0529 - accuracy: 1.0000\n",
            "Epoch 324/400\n",
            "7/7 [==============================] - 0s 5ms/step - loss: 0.0524 - accuracy: 1.0000\n",
            "Epoch 325/400\n",
            "7/7 [==============================] - 0s 5ms/step - loss: 0.0520 - accuracy: 1.0000\n",
            "Epoch 326/400\n",
            "7/7 [==============================] - 0s 5ms/step - loss: 0.0515 - accuracy: 1.0000\n",
            "Epoch 327/400\n",
            "7/7 [==============================] - 0s 5ms/step - loss: 0.0515 - accuracy: 1.0000\n",
            "Epoch 328/400\n",
            "7/7 [==============================] - 0s 8ms/step - loss: 0.0505 - accuracy: 1.0000\n",
            "Epoch 329/400\n",
            "7/7 [==============================] - 0s 8ms/step - loss: 0.0506 - accuracy: 1.0000\n",
            "Epoch 330/400\n",
            "7/7 [==============================] - 0s 8ms/step - loss: 0.0500 - accuracy: 1.0000\n",
            "Epoch 331/400\n",
            "7/7 [==============================] - 0s 9ms/step - loss: 0.0494 - accuracy: 1.0000\n",
            "Epoch 332/400\n",
            "7/7 [==============================] - 0s 8ms/step - loss: 0.0493 - accuracy: 1.0000\n",
            "Epoch 333/400\n",
            "7/7 [==============================] - 0s 8ms/step - loss: 0.0489 - accuracy: 1.0000\n",
            "Epoch 334/400\n",
            "7/7 [==============================] - 0s 8ms/step - loss: 0.0486 - accuracy: 1.0000\n",
            "Epoch 335/400\n",
            "7/7 [==============================] - 0s 7ms/step - loss: 0.0482 - accuracy: 1.0000\n",
            "Epoch 336/400\n",
            "7/7 [==============================] - 0s 7ms/step - loss: 0.0482 - accuracy: 1.0000\n",
            "Epoch 337/400\n",
            "7/7 [==============================] - 0s 8ms/step - loss: 0.0481 - accuracy: 1.0000\n",
            "Epoch 338/400\n",
            "7/7 [==============================] - 0s 9ms/step - loss: 0.0474 - accuracy: 1.0000\n",
            "Epoch 339/400\n",
            "7/7 [==============================] - 0s 8ms/step - loss: 0.0466 - accuracy: 1.0000\n",
            "Epoch 340/400\n",
            "7/7 [==============================] - 0s 8ms/step - loss: 0.0466 - accuracy: 1.0000\n",
            "Epoch 341/400\n",
            "7/7 [==============================] - 0s 7ms/step - loss: 0.0458 - accuracy: 1.0000\n",
            "Epoch 342/400\n",
            "7/7 [==============================] - 0s 10ms/step - loss: 0.0459 - accuracy: 1.0000\n",
            "Epoch 343/400\n",
            "7/7 [==============================] - 0s 9ms/step - loss: 0.0455 - accuracy: 1.0000\n",
            "Epoch 344/400\n",
            "7/7 [==============================] - 0s 8ms/step - loss: 0.0454 - accuracy: 1.0000\n",
            "Epoch 345/400\n",
            "7/7 [==============================] - 0s 7ms/step - loss: 0.0447 - accuracy: 1.0000\n",
            "Epoch 346/400\n",
            "7/7 [==============================] - 0s 8ms/step - loss: 0.0450 - accuracy: 1.0000\n",
            "Epoch 347/400\n",
            "7/7 [==============================] - 0s 8ms/step - loss: 0.0449 - accuracy: 1.0000\n",
            "Epoch 348/400\n",
            "7/7 [==============================] - 0s 8ms/step - loss: 0.0444 - accuracy: 1.0000\n",
            "Epoch 349/400\n",
            "7/7 [==============================] - 0s 8ms/step - loss: 0.0434 - accuracy: 1.0000\n",
            "Epoch 350/400\n",
            "7/7 [==============================] - 0s 11ms/step - loss: 0.0431 - accuracy: 1.0000\n",
            "Epoch 351/400\n",
            "7/7 [==============================] - 0s 8ms/step - loss: 0.0429 - accuracy: 1.0000\n",
            "Epoch 352/400\n",
            "7/7 [==============================] - 0s 8ms/step - loss: 0.0427 - accuracy: 1.0000\n",
            "Epoch 353/400\n",
            "7/7 [==============================] - 0s 10ms/step - loss: 0.0421 - accuracy: 1.0000\n",
            "Epoch 354/400\n",
            "7/7 [==============================] - 0s 10ms/step - loss: 0.0417 - accuracy: 1.0000\n",
            "Epoch 355/400\n",
            "7/7 [==============================] - 0s 8ms/step - loss: 0.0417 - accuracy: 1.0000\n",
            "Epoch 356/400\n",
            "7/7 [==============================] - 0s 8ms/step - loss: 0.0412 - accuracy: 1.0000\n",
            "Epoch 357/400\n",
            "7/7 [==============================] - 0s 8ms/step - loss: 0.0411 - accuracy: 1.0000\n",
            "Epoch 358/400\n",
            "7/7 [==============================] - 0s 8ms/step - loss: 0.0408 - accuracy: 1.0000\n",
            "Epoch 359/400\n",
            "7/7 [==============================] - 0s 7ms/step - loss: 0.0405 - accuracy: 1.0000\n",
            "Epoch 360/400\n",
            "7/7 [==============================] - 0s 7ms/step - loss: 0.0403 - accuracy: 1.0000\n",
            "Epoch 361/400\n",
            "7/7 [==============================] - 0s 8ms/step - loss: 0.0397 - accuracy: 1.0000\n",
            "Epoch 362/400\n",
            "7/7 [==============================] - 0s 8ms/step - loss: 0.0396 - accuracy: 1.0000\n",
            "Epoch 363/400\n",
            "7/7 [==============================] - 0s 8ms/step - loss: 0.0393 - accuracy: 1.0000\n",
            "Epoch 364/400\n",
            "7/7 [==============================] - 0s 10ms/step - loss: 0.0396 - accuracy: 1.0000\n",
            "Epoch 365/400\n",
            "7/7 [==============================] - 0s 8ms/step - loss: 0.0387 - accuracy: 1.0000\n",
            "Epoch 366/400\n",
            "7/7 [==============================] - 0s 8ms/step - loss: 0.0384 - accuracy: 1.0000\n",
            "Epoch 367/400\n",
            "7/7 [==============================] - 0s 8ms/step - loss: 0.0384 - accuracy: 1.0000\n",
            "Epoch 368/400\n",
            "7/7 [==============================] - 0s 8ms/step - loss: 0.0380 - accuracy: 1.0000\n",
            "Epoch 369/400\n",
            "7/7 [==============================] - 0s 8ms/step - loss: 0.0379 - accuracy: 1.0000\n",
            "Epoch 370/400\n",
            "7/7 [==============================] - 0s 8ms/step - loss: 0.0374 - accuracy: 1.0000\n",
            "Epoch 371/400\n",
            "7/7 [==============================] - 0s 8ms/step - loss: 0.0372 - accuracy: 1.0000\n",
            "Epoch 372/400\n",
            "7/7 [==============================] - 0s 8ms/step - loss: 0.0368 - accuracy: 1.0000\n",
            "Epoch 373/400\n",
            "7/7 [==============================] - 0s 8ms/step - loss: 0.0373 - accuracy: 1.0000\n",
            "Epoch 374/400\n",
            "7/7 [==============================] - 0s 10ms/step - loss: 0.0371 - accuracy: 1.0000\n",
            "Epoch 375/400\n",
            "7/7 [==============================] - 0s 10ms/step - loss: 0.0363 - accuracy: 1.0000\n",
            "Epoch 376/400\n",
            "7/7 [==============================] - 0s 10ms/step - loss: 0.0360 - accuracy: 1.0000\n",
            "Epoch 377/400\n",
            "7/7 [==============================] - 0s 9ms/step - loss: 0.0358 - accuracy: 1.0000\n",
            "Epoch 378/400\n",
            "7/7 [==============================] - 0s 8ms/step - loss: 0.0356 - accuracy: 1.0000\n",
            "Epoch 379/400\n",
            "7/7 [==============================] - 0s 8ms/step - loss: 0.0354 - accuracy: 1.0000\n",
            "Epoch 380/400\n",
            "7/7 [==============================] - 0s 8ms/step - loss: 0.0351 - accuracy: 1.0000\n",
            "Epoch 381/400\n",
            "7/7 [==============================] - 0s 11ms/step - loss: 0.0348 - accuracy: 1.0000\n",
            "Epoch 382/400\n",
            "7/7 [==============================] - 0s 6ms/step - loss: 0.0348 - accuracy: 1.0000\n",
            "Epoch 383/400\n",
            "7/7 [==============================] - 0s 6ms/step - loss: 0.0343 - accuracy: 1.0000\n",
            "Epoch 384/400\n",
            "7/7 [==============================] - 0s 6ms/step - loss: 0.0343 - accuracy: 1.0000\n",
            "Epoch 385/400\n",
            "7/7 [==============================] - 0s 7ms/step - loss: 0.0340 - accuracy: 1.0000\n",
            "Epoch 386/400\n",
            "7/7 [==============================] - 0s 6ms/step - loss: 0.0338 - accuracy: 1.0000\n",
            "Epoch 387/400\n",
            "7/7 [==============================] - 0s 5ms/step - loss: 0.0335 - accuracy: 1.0000\n",
            "Epoch 388/400\n",
            "7/7 [==============================] - 0s 6ms/step - loss: 0.0332 - accuracy: 1.0000\n",
            "Epoch 389/400\n",
            "7/7 [==============================] - 0s 5ms/step - loss: 0.0332 - accuracy: 1.0000\n",
            "Epoch 390/400\n",
            "7/7 [==============================] - 0s 7ms/step - loss: 0.0330 - accuracy: 1.0000\n",
            "Epoch 391/400\n",
            "7/7 [==============================] - 0s 5ms/step - loss: 0.0325 - accuracy: 1.0000\n",
            "Epoch 392/400\n",
            "7/7 [==============================] - 0s 6ms/step - loss: 0.0324 - accuracy: 1.0000\n",
            "Epoch 393/400\n",
            "7/7 [==============================] - 0s 6ms/step - loss: 0.0324 - accuracy: 1.0000\n",
            "Epoch 394/400\n",
            "7/7 [==============================] - 0s 6ms/step - loss: 0.0321 - accuracy: 1.0000\n",
            "Epoch 395/400\n",
            "7/7 [==============================] - 0s 6ms/step - loss: 0.0317 - accuracy: 1.0000\n",
            "Epoch 396/400\n",
            "7/7 [==============================] - 0s 6ms/step - loss: 0.0316 - accuracy: 1.0000\n",
            "Epoch 397/400\n",
            "7/7 [==============================] - 0s 7ms/step - loss: 0.0315 - accuracy: 1.0000\n",
            "Epoch 398/400\n",
            "7/7 [==============================] - 0s 7ms/step - loss: 0.0313 - accuracy: 1.0000\n",
            "Epoch 399/400\n",
            "7/7 [==============================] - 0s 5ms/step - loss: 0.0311 - accuracy: 1.0000\n",
            "Epoch 400/400\n",
            "7/7 [==============================] - 0s 6ms/step - loss: 0.0309 - accuracy: 1.0000\n"
          ]
        }
      ]
    },
    {
      "cell_type": "markdown",
      "source": [
        "# 06 Model Analysis\n",
        "\n",
        "Setelah menjalankan pelatihan model dengan algoritma Neural Neural dan LSTM serta telah mengetahui hasil akurasi pada step terakhir. Maka, tahapan selanjutnya adalah menganalisa model dengan visualisasi plot akurasi dan loss untuk melihat hasil akurasi dari algoritma pelatihan model Neural Network dengan LSTM tersebut."
      ],
      "metadata": {
        "id": "BfQP5TaPkGzB"
      },
      "id": "BfQP5TaPkGzB"
    },
    {
      "cell_type": "code",
      "source": [
        "# Plotting model Accuracy and Loss (Visualisasi Plot Hasil Akurasi dan Loss)\n",
        "# Plot Akurasi\n",
        "plt.figure(figsize=(14, 5))\n",
        "plt.subplot(1, 2, 1)\n",
        "plt.plot(train.history['accuracy'],label='Training Set Accuracy')\n",
        "plt.legend(loc='lower right')\n",
        "plt.title('Accuracy')\n",
        "# Plot Loss\n",
        "plt.subplot(1, 2, 2)\n",
        "plt.plot(train.history['loss'],label='Training Set Loss')\n",
        "plt.legend(loc='upper right')\n",
        "plt.title('Loss')\n",
        "plt.show()"
      ],
      "metadata": {
        "colab": {
          "base_uri": "https://localhost:8080/",
          "height": 459
        },
        "id": "FEz3P5djksfa",
        "outputId": "d5d29ba1-cdea-4cbc-e497-f24fb1f38ce7"
      },
      "id": "FEz3P5djksfa",
      "execution_count": 27,
      "outputs": [
        {
          "output_type": "display_data",
          "data": {
            "text/plain": [
              "<Figure size 1400x500 with 2 Axes>"
            ],
            "image/png": "[encoded data removed]"
          },
          "metadata": {}
        }
      ]
    },
    {
      "cell_type": "markdown",
      "source": [
        "Terlihat bahwa model pelatihan chatbot dengan algoritma Neural Network + LSTM menghasilkan model yang baik dan tidak terjadi overfitting atau underfitting. Sehingga, model ini layak dilakukan pengujian dan evaluasi model chatbot yang diperoleh."
      ],
      "metadata": {
        "id": "odsh6gL8CAfE"
      },
      "id": "odsh6gL8CAfE"
    },
    {
      "cell_type": "markdown",
      "source": [
        "# 07 Testing Chatbot Dan Tambahkan Suara Pada Chatbot\n",
        "\n",
        "Setelah mengetahui hasil dari akurasi dan loss pada model yang telah ditetapkan dengan algoritma Neural Network dan LSTM. Maka, tahapan selanjutnya adalah menguji atau testing pada chatbot yang telah dilatih sebelumnya dan melihat apakah sesuai atau tidak pada saat kita masukan teks kalimat pertanyaannya. \n",
        "\n",
        "Pada pengujian ini menggunakan metode input atau masukan sesuai dengan kalimat pertanyaan yang dimasukkan."
      ],
      "metadata": {
        "id": "WcOYpQfuln4T"
      },
      "id": "WcOYpQfuln4T"
    },
    {
      "cell_type": "code",
      "source": [
        "# Membuat Input Chat\n",
        "while True:\n",
        "  texts_p = []\n",
        "  prediction_input = input('👨‍🦰 Kamu : ')\n",
        "  \n",
        "  # Menghapus punktuasi dan konversi ke huruf kecil\n",
        "  prediction_input = [letters.lower() for letters in prediction_input if letters not in string.punctuation]\n",
        "  prediction_input = ''.join(prediction_input)\n",
        "  texts_p.append(prediction_input)\n",
        "\n",
        "  # Tokenisasi dan Padding\n",
        "  prediction_input = tokenizer.texts_to_sequences(texts_p)\n",
        "  prediction_input = np.array(prediction_input).reshape(-1)\n",
        "  prediction_input = pad_sequences([prediction_input],input_shape)\n",
        "\n",
        "  # Mendapatkan hasil keluaran pada model \n",
        "  output = model.predict(prediction_input)\n",
        "  output = output.argmax()\n",
        "\n",
        "  # Menemukan respon sesuai data tag dan memainkan voice bot\n",
        "  response_tag = le.inverse_transform([output])[0]\n",
        "  print(\"🤖 SafeBot : \", random.choice(responses[response_tag]))\n",
        "  tts = gTTS(random.choice(responses[response_tag]), lang='id')\n",
        "  # Simpan model voice bot ke dalam Google Drive\n",
        "  tts.save('SafeBot.wav')\n",
        "  time.sleep(0.08)\n",
        "  # Load model voice bot from Google Drive\n",
        "  ipd.display(ipd.Audio('SafeBot.wav', autoplay=True))\n",
        "  print(\"=\"*60 + \"\\n\")\n",
        "  # Tambahkan respon 'goodbye' agar bot bisa berhenti\n",
        "  if response_tag == \"goodbye\":\n",
        "    break"
      ],
      "metadata": {
        "id": "fao4rG4rlh1D",
        "colab": {
          "base_uri": "https://localhost:8080/",
          "height": 473
        },
        "outputId": "3f687654-352a-484b-e9fe-aa46f0602599"
      },
      "id": "fao4rG4rlh1D",
      "execution_count": 28,
      "outputs": [
        {
          "output_type": "stream",
          "name": "stdout",
          "text": [
            "👨‍🦰 Kamu : halo\n",
            "1/1 [==============================] - 0s 370ms/step\n",
            "🤖 SafeBot :  Halo, selamat datang\n"
          ]
        },
        {
          "output_type": "display_data",
          "data": {
            "text/plain": [
              "<IPython.lib.display.Audio object>"
            ],
            "text/html": [
              "\n",
              "                <audio  controls=\"controls\" autoplay=\"autoplay\">\n",
              "                    <source src=\"data:audio/x-wav;base64,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\" type=\"audio/x-wav\" />\n",
              "                    Your browser does not support the audio element.\n",
              "                </audio>\n",
              "              "
            ]
          },
          "metadata": {}
        },
        {
          "output_type": "stream",
          "name": "stdout",
          "text": [
            "============================================================\n",
            "\n",
            "👨‍🦰 Kamu : apa itu cybercrime?\n",
            "1/1 [==============================] - 0s 19ms/step\n",
            "🤖 SafeBot :  Cybercrime (kejahatan dunia maya) adalah kejahatan yang dilakukan di dunia maya (internet) dan mengakibatkan kerugian atau dampak negatif pada korban. Kejahatan dunia maya dapat dilakukan oleh individu, kelompok atau organisasi dan dapat melibatkan pencurian identitas, penipuan, peretasan, serangan malware, pencurian data, dan aktivitas ilegal lainnya yang dilakukan melalui komputer atau jaringan internet.\n"
          ]
        },
        {
          "output_type": "display_data",
          "data": {
            "text/plain": [
              "<IPython.lib.display.Audio object>"
            ],
            "text/html": [
              "\n",
              "                <audio  controls=\"controls\" autoplay=\"autoplay\">\n",
              "                    <source src=\"data:audio/x-wav;base64,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\" type=\"audio/x-wav\" />\n",
              "                    Your browser does not support the audio element.\n",
              "                </audio>\n",
              "              "
            ]
          },
          "metadata": {}
        },
        {
          "output_type": "stream",
          "name": "stdout",
          "text": [
            "============================================================\n",
            "\n",
            "👨‍🦰 Kamu : bye\n",
            "1/1 [==============================] - 0s 18ms/step\n",
            "🤖 SafeBot :  Good bye!\n"
          ]
        },
        {
          "output_type": "display_data",
          "data": {
            "text/plain": [
              "<IPython.lib.display.Audio object>"
            ],
            "text/html": [
              "\n",
              "                <audio  controls=\"controls\" autoplay=\"autoplay\">\n",
              "                    <source src=\"data:audio/x-wav;base64,//NExAARGwYgAUkQARQSMWRhcExXIjJ29//uEIQhD///qc5z//////////////////U5CEIQhCN+c5yECAAAACAggDAwMDAwMDAxYAAAAAAACvpGIeOuPTEVU69/i0bK//NExA4Uyyp8AY+AAPqdI1Tfu+fNHS+rsyBmV1//ntOn//qQpMgn//+nQMT5xBBH///83sUDQzTmijQ2/////yAEQHWLLK5BDRMvl8wFBh8YsdVLx//////////////6//NExA0UQyqwAYI4AP+jPnvolUu6J7OzodWOIbnJjcfPIu7XU1Th0fcfUaEFOGDBuKHHywl6FS5w+eXEgXDZx0iI+NyJgUMDICihUDiYIDQPAG//////////////f/1s//NExA8VsyKoAcI4AHPbobd1R3ZWPVEdUsc1nNehE2qWKoUJ2dSzy7GmCpx4seaOMMiSpEJSRQqNQ0SEoJQegRHQyUEgbFQmEcHohASC8aB4HCYsWQK////9S//kY6fA//NExAsUiyKkABBQvOvlf/rzm/+/TqpnuvT4v+Km653Zu+vlUqOfSbnTlEsfqKDnc2jRs4o/CjokfRFySSKcnqcULsIZItbCKYeH4jh0IBQKxDHnqhk////xLp//RiWQ//NExAsVMyKsAAhMvAzwZf9uXKSf/e++/jPuf/e/+1+2Z+3/y9+/33zf8+tfQL2+/emMRjRE4UQrPOaY3TeKMQLPAbmmGFEQABrQLHdADLABHC0+ULTyrffuUAAEC4Od//NExAkTwxa8AHlEuCjG7ViTMuFrqHw+fY4fFNpz/CAACl2UDndP9b03/QhGohG3776/k+hH9X+tb/9f0R3VP8rf8raCWlM5SsR9DGeYCAnUKJTW+c+OG0D+P1cjUyk4//NExA0Tmc64AMPOlAfKMef9rk+/nHkRrj8frtCt0vtsDEMmj6/nOhmZdBb8qc/jh3jg3LOPHQsDlLTCKK6Tzn8RFZGjcIj0cxTxh3+lFfx3+DwGIGtSkv66KGHKQ15P//NExBER6a64AMtOlUhoFLqJ4LUrJhYFTGw+zUwmo2pXsS2+j/N+yt1KCUs45R0ibzhs/qRq1DjWeo1ByAPim/8K7urLK92OK+I/yAFvZqJuoI0OO4tNvcAKCUdWry6I//NExBwR0QaYANYEcNc/HZ2rKH+eABM9Q45UepFvk/M/hKYxWEv0wdGBUXATf0id6n///R6UzPqqpK9aldJIk5QYYjTfLoOc6E6RLxuFqA6VjiCBTAVCDm5VNSHiA4sK//NExCcSkY6UANwElA9ZmXn9Bur+p/39XLfWbVnL9utFQSEBY9/QKUnLv//9SETqauc1uOOEIMtglc3HGEmuqCZOAtmhFwE2AdY/IJl8oA2MBqgiRocHyLjK6CDIpv3b//NExC8SIZqoAMSKlO35/sf/7/O/U6nIRtCHEwQ4mfiB/8XcIHE6wv/3BmYnqR4YYzR2W0mQmRHohsoUEifOJgUYAPUPdSUblAQY78ur9X7////v8cdDTFAHGDB9zxHN//NExDkRqa6wAMTOlDkHFNIazybnp8/i9p5FQutQcMG7DFWSoA7iSZkDEAzgyTugsIaBmTpVKBfFMIKzqrPv5f//////MNVkQBZJnMjQOU46eJ2nIcWPPLu8qbvMrnVq//NExEURGaq0AJzOlOc/l+BBrmc3us7g+RS1nOE0B+IkiZdMjEN7C8jY3LBOB3C31GZl8uff6/VvT7p0QXHTFIwZHzLKDAL1lePRDMzuTEzIS34G17m/rxwKYHu87ldJ//NExFMR+a6wAMyUlGiPsqxWmHEDsIqpZ8kwCxFtWXB/Lgj8qOpMzIaj7o+rf/t/1rVTjb0CpQsZUcHyxxcwwbTo4SmVxdTae5IiAaq2nhOapHkMWxgIdBmgGqghdWVt//NExF4R+Y6sAMSOlFNFhZgCOi4l8LEuXM0ADomyEvMxaxsa+N5/r9////y/Ur0cpAwEBGYahwrI8eWlqgdBSYBFwDBQoFiYfOQpjEep9q3yMiAgVB77yPkUMFAViMtg//NExGkRUWqUANPElBqukklNyh5plKj+TJLUUaSifRoTdDrFQZdU+vK7nk+N21Nq017fbu/79vXVASoGNsSGYwEGNpJGZAPmHZ+mRQcCgmGmAIGAIImawNgwH1/GAoAF//NExHYTiKZkAVx4AAAIgAFxVEjyUyRJKcs0aRpS+2CHCiQoseI5w9Yzu82/rVX8fNvbf/xv7+I+tx6NHTPXKCKHfKxQB5tJUQL/dD/5KtGLXf5VKJqkdt2b+ZV6QdFf//NExHog4R5cAZ14Ab/hEx9v870nPpVopCLTEp8qIDZe78OKqBJAXAn/bNpFiKDsHYTDcggRic4uHWfYCOPJCojtOEY1H8ddk9+dBMJJuHjPlooAmOJBxzNc/CxYwmiD//NExEkhsyKoAZlYASw4CGCb/L/LHexubgiLHUtX9jH3/dMOuq27WaxvaE///X91u//90w6/vjn/////rb7dsRq2z/a6nOVmHmpFvbxxxbsZkxWM001FirwVPI+YfMux//NExBUV+bq0AdhYAEXf/4pI5ngiHa/kdDOvOiAqrolAYNO4ePRY2PMTR88qgPELp6BBkxVfuHv4+H/8s/4PTEeguLHi6nAUux1///93+xRvJQDAhCWrlQCoAAKsNqn1//NExBAVSXa4AKPSlVBlq+f4oijXz/uRmZP8YYlLPT0oVKFx4QSAYDzc9uyqC/4kIkn/0RoTy9qoTzbcP+jn/fkwZ7C/ih6YKH+/X+iAvHu67dX1EqDSJfUpMyGfD5jX//NExA0Vwg64AJvQmRWvCjF9ims3CWGP8f5NrGc340o1fWKdoYDh94wpkvr+xoc3/iEI42eEB06VNQeA5ctcQSKqvtJ/kpP9hH4aJp2qfn6uVcbJkbEabzgCAhWrYfw+//NExAkREVa8AIMGlKjNcgAqR3fzrgBj9Sm/p9SrHIZ8W7U1lQxgczEBPzc97zyLlWg84FoM7uMgmCqT7B+QILpIXDalutJaFWaqRATs2ruRR45m1wHIN67jaqG1Phcc//NExBcSaV64AGsQlUlG2HUNG9Q9Oyy+gC5poSixLnOkGsl9pUTcU6jnhOh3emNT6YH2w7kvM7bvX797ccudkm8fgUw/5qQH2NTKvpeKmtJsTnc56UUIxwiE8oEunyIg//NExCASgaa4AGpMlTzVNUa8d/ue/js9twjw9lMjpPUdxeD4ISyfm28M8unity+ev9x6rbN11W7oCGWXuLJeYvAoBs/gHAOQmefEcnV4etZz1YSTe8k8x1IXZUQXm+M9//NExCkRIVK8AFGMlP5Sdah2JBB2ogyDQFaBwk0KwTPuFXim6mlcUopl9YGCQ2rrC/J//KLNvf1eACMGXan8RSU3rVHry8vl+op5Gk8xG59Iz9d6K3XmMMrVTCx5TqRh//NExDcRCV7AAGvMlGOKz5hRM46EBK7+ZXTVZWs4AmClrYwB8X6alB9s1s/CTADaOzryrx2zfGKLgvP/9x9vIsdiUImadgcP4mHD7+5gN9tdiGLSukGNETlxYJTTlEtF//NExEURwXrAAGvQlD/pb1gGG3SD4KKu22XgPDN7Z0ELJs9i/5Pa29Y64QM2/rKyru38D4WbnmQKfd2kiWN+/MVT/2IYJp+9OBnHGwSLwd1DpQS536Dy1IXWd/vAJRzp//NExFESYV68AGvSlPCsDEG1RFI2IcC5ksu0PxHKTNV4nk9uoXg1a1ueDEQ2EZZIfQTK/x7ZdxmBL/8PrfbDA1PbTskUMqQfxZUVyLnejWqHFfZ0S4MMS0GAplp4DDh6//NExFoSWVa4AHyWlHbRGJazIikAMnXFJFX4wxF+NKeWKihvD0qFnvNKwuNKfWM11/iE+xr/G8azu+H0Y4AhLMM93Htr6KG7v7sAgji9rV/KIioAXRVZKxQJ5rURwp+k//NExGMSQUKsAHpecE3/eN5Cu/KAHIuPH1jwhGrGzvXaz2IWd4ccPJnGsamSiehWz7QjJrfRsX8uX5wztHuU9PMVNF9ntvuBYAe/4KC1fKhyMr9RCX2KBsBpsipaBFEa//NExG0QuUKoAMRWcAyENCxwS8nFNM2cxEAEok4mnBggLwoIGCkjZfWir7rN/2rdbmBhKj/////+ytWc1q7cY2VY1MmIWJPhGRGGvLl/1CCBs25wbLew0W8jCS+N1Fkm//NExH0V0bqkAMIalEnIcSBsifsA/gDkex8niLC0gb4iGplIuEcIzALULiICVUzQWkOCLzIuggQrMtah1n3SdNaS1GiTGYlxsklqRV9N6330EHXu19k9uuplVU6bu63d//NExHgg8s6UANxmuWZp7VGjgTJzmfU8AZ2V4Z2HLNjUXzdyUN3mb6LL3WP5UDbfXTM1eVGvyIW/HaU/UIcxrTQTAlhRNWWZCAgBwG8XFjXIcDQYcYRVInSdNAxaLeTZ//NExEchAw6UAMtmuZm5giNQvLRdJZUSPqUti6aUEC+Sgg08ylosfa+na9AzdRkhXU/+rut7MzbKTUgyNGutfd00Kq3UyqlmSQuzcx1VjwMmGoqLUzugJCHUXwChb5N8//NExBYWMb6kAMqelOJ/PIi/Pcgn/+buG9elKms4Up4K8FpZL1hPooLVzjzSvUiwVx76ao9cU/ao/xr2bI9vvLUjoo2UW6cud3///7kklaXH86lPOGX0IgHBksAYRBUb//NExBAVMVKcAMvQlA2Tdc8TOD7+Ofipx6bgtlt429mV0b4thiZrVVUlr/KOmFrkYH0qtyJAAQWFUOyRWsRaj1QVAQNCV2eyykv//6lqKJ+ibZyjprMaT1MjizLAF/pl//NExA4TwsKIANtEufaOYomWvvdSBLgATDckdZEQgLlukWfJv5c+t/rf6m+tr/X/+lj//25GCMztOyN//+l/+jVspyIrRBA19EOTC9vmobX56esw3k14GNci8mPEDKia//NExBIRIMaQANQKcCqL0DMLTzZNSBSFIkTbjQU/oYnqO1NxV1ApUU4nT5oWs/rewyI7Oj+vUMyuSfes6p5CpaL87UUYmYI2ZyMXRh1xG1bEnCY9CHndyN42J4TNLZU///NExCAWaZKQANYKlJSWImooric53Ds1P59//q/h/+ge/K7erfL+b8iQ+HzsJzoHCIBA+BHO/44nq0/6bDk5rMJNPRQ5TkKvu/ncf8KFD3HVePo90blUEBacKMXjxVIc//NExBkVMaKUANUKlD+Bg3YHAAigUR3KLQJABBE9XWskPuWW+IC30b8n/+7+gFURKLVD2XFxMWts/7dW1uqLHFCiMoXatyOiNsf/eErEVQY3c5I5PaBCxzDjBNkWKQCw//NExBcSgZqgAM0ElKA2g0OlOFMvLFJhvxs7ZgVG9Rol6EN8n6f//7oYzkYjiW1OJDGD7v/4q1f/izZ6af7f6uWc8K7wBaMXql8/RWp0CsCYYRJBAvghAg6MJwIsUzU0//NExCARuYqgANUElCZDTE0bTAvt6D/Uv3Zv///7asLQTRXKLQcOBksbo/2ts//7Eqv/09VNb94Ql+A7Vuk9+zanIkS+UDckwClA4jYUi7OD6G66NKSRt8/9TfT6v+3///NExCwQCWqcAMtElP9UUTJCojIgysFf/7/t//bvt00VquyzCZmFUzXUwiG8lI+8TjDtyPDPmKjYPg5p81kwAoBh8948n/+XV/uOOr1iCpFSutLOqweK/8GFEA2GLv6P//NExD4SAMKQANYWTNUeFEMFpAFiDBa9V3WlKixjJAuGeSs+NWaUMo8u44vSBauaZOpEiYbacvl8vfWe1HdmJ3Y/T2aYoKHiqf/XHs//2Uijc2bALVn2O67UUl8MNLVs//NExEkQcKqQANYgTDnAVgqWHaByHpM8TqkhyENqtIOURCE/p8sC7gZDUGGDnH+zvC2C4CZo+RgcG9RyTPIewAnqp09SdMjVOcOBmJcIAAMDnw+xQnYacXP/ZioRP7f///NExFoXEVKgAMPElP3aKrfd6zxYaVtq1ygqSsRlQGOxs/qSsRJuX+YU0nWkJGZ1J4y/stuPM4TDn6yr2ZQqJtZ3m8I2sJIM88K9dC8Vz8tjr+ngIhNPNZ58xSTxIVay//NExFAesg6kANYemLXJq+/ueP9b940SNmf6eHRHj01fcO16ffxDpDrM16xE5Fgz/982/dp1r6JTdhAcC+usmmUGWQ+wk9gIAVfWYJX1En6CUrfp1xhW+ZV0or6+WM/f//NExCgT2cqwAJHelPG9NilrL/HU45k3WHDiSITfWfur626e8slP894/rSmc5fTmaJK63VXDmrtZsIVpua/16XZSQlAWyXkYAtH1KCGf1f6P8/9Sl2lCIedqOMFnKVWA//NExCsSkVagANKKlFArK0RYSe8N7w1UIjwpH0Eosd0t//5MGkOOKeSYXVoV7FudljTz29H33UjDY5LQCMmx+HqDuFuTVQQEEKT9RcNvp/W//1ps/TSfqD/I31t711V///NExDMTUt6QAMtEuURn5C+hCt9v////9XlLU6My3RAolouFuEaClbFXeUdhoh8I6S3s7S7RCqpIuoQUPBq7JykWt1G37/b9PqICncoDgdKxoffocABQ+h3YiyEI1qEa//NExDgTKbaYANNKlJMIB98+2VqWj/+u7JCwvoOCYFmvWvy7zOwO4FKlPnEJ68IUX7IZomszBPRu6jEdxZ86/qJRvOvrqGOMGr+YRMEjUneiFjroogNQ7jhjxp/01jGn//NExD4cQdqgAMtwmHSU9P87bpKarZww1buQ5nr9aktNex+tyPUWee99qegQYuhNC9dNNCtSSdDmABLopWODCef3+2C+xRLf3QZR0G3tYVWxUAFYSi+4V7+svfOHUNqx//NExCAXwdqsAMtemJDaaw7hne93qvB+l6e09qrSN1TWcCyu7ZgaghzTU3nWVFrWceSHS2rerRnNfRsacf6xA+LMrJ//s2lddG79qP/+aqoT1EKmdqpDAEO/6k72ATEx//NExBQQabq8AMKUlbmBQP8c+4p2PEGF+FIWmHlANCcvhRF/UVW6uJRO1DDALXS9S30L/PLVfFzz7L3Xcv1QhSEaDn8pdElKi7VIzXrQAlczaFRK/f/93P6WEzo3JMBQ//NExCUQab6sAMpOlZW5yHP9Pp801LINmHiU7N/OrtNNR1VEJHCs32/S5PYaqwEMRgx6GewJCc7KRpS6hjAaiC6lopGRv8xO6lkiPUL4b9pmr6H+qfr/f//u6VY9WUgM//NExDYSCdqYAMtEmDEJKVxalQVMnP//8vovaGwuhVX9c3U44I+hTUiE/qw/6IQaDeumvBDjA/Ew4oN12fyTyfFP0h+VHwd6VQifj/QWnRv7p9XV//tpuKJe6CTulTqO//NExEAQsfagANLEmJ6iGd5/9aVstJzkkYlBFfFkI4gSRoLSuc3nHiqaJH2633KBaKedWpybwfEvI6kmt3a0vGAQcau6dbXwrArMHqUo4fBRSnw3VHJPf+Vlnbds6waF//NExFAeec6kAM5YlOPFm/RvJYY1hv5ovpAzvuWiYiu/aKhVAfQWl+r/9PpkCouQD6hY+BAuKt63rdyCwZlX8rr3u8iRvNUx7uc9sKC0Ux7rCPrRdfLd/e48mHI6mUxe//NExCkY+Zq0AMYSlJlkRfvFZU4dbAUnb9VqIVAQ1P+9OMb4+KFA64ztZ4UQxrGETSCO75ykwNFjyCxkGQ8lX///b9W0oatXf2SAggQx0xSzoDrn73fDaeKxmkWuTtPy//NExBgSiV7AAGvMlC3+vkO8p5PuXvieu0HRKLgIfv+rgea7/Wz+/tmINeZjnwSIlQXqtMk0O7v//+nf+z61Kn9MwBOGCCHKYR53/n4RCpm//urxSdZvnZ+DhS2tOuwE//NExCARuXbAAIvMlOyDOU2yFk9f5tGSDZ/3PKXvrtFPnzLWRQb9jICiHI6jf////9Pp11t1jQAOSAotdR0CVmLNiv8BVxK3zRqYU7Fnxu6ZE2Q5mdZyT8n1bWlzQeIm//NExCwSSW7AAGvMlHdFnbuP3ojjV32Kr54Y2eVbR0ioJtCry4+qx/o0KmVemwE6L8xc6ITi23xfsaHncjq57xDzCW5p60mhnU7cIR+IQf4/UbLVcBCcEtysvDq97vr9//NExDUSmYq8AJPMlP9m7/Gb/cmoWoY6G0ykFFqJLq/+cXXe+55PiI4L+/8aqt7q4+oqBg/W+IwAq8d7hWelVxYJxTlsrFiolYxzkNvdDGKtkN81e5VbZIwBhA5o5VIN//NExD0Q4Z64AMJKlHKK1sLu/qWrqrWjJhygu1+LtenTfjWOo0JKJKmzpXOgClD0g4KQbLpcYh2awzmre7pc0pa78rNt5uun1VVEmQU4DAIZA1V0lfw6oquMvChgcUph//NExEwQuXaoAMsElAK3s24GQAYaX1cpSsZ3rOcQTTHChrKf4uZtvdPHr6pZgKnTUvouTX/dfQuATCOn51Ze5ibf/+avUitavRWX1s4IMUrAE7LOlFsRWis98cUwadf+//NExFwRWIqcAN4eTONcUGfqxIDkuXTl9NZda0VjohVe8ij6F7+j2cUZ/ldX///zooSJBkgRQ/GKYg7GmImyxAOIGTzqCcCA78U9ljUhy1oMB4TFSILofjrC8TSVHkuy//NExGkQWJKYAN4YTP////25u/a3//////69/////69qo7sYzIdjHDAi9NA7lTgFCKo8BQ1Pu5zQgMrBxwHHgksEBAqkNSYkbCSOlMKc1CTJI8oTE9i23Bi1BWkl0I/l//NExHoR2taQANqEuZk6+08DXrcd//riX93/yJUAhrxKCuWVMhbjbQY0qHOAQxCOABBOAlMoVFiKhyvn2cpynKEyo0CJKoAIugNISAVWY1nVP57chlbhEqnEv8Frv9n7//NExIUSEIp0ANveTK4s/nfLHSpi96kPvw2qOjAt/LGX3l5NDyn6k9Vyt3d7+51EAKpSiwGlpDSSgqe2xaG1B4UdZTKJFULP3kJ+OEdrVg4SYWyDykDy7IqqxCHtaf7R//NExI8SSGpEAN6SKEHSgXbI1dcXNnVA+/1GdDkrf1BELio9xLCVMhYHxt7CkC2DjEvHeSZ4pUGx2CXhzRJg3DMcykBzP8EIEeF/EvKQ5D5SSHkokv4xBsL5ogaFocko//NExJgSiFIoAVkAACCCBoj/zRazhombqUZHVUFmLGf/6KZuyemt91KRSWtNVJX//rTqbmZ9CZvqRQZzxi7rHqfNTZW7Z+mrltR88zLaV6CFIl9takurvervLnZl+6sP//NExKAg0yqgAY9oAOpLj+I2OlWNwosSQYqKRAguNKisGNiRHj4LkRLzxGKyZiJdE2TIEBVG22flBd/qc5JzKgFQuFgPcQOMw4honKHGpJRER+tialM0jn/RZUrmX4yR//NExG8amXKoAdhIANoXijf4ypuowc3kgq12YhczA7VjbATEcGiDCQVLH1Yi3J+OdlURdiC37vyp2oDhijryKNRF0J2RXJG7soRIzlMOR3c6geHolmBfDsqEoTRwIZ2e//NExFchshKkAM4YmNSsVnEayco3bd/1m0ozrVWZhrq262bx/X+vbe7ein/22RgQ2RGCz7c97sIvZ/pPqsMf/KSgx6B9/fcYCXsrBjrUeXcs5xK/euSXNHppgS23zLO9//NExCMZiVawAMYYlBul1rsajLv9ylMtgIeQJr1zxkORiI6+Np6Fo/bvzCsqMV9lh8wUuutWhYcAAqIgEKiwSUxZduZYm8M0vURN1f//S/VVq6QtIEIbBgWmWXQS2Tz///NExA8WEYK0AIYSlOs4ipS6F788GQggYORSRjHVqtDNr945U0NSV3KXbdiIDZRhAk0sLkGQdjK1trzRIoPUQIKWbZinr5XFpKf21dGvnHQ9s////bqV+5dBPUUDJdRK//NExAkSSVa8AJPWlIRxk1j+GfqVtve4KSEKPWfXzjSdQuPTNrQVCr12ORIEDpFJ/7jxOLGd7UTRO62OcdPzcRChM0sFHkCO7t////Uq/TBKiHmZr0ASwoaqTKErorWk//NExBISOSa8AItWcGwKIW621rj4Jod5lzbNR+a58UeQNnJb6yKvzvZoWdLBkmFlCwLIUJHtjDRc0tn8n//qej/rp9Vn+ArgL5091B8AgGpSlDEEyUzUFgxDLd7s5UN6//NExBwR6Wa8AGtWlJNtI3A2eNdrN4G3PqOES+p7nKjnXNzBf1v+i6l4Sm2HZan+n//sfcp/tT9Sb6gnh2jpa6g6gZlmU9Q1CIr6nFqEDvoLZIaT31nTB8a3JLEz+TnC//NExCcQoWa8AIQWlCpT9k7jLdV85tf36J7QSAi6AJptp//+xX/x3rpH0Fg10UY6WlZgEGD3XUZOpARA3Po0WODkCfrj6cUm3ddvHeQlOMn7heTLUheuSa2FRpuImAIt//NExDcRyQq4AJRWcB5Eip4Nak89/////12UsuRV59TeuOkR4guCX9teKOYGyXnN5J4qFHDFtbWcsSHOUc2U1Caf6UhWISV2oclJZ8Q04RFn/fadVU+l62pSiMfp///d//NExEIRGOakAMPScG/9CpuTZ40FKCBQPBO1hJ5PckzbWn1iEwlzFhWYUDED6tf/5y9i+Xba+jq6tN/F///9vt/p+n/7IudOyPEmIiOqDuCQYR///f7TVdWmn5FYtBYI//NExFASCeaUANPEmGW7Bkafp6WKq3orSLW8YRIXx5QndoOGWuc/43/6vpn1o9fDtlvf7f/v+3/1vJkZYappUFlEIRDARh1X//0OYli0qn9pJbLmWCN0dIu+EXZzkKNN//NExFoSCcKMANPElDDFxpVnMovdoWImn468314zzxgiFYLySnbP//oYFhpEMiERBYXCAGlzYMu/+z+xj2oqeuijaRhgSYd0ziRq5V2KIVM6l966KiZNIMEYElScoFVm//NExGQQkK6IANPSTCt+/555HJNZqpzb2T//p9O//12pRgipJ4sBS4iHHRE49///1WGvRABgCEY5TkSanUsIkSnkzeWgEA44SOe4YIDYVFLiZpD939PIZ0cNAwGBhZiJ//NExHQROY58ANpElMFHbVmf/4o80oGgaYQU8c1bEnP+r//b/6lcqepigJj4h0UhglZpBpggakdKql4RMVTIfxOjSQ10nlE+s+3l9Gt61/1pmKOEEBU4VFTRKWBlwiBp//NExIIR8MZsANpKcHt+V/zv+t9YxTHILjIiIjLCvVF4dlQQdVBCxIEDFgIYWJAg4kCBC1PDAKSCoCBQDEgZIurIuSEgKIwWIu2jEBUBCMy39aQkhn2DEBQ1/1/+MIo///NExI0QoMZMANPQcCoOVNOE43TRFSvXOWrAQYOAYJGGUJCKCQiV5CGI64QBEiXwCAAcR3zsQwJiOfryQDQRDzmCQTIljja+xwYOdc7Es/fbOxLP3KLDAwQ/MJrMQe2I//NExJ0SKHnEAMDGSBBO7JgMLTsmAAhDIIEEPj3sIZ2Jk09c8mTTyCBBDtCFtD3sEI/PJk7eyZBDIMIR/d20Y+wTT32TJ3sGEIxoIR+960R+56e5j54ETPmwF1xFTPM4//NExKcAAANIAAAAACy2IMNZbOSqu7IHSbTCUDYnfyYSid1rnJ7y57V11p67mrTFd8nAxLZYiRytlHDpytNIz+cSS3sSS1vM41PPmcbzM/0dT4Qr4rB1oruhXwhvgrvF//NExPonMwm4AMsMuUX+gvwhvhTuit8bFfFO8KfiK/FiEIJQ6FImCseBzHgYD5w6ULoEaCE80msqhgoYGCDhA4sLCQPPiwsLCoqKioo3qFhYWFxUVZ6xQWFhYWZ+Kios//NExLAcMaHQAMMMlS3/FfA95A6v2YBh4jzxAQQA/AVyBC4P8AbC4MZMLgP/EFBSgN3h85E//03QIOX3//yDkDImkMoRAQQ///JxA0UaE40n////y+5ZHPK5pjnkTQJD//NExJIQgJEMAGJGTP////y/QQYyHMKhcQQCKhQw1dEkygOC58atGnpdmTYoCovcdrlcKAM4uV1FmeBCXJCoBfaNc1ba+oTPFZlFhWs2K/cGvvAfO6LjNb5iyf4/tFb1//NExKMAAANIAUAAAMQEuaJo68ld2rm2tfPWFlSyNsFxxXULFdfFrf/+v9azK2k8OOwRU83onOPvOs+/+v//j//Wk4n2rEc6ruNZofy8/z8TvQdFVGX9DqZPYwmM5gUJ//NExPYXkxoEAZOAAZs4LEYFrcrWsu7pYzGbVWlpbPNZZFKWYxjG0M//Upf//+pSsgYCKIgagr//1nfER6HYl5Y8InrBX9xYGjoNA1VMQU1FMy4xMDBVVVVVTEFNRTMu//NExOoj8sYYAZh4ADEwMFVVVVVVVVVVVVVVVVVVVVVVVVVVVVVVVVVVVVVVVVVVVVVVVVVVVVVVVVVVVVVVVVVVVVVVVVVVVVVVVVVVVVVVVVVVVVVVVVVVTEFNRTMu//NExK0RmUnUAdgQADEwMFVVVVVVVVVVVVVVVVVVVVVVVVVVVVVVVVVVVVVVVVVVVVVVVVVVVVVVVVVVVVVVVVVVVVVVVVVVVVVVVVVVVVVVVVVVVVVVVVVVVVVVVVVV//NExKwAAANIAAAAAFVVVVVVVVVVVVVVVVVVVVVVVVVVVVVVVVVVVVVVVVVVVVVVVVVVVVVVVVVVVVVVVVVVVVVVVVVVVVVVVVVVVVVVVVVVVVVVVVVVVVVVVVVVVVVV//NExKwAAANIAAAAAFVVVVVVVVVVVVVVVVVVVVVVVVVVVVVVVVVVVVVVVVVVVVVVVVVVVVVVVVVVVVVVVVVVVVVVVVVVVVVVVVVVVVVVVVVVVVVVVVVVVVVVVVVVVVVV\" type=\"audio/x-wav\" />\n",
              "                    Your browser does not support the audio element.\n",
              "                </audio>\n",
              "              "
            ]
          },
          "metadata": {}
        },
        {
          "output_type": "stream",
          "name": "stdout",
          "text": [
            "============================================================\n",
            "\n"
          ]
        }
      ]
    },
    {
      "cell_type": "markdown",
      "source": [
        "# 08 Save The Model\n",
        "\n",
        "Setelah pengujian Chatbot telah disesuaikan dengan kalimat dan jawabannya. Maka, model chatbot bisa disimpan dengan format .h5 atau .pkl (pickle) untuk penggunaan aplikasi AI Chatbot dengan website atau sistem Android. Penyimpanan file model bisa langsung secara transient atau bisa taruh di Google Drive."
      ],
      "metadata": {
        "id": "PpFwQ9gWmWtk"
      },
      "id": "PpFwQ9gWmWtk"
    },
    {
      "cell_type": "code",
      "source": [
        "# Simpan model dalam bentuk format file .h5 atau .pkl (pickle)\n",
        "model.save('chatbot_model.h5')\n",
        "\n",
        "print('Model Saved Successfully!')"
      ],
      "metadata": {
        "id": "MxdDHujDmaC0",
        "colab": {
          "base_uri": "https://localhost:8080/"
        },
        "outputId": "d997628f-c38d-495f-e35f-ccc8b5002e70"
      },
      "id": "MxdDHujDmaC0",
      "execution_count": 29,
      "outputs": [
        {
          "output_type": "stream",
          "name": "stdout",
          "text": [
            "Model Saved Successfully!\n"
          ]
        }
      ]
    }
  ],
  "metadata": {
    "kernelspec": {
      "display_name": "Python 3 (ipykernel)",
      "language": "python",
      "name": "python3"
    },
    "language_info": {
      "codemirror_mode": {
        "name": "ipython",
        "version": 3
      },
      "file_extension": ".py",
      "mimetype": "text/x-python",
      "name": "python",
      "nbconvert_exporter": "python",
      "pygments_lexer": "ipython3",
      "version": "3.9.7"
    },
    "latex_envs": {
      "LaTeX_envs_menu_present": true,
      "autoclose": false,
      "autocomplete": true,
      "bibliofile": "biblio.bib",
      "cite_by": "apalike",
      "current_citInitial": 1,
      "eqLabelWithNumbers": true,
      "eqNumInitial": 1,
      "hotkeys": {
        "equation": "Ctrl-E",
        "itemize": "Ctrl-I"
      },
      "labels_anchors": false,
      "latex_user_defs": false,
      "report_style_numbering": false,
      "user_envs_cfg": false
    },
    "varInspector": {
      "cols": {
        "lenName": 16,
        "lenType": 16,
        "lenVar": 40
      },
      "kernels_config": {
        "python": {
          "delete_cmd_postfix": "",
          "delete_cmd_prefix": "del ",
          "library": "var_list.py",
          "varRefreshCmd": "print(var_dic_list())"
        },
        "r": {
          "delete_cmd_postfix": ") ",
          "delete_cmd_prefix": "rm(",
          "library": "var_list.r",
          "varRefreshCmd": "cat(var_dic_list()) "
        }
      },
      "types_to_exclude": [
        "module",
        "function",
        "builtin_function_or_method",
        "instance",
        "_Feature"
      ],
      "window_display": false
    },
    "colab": {
      "provenance": [],
      "include_colab_link": true
    },
    "gpuClass": "standard",
    "accelerator": "GPU"
  },
  "nbformat": 4,
  "nbformat_minor": 5
}